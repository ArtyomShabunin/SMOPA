{
  "cells": [
    {
      "cell_type": "markdown",
      "metadata": {
        "id": "view-in-github",
        "colab_type": "text"
      },
      "source": [
        "<a href=\"https://colab.research.google.com/github/ArtyomShabunin/SMOPA/blob/main/lesson_2.ipynb\" target=\"_parent\"><img src=\"https://colab.research.google.com/assets/colab-badge.svg\" alt=\"Open In Colab\"/></a>"
      ]
    },
    {
      "cell_type": "markdown",
      "id": "505bcd83-3951-4117-82f2-4b262a4884ad",
      "metadata": {
        "id": "505bcd83-3951-4117-82f2-4b262a4884ad"
      },
      "source": [
        "# Занятие №2\n",
        "# Python и библиотеки для анализа данных и математического моделирования"
      ]
    },
    {
      "cell_type": "markdown",
      "id": "691d4af1-6994-49af-a54b-2831ed3da4a1",
      "metadata": {
        "id": "691d4af1-6994-49af-a54b-2831ed3da4a1"
      },
      "source": [
        "## Установка Python\n",
        "\n",
        "![anaconda image](https://www.anaconda.com/wp-content/uploads/2022/12/anaconda_secondary_logo.svg)\n",
        "\n",
        "**Anaconda** — дистрибутив языков программирования Python и R, включающий набор популярных свободных библиотек, объединённых проблематиками науки о данных и машинного обучения. Основная цель — поставка единым согласованным комплектом наиболее востребованных соответствующим кругом пользователей тематических модулей (таких как NumPy, SciPy, Astropy и других) с разрешением возникающих зависимостей и конфликтов, которые неизбежны при одиночной установке.\n",
        "\n",
        "Программа Anaсonda представляет собой полноценную систему работы с библиотеками Python, включающую программу-установщик и набор следующих файлов.\n",
        "\n",
        "* **Библиотеки.** Каждая из них включает определенный набор функций и объектов, предназначенный для решения конкретных задач — например, работы с массивами данных, астрономических вычислений, обработки изображений, построения и тренировки нейронных сетей, различных инженерных расчетов, статистического анализа и т.д. Всего в пакет Anaconda входит около 1500 библиотек, объединенных научной и инженерной тематикой.\n",
        "* **Менеджер пакетов Conda.** Это кроссплатформенное программное обеспечение, предназначенное для установки пакетов ПО и библиотек, быстрого переключения между их версиями, загрузки и инсталляции обновлений. Conda написана на Python, но является языково-независимой, то есть может работать с проектами, написанными на любом языке программирования. Кроме того, с ее помощью можно установить и сам Python — возможность, предусмотренная далеко не во всех менеджерах пакетов, написанных на этом ЯП. Из-за того, что менеджер пакетов оказался очень удобен для решения задач, не связанных с Python, он был выделен в отдельный дистрибутив с открытым исходным кодом.\n",
        "* **Менеджер виртуальной среды.** Это программа, позволяющая создавать, редактировать, удалять и отслеживать состояние виртуальных машин. Управление изолированными виртуальными средами осуществляется из единой контрольной консоли. Виртуализация используется при работе над несколькими проектами одновременно, позволяя исключить их влияние друг на друга, тем самым обеспечив высокую точность расчетов.\n",
        "* **GIU Anaconda Navigator.** GUI (graphic user interface) — графический интерфейс пользователя, то есть программная оболочка, в которой можно работать с библиотеками не с помощью текстовых команд, а используя визуальные элементы, такие как блоки, модули, графики и т.д. «Анаконда Навигатор» существенно упрощает взаимодействие с библиотеками, делает работу менее однообразной и утомительной, повышает наглядность рабочего процесса.\n",
        "\n",
        "https://www.anaconda.com/"
      ]
    },
    {
      "cell_type": "markdown",
      "id": "75eefba0",
      "metadata": {
        "id": "75eefba0"
      },
      "source": [
        "### Установка виртуального окружения\n",
        "С помощью виртуального окружения можно создать изолированный контейнер с нужными версиями под каждую задачу.  \n",
        "```conda env create -f environment.yml```"
      ]
    },
    {
      "cell_type": "markdown",
      "id": "e101fee9-041a-45b7-b025-ffe2df795f9f",
      "metadata": {
        "id": "e101fee9-041a-45b7-b025-ffe2df795f9f"
      },
      "source": [
        "## Инструмент разработки\n",
        "\n",
        "![jupyter image](https://jupyter.org/assets/logos/rectanglelogo-greytext-orangebody-greymoons.svg)\n",
        "\n",
        "**Jupyter Notebok** — браузерный инструмент для оформления красивой и информативной аналитики, совместного хранения кода, картинок, примечаний, диаграмм, формул и т.д.\n",
        "\n",
        "В мире Data Science Jupyter-ноутбук уже несколько лет считается одним из популярных инструментов для анализа данных и быстрого прототипирования.\n",
        "\n",
        "Один из плюсов этого инструмента в том, что код можно разделить на кусочки и работать над ними в любом порядке. Например, написать скрипт и сразу посмотреть, как он работает. Остальные фрагменты кода при этом запускать не нужно, результат появляется тут же, под частью кода.\n",
        "\n",
        "```$ jupyter notebook```"
      ]
    },
    {
      "cell_type": "markdown",
      "id": "5340fa8b-5b94-4a49-b5ac-1a56cdf700de",
      "metadata": {
        "id": "5340fa8b-5b94-4a49-b5ac-1a56cdf700de"
      },
      "source": [
        "\n",
        "<!-- ![colab image](https://upload.wikimedia.org/wikipedia/commons/thumb/d/d0/Google_Colaboratory_SVG_Logo.svg/2560px-Google_Colaboratory_SVG_Logo.svg.png width=\"100\") -->\n",
        "\n",
        "<img src=\"https://upload.wikimedia.org/wikipedia/commons/thumb/d/d0/Google_Colaboratory_SVG_Logo.svg/2560px-Google_Colaboratory_SVG_Logo.svg.png\" alt=\"numpy image\" width=\"200\"/>\n",
        "\n",
        "**Google colab** - это облачный сервис от Google, который позволяет писать и выполнять Python-код в браузере без установки дополнительных программ.\n",
        "\n",
        "Главные преимущества:\n",
        "\n",
        "https://colab.research.google.com/rch.google.com/"
      ]
    },
    {
      "cell_type": "markdown",
      "id": "a075bb56-1f8c-484f-9bf0-0abb08906268",
      "metadata": {
        "id": "a075bb56-1f8c-484f-9bf0-0abb08906268"
      },
      "source": [
        "## Библиотеки"
      ]
    },
    {
      "cell_type": "markdown",
      "id": "9d265493-2077-4e35-b100-2106d4ddc3c4",
      "metadata": {
        "id": "9d265493-2077-4e35-b100-2106d4ddc3c4"
      },
      "source": [
        "<!-- ![numpy image](https://numpy.org/images/logo.svg) -->\n",
        "<img src=\"https://numpy.org/images/logo.svg\" alt=\"numpy image\" width=\"100\"/>\n",
        "\n",
        "**NumPy** это open-source модуль для python, который предоставляет общие математические и числовые операции в виде пре-скомпилированных, быстрых функций. Они объединяются в высокоуровневые пакеты. Они обеспечивают функционал, который можно сравнить с функционалом MatLab. NumPy (Numeric Python) предоставляет базовые методы для манипуляции с большими массивами и матрицами.\n",
        "\n",
        "*Входит в дистрибутив Anaconda*"
      ]
    },
    {
      "cell_type": "markdown",
      "id": "0be30f55-06f2-41e4-a4ec-6ed7d928b0b6",
      "metadata": {
        "id": "0be30f55-06f2-41e4-a4ec-6ed7d928b0b6"
      },
      "source": [
        "<!-- ![pandas image](https://encrypted-tbn0.gstatic.com/images?q=tbn:ANd9GcTKPePf0eI9lrP20Ym-P0v-_B2yB6IHRoQiWw&s) -->\n",
        "<img src=\"https://encrypted-tbn0.gstatic.com/images?q=tbn:ANd9GcTKPePf0eI9lrP20Ym-P0v-_B2yB6IHRoQiWw&s\" alt=\"pandas image\" width=\"200\"/>\n",
        "\n",
        "**Pandas** — программная библиотека на языке Python для обработки и анализа данных. Работа pandas с данными строится поверх библиотеки NumPy, являющейся инструментом более низкого уровня. Предоставляет специальные структуры данных и операции для манипулирования числовыми таблицами и временны́ми рядами. Название библиотеки происходит от эконометрического термина «панельные данные», используемого для описания многомерных структурированных наборов информации.\n",
        "\n",
        "*Входит в дистрибутив Anaconda*"
      ]
    },
    {
      "cell_type": "markdown",
      "id": "4f8d64e5-ca0f-4e26-8e78-48d790f05cda",
      "metadata": {
        "id": "4f8d64e5-ca0f-4e26-8e78-48d790f05cda"
      },
      "source": [
        "![sklearn image](https://scikit-learn.org/stable/_static/scikit-learn-logo-small.png)\n",
        "\n",
        "**Scikit-learn** — библиотека, предназначенная для машинного обучения, написанная на языке программирования Python и распространяемая в виде свободного программного обеспечения.\n",
        "\n",
        "В её состав входят различные алгоритмы, в том числе предназначенные для задач классификации, регрессионного и кластерного анализа данных, включая метод опорных векторов, метод случайного леса, алгоритм усиления градиента, метод k-средних и DBSCAN. Библиотека была разработана для взаимодействия с численными и научными библиотеками языка программирования Python NumPy и SciPy.\n",
        "\n",
        "*Входит в дистрибутив Anaconda*"
      ]
    },
    {
      "cell_type": "markdown",
      "id": "e6e50e14-3406-4666-9bda-c146c1601c8b",
      "metadata": {
        "id": "e6e50e14-3406-4666-9bda-c146c1601c8b"
      },
      "source": [
        "<!-- ![pytorch image](https://upload.wikimedia.org/wikipedia/commons/9/96/Pytorch_logo.png) -->\n",
        "<img src=\"https://upload.wikimedia.org/wikipedia/commons/9/96/Pytorch_logo.png\" alt=\"pytorch image\" width=\"200\"/>\n",
        "\n",
        "**PyTorch** — фреймворк машинного обучения для языка Python с открытым исходным кодом, созданный на базе Torch. Используется для решения различных задач: компьютерное зрение, обработка естественного языка и т.д. Разрабатывается преимущественно группой искусственного интеллекта Facebook.\n",
        "\n",
        "```conda install pytorch::pytorch```"
      ]
    },
    {
      "cell_type": "markdown",
      "id": "9e531b3d-fc28-4b44-b0fe-d0ad977cf5f2",
      "metadata": {
        "id": "9e531b3d-fc28-4b44-b0fe-d0ad977cf5f2"
      },
      "source": [
        "<!-- ![matplotlib image](https://matplotlib.org/_static/logo_light.svg) -->\n",
        "<img src=\"https://matplotlib.org/_static/logo_light.svg\" alt=\"matplotlib image\" width=\"200\"/>\n",
        "\n",
        "**Matplotlib** — библиотека на языке программирования Python для визуализации данных двумерной и трёхмерной графикой. Получаемые изображения могут быть использованы в качестве иллюстраций в публикациях.\n",
        "\n",
        "*Входит в дистрибутив Anaconda*"
      ]
    },
    {
      "cell_type": "markdown",
      "id": "67a1567d-cef8-49a2-bc47-f6c3260c49ed",
      "metadata": {
        "id": "67a1567d-cef8-49a2-bc47-f6c3260c49ed"
      },
      "source": [
        "<img src=\"https://upload.wikimedia.org/wikipedia/commons/8/8a/Plotly-logo.png\" alt=\"plotly image\" width=\"200\"/>\n",
        "\n",
        "**Plotly** — библиотека для визуализации данных. Plotly позволяет строить интерактивные визуализации. С помощью Plotly можно как изучать какие-то данные «на лету» (не перестраивая график в matplotlib, изменяя масштаб, включая/выключая какие-то данные), так и построить полноценный интерактивный отчёт (дашборд).\n",
        "\n",
        "*Входит в дистрибутив Anaconda*"
      ]
    },
    {
      "cell_type": "markdown",
      "source": [
        "## Данные"
      ],
      "metadata": {
        "id": "cUrbZQE50XRu"
      },
      "id": "cUrbZQE50XRu"
    },
    {
      "cell_type": "markdown",
      "source": [
        "Импортируем библиотеку. Pandas обычно импортируется как `pd`:"
      ],
      "metadata": {
        "id": "E-_G4iWv0keu"
      },
      "id": "E-_G4iWv0keu"
    },
    {
      "cell_type": "code",
      "execution_count": 1,
      "id": "f640ce2c-c53a-4839-8472-d0b90028ba6a",
      "metadata": {
        "id": "f640ce2c-c53a-4839-8472-d0b90028ba6a"
      },
      "outputs": [],
      "source": [
        "import pandas as pd"
      ]
    },
    {
      "cell_type": "markdown",
      "source": [
        "#### Pandas Series\n",
        "\n",
        "Одной из основных структур данных в библиотеке Pandas является Pandas Series. Элемент Pandas Series похож на столбец в таблице: это одномерный массив, содержащий данные любого типа.\n",
        "\n",
        "Элементы Pandas Series помечаются номерами индексов. Первое значение имеет индекс 0, второе - индекс 1 и т. д.\n",
        "\n",
        "Заведем столбец Series из обычного питоновского массива:"
      ],
      "metadata": {
        "id": "SSVhwQvA5bv8"
      },
      "id": "SSVhwQvA5bv8"
    },
    {
      "cell_type": "code",
      "source": [
        "a = [1, 7, 2]\n",
        "series = pd.Series(a)\n",
        "series"
      ],
      "metadata": {
        "colab": {
          "base_uri": "https://localhost:8080/",
          "height": 178
        },
        "id": "8GQcguqK5STJ",
        "outputId": "4d341246-7edb-417c-c520-589d343b422b"
      },
      "id": "8GQcguqK5STJ",
      "execution_count": 30,
      "outputs": [
        {
          "output_type": "execute_result",
          "data": {
            "text/plain": [
              "0    1\n",
              "1    7\n",
              "2    2\n",
              "dtype: int64"
            ],
            "text/html": [
              "<div>\n",
              "<style scoped>\n",
              "    .dataframe tbody tr th:only-of-type {\n",
              "        vertical-align: middle;\n",
              "    }\n",
              "\n",
              "    .dataframe tbody tr th {\n",
              "        vertical-align: top;\n",
              "    }\n",
              "\n",
              "    .dataframe thead th {\n",
              "        text-align: right;\n",
              "    }\n",
              "</style>\n",
              "<table border=\"1\" class=\"dataframe\">\n",
              "  <thead>\n",
              "    <tr style=\"text-align: right;\">\n",
              "      <th></th>\n",
              "      <th>0</th>\n",
              "    </tr>\n",
              "  </thead>\n",
              "  <tbody>\n",
              "    <tr>\n",
              "      <th>0</th>\n",
              "      <td>1</td>\n",
              "    </tr>\n",
              "    <tr>\n",
              "      <th>1</th>\n",
              "      <td>7</td>\n",
              "    </tr>\n",
              "    <tr>\n",
              "      <th>2</th>\n",
              "      <td>2</td>\n",
              "    </tr>\n",
              "  </tbody>\n",
              "</table>\n",
              "</div><br><label><b>dtype:</b> int64</label>"
            ]
          },
          "metadata": {},
          "execution_count": 30
        }
      ]
    },
    {
      "cell_type": "markdown",
      "source": [
        "Доступ к элементам"
      ],
      "metadata": {
        "id": "N5jdpZu66IIe"
      },
      "id": "N5jdpZu66IIe"
    },
    {
      "cell_type": "code",
      "source": [
        "print(series.loc[0])\n",
        "print(series.iloc[0])\n",
        "print(series.shape)"
      ],
      "metadata": {
        "colab": {
          "base_uri": "https://localhost:8080/"
        },
        "id": "v-udkWtL5SfZ",
        "outputId": "0dc0d41c-c554-4865-f36d-c374f464897d"
      },
      "id": "v-udkWtL5SfZ",
      "execution_count": 31,
      "outputs": [
        {
          "output_type": "stream",
          "name": "stdout",
          "text": [
            "1\n",
            "1\n",
            "(3,)\n"
          ]
        }
      ]
    },
    {
      "cell_type": "code",
      "source": [
        "series = pd.Series(a, index = [\"x\", \"y\", \"z\"])"
      ],
      "metadata": {
        "id": "kidT9mYe7WlA"
      },
      "id": "kidT9mYe7WlA",
      "execution_count": 32,
      "outputs": []
    },
    {
      "cell_type": "code",
      "source": [
        "print(series.loc[\"y\"])\n",
        "print(series.iloc[1])\n",
        "print(series.shape)"
      ],
      "metadata": {
        "colab": {
          "base_uri": "https://localhost:8080/"
        },
        "id": "7yh2sX2e7cmK",
        "outputId": "605f0b55-fcb0-442a-fb5e-382874b7f426"
      },
      "id": "7yh2sX2e7cmK",
      "execution_count": 34,
      "outputs": [
        {
          "output_type": "stream",
          "name": "stdout",
          "text": [
            "7\n",
            "7\n",
            "(3,)\n"
          ]
        }
      ]
    },
    {
      "cell_type": "markdown",
      "source": [
        "Срез"
      ],
      "metadata": {
        "id": "uIgF8aNT6kse"
      },
      "id": "uIgF8aNT6kse"
    },
    {
      "cell_type": "code",
      "source": [
        "series.iloc[1:]"
      ],
      "metadata": {
        "colab": {
          "base_uri": "https://localhost:8080/",
          "height": 147
        },
        "id": "2qzhle2m6kBB",
        "outputId": "44b13c47-b363-4e9e-cecc-7740f6d7e0a6"
      },
      "id": "2qzhle2m6kBB",
      "execution_count": 36,
      "outputs": [
        {
          "output_type": "execute_result",
          "data": {
            "text/plain": [
              "y    7\n",
              "z    2\n",
              "dtype: int64"
            ],
            "text/html": [
              "<div>\n",
              "<style scoped>\n",
              "    .dataframe tbody tr th:only-of-type {\n",
              "        vertical-align: middle;\n",
              "    }\n",
              "\n",
              "    .dataframe tbody tr th {\n",
              "        vertical-align: top;\n",
              "    }\n",
              "\n",
              "    .dataframe thead th {\n",
              "        text-align: right;\n",
              "    }\n",
              "</style>\n",
              "<table border=\"1\" class=\"dataframe\">\n",
              "  <thead>\n",
              "    <tr style=\"text-align: right;\">\n",
              "      <th></th>\n",
              "      <th>0</th>\n",
              "    </tr>\n",
              "  </thead>\n",
              "  <tbody>\n",
              "    <tr>\n",
              "      <th>y</th>\n",
              "      <td>7</td>\n",
              "    </tr>\n",
              "    <tr>\n",
              "      <th>z</th>\n",
              "      <td>2</td>\n",
              "    </tr>\n",
              "  </tbody>\n",
              "</table>\n",
              "</div><br><label><b>dtype:</b> int64</label>"
            ]
          },
          "metadata": {},
          "execution_count": 36
        }
      ]
    },
    {
      "cell_type": "code",
      "source": [
        "series.loc[\"y\":]"
      ],
      "metadata": {
        "colab": {
          "base_uri": "https://localhost:8080/",
          "height": 147
        },
        "id": "oVcxwGRj6GlQ",
        "outputId": "be0f8fcd-bc4e-4822-b9b8-890f5cff5a58"
      },
      "id": "oVcxwGRj6GlQ",
      "execution_count": 40,
      "outputs": [
        {
          "output_type": "execute_result",
          "data": {
            "text/plain": [
              "y    7\n",
              "z    2\n",
              "dtype: int64"
            ],
            "text/html": [
              "<div>\n",
              "<style scoped>\n",
              "    .dataframe tbody tr th:only-of-type {\n",
              "        vertical-align: middle;\n",
              "    }\n",
              "\n",
              "    .dataframe tbody tr th {\n",
              "        vertical-align: top;\n",
              "    }\n",
              "\n",
              "    .dataframe thead th {\n",
              "        text-align: right;\n",
              "    }\n",
              "</style>\n",
              "<table border=\"1\" class=\"dataframe\">\n",
              "  <thead>\n",
              "    <tr style=\"text-align: right;\">\n",
              "      <th></th>\n",
              "      <th>0</th>\n",
              "    </tr>\n",
              "  </thead>\n",
              "  <tbody>\n",
              "    <tr>\n",
              "      <th>y</th>\n",
              "      <td>7</td>\n",
              "    </tr>\n",
              "    <tr>\n",
              "      <th>z</th>\n",
              "      <td>2</td>\n",
              "    </tr>\n",
              "  </tbody>\n",
              "</table>\n",
              "</div><br><label><b>dtype:</b> int64</label>"
            ]
          },
          "metadata": {},
          "execution_count": 40
        }
      ]
    },
    {
      "cell_type": "markdown",
      "source": [
        "#### Pandas DataFrame\n",
        "\n",
        "Столбец — это хорошо, но мы чаще работаем с целыми таблицами данных (наборами столбцов). Тип данных, соответствующий таблице — DataFrame.\n",
        "\n",
        "Pandas DataFrame - это двумерная структура данных, подобная двумерному массиву или таблице со строками и столбцами. Иными словами, Pandas Series - это один столбец таблицы, а DataFrame - это вся таблица."
      ],
      "metadata": {
        "id": "bk2KSyjb77gJ"
      },
      "id": "bk2KSyjb77gJ"
    },
    {
      "cell_type": "code",
      "source": [],
      "metadata": {
        "id": "y9iX-KCx76dM"
      },
      "id": "y9iX-KCx76dM",
      "execution_count": null,
      "outputs": []
    },
    {
      "cell_type": "code",
      "source": [],
      "metadata": {
        "id": "XFy4Nojs6GoS"
      },
      "id": "XFy4Nojs6GoS",
      "execution_count": null,
      "outputs": []
    },
    {
      "cell_type": "code",
      "source": [],
      "metadata": {
        "id": "8Jsdl2wo6Grr"
      },
      "id": "8Jsdl2wo6Grr",
      "execution_count": null,
      "outputs": []
    },
    {
      "cell_type": "code",
      "source": [
        "!gdown 17YX6P0YMTx12oNVPcuwGAQgKLOkA5Efy\n",
        "!gdown 17_utMiYF01v1eDJeqkua8JNDzlQ6_pBe"
      ],
      "metadata": {
        "colab": {
          "base_uri": "https://localhost:8080/"
        },
        "id": "kxWUG_dT0PlZ",
        "outputId": "60bdd893-2037-4509-f94f-c7b5fc493aff"
      },
      "id": "kxWUG_dT0PlZ",
      "execution_count": 4,
      "outputs": [
        {
          "output_type": "stream",
          "name": "stdout",
          "text": [
            "Downloading...\n",
            "From: https://drive.google.com/uc?id=17YX6P0YMTx12oNVPcuwGAQgKLOkA5Efy\n",
            "To: /content/turbohackathon_task2_df2.csv\n",
            "100% 64.7k/64.7k [00:00<00:00, 74.6MB/s]\n",
            "Downloading...\n",
            "From: https://drive.google.com/uc?id=17_utMiYF01v1eDJeqkua8JNDzlQ6_pBe\n",
            "To: /content/turbohackathon_task2_df1.csv\n",
            "100% 555k/555k [00:00<00:00, 88.5MB/s]\n"
          ]
        }
      ]
    },
    {
      "cell_type": "code",
      "source": [
        "df1 = pd.read_csv('./turbohackathon_task2_df1.csv')\n",
        "df2 = pd.read_csv('./turbohackathon_task2_df2.csv')"
      ],
      "metadata": {
        "id": "dgh0JzPG0Pn8"
      },
      "id": "dgh0JzPG0Pn8",
      "execution_count": 8,
      "outputs": []
    },
    {
      "cell_type": "code",
      "source": [
        "df1.head()"
      ],
      "metadata": {
        "colab": {
          "base_uri": "https://localhost:8080/",
          "height": 206
        },
        "id": "ENyQanIE0Pq5",
        "outputId": "5b284eac-6fc3-414b-9b79-1f8680cd4208"
      },
      "id": "ENyQanIE0Pq5",
      "execution_count": 9,
      "outputs": [
        {
          "output_type": "execute_result",
          "data": {
            "text/plain": [
              "                      data  TG4_kWhr  TG5_kWhr  TG6_kWhr  TG9_kWhr  TG10_kWhr  \\\n",
              "0  2023-01-01 00:00:00.000       0.0   53088.0   47988.0   98208.0        0.0   \n",
              "1  2023-01-01 01:00:00.000       0.0   53088.0   48012.0   98192.0        0.0   \n",
              "2  2023-01-01 01:59:59.990       0.0   53097.6   48024.0   98176.0        0.0   \n",
              "3  2023-01-01 02:59:59.985       0.0   53068.8   47832.0   96992.0        0.0   \n",
              "4  2023-01-01 03:59:59.980       0.0   53088.0   47772.0   96320.0        0.0   \n",
              "\n",
              "   sum_kWhr  B_1e3m3  Q_gcalhr  \n",
              "0  199284.0    93.67       169  \n",
              "1  199292.0    93.72       167  \n",
              "2  199297.6    93.79       165  \n",
              "3  197892.8    92.62       156  \n",
              "4  197180.0    92.23       151  "
            ],
            "text/html": [
              "\n",
              "  <div id=\"df-691d993f-8457-4d1e-8915-a465f62826a7\" class=\"colab-df-container\">\n",
              "    <div>\n",
              "<style scoped>\n",
              "    .dataframe tbody tr th:only-of-type {\n",
              "        vertical-align: middle;\n",
              "    }\n",
              "\n",
              "    .dataframe tbody tr th {\n",
              "        vertical-align: top;\n",
              "    }\n",
              "\n",
              "    .dataframe thead th {\n",
              "        text-align: right;\n",
              "    }\n",
              "</style>\n",
              "<table border=\"1\" class=\"dataframe\">\n",
              "  <thead>\n",
              "    <tr style=\"text-align: right;\">\n",
              "      <th></th>\n",
              "      <th>data</th>\n",
              "      <th>TG4_kWhr</th>\n",
              "      <th>TG5_kWhr</th>\n",
              "      <th>TG6_kWhr</th>\n",
              "      <th>TG9_kWhr</th>\n",
              "      <th>TG10_kWhr</th>\n",
              "      <th>sum_kWhr</th>\n",
              "      <th>B_1e3m3</th>\n",
              "      <th>Q_gcalhr</th>\n",
              "    </tr>\n",
              "  </thead>\n",
              "  <tbody>\n",
              "    <tr>\n",
              "      <th>0</th>\n",
              "      <td>2023-01-01 00:00:00.000</td>\n",
              "      <td>0.0</td>\n",
              "      <td>53088.0</td>\n",
              "      <td>47988.0</td>\n",
              "      <td>98208.0</td>\n",
              "      <td>0.0</td>\n",
              "      <td>199284.0</td>\n",
              "      <td>93.67</td>\n",
              "      <td>169</td>\n",
              "    </tr>\n",
              "    <tr>\n",
              "      <th>1</th>\n",
              "      <td>2023-01-01 01:00:00.000</td>\n",
              "      <td>0.0</td>\n",
              "      <td>53088.0</td>\n",
              "      <td>48012.0</td>\n",
              "      <td>98192.0</td>\n",
              "      <td>0.0</td>\n",
              "      <td>199292.0</td>\n",
              "      <td>93.72</td>\n",
              "      <td>167</td>\n",
              "    </tr>\n",
              "    <tr>\n",
              "      <th>2</th>\n",
              "      <td>2023-01-01 01:59:59.990</td>\n",
              "      <td>0.0</td>\n",
              "      <td>53097.6</td>\n",
              "      <td>48024.0</td>\n",
              "      <td>98176.0</td>\n",
              "      <td>0.0</td>\n",
              "      <td>199297.6</td>\n",
              "      <td>93.79</td>\n",
              "      <td>165</td>\n",
              "    </tr>\n",
              "    <tr>\n",
              "      <th>3</th>\n",
              "      <td>2023-01-01 02:59:59.985</td>\n",
              "      <td>0.0</td>\n",
              "      <td>53068.8</td>\n",
              "      <td>47832.0</td>\n",
              "      <td>96992.0</td>\n",
              "      <td>0.0</td>\n",
              "      <td>197892.8</td>\n",
              "      <td>92.62</td>\n",
              "      <td>156</td>\n",
              "    </tr>\n",
              "    <tr>\n",
              "      <th>4</th>\n",
              "      <td>2023-01-01 03:59:59.980</td>\n",
              "      <td>0.0</td>\n",
              "      <td>53088.0</td>\n",
              "      <td>47772.0</td>\n",
              "      <td>96320.0</td>\n",
              "      <td>0.0</td>\n",
              "      <td>197180.0</td>\n",
              "      <td>92.23</td>\n",
              "      <td>151</td>\n",
              "    </tr>\n",
              "  </tbody>\n",
              "</table>\n",
              "</div>\n",
              "    <div class=\"colab-df-buttons\">\n",
              "\n",
              "  <div class=\"colab-df-container\">\n",
              "    <button class=\"colab-df-convert\" onclick=\"convertToInteractive('df-691d993f-8457-4d1e-8915-a465f62826a7')\"\n",
              "            title=\"Convert this dataframe to an interactive table.\"\n",
              "            style=\"display:none;\">\n",
              "\n",
              "  <svg xmlns=\"http://www.w3.org/2000/svg\" height=\"24px\" viewBox=\"0 -960 960 960\">\n",
              "    <path d=\"M120-120v-720h720v720H120Zm60-500h600v-160H180v160Zm220 220h160v-160H400v160Zm0 220h160v-160H400v160ZM180-400h160v-160H180v160Zm440 0h160v-160H620v160ZM180-180h160v-160H180v160Zm440 0h160v-160H620v160Z\"/>\n",
              "  </svg>\n",
              "    </button>\n",
              "\n",
              "  <style>\n",
              "    .colab-df-container {\n",
              "      display:flex;\n",
              "      gap: 12px;\n",
              "    }\n",
              "\n",
              "    .colab-df-convert {\n",
              "      background-color: #E8F0FE;\n",
              "      border: none;\n",
              "      border-radius: 50%;\n",
              "      cursor: pointer;\n",
              "      display: none;\n",
              "      fill: #1967D2;\n",
              "      height: 32px;\n",
              "      padding: 0 0 0 0;\n",
              "      width: 32px;\n",
              "    }\n",
              "\n",
              "    .colab-df-convert:hover {\n",
              "      background-color: #E2EBFA;\n",
              "      box-shadow: 0px 1px 2px rgba(60, 64, 67, 0.3), 0px 1px 3px 1px rgba(60, 64, 67, 0.15);\n",
              "      fill: #174EA6;\n",
              "    }\n",
              "\n",
              "    .colab-df-buttons div {\n",
              "      margin-bottom: 4px;\n",
              "    }\n",
              "\n",
              "    [theme=dark] .colab-df-convert {\n",
              "      background-color: #3B4455;\n",
              "      fill: #D2E3FC;\n",
              "    }\n",
              "\n",
              "    [theme=dark] .colab-df-convert:hover {\n",
              "      background-color: #434B5C;\n",
              "      box-shadow: 0px 1px 3px 1px rgba(0, 0, 0, 0.15);\n",
              "      filter: drop-shadow(0px 1px 2px rgba(0, 0, 0, 0.3));\n",
              "      fill: #FFFFFF;\n",
              "    }\n",
              "  </style>\n",
              "\n",
              "    <script>\n",
              "      const buttonEl =\n",
              "        document.querySelector('#df-691d993f-8457-4d1e-8915-a465f62826a7 button.colab-df-convert');\n",
              "      buttonEl.style.display =\n",
              "        google.colab.kernel.accessAllowed ? 'block' : 'none';\n",
              "\n",
              "      async function convertToInteractive(key) {\n",
              "        const element = document.querySelector('#df-691d993f-8457-4d1e-8915-a465f62826a7');\n",
              "        const dataTable =\n",
              "          await google.colab.kernel.invokeFunction('convertToInteractive',\n",
              "                                                    [key], {});\n",
              "        if (!dataTable) return;\n",
              "\n",
              "        const docLinkHtml = 'Like what you see? Visit the ' +\n",
              "          '<a target=\"_blank\" href=https://colab.research.google.com/notebooks/data_table.ipynb>data table notebook</a>'\n",
              "          + ' to learn more about interactive tables.';\n",
              "        element.innerHTML = '';\n",
              "        dataTable['output_type'] = 'display_data';\n",
              "        await google.colab.output.renderOutput(dataTable, element);\n",
              "        const docLink = document.createElement('div');\n",
              "        docLink.innerHTML = docLinkHtml;\n",
              "        element.appendChild(docLink);\n",
              "      }\n",
              "    </script>\n",
              "  </div>\n",
              "\n",
              "\n",
              "<div id=\"df-72d2d10b-f92e-4ebe-82f0-303189fe8371\">\n",
              "  <button class=\"colab-df-quickchart\" onclick=\"quickchart('df-72d2d10b-f92e-4ebe-82f0-303189fe8371')\"\n",
              "            title=\"Suggest charts\"\n",
              "            style=\"display:none;\">\n",
              "\n",
              "<svg xmlns=\"http://www.w3.org/2000/svg\" height=\"24px\"viewBox=\"0 0 24 24\"\n",
              "     width=\"24px\">\n",
              "    <g>\n",
              "        <path d=\"M19 3H5c-1.1 0-2 .9-2 2v14c0 1.1.9 2 2 2h14c1.1 0 2-.9 2-2V5c0-1.1-.9-2-2-2zM9 17H7v-7h2v7zm4 0h-2V7h2v10zm4 0h-2v-4h2v4z\"/>\n",
              "    </g>\n",
              "</svg>\n",
              "  </button>\n",
              "\n",
              "<style>\n",
              "  .colab-df-quickchart {\n",
              "      --bg-color: #E8F0FE;\n",
              "      --fill-color: #1967D2;\n",
              "      --hover-bg-color: #E2EBFA;\n",
              "      --hover-fill-color: #174EA6;\n",
              "      --disabled-fill-color: #AAA;\n",
              "      --disabled-bg-color: #DDD;\n",
              "  }\n",
              "\n",
              "  [theme=dark] .colab-df-quickchart {\n",
              "      --bg-color: #3B4455;\n",
              "      --fill-color: #D2E3FC;\n",
              "      --hover-bg-color: #434B5C;\n",
              "      --hover-fill-color: #FFFFFF;\n",
              "      --disabled-bg-color: #3B4455;\n",
              "      --disabled-fill-color: #666;\n",
              "  }\n",
              "\n",
              "  .colab-df-quickchart {\n",
              "    background-color: var(--bg-color);\n",
              "    border: none;\n",
              "    border-radius: 50%;\n",
              "    cursor: pointer;\n",
              "    display: none;\n",
              "    fill: var(--fill-color);\n",
              "    height: 32px;\n",
              "    padding: 0;\n",
              "    width: 32px;\n",
              "  }\n",
              "\n",
              "  .colab-df-quickchart:hover {\n",
              "    background-color: var(--hover-bg-color);\n",
              "    box-shadow: 0 1px 2px rgba(60, 64, 67, 0.3), 0 1px 3px 1px rgba(60, 64, 67, 0.15);\n",
              "    fill: var(--button-hover-fill-color);\n",
              "  }\n",
              "\n",
              "  .colab-df-quickchart-complete:disabled,\n",
              "  .colab-df-quickchart-complete:disabled:hover {\n",
              "    background-color: var(--disabled-bg-color);\n",
              "    fill: var(--disabled-fill-color);\n",
              "    box-shadow: none;\n",
              "  }\n",
              "\n",
              "  .colab-df-spinner {\n",
              "    border: 2px solid var(--fill-color);\n",
              "    border-color: transparent;\n",
              "    border-bottom-color: var(--fill-color);\n",
              "    animation:\n",
              "      spin 1s steps(1) infinite;\n",
              "  }\n",
              "\n",
              "  @keyframes spin {\n",
              "    0% {\n",
              "      border-color: transparent;\n",
              "      border-bottom-color: var(--fill-color);\n",
              "      border-left-color: var(--fill-color);\n",
              "    }\n",
              "    20% {\n",
              "      border-color: transparent;\n",
              "      border-left-color: var(--fill-color);\n",
              "      border-top-color: var(--fill-color);\n",
              "    }\n",
              "    30% {\n",
              "      border-color: transparent;\n",
              "      border-left-color: var(--fill-color);\n",
              "      border-top-color: var(--fill-color);\n",
              "      border-right-color: var(--fill-color);\n",
              "    }\n",
              "    40% {\n",
              "      border-color: transparent;\n",
              "      border-right-color: var(--fill-color);\n",
              "      border-top-color: var(--fill-color);\n",
              "    }\n",
              "    60% {\n",
              "      border-color: transparent;\n",
              "      border-right-color: var(--fill-color);\n",
              "    }\n",
              "    80% {\n",
              "      border-color: transparent;\n",
              "      border-right-color: var(--fill-color);\n",
              "      border-bottom-color: var(--fill-color);\n",
              "    }\n",
              "    90% {\n",
              "      border-color: transparent;\n",
              "      border-bottom-color: var(--fill-color);\n",
              "    }\n",
              "  }\n",
              "</style>\n",
              "\n",
              "  <script>\n",
              "    async function quickchart(key) {\n",
              "      const quickchartButtonEl =\n",
              "        document.querySelector('#' + key + ' button');\n",
              "      quickchartButtonEl.disabled = true;  // To prevent multiple clicks.\n",
              "      quickchartButtonEl.classList.add('colab-df-spinner');\n",
              "      try {\n",
              "        const charts = await google.colab.kernel.invokeFunction(\n",
              "            'suggestCharts', [key], {});\n",
              "      } catch (error) {\n",
              "        console.error('Error during call to suggestCharts:', error);\n",
              "      }\n",
              "      quickchartButtonEl.classList.remove('colab-df-spinner');\n",
              "      quickchartButtonEl.classList.add('colab-df-quickchart-complete');\n",
              "    }\n",
              "    (() => {\n",
              "      let quickchartButtonEl =\n",
              "        document.querySelector('#df-72d2d10b-f92e-4ebe-82f0-303189fe8371 button');\n",
              "      quickchartButtonEl.style.display =\n",
              "        google.colab.kernel.accessAllowed ? 'block' : 'none';\n",
              "    })();\n",
              "  </script>\n",
              "</div>\n",
              "    </div>\n",
              "  </div>\n"
            ],
            "application/vnd.google.colaboratory.intrinsic+json": {
              "type": "dataframe",
              "variable_name": "df1",
              "summary": "{\n  \"name\": \"df1\",\n  \"rows\": 7344,\n  \"fields\": [\n    {\n      \"column\": \"data\",\n      \"properties\": {\n        \"dtype\": \"object\",\n        \"num_unique_values\": 7344,\n        \"samples\": [\n          \"2023-10-18 20:00:00.000\",\n          \"2023-10-18 08:00:00.000\",\n          \"2023-01-20 01:00:00.000\"\n        ],\n        \"semantic_type\": \"\",\n        \"description\": \"\"\n      }\n    },\n    {\n      \"column\": \"TG4_kWhr\",\n      \"properties\": {\n        \"dtype\": \"number\",\n        \"std\": 27456.92654026282,\n        \"min\": 0.0,\n        \"max\": 70348.8,\n        \"num_unique_values\": 1706,\n        \"samples\": [\n          64444.8,\n          54748.8,\n          52742.4\n        ],\n        \"semantic_type\": \"\",\n        \"description\": \"\"\n      }\n    },\n    {\n      \"column\": \"TG5_kWhr\",\n      \"properties\": {\n        \"dtype\": \"number\",\n        \"std\": 24187.001278706033,\n        \"min\": 0.0,\n        \"max\": 87129.6,\n        \"num_unique_values\": 1815,\n        \"samples\": [\n          44380.8,\n          47971.2,\n          44092.8\n        ],\n        \"semantic_type\": \"\",\n        \"description\": \"\"\n      }\n    },\n    {\n      \"column\": \"TG6_kWhr\",\n      \"properties\": {\n        \"dtype\": \"number\",\n        \"std\": 23243.02616549095,\n        \"min\": 0.0,\n        \"max\": 63705.6,\n        \"num_unique_values\": 1610,\n        \"samples\": [\n          47520.0,\n          45612.0,\n          51972.0\n        ],\n        \"semantic_type\": \"\",\n        \"description\": \"\"\n      }\n    },\n    {\n      \"column\": \"TG9_kWhr\",\n      \"properties\": {\n        \"dtype\": \"number\",\n        \"std\": 33943.30863064199,\n        \"min\": 0.0,\n        \"max\": 108800.0,\n        \"num_unique_values\": 2241,\n        \"samples\": [\n          56960.0,\n          78768.0,\n          88576.0\n        ],\n        \"semantic_type\": \"\",\n        \"description\": \"\"\n      }\n    },\n    {\n      \"column\": \"TG10_kWhr\",\n      \"properties\": {\n        \"dtype\": \"number\",\n        \"std\": 21895.967583467624,\n        \"min\": 0.0,\n        \"max\": 60297.6,\n        \"num_unique_values\": 1235,\n        \"samples\": [\n          56064.0,\n          52752.0,\n          50582.4\n        ],\n        \"semantic_type\": \"\",\n        \"description\": \"\"\n      }\n    },\n    {\n      \"column\": \"sum_kWhr\",\n      \"properties\": {\n        \"dtype\": \"number\",\n        \"std\": 29868.07360538765,\n        \"min\": 135513.6,\n        \"max\": 296175.2,\n        \"num_unique_values\": 6736,\n        \"samples\": [\n          208105.6,\n          164821.6,\n          159878.4\n        ],\n        \"semantic_type\": \"\",\n        \"description\": \"\"\n      }\n    },\n    {\n      \"column\": \"B_1e3m3\",\n      \"properties\": {\n        \"dtype\": \"number\",\n        \"std\": 18.222681444166604,\n        \"min\": 54.25,\n        \"max\": 194.44,\n        \"num_unique_values\": 3572,\n        \"samples\": [\n          94.64,\n          72.87,\n          101.62\n        ],\n        \"semantic_type\": \"\",\n        \"description\": \"\"\n      }\n    },\n    {\n      \"column\": \"Q_gcalhr\",\n      \"properties\": {\n        \"dtype\": \"number\",\n        \"std\": 67,\n        \"min\": -5,\n        \"max\": 240,\n        \"num_unique_values\": 239,\n        \"samples\": [\n          142,\n          149,\n          185\n        ],\n        \"semantic_type\": \"\",\n        \"description\": \"\"\n      }\n    }\n  ]\n}"
            }
          },
          "metadata": {},
          "execution_count": 9
        }
      ]
    },
    {
      "cell_type": "code",
      "source": [
        "df2.head()"
      ],
      "metadata": {
        "colab": {
          "base_uri": "https://localhost:8080/",
          "height": 342
        },
        "id": "6AcSDMt70Pu1",
        "outputId": "90ae4d56-c9ff-4e55-e196-17b2037cac15"
      },
      "id": "6AcSDMt70Pu1",
      "execution_count": 10,
      "outputs": [
        {
          "output_type": "execute_result",
          "data": {
            "text/plain": [
              "         date  TG4  TG5  TG6  TG9  TG10  SB4  SB5  SB6  SB8  ...  tower_5a  \\\n",
              "0  2023-01-01    0    1    1    1     0    0    0    1    1  ...         1   \n",
              "1  2023-01-02    0    1    1    1     0    0    0    1    1  ...         1   \n",
              "2  2023-01-03    0    1    1    1     0    0    2    2    1  ...         1   \n",
              "3  2023-01-04    0    1    1    1     0    0    1    0    1  ...         1   \n",
              "4  2023-01-05    0    1    1    1     0    0    1    0    1  ...         1   \n",
              "\n",
              "   tower_5b  tower_6a  tower_6b  tower_7a  tower_7b  Ifwp_kWhrton  tamb  WB  \\\n",
              "0         1         1         1         0         0          7.35  -6.4   0   \n",
              "1         1         1         1         0         0          7.38  -2.6   0   \n",
              "2         1         1         1         0         0          7.63  -1.7   0   \n",
              "3         1         1         1         0         0          7.34  -3.5   0   \n",
              "4         1         1         1         0         0          7.24 -11.9   0   \n",
              "\n",
              "           Gfw  \n",
              "0  1124.625000  \n",
              "1  1112.958333  \n",
              "2  1101.333333  \n",
              "3  1109.875000  \n",
              "4  1154.833333  \n",
              "\n",
              "[5 rows x 74 columns]"
            ],
            "text/html": [
              "\n",
              "  <div id=\"df-28384cbb-da17-45e9-8ee1-b9fd0db4a888\" class=\"colab-df-container\">\n",
              "    <div>\n",
              "<style scoped>\n",
              "    .dataframe tbody tr th:only-of-type {\n",
              "        vertical-align: middle;\n",
              "    }\n",
              "\n",
              "    .dataframe tbody tr th {\n",
              "        vertical-align: top;\n",
              "    }\n",
              "\n",
              "    .dataframe thead th {\n",
              "        text-align: right;\n",
              "    }\n",
              "</style>\n",
              "<table border=\"1\" class=\"dataframe\">\n",
              "  <thead>\n",
              "    <tr style=\"text-align: right;\">\n",
              "      <th></th>\n",
              "      <th>date</th>\n",
              "      <th>TG4</th>\n",
              "      <th>TG5</th>\n",
              "      <th>TG6</th>\n",
              "      <th>TG9</th>\n",
              "      <th>TG10</th>\n",
              "      <th>SB4</th>\n",
              "      <th>SB5</th>\n",
              "      <th>SB6</th>\n",
              "      <th>SB8</th>\n",
              "      <th>...</th>\n",
              "      <th>tower_5a</th>\n",
              "      <th>tower_5b</th>\n",
              "      <th>tower_6a</th>\n",
              "      <th>tower_6b</th>\n",
              "      <th>tower_7a</th>\n",
              "      <th>tower_7b</th>\n",
              "      <th>Ifwp_kWhrton</th>\n",
              "      <th>tamb</th>\n",
              "      <th>WB</th>\n",
              "      <th>Gfw</th>\n",
              "    </tr>\n",
              "  </thead>\n",
              "  <tbody>\n",
              "    <tr>\n",
              "      <th>0</th>\n",
              "      <td>2023-01-01</td>\n",
              "      <td>0</td>\n",
              "      <td>1</td>\n",
              "      <td>1</td>\n",
              "      <td>1</td>\n",
              "      <td>0</td>\n",
              "      <td>0</td>\n",
              "      <td>0</td>\n",
              "      <td>1</td>\n",
              "      <td>1</td>\n",
              "      <td>...</td>\n",
              "      <td>1</td>\n",
              "      <td>1</td>\n",
              "      <td>1</td>\n",
              "      <td>1</td>\n",
              "      <td>0</td>\n",
              "      <td>0</td>\n",
              "      <td>7.35</td>\n",
              "      <td>-6.4</td>\n",
              "      <td>0</td>\n",
              "      <td>1124.625000</td>\n",
              "    </tr>\n",
              "    <tr>\n",
              "      <th>1</th>\n",
              "      <td>2023-01-02</td>\n",
              "      <td>0</td>\n",
              "      <td>1</td>\n",
              "      <td>1</td>\n",
              "      <td>1</td>\n",
              "      <td>0</td>\n",
              "      <td>0</td>\n",
              "      <td>0</td>\n",
              "      <td>1</td>\n",
              "      <td>1</td>\n",
              "      <td>...</td>\n",
              "      <td>1</td>\n",
              "      <td>1</td>\n",
              "      <td>1</td>\n",
              "      <td>1</td>\n",
              "      <td>0</td>\n",
              "      <td>0</td>\n",
              "      <td>7.38</td>\n",
              "      <td>-2.6</td>\n",
              "      <td>0</td>\n",
              "      <td>1112.958333</td>\n",
              "    </tr>\n",
              "    <tr>\n",
              "      <th>2</th>\n",
              "      <td>2023-01-03</td>\n",
              "      <td>0</td>\n",
              "      <td>1</td>\n",
              "      <td>1</td>\n",
              "      <td>1</td>\n",
              "      <td>0</td>\n",
              "      <td>0</td>\n",
              "      <td>2</td>\n",
              "      <td>2</td>\n",
              "      <td>1</td>\n",
              "      <td>...</td>\n",
              "      <td>1</td>\n",
              "      <td>1</td>\n",
              "      <td>1</td>\n",
              "      <td>1</td>\n",
              "      <td>0</td>\n",
              "      <td>0</td>\n",
              "      <td>7.63</td>\n",
              "      <td>-1.7</td>\n",
              "      <td>0</td>\n",
              "      <td>1101.333333</td>\n",
              "    </tr>\n",
              "    <tr>\n",
              "      <th>3</th>\n",
              "      <td>2023-01-04</td>\n",
              "      <td>0</td>\n",
              "      <td>1</td>\n",
              "      <td>1</td>\n",
              "      <td>1</td>\n",
              "      <td>0</td>\n",
              "      <td>0</td>\n",
              "      <td>1</td>\n",
              "      <td>0</td>\n",
              "      <td>1</td>\n",
              "      <td>...</td>\n",
              "      <td>1</td>\n",
              "      <td>1</td>\n",
              "      <td>1</td>\n",
              "      <td>1</td>\n",
              "      <td>0</td>\n",
              "      <td>0</td>\n",
              "      <td>7.34</td>\n",
              "      <td>-3.5</td>\n",
              "      <td>0</td>\n",
              "      <td>1109.875000</td>\n",
              "    </tr>\n",
              "    <tr>\n",
              "      <th>4</th>\n",
              "      <td>2023-01-05</td>\n",
              "      <td>0</td>\n",
              "      <td>1</td>\n",
              "      <td>1</td>\n",
              "      <td>1</td>\n",
              "      <td>0</td>\n",
              "      <td>0</td>\n",
              "      <td>1</td>\n",
              "      <td>0</td>\n",
              "      <td>1</td>\n",
              "      <td>...</td>\n",
              "      <td>1</td>\n",
              "      <td>1</td>\n",
              "      <td>1</td>\n",
              "      <td>1</td>\n",
              "      <td>0</td>\n",
              "      <td>0</td>\n",
              "      <td>7.24</td>\n",
              "      <td>-11.9</td>\n",
              "      <td>0</td>\n",
              "      <td>1154.833333</td>\n",
              "    </tr>\n",
              "  </tbody>\n",
              "</table>\n",
              "<p>5 rows × 74 columns</p>\n",
              "</div>\n",
              "    <div class=\"colab-df-buttons\">\n",
              "\n",
              "  <div class=\"colab-df-container\">\n",
              "    <button class=\"colab-df-convert\" onclick=\"convertToInteractive('df-28384cbb-da17-45e9-8ee1-b9fd0db4a888')\"\n",
              "            title=\"Convert this dataframe to an interactive table.\"\n",
              "            style=\"display:none;\">\n",
              "\n",
              "  <svg xmlns=\"http://www.w3.org/2000/svg\" height=\"24px\" viewBox=\"0 -960 960 960\">\n",
              "    <path d=\"M120-120v-720h720v720H120Zm60-500h600v-160H180v160Zm220 220h160v-160H400v160Zm0 220h160v-160H400v160ZM180-400h160v-160H180v160Zm440 0h160v-160H620v160ZM180-180h160v-160H180v160Zm440 0h160v-160H620v160Z\"/>\n",
              "  </svg>\n",
              "    </button>\n",
              "\n",
              "  <style>\n",
              "    .colab-df-container {\n",
              "      display:flex;\n",
              "      gap: 12px;\n",
              "    }\n",
              "\n",
              "    .colab-df-convert {\n",
              "      background-color: #E8F0FE;\n",
              "      border: none;\n",
              "      border-radius: 50%;\n",
              "      cursor: pointer;\n",
              "      display: none;\n",
              "      fill: #1967D2;\n",
              "      height: 32px;\n",
              "      padding: 0 0 0 0;\n",
              "      width: 32px;\n",
              "    }\n",
              "\n",
              "    .colab-df-convert:hover {\n",
              "      background-color: #E2EBFA;\n",
              "      box-shadow: 0px 1px 2px rgba(60, 64, 67, 0.3), 0px 1px 3px 1px rgba(60, 64, 67, 0.15);\n",
              "      fill: #174EA6;\n",
              "    }\n",
              "\n",
              "    .colab-df-buttons div {\n",
              "      margin-bottom: 4px;\n",
              "    }\n",
              "\n",
              "    [theme=dark] .colab-df-convert {\n",
              "      background-color: #3B4455;\n",
              "      fill: #D2E3FC;\n",
              "    }\n",
              "\n",
              "    [theme=dark] .colab-df-convert:hover {\n",
              "      background-color: #434B5C;\n",
              "      box-shadow: 0px 1px 3px 1px rgba(0, 0, 0, 0.15);\n",
              "      filter: drop-shadow(0px 1px 2px rgba(0, 0, 0, 0.3));\n",
              "      fill: #FFFFFF;\n",
              "    }\n",
              "  </style>\n",
              "\n",
              "    <script>\n",
              "      const buttonEl =\n",
              "        document.querySelector('#df-28384cbb-da17-45e9-8ee1-b9fd0db4a888 button.colab-df-convert');\n",
              "      buttonEl.style.display =\n",
              "        google.colab.kernel.accessAllowed ? 'block' : 'none';\n",
              "\n",
              "      async function convertToInteractive(key) {\n",
              "        const element = document.querySelector('#df-28384cbb-da17-45e9-8ee1-b9fd0db4a888');\n",
              "        const dataTable =\n",
              "          await google.colab.kernel.invokeFunction('convertToInteractive',\n",
              "                                                    [key], {});\n",
              "        if (!dataTable) return;\n",
              "\n",
              "        const docLinkHtml = 'Like what you see? Visit the ' +\n",
              "          '<a target=\"_blank\" href=https://colab.research.google.com/notebooks/data_table.ipynb>data table notebook</a>'\n",
              "          + ' to learn more about interactive tables.';\n",
              "        element.innerHTML = '';\n",
              "        dataTable['output_type'] = 'display_data';\n",
              "        await google.colab.output.renderOutput(dataTable, element);\n",
              "        const docLink = document.createElement('div');\n",
              "        docLink.innerHTML = docLinkHtml;\n",
              "        element.appendChild(docLink);\n",
              "      }\n",
              "    </script>\n",
              "  </div>\n",
              "\n",
              "\n",
              "<div id=\"df-5959cc10-4a20-4cd1-bd38-4bac70c1f8ba\">\n",
              "  <button class=\"colab-df-quickchart\" onclick=\"quickchart('df-5959cc10-4a20-4cd1-bd38-4bac70c1f8ba')\"\n",
              "            title=\"Suggest charts\"\n",
              "            style=\"display:none;\">\n",
              "\n",
              "<svg xmlns=\"http://www.w3.org/2000/svg\" height=\"24px\"viewBox=\"0 0 24 24\"\n",
              "     width=\"24px\">\n",
              "    <g>\n",
              "        <path d=\"M19 3H5c-1.1 0-2 .9-2 2v14c0 1.1.9 2 2 2h14c1.1 0 2-.9 2-2V5c0-1.1-.9-2-2-2zM9 17H7v-7h2v7zm4 0h-2V7h2v10zm4 0h-2v-4h2v4z\"/>\n",
              "    </g>\n",
              "</svg>\n",
              "  </button>\n",
              "\n",
              "<style>\n",
              "  .colab-df-quickchart {\n",
              "      --bg-color: #E8F0FE;\n",
              "      --fill-color: #1967D2;\n",
              "      --hover-bg-color: #E2EBFA;\n",
              "      --hover-fill-color: #174EA6;\n",
              "      --disabled-fill-color: #AAA;\n",
              "      --disabled-bg-color: #DDD;\n",
              "  }\n",
              "\n",
              "  [theme=dark] .colab-df-quickchart {\n",
              "      --bg-color: #3B4455;\n",
              "      --fill-color: #D2E3FC;\n",
              "      --hover-bg-color: #434B5C;\n",
              "      --hover-fill-color: #FFFFFF;\n",
              "      --disabled-bg-color: #3B4455;\n",
              "      --disabled-fill-color: #666;\n",
              "  }\n",
              "\n",
              "  .colab-df-quickchart {\n",
              "    background-color: var(--bg-color);\n",
              "    border: none;\n",
              "    border-radius: 50%;\n",
              "    cursor: pointer;\n",
              "    display: none;\n",
              "    fill: var(--fill-color);\n",
              "    height: 32px;\n",
              "    padding: 0;\n",
              "    width: 32px;\n",
              "  }\n",
              "\n",
              "  .colab-df-quickchart:hover {\n",
              "    background-color: var(--hover-bg-color);\n",
              "    box-shadow: 0 1px 2px rgba(60, 64, 67, 0.3), 0 1px 3px 1px rgba(60, 64, 67, 0.15);\n",
              "    fill: var(--button-hover-fill-color);\n",
              "  }\n",
              "\n",
              "  .colab-df-quickchart-complete:disabled,\n",
              "  .colab-df-quickchart-complete:disabled:hover {\n",
              "    background-color: var(--disabled-bg-color);\n",
              "    fill: var(--disabled-fill-color);\n",
              "    box-shadow: none;\n",
              "  }\n",
              "\n",
              "  .colab-df-spinner {\n",
              "    border: 2px solid var(--fill-color);\n",
              "    border-color: transparent;\n",
              "    border-bottom-color: var(--fill-color);\n",
              "    animation:\n",
              "      spin 1s steps(1) infinite;\n",
              "  }\n",
              "\n",
              "  @keyframes spin {\n",
              "    0% {\n",
              "      border-color: transparent;\n",
              "      border-bottom-color: var(--fill-color);\n",
              "      border-left-color: var(--fill-color);\n",
              "    }\n",
              "    20% {\n",
              "      border-color: transparent;\n",
              "      border-left-color: var(--fill-color);\n",
              "      border-top-color: var(--fill-color);\n",
              "    }\n",
              "    30% {\n",
              "      border-color: transparent;\n",
              "      border-left-color: var(--fill-color);\n",
              "      border-top-color: var(--fill-color);\n",
              "      border-right-color: var(--fill-color);\n",
              "    }\n",
              "    40% {\n",
              "      border-color: transparent;\n",
              "      border-right-color: var(--fill-color);\n",
              "      border-top-color: var(--fill-color);\n",
              "    }\n",
              "    60% {\n",
              "      border-color: transparent;\n",
              "      border-right-color: var(--fill-color);\n",
              "    }\n",
              "    80% {\n",
              "      border-color: transparent;\n",
              "      border-right-color: var(--fill-color);\n",
              "      border-bottom-color: var(--fill-color);\n",
              "    }\n",
              "    90% {\n",
              "      border-color: transparent;\n",
              "      border-bottom-color: var(--fill-color);\n",
              "    }\n",
              "  }\n",
              "</style>\n",
              "\n",
              "  <script>\n",
              "    async function quickchart(key) {\n",
              "      const quickchartButtonEl =\n",
              "        document.querySelector('#' + key + ' button');\n",
              "      quickchartButtonEl.disabled = true;  // To prevent multiple clicks.\n",
              "      quickchartButtonEl.classList.add('colab-df-spinner');\n",
              "      try {\n",
              "        const charts = await google.colab.kernel.invokeFunction(\n",
              "            'suggestCharts', [key], {});\n",
              "      } catch (error) {\n",
              "        console.error('Error during call to suggestCharts:', error);\n",
              "      }\n",
              "      quickchartButtonEl.classList.remove('colab-df-spinner');\n",
              "      quickchartButtonEl.classList.add('colab-df-quickchart-complete');\n",
              "    }\n",
              "    (() => {\n",
              "      let quickchartButtonEl =\n",
              "        document.querySelector('#df-5959cc10-4a20-4cd1-bd38-4bac70c1f8ba button');\n",
              "      quickchartButtonEl.style.display =\n",
              "        google.colab.kernel.accessAllowed ? 'block' : 'none';\n",
              "    })();\n",
              "  </script>\n",
              "</div>\n",
              "    </div>\n",
              "  </div>\n"
            ],
            "application/vnd.google.colaboratory.intrinsic+json": {
              "type": "dataframe",
              "variable_name": "df2"
            }
          },
          "metadata": {},
          "execution_count": 10
        }
      ]
    },
    {
      "cell_type": "code",
      "source": [],
      "metadata": {
        "id": "da4pw-rX4vZI"
      },
      "id": "da4pw-rX4vZI",
      "execution_count": null,
      "outputs": []
    }
  ],
  "metadata": {
    "kernelspec": {
      "display_name": "Python 3 (ipykernel)",
      "language": "python",
      "name": "python3"
    },
    "language_info": {
      "codemirror_mode": {
        "name": "ipython",
        "version": 3
      },
      "file_extension": ".py",
      "mimetype": "text/x-python",
      "name": "python",
      "nbconvert_exporter": "python",
      "pygments_lexer": "ipython3",
      "version": "3.8.19"
    },
    "colab": {
      "provenance": [],
      "collapsed_sections": [
        "SSVhwQvA5bv8"
      ],
      "include_colab_link": true
    }
  },
  "nbformat": 4,
  "nbformat_minor": 5
}