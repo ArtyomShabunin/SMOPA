{
  "cells": [
    {
      "cell_type": "markdown",
      "metadata": {
        "id": "view-in-github",
        "colab_type": "text"
      },
      "source": [
        "<a href=\"https://colab.research.google.com/github/ArtyomShabunin/SMOPA/blob/main/lesson_2.ipynb\" target=\"_parent\"><img src=\"https://colab.research.google.com/assets/colab-badge.svg\" alt=\"Open In Colab\"/></a>"
      ]
    },
    {
      "cell_type": "markdown",
      "id": "505bcd83-3951-4117-82f2-4b262a4884ad",
      "metadata": {
        "id": "505bcd83-3951-4117-82f2-4b262a4884ad"
      },
      "source": [
        "# Занятие №2\n",
        "# Python и библиотеки для анализа данных и математического моделирования"
      ]
    },
    {
      "cell_type": "markdown",
      "id": "691d4af1-6994-49af-a54b-2831ed3da4a1",
      "metadata": {
        "id": "691d4af1-6994-49af-a54b-2831ed3da4a1"
      },
      "source": [
        "## Установка Python\n",
        "\n",
        "![anaconda image](https://www.anaconda.com/wp-content/uploads/2022/12/anaconda_secondary_logo.svg)\n",
        "\n",
        "**Anaconda** — дистрибутив языков программирования Python и R, включающий набор популярных свободных библиотек, объединённых проблематиками науки о данных и машинного обучения. Основная цель — поставка единым согласованным комплектом наиболее востребованных соответствующим кругом пользователей тематических модулей (таких как NumPy, SciPy, Astropy и других) с разрешением возникающих зависимостей и конфликтов, которые неизбежны при одиночной установке.\n",
        "\n",
        "Программа Anaсonda представляет собой полноценную систему работы с библиотеками Python, включающую программу-установщик и набор следующих файлов.\n",
        "\n",
        "* **Библиотеки.** Каждая из них включает определенный набор функций и объектов, предназначенный для решения конкретных задач — например, работы с массивами данных, астрономических вычислений, обработки изображений, построения и тренировки нейронных сетей, различных инженерных расчетов, статистического анализа и т.д. Всего в пакет Anaconda входит около 1500 библиотек, объединенных научной и инженерной тематикой.\n",
        "* **Менеджер пакетов Conda.** Это кроссплатформенное программное обеспечение, предназначенное для установки пакетов ПО и библиотек, быстрого переключения между их версиями, загрузки и инсталляции обновлений. Conda написана на Python, но является языково-независимой, то есть может работать с проектами, написанными на любом языке программирования. Кроме того, с ее помощью можно установить и сам Python — возможность, предусмотренная далеко не во всех менеджерах пакетов, написанных на этом ЯП. Из-за того, что менеджер пакетов оказался очень удобен для решения задач, не связанных с Python, он был выделен в отдельный дистрибутив с открытым исходным кодом.\n",
        "* **Менеджер виртуальной среды.** Это программа, позволяющая создавать, редактировать, удалять и отслеживать состояние виртуальных машин. Управление изолированными виртуальными средами осуществляется из единой контрольной консоли. Виртуализация используется при работе над несколькими проектами одновременно, позволяя исключить их влияние друг на друга, тем самым обеспечив высокую точность расчетов.\n",
        "* **GIU Anaconda Navigator.** GUI (graphic user interface) — графический интерфейс пользователя, то есть программная оболочка, в которой можно работать с библиотеками не с помощью текстовых команд, а используя визуальные элементы, такие как блоки, модули, графики и т.д. «Анаконда Навигатор» существенно упрощает взаимодействие с библиотеками, делает работу менее однообразной и утомительной, повышает наглядность рабочего процесса.\n",
        "\n",
        "https://www.anaconda.com/"
      ]
    },
    {
      "cell_type": "markdown",
      "id": "75eefba0",
      "metadata": {
        "id": "75eefba0"
      },
      "source": [
        "## Установка виртуального окружения\n",
        "С помощью виртуального окружения можно создать изолированный контейнер с нужными версиями под каждую задачу.  \n",
        "```conda env create -f environment.yml```"
      ]
    },
    {
      "cell_type": "markdown",
      "id": "e101fee9-041a-45b7-b025-ffe2df795f9f",
      "metadata": {
        "id": "e101fee9-041a-45b7-b025-ffe2df795f9f"
      },
      "source": [
        "## Инструмент разработки\n",
        "\n",
        "![jupyter image](https://jupyter.org/assets/logos/rectanglelogo-greytext-orangebody-greymoons.svg)\n",
        "\n",
        "**Jupyter Notebok** — браузерный инструмент для оформления красивой и информативной аналитики, совместного хранения кода, картинок, примечаний, диаграмм, формул и т.д.\n",
        "\n",
        "В мире Data Science Jupyter-ноутбук уже несколько лет считается одним из популярных инструментов для анализа данных и быстрого прототипирования.\n",
        "\n",
        "Один из плюсов этого инструмента в том, что код можно разделить на кусочки и работать над ними в любом порядке. Например, написать скрипт и сразу посмотреть, как он работает. Остальные фрагменты кода при этом запускать не нужно, результат появляется тут же, под частью кода.\n",
        "\n",
        "```$ jupyter notebook```"
      ]
    },
    {
      "cell_type": "markdown",
      "id": "5340fa8b-5b94-4a49-b5ac-1a56cdf700de",
      "metadata": {
        "id": "5340fa8b-5b94-4a49-b5ac-1a56cdf700de"
      },
      "source": [
        "\n",
        "<!-- ![colab image](https://upload.wikimedia.org/wikipedia/commons/thumb/d/d0/Google_Colaboratory_SVG_Logo.svg/2560px-Google_Colaboratory_SVG_Logo.svg.png width=\"100\") -->\n",
        "\n",
        "<img src=\"https://upload.wikimedia.org/wikipedia/commons/thumb/d/d0/Google_Colaboratory_SVG_Logo.svg/2560px-Google_Colaboratory_SVG_Logo.svg.png\" alt=\"numpy image\" width=\"200\"/>\n",
        "\n",
        "**Google colab** - это облачный сервис от Google, который позволяет писать и выполнять Python-код в браузере без установки дополнительных программ.\n",
        "\n",
        "Главные преимущества:\n",
        "\n",
        "https://colab.research.google.com/rch.google.com/"
      ]
    },
    {
      "cell_type": "markdown",
      "id": "a075bb56-1f8c-484f-9bf0-0abb08906268",
      "metadata": {
        "id": "a075bb56-1f8c-484f-9bf0-0abb08906268"
      },
      "source": [
        "## Библиотеки"
      ]
    },
    {
      "cell_type": "markdown",
      "id": "9d265493-2077-4e35-b100-2106d4ddc3c4",
      "metadata": {
        "id": "9d265493-2077-4e35-b100-2106d4ddc3c4"
      },
      "source": [
        "<!-- ![numpy image](https://numpy.org/images/logo.svg) -->\n",
        "<img src=\"https://numpy.org/images/logo.svg\" alt=\"numpy image\" width=\"100\"/>\n",
        "\n",
        "**NumPy** это open-source модуль для python, который предоставляет общие математические и числовые операции в виде пре-скомпилированных, быстрых функций. Они объединяются в высокоуровневые пакеты. Они обеспечивают функционал, который можно сравнить с функционалом MatLab. NumPy (Numeric Python) предоставляет базовые методы для манипуляции с большими массивами и матрицами.\n",
        "\n",
        "*Входит в дистрибутив Anaconda*"
      ]
    },
    {
      "cell_type": "markdown",
      "id": "0be30f55-06f2-41e4-a4ec-6ed7d928b0b6",
      "metadata": {
        "id": "0be30f55-06f2-41e4-a4ec-6ed7d928b0b6"
      },
      "source": [
        "<!-- ![pandas image](https://encrypted-tbn0.gstatic.com/images?q=tbn:ANd9GcTKPePf0eI9lrP20Ym-P0v-_B2yB6IHRoQiWw&s) -->\n",
        "<img src=\"https://encrypted-tbn0.gstatic.com/images?q=tbn:ANd9GcTKPePf0eI9lrP20Ym-P0v-_B2yB6IHRoQiWw&s\" alt=\"pandas image\" width=\"200\"/>\n",
        "\n",
        "**Pandas** — программная библиотека на языке Python для обработки и анализа данных. Работа pandas с данными строится поверх библиотеки NumPy, являющейся инструментом более низкого уровня. Предоставляет специальные структуры данных и операции для манипулирования числовыми таблицами и временны́ми рядами. Название библиотеки происходит от эконометрического термина «панельные данные», используемого для описания многомерных структурированных наборов информации.\n",
        "\n",
        "*Входит в дистрибутив Anaconda*"
      ]
    },
    {
      "cell_type": "markdown",
      "id": "4f8d64e5-ca0f-4e26-8e78-48d790f05cda",
      "metadata": {
        "id": "4f8d64e5-ca0f-4e26-8e78-48d790f05cda"
      },
      "source": [
        "![sklearn image](https://scikit-learn.org/stable/_static/scikit-learn-logo-small.png)\n",
        "\n",
        "**Scikit-learn** — библиотека, предназначенная для машинного обучения, написанная на языке программирования Python и распространяемая в виде свободного программного обеспечения.\n",
        "\n",
        "В её состав входят различные алгоритмы, в том числе предназначенные для задач классификации, регрессионного и кластерного анализа данных, включая метод опорных векторов, метод случайного леса, алгоритм усиления градиента, метод k-средних и DBSCAN. Библиотека была разработана для взаимодействия с численными и научными библиотеками языка программирования Python NumPy и SciPy.\n",
        "\n",
        "*Входит в дистрибутив Anaconda*"
      ]
    },
    {
      "cell_type": "markdown",
      "id": "e6e50e14-3406-4666-9bda-c146c1601c8b",
      "metadata": {
        "id": "e6e50e14-3406-4666-9bda-c146c1601c8b"
      },
      "source": [
        "<!-- ![pytorch image](https://upload.wikimedia.org/wikipedia/commons/9/96/Pytorch_logo.png) -->\n",
        "<img src=\"https://upload.wikimedia.org/wikipedia/commons/9/96/Pytorch_logo.png\" alt=\"pytorch image\" width=\"200\"/>\n",
        "\n",
        "**PyTorch** — фреймворк машинного обучения для языка Python с открытым исходным кодом, созданный на базе Torch. Используется для решения различных задач: компьютерное зрение, обработка естественного языка и т.д. Разрабатывается преимущественно группой искусственного интеллекта Facebook.\n",
        "\n",
        "```conda install pytorch::pytorch```"
      ]
    },
    {
      "cell_type": "markdown",
      "id": "9e531b3d-fc28-4b44-b0fe-d0ad977cf5f2",
      "metadata": {
        "id": "9e531b3d-fc28-4b44-b0fe-d0ad977cf5f2"
      },
      "source": [
        "<!-- ![matplotlib image](https://matplotlib.org/_static/logo_light.svg) -->\n",
        "<img src=\"https://matplotlib.org/_static/logo_light.svg\" alt=\"matplotlib image\" width=\"200\"/>\n",
        "\n",
        "**Matplotlib** — библиотека на языке программирования Python для визуализации данных двумерной и трёхмерной графикой. Получаемые изображения могут быть использованы в качестве иллюстраций в публикациях.\n",
        "\n",
        "*Входит в дистрибутив Anaconda*"
      ]
    },
    {
      "cell_type": "markdown",
      "id": "67a1567d-cef8-49a2-bc47-f6c3260c49ed",
      "metadata": {
        "id": "67a1567d-cef8-49a2-bc47-f6c3260c49ed"
      },
      "source": [
        "<img src=\"https://upload.wikimedia.org/wikipedia/commons/8/8a/Plotly-logo.png\" alt=\"plotly image\" width=\"200\"/>\n",
        "\n",
        "**Plotly** — библиотека для визуализации данных. Plotly позволяет строить интерактивные визуализации. С помощью Plotly можно как изучать какие-то данные «на лету» (не перестраивая график в matplotlib, изменяя масштаб, включая/выключая какие-то данные), так и построить полноценный интерактивный отчёт (дашборд).\n",
        "\n",
        "*Входит в дистрибутив Anaconda*"
      ]
    },
    {
      "cell_type": "code",
      "execution_count": null,
      "id": "f640ce2c-c53a-4839-8472-d0b90028ba6a",
      "metadata": {
        "id": "f640ce2c-c53a-4839-8472-d0b90028ba6a"
      },
      "outputs": [],
      "source": []
    }
  ],
  "metadata": {
    "kernelspec": {
      "display_name": "Python 3 (ipykernel)",
      "language": "python",
      "name": "python3"
    },
    "language_info": {
      "codemirror_mode": {
        "name": "ipython",
        "version": 3
      },
      "file_extension": ".py",
      "mimetype": "text/x-python",
      "name": "python",
      "nbconvert_exporter": "python",
      "pygments_lexer": "ipython3",
      "version": "3.8.19"
    },
    "colab": {
      "provenance": [],
      "include_colab_link": true
    }
  },
  "nbformat": 4,
  "nbformat_minor": 5
}