{
  "cells": [
    {
      "cell_type": "markdown",
      "metadata": {
        "id": "view-in-github",
        "colab_type": "text"
      },
      "source": [
        "<a href=\"https://colab.research.google.com/github/ArtyomShabunin/SMOPA/blob/main/lesson_6.ipynb\" target=\"_parent\"><img src=\"https://colab.research.google.com/assets/colab-badge.svg\" alt=\"Open In Colab\"/></a>"
      ]
    },
    {
      "cell_type": "markdown",
      "id": "0f96d08d-41f3-4df3-9fb4-f72c02d9fc70",
      "metadata": {
        "id": "0f96d08d-41f3-4df3-9fb4-f72c02d9fc70"
      },
      "source": [
        "<img src=\"https://prana-system.com/files/110/rds_color_full.png\" alt=\"tot image\" width=\"300\"  align=\"center\"/> &nbsp;&nbsp;&nbsp;&nbsp;&nbsp;&nbsp;&nbsp;&nbsp;\n",
        "<img src=\"https://mpei.ru/AboutUniverse/OficialInfo/Attributes/PublishingImages/logo1.jpg\" alt=\"mpei image\" width=\"200\" align=\"center\"/>\n",
        "<img src=\"https://mpei.ru/Structure/Universe/tanpe/structure/tfhe/PublishingImages/tot.png\" alt=\"tot image\" width=\"100\"  align=\"center\"/>\n",
        "\n",
        "---\n",
        "\n",
        "# **Системы машинного обучения и предиктивной аналитики в тепловой и возобновляемой энергетике**  \n",
        "\n",
        "# ***Практические занятия***\n",
        "\n",
        "\n",
        "---"
      ]
    },
    {
      "cell_type": "markdown",
      "id": "25324b74-d44c-4b21-8a6b-1b6328ef3cb5",
      "metadata": {
        "id": "25324b74-d44c-4b21-8a6b-1b6328ef3cb5"
      },
      "source": [
        "# Занятие №6\n",
        "# Многоклассовая классификация методами машинного обучения\n",
        "**26 марта 2025г.**"
      ]
    },
    {
      "cell_type": "code",
      "execution_count": null,
      "id": "15331e27-12d7-4f1b-bad4-a38fbf45fcec",
      "metadata": {
        "id": "15331e27-12d7-4f1b-bad4-a38fbf45fcec"
      },
      "outputs": [],
      "source": [
        "import numpy as np\n",
        "import pandas as pd\n",
        "\n",
        "from sklearn import preprocessing\n",
        "from sklearn.svm import SVC\n",
        "from sklearn.model_selection import cross_val_predict, StratifiedKFold\n",
        "from sklearn.metrics import confusion_matrix, precision_score, recall_score, f1_score, ConfusionMatrixDisplay\n",
        "from sklearn.ensemble import RandomForestClassifier\n",
        "from sklearn.metrics import accuracy_score, r2_score\n",
        "import matplotlib.pyplot as plt\n",
        "\n",
        "import ipywidgets as widgets\n",
        "from IPython.display import display, clear_output"
      ]
    },
    {
      "cell_type": "markdown",
      "id": "86d21341-5c95-4377-bbd3-5de4b51c5e23",
      "metadata": {
        "id": "86d21341-5c95-4377-bbd3-5de4b51c5e23"
      },
      "source": [
        "## Загрузка данных"
      ]
    },
    {
      "cell_type": "code",
      "execution_count": null,
      "id": "a85ef518-b378-4e66-baf2-a69bc17d2e99",
      "metadata": {
        "id": "a85ef518-b378-4e66-baf2-a69bc17d2e99",
        "outputId": "4e113daf-f869-47b8-cb78-65406a66dded"
      },
      "outputs": [
        {
          "name": "stderr",
          "output_type": "stream",
          "text": [
            "Downloading...\n",
            "From (original): https://drive.google.com/uc?id=1j54o4pHTm3HvaYTEtv_i4hOJGy5yNeZZ\n",
            "From (redirected): https://drive.google.com/uc?id=1j54o4pHTm3HvaYTEtv_i4hOJGy5yNeZZ&confirm=t&uuid=d66b2c1e-56b7-455c-971a-f6e3ddc554e1\n",
            "To: G:\\Мой диск\\SMOPA\\data_modes.gzip\n",
            "100%|███████████████████████████████████████████████████████████████████████████████| 173M/173M [01:17<00:00, 2.22MB/s]\n"
          ]
        }
      ],
      "source": [
        "import gdown\n",
        "import warnings\n",
        "warnings.filterwarnings('ignore')\n",
        "gdown.download('https://drive.google.com/uc?id=1j54o4pHTm3HvaYTEtv_i4hOJGy5yNeZZ', verify=False)\n",
        "\n",
        "data = pd.read_parquet(\"./data_modes.gzip\")"
      ]
    },
    {
      "cell_type": "code",
      "execution_count": null,
      "id": "7aadc7f0-2dc1-4e02-acbd-c449ec5859e8",
      "metadata": {
        "id": "7aadc7f0-2dc1-4e02-acbd-c449ec5859e8",
        "outputId": "0f6ec184-c010-4739-f983-36dc2b62b74b"
      },
      "outputs": [
        {
          "data": {
            "text/html": [
              "<div>\n",
              "<style scoped>\n",
              "    .dataframe tbody tr th:only-of-type {\n",
              "        vertical-align: middle;\n",
              "    }\n",
              "\n",
              "    .dataframe tbody tr th {\n",
              "        vertical-align: top;\n",
              "    }\n",
              "\n",
              "    .dataframe thead th {\n",
              "        text-align: right;\n",
              "    }\n",
              "</style>\n",
              "<table border=\"1\" class=\"dataframe\">\n",
              "  <thead>\n",
              "    <tr style=\"text-align: right;\">\n",
              "      <th></th>\n",
              "      <th>GTA1.DBinPU.Aldi</th>\n",
              "      <th>GTA1.DBinPU.Alvna</th>\n",
              "      <th>GTA1.DBinPU.Alzzo</th>\n",
              "      <th>GTA1.DBinPU.Bo</th>\n",
              "      <th>GTA1.DBinPU.DlPkf</th>\n",
              "      <th>GTA1.DBinPU.DlPtgft</th>\n",
              "      <th>GTA1.DBinPU.DlPvf</th>\n",
              "      <th>GTA1.DBinPU.fi</th>\n",
              "      <th>GTA1.DBinPU.hmGTD</th>\n",
              "      <th>GTA1.DBinPU.hmTG</th>\n",
              "      <th>...</th>\n",
              "      <th>heated_air</th>\n",
              "      <th>zzo_is_open</th>\n",
              "      <th>full_power_mode</th>\n",
              "      <th>partial_power_mode</th>\n",
              "      <th>increas_power_mode</th>\n",
              "      <th>decreas_power_mode</th>\n",
              "      <th>start_up_mode</th>\n",
              "      <th>shutdown_mode</th>\n",
              "      <th>stopped_state_mode</th>\n",
              "      <th>air_heating_mode</th>\n",
              "    </tr>\n",
              "  </thead>\n",
              "  <tbody>\n",
              "    <tr>\n",
              "      <th>2023-02-26 06:59:50</th>\n",
              "      <td>225.550000</td>\n",
              "      <td>-4.398000</td>\n",
              "      <td>-0.082000</td>\n",
              "      <td>101.044</td>\n",
              "      <td>113.088000</td>\n",
              "      <td>33.709000</td>\n",
              "      <td>0.200000</td>\n",
              "      <td>56.615000</td>\n",
              "      <td>442.64</td>\n",
              "      <td>444.536</td>\n",
              "      <td>...</td>\n",
              "      <td>False</td>\n",
              "      <td>False</td>\n",
              "      <td>True</td>\n",
              "      <td>False</td>\n",
              "      <td>False</td>\n",
              "      <td>False</td>\n",
              "      <td>False</td>\n",
              "      <td>False</td>\n",
              "      <td>False</td>\n",
              "      <td>False</td>\n",
              "    </tr>\n",
              "    <tr>\n",
              "      <th>2023-02-26 07:00:00</th>\n",
              "      <td>225.610769</td>\n",
              "      <td>-4.327115</td>\n",
              "      <td>-0.089769</td>\n",
              "      <td>101.044</td>\n",
              "      <td>113.151231</td>\n",
              "      <td>33.709000</td>\n",
              "      <td>0.200000</td>\n",
              "      <td>56.615000</td>\n",
              "      <td>442.64</td>\n",
              "      <td>444.536</td>\n",
              "      <td>...</td>\n",
              "      <td>False</td>\n",
              "      <td>False</td>\n",
              "      <td>True</td>\n",
              "      <td>False</td>\n",
              "      <td>False</td>\n",
              "      <td>False</td>\n",
              "      <td>False</td>\n",
              "      <td>False</td>\n",
              "      <td>False</td>\n",
              "      <td>False</td>\n",
              "    </tr>\n",
              "    <tr>\n",
              "      <th>2023-02-26 07:00:10</th>\n",
              "      <td>225.436897</td>\n",
              "      <td>-4.363724</td>\n",
              "      <td>-0.091000</td>\n",
              "      <td>101.044</td>\n",
              "      <td>113.039759</td>\n",
              "      <td>33.633586</td>\n",
              "      <td>0.200207</td>\n",
              "      <td>56.516103</td>\n",
              "      <td>442.64</td>\n",
              "      <td>444.536</td>\n",
              "      <td>...</td>\n",
              "      <td>False</td>\n",
              "      <td>False</td>\n",
              "      <td>True</td>\n",
              "      <td>False</td>\n",
              "      <td>False</td>\n",
              "      <td>False</td>\n",
              "      <td>False</td>\n",
              "      <td>False</td>\n",
              "      <td>False</td>\n",
              "      <td>False</td>\n",
              "    </tr>\n",
              "    <tr>\n",
              "      <th>2023-02-26 07:00:20</th>\n",
              "      <td>225.710833</td>\n",
              "      <td>-4.306625</td>\n",
              "      <td>-0.093000</td>\n",
              "      <td>101.044</td>\n",
              "      <td>113.053458</td>\n",
              "      <td>33.506500</td>\n",
              "      <td>0.200750</td>\n",
              "      <td>56.376000</td>\n",
              "      <td>442.64</td>\n",
              "      <td>444.536</td>\n",
              "      <td>...</td>\n",
              "      <td>False</td>\n",
              "      <td>False</td>\n",
              "      <td>True</td>\n",
              "      <td>False</td>\n",
              "      <td>False</td>\n",
              "      <td>False</td>\n",
              "      <td>False</td>\n",
              "      <td>False</td>\n",
              "      <td>False</td>\n",
              "      <td>False</td>\n",
              "    </tr>\n",
              "    <tr>\n",
              "      <th>2023-02-26 07:00:30</th>\n",
              "      <td>226.355000</td>\n",
              "      <td>-4.183118</td>\n",
              "      <td>-0.091500</td>\n",
              "      <td>101.044</td>\n",
              "      <td>113.730941</td>\n",
              "      <td>33.818529</td>\n",
              "      <td>0.200000</td>\n",
              "      <td>56.199353</td>\n",
              "      <td>442.64</td>\n",
              "      <td>444.536</td>\n",
              "      <td>...</td>\n",
              "      <td>False</td>\n",
              "      <td>False</td>\n",
              "      <td>True</td>\n",
              "      <td>False</td>\n",
              "      <td>False</td>\n",
              "      <td>False</td>\n",
              "      <td>False</td>\n",
              "      <td>False</td>\n",
              "      <td>False</td>\n",
              "      <td>False</td>\n",
              "    </tr>\n",
              "  </tbody>\n",
              "</table>\n",
              "<p>5 rows × 56 columns</p>\n",
              "</div>"
            ],
            "text/plain": [
              "                     GTA1.DBinPU.Aldi  GTA1.DBinPU.Alvna  GTA1.DBinPU.Alzzo  \\\n",
              "2023-02-26 06:59:50        225.550000          -4.398000          -0.082000   \n",
              "2023-02-26 07:00:00        225.610769          -4.327115          -0.089769   \n",
              "2023-02-26 07:00:10        225.436897          -4.363724          -0.091000   \n",
              "2023-02-26 07:00:20        225.710833          -4.306625          -0.093000   \n",
              "2023-02-26 07:00:30        226.355000          -4.183118          -0.091500   \n",
              "\n",
              "                     GTA1.DBinPU.Bo  GTA1.DBinPU.DlPkf  GTA1.DBinPU.DlPtgft  \\\n",
              "2023-02-26 06:59:50         101.044         113.088000            33.709000   \n",
              "2023-02-26 07:00:00         101.044         113.151231            33.709000   \n",
              "2023-02-26 07:00:10         101.044         113.039759            33.633586   \n",
              "2023-02-26 07:00:20         101.044         113.053458            33.506500   \n",
              "2023-02-26 07:00:30         101.044         113.730941            33.818529   \n",
              "\n",
              "                     GTA1.DBinPU.DlPvf  GTA1.DBinPU.fi  GTA1.DBinPU.hmGTD  \\\n",
              "2023-02-26 06:59:50           0.200000       56.615000             442.64   \n",
              "2023-02-26 07:00:00           0.200000       56.615000             442.64   \n",
              "2023-02-26 07:00:10           0.200207       56.516103             442.64   \n",
              "2023-02-26 07:00:20           0.200750       56.376000             442.64   \n",
              "2023-02-26 07:00:30           0.200000       56.199353             442.64   \n",
              "\n",
              "                     GTA1.DBinPU.hmTG  ...  heated_air  zzo_is_open  \\\n",
              "2023-02-26 06:59:50           444.536  ...       False        False   \n",
              "2023-02-26 07:00:00           444.536  ...       False        False   \n",
              "2023-02-26 07:00:10           444.536  ...       False        False   \n",
              "2023-02-26 07:00:20           444.536  ...       False        False   \n",
              "2023-02-26 07:00:30           444.536  ...       False        False   \n",
              "\n",
              "                     full_power_mode  partial_power_mode  increas_power_mode  \\\n",
              "2023-02-26 06:59:50             True               False               False   \n",
              "2023-02-26 07:00:00             True               False               False   \n",
              "2023-02-26 07:00:10             True               False               False   \n",
              "2023-02-26 07:00:20             True               False               False   \n",
              "2023-02-26 07:00:30             True               False               False   \n",
              "\n",
              "                     decreas_power_mode  start_up_mode  shutdown_mode  \\\n",
              "2023-02-26 06:59:50               False          False          False   \n",
              "2023-02-26 07:00:00               False          False          False   \n",
              "2023-02-26 07:00:10               False          False          False   \n",
              "2023-02-26 07:00:20               False          False          False   \n",
              "2023-02-26 07:00:30               False          False          False   \n",
              "\n",
              "                     stopped_state_mode  air_heating_mode  \n",
              "2023-02-26 06:59:50               False             False  \n",
              "2023-02-26 07:00:00               False             False  \n",
              "2023-02-26 07:00:10               False             False  \n",
              "2023-02-26 07:00:20               False             False  \n",
              "2023-02-26 07:00:30               False             False  \n",
              "\n",
              "[5 rows x 56 columns]"
            ]
          },
          "execution_count": 8,
          "metadata": {},
          "output_type": "execute_result"
        }
      ],
      "source": [
        "data.head()"
      ]
    },
    {
      "cell_type": "markdown",
      "id": "75997f5c-fe78-4d8a-8be2-214df6ba20ca",
      "metadata": {
        "id": "75997f5c-fe78-4d8a-8be2-214df6ba20ca"
      },
      "source": [
        "## Сформируем датасет для решения задачи многоклассовой классификации"
      ]
    },
    {
      "cell_type": "markdown",
      "id": "15e40652-8c06-4ced-b329-9a20765d22c8",
      "metadata": {
        "id": "15e40652-8c06-4ced-b329-9a20765d22c8"
      },
      "source": [
        "Сформируем отдельный целевой признак"
      ]
    },
    {
      "cell_type": "code",
      "execution_count": null,
      "id": "4890b13e-b23a-4462-b9dd-0327d017fb58",
      "metadata": {
        "id": "4890b13e-b23a-4462-b9dd-0327d017fb58"
      },
      "outputs": [],
      "source": [
        "data['target'] = data[['full_power_mode', 'partial_power_mode',\n",
        "       'increas_power_mode', 'decreas_power_mode', 'start_up_mode',\n",
        "       'shutdown_mode', 'stopped_state_mode']].idxmax(axis=1)"
      ]
    },
    {
      "cell_type": "code",
      "execution_count": null,
      "id": "937b6d62-5e7d-4f87-815a-7dd1b9a55078",
      "metadata": {
        "id": "937b6d62-5e7d-4f87-815a-7dd1b9a55078"
      },
      "outputs": [],
      "source": [
        "shuffled_data = data.sample(frac=1)"
      ]
    },
    {
      "cell_type": "code",
      "execution_count": null,
      "id": "caaceebb-a6c0-41f2-bd52-f0654bb40cd0",
      "metadata": {
        "id": "caaceebb-a6c0-41f2-bd52-f0654bb40cd0",
        "outputId": "0b593350-f650-49cb-bcc9-2e028ec056b5"
      },
      "outputs": [
        {
          "data": {
            "text/plain": [
              "target\n",
              "full_power_mode       1045103\n",
              "stopped_state_mode      26614\n",
              "partial_power_mode       9547\n",
              "shutdown_mode             347\n",
              "start_up_mode             275\n",
              "increas_power_mode        109\n",
              "decreas_power_mode        103\n",
              "Name: count, dtype: int64"
            ]
          },
          "execution_count": 12,
          "metadata": {},
          "output_type": "execute_result"
        }
      ],
      "source": [
        "shuffled_data['target'].value_counts()"
      ]
    },
    {
      "cell_type": "markdown",
      "id": "22310e1b-3ceb-4702-a023-c036a96aa112",
      "metadata": {
        "id": "22310e1b-3ceb-4702-a023-c036a96aa112"
      },
      "source": [
        "Видно, что датасет сильно не сбалансирова, попробуем его немного выровнять путем сокращения данных по наиболее часто встречающимся режимам"
      ]
    },
    {
      "cell_type": "code",
      "execution_count": null,
      "id": "ff02fa27-4a4a-4d1b-b473-5f0d86d3d321",
      "metadata": {
        "id": "ff02fa27-4a4a-4d1b-b473-5f0d86d3d321"
      },
      "outputs": [],
      "source": [
        "shuffled_data.drop(shuffled_data[shuffled_data['target'] == 'full_power_mode'].iloc[600:, :].index.tolist(), inplace=True)\n",
        "shuffled_data.drop(shuffled_data[shuffled_data['target'] == 'stopped_state_mode'].iloc[600:, :].index.tolist(), inplace=True)\n",
        "shuffled_data.drop(shuffled_data[shuffled_data['target'] == 'partial_power_mode'].iloc[600:, :].index.tolist(), inplace=True)"
      ]
    },
    {
      "cell_type": "code",
      "execution_count": null,
      "id": "8c134d58-7d58-4f37-9ee3-25bdce0fb4e4",
      "metadata": {
        "id": "8c134d58-7d58-4f37-9ee3-25bdce0fb4e4",
        "outputId": "c186387a-65b3-49f5-dd22-16abd9ccecfb"
      },
      "outputs": [
        {
          "data": {
            "text/plain": [
              "target\n",
              "full_power_mode       600\n",
              "stopped_state_mode    600\n",
              "partial_power_mode    600\n",
              "shutdown_mode         347\n",
              "start_up_mode         275\n",
              "increas_power_mode    109\n",
              "decreas_power_mode    103\n",
              "Name: count, dtype: int64"
            ]
          },
          "execution_count": 14,
          "metadata": {},
          "output_type": "execute_result"
        }
      ],
      "source": [
        "shuffled_data['target'].value_counts()"
      ]
    },
    {
      "cell_type": "markdown",
      "id": "2692291f-5a33-4395-b7dc-50fc74f89c7e",
      "metadata": {
        "id": "2692291f-5a33-4395-b7dc-50fc74f89c7e"
      },
      "source": [
        "Исключим из датасета все признаки на основании которы мы на предыдущем занятии выделяли режимы"
      ]
    },
    {
      "cell_type": "code",
      "execution_count": null,
      "id": "62808f0b-2f20-4a7d-8ff1-c70cc6f00b7e",
      "metadata": {
        "id": "62808f0b-2f20-4a7d-8ff1-c70cc6f00b7e"
      },
      "outputs": [],
      "source": [
        "# used_signals = ['GTA1.DBinPU.ntk', 'GTA1.DBinPU.nst',\n",
        "#                 'GTA1.DBinPU.P', 'GTA1.DBinPU.Alvna',\n",
        "#                 'GTA1.DBinPU.Aldi']\n",
        "# prepered_data = shuffled_data.loc[:, ~shuffled_data.columns.isin(used_signals)]"
      ]
    },
    {
      "cell_type": "code",
      "execution_count": null,
      "id": "f25834ee-59cc-47da-933c-e3e51d3ac43a",
      "metadata": {
        "id": "f25834ee-59cc-47da-933c-e3e51d3ac43a",
        "outputId": "a977b077-b549-4900-94be-f475e3ee0411"
      },
      "outputs": [
        {
          "data": {
            "text/plain": [
              "(2416, 50)"
            ]
          },
          "execution_count": 10,
          "metadata": {},
          "output_type": "execute_result"
        }
      ],
      "source": [
        "# prepered_data.shape"
      ]
    },
    {
      "cell_type": "markdown",
      "id": "87b16017-15fb-459f-9600-947e8a1c9c17",
      "metadata": {
        "id": "87b16017-15fb-459f-9600-947e8a1c9c17"
      },
      "source": [
        "Выберем сигналы которые будем использовать. Исключим все признаки на основании которых мы на предыдущем занятии выделяли целевые режимы."
      ]
    },
    {
      "cell_type": "code",
      "execution_count": null,
      "id": "e47a6368-43f2-47b5-8981-79d18614a896",
      "metadata": {
        "id": "e47a6368-43f2-47b5-8981-79d18614a896"
      },
      "outputs": [],
      "source": [
        "use_columns = ['GTA1.DBinPU.Alzzo', 'GTA1.DBinPU.Bo', 'GTA1.DBinPU.DlPkf',\n",
        "               'GTA1.DBinPU.DlPtgft', 'GTA1.DBinPU.DlPvf', 'GTA1.DBinPU.fi',\n",
        "               'GTA1.DBinPU.hmGTD', 'GTA1.DBinPU.hmTG', 'GTA1.DBinPU.P1mvhTG',\n",
        "               'GTA1.DBinPU.Pk', 'GTA1.DBinPU.Pmvh', 'GTA1.DBinPU.PmvhMOGTD',\n",
        "               'GTA1.DBinPU.PmvhMOTG', 'GTA1.DBinPU.PmvyhMOGTD',\n",
        "               'GTA1.DBinPU.PmvyhMOTG', 'GTA1.DBinPU.Prazrjag_navhode',\n",
        "               'GTA1.DBinPU.Ptgpd', 'GTA1.DBinPU.Ptgvh', 'GTA1.DBinPU.Pvh',\n",
        "               'GTA1.DBinPU.Pvyhlg', 'GTA1.DBinPU.Qtg', 'GTA1.DBinPU.Tk',\n",
        "               'GTA1.DBinPU.Tn', 'GTA1.DBinPU.Tt', 'GTA1.DBinPU.Tvh1',\n",
        "               'GTA1.DBinPU.Pzad', 'target']\n",
        "\n",
        "prepered_data = shuffled_data.loc[:,use_columns]"
      ]
    },
    {
      "cell_type": "markdown",
      "id": "c8df7a84-74af-4b2d-9b9b-69434aab6963",
      "metadata": {
        "id": "c8df7a84-74af-4b2d-9b9b-69434aab6963"
      },
      "source": [
        "### Деление на обучающую и тестовую выборки"
      ]
    },
    {
      "cell_type": "code",
      "execution_count": null,
      "id": "7a0d807d-d0f7-42a0-9713-642c8f43b962",
      "metadata": {
        "id": "7a0d807d-d0f7-42a0-9713-642c8f43b962"
      },
      "outputs": [],
      "source": [
        "data_train = prepered_data.iloc[:, :].reset_index(drop=True)\n",
        "\n",
        "y_train = data_train.loc[:,['target']]\n",
        "X_train =  data_train.drop(columns=['target'])"
      ]
    },
    {
      "cell_type": "code",
      "execution_count": null,
      "id": "10b5d46b-e925-493d-b230-ec0980d1be2d",
      "metadata": {
        "id": "10b5d46b-e925-493d-b230-ec0980d1be2d",
        "outputId": "9cc9eb65-9d56-4d0e-834a-0fb4df1c12f8"
      },
      "outputs": [
        {
          "data": {
            "text/html": [
              "<div>\n",
              "<style scoped>\n",
              "    .dataframe tbody tr th:only-of-type {\n",
              "        vertical-align: middle;\n",
              "    }\n",
              "\n",
              "    .dataframe tbody tr th {\n",
              "        vertical-align: top;\n",
              "    }\n",
              "\n",
              "    .dataframe thead th {\n",
              "        text-align: right;\n",
              "    }\n",
              "</style>\n",
              "<table border=\"1\" class=\"dataframe\">\n",
              "  <thead>\n",
              "    <tr style=\"text-align: right;\">\n",
              "      <th></th>\n",
              "      <th>GTA1.DBinPU.Alzzo</th>\n",
              "      <th>GTA1.DBinPU.Bo</th>\n",
              "      <th>GTA1.DBinPU.DlPkf</th>\n",
              "      <th>GTA1.DBinPU.DlPtgft</th>\n",
              "      <th>GTA1.DBinPU.DlPvf</th>\n",
              "      <th>GTA1.DBinPU.fi</th>\n",
              "      <th>GTA1.DBinPU.hmGTD</th>\n",
              "      <th>GTA1.DBinPU.hmTG</th>\n",
              "      <th>GTA1.DBinPU.P1mvhTG</th>\n",
              "      <th>GTA1.DBinPU.Pk</th>\n",
              "      <th>...</th>\n",
              "      <th>GTA1.DBinPU.Ptgpd</th>\n",
              "      <th>GTA1.DBinPU.Ptgvh</th>\n",
              "      <th>GTA1.DBinPU.Pvh</th>\n",
              "      <th>GTA1.DBinPU.Pvyhlg</th>\n",
              "      <th>GTA1.DBinPU.Qtg</th>\n",
              "      <th>GTA1.DBinPU.Tk</th>\n",
              "      <th>GTA1.DBinPU.Tn</th>\n",
              "      <th>GTA1.DBinPU.Tt</th>\n",
              "      <th>GTA1.DBinPU.Tvh1</th>\n",
              "      <th>GTA1.DBinPU.Pzad</th>\n",
              "    </tr>\n",
              "  </thead>\n",
              "  <tbody>\n",
              "    <tr>\n",
              "      <th>0</th>\n",
              "      <td>0.088976</td>\n",
              "      <td>98.897610</td>\n",
              "      <td>166.299823</td>\n",
              "      <td>48.655220</td>\n",
              "      <td>0.221183</td>\n",
              "      <td>31.494817</td>\n",
              "      <td>458.721</td>\n",
              "      <td>459.693957</td>\n",
              "      <td>43.340354</td>\n",
              "      <td>0.801890</td>\n",
              "      <td>...</td>\n",
              "      <td>1.755317</td>\n",
              "      <td>1.875622</td>\n",
              "      <td>89.215366</td>\n",
              "      <td>2.283488</td>\n",
              "      <td>2245.200549</td>\n",
              "      <td>313.837195</td>\n",
              "      <td>19.470726</td>\n",
              "      <td>485.178963</td>\n",
              "      <td>18.982415</td>\n",
              "      <td>5850.0</td>\n",
              "    </tr>\n",
              "    <tr>\n",
              "      <th>1</th>\n",
              "      <td>-0.065952</td>\n",
              "      <td>100.693000</td>\n",
              "      <td>116.442619</td>\n",
              "      <td>35.422000</td>\n",
              "      <td>0.200000</td>\n",
              "      <td>51.739000</td>\n",
              "      <td>419.112</td>\n",
              "      <td>423.091000</td>\n",
              "      <td>45.019000</td>\n",
              "      <td>0.817000</td>\n",
              "      <td>...</td>\n",
              "      <td>1.822000</td>\n",
              "      <td>1.912000</td>\n",
              "      <td>91.185000</td>\n",
              "      <td>0.661000</td>\n",
              "      <td>1843.220000</td>\n",
              "      <td>276.200000</td>\n",
              "      <td>-5.343000</td>\n",
              "      <td>436.450000</td>\n",
              "      <td>-6.598000</td>\n",
              "      <td>5850.0</td>\n",
              "    </tr>\n",
              "    <tr>\n",
              "      <th>2</th>\n",
              "      <td>0.103178</td>\n",
              "      <td>99.536870</td>\n",
              "      <td>125.163945</td>\n",
              "      <td>36.283863</td>\n",
              "      <td>0.233541</td>\n",
              "      <td>65.846836</td>\n",
              "      <td>474.322</td>\n",
              "      <td>466.056000</td>\n",
              "      <td>44.459829</td>\n",
              "      <td>0.803548</td>\n",
              "      <td>...</td>\n",
              "      <td>1.826356</td>\n",
              "      <td>1.919575</td>\n",
              "      <td>89.810911</td>\n",
              "      <td>2.239753</td>\n",
              "      <td>1823.263630</td>\n",
              "      <td>314.902055</td>\n",
              "      <td>20.331055</td>\n",
              "      <td>486.493836</td>\n",
              "      <td>20.464089</td>\n",
              "      <td>5850.0</td>\n",
              "    </tr>\n",
              "    <tr>\n",
              "      <th>3</th>\n",
              "      <td>0.073850</td>\n",
              "      <td>101.290157</td>\n",
              "      <td>118.835586</td>\n",
              "      <td>37.544264</td>\n",
              "      <td>0.216600</td>\n",
              "      <td>22.735164</td>\n",
              "      <td>481.657</td>\n",
              "      <td>472.596929</td>\n",
              "      <td>45.281850</td>\n",
              "      <td>0.814000</td>\n",
              "      <td>...</td>\n",
              "      <td>1.806636</td>\n",
              "      <td>1.902000</td>\n",
              "      <td>91.661700</td>\n",
              "      <td>2.331621</td>\n",
              "      <td>1810.141429</td>\n",
              "      <td>308.517143</td>\n",
              "      <td>18.756000</td>\n",
              "      <td>478.878571</td>\n",
              "      <td>18.093679</td>\n",
              "      <td>5850.0</td>\n",
              "    </tr>\n",
              "    <tr>\n",
              "      <th>4</th>\n",
              "      <td>-0.014722</td>\n",
              "      <td>100.849835</td>\n",
              "      <td>118.863095</td>\n",
              "      <td>35.810835</td>\n",
              "      <td>0.204943</td>\n",
              "      <td>26.860905</td>\n",
              "      <td>388.220</td>\n",
              "      <td>395.582120</td>\n",
              "      <td>45.313570</td>\n",
              "      <td>0.816918</td>\n",
              "      <td>...</td>\n",
              "      <td>1.825000</td>\n",
              "      <td>1.920297</td>\n",
              "      <td>91.399304</td>\n",
              "      <td>2.366316</td>\n",
              "      <td>1840.298861</td>\n",
              "      <td>294.442405</td>\n",
              "      <td>7.065437</td>\n",
              "      <td>466.712975</td>\n",
              "      <td>6.303025</td>\n",
              "      <td>5850.0</td>\n",
              "    </tr>\n",
              "  </tbody>\n",
              "</table>\n",
              "<p>5 rows × 26 columns</p>\n",
              "</div>"
            ],
            "text/plain": [
              "   GTA1.DBinPU.Alzzo  GTA1.DBinPU.Bo  GTA1.DBinPU.DlPkf  GTA1.DBinPU.DlPtgft  \\\n",
              "0           0.088976       98.897610         166.299823            48.655220   \n",
              "1          -0.065952      100.693000         116.442619            35.422000   \n",
              "2           0.103178       99.536870         125.163945            36.283863   \n",
              "3           0.073850      101.290157         118.835586            37.544264   \n",
              "4          -0.014722      100.849835         118.863095            35.810835   \n",
              "\n",
              "   GTA1.DBinPU.DlPvf  GTA1.DBinPU.fi  GTA1.DBinPU.hmGTD  GTA1.DBinPU.hmTG  \\\n",
              "0           0.221183       31.494817            458.721        459.693957   \n",
              "1           0.200000       51.739000            419.112        423.091000   \n",
              "2           0.233541       65.846836            474.322        466.056000   \n",
              "3           0.216600       22.735164            481.657        472.596929   \n",
              "4           0.204943       26.860905            388.220        395.582120   \n",
              "\n",
              "   GTA1.DBinPU.P1mvhTG  GTA1.DBinPU.Pk  ...  GTA1.DBinPU.Ptgpd  \\\n",
              "0            43.340354        0.801890  ...           1.755317   \n",
              "1            45.019000        0.817000  ...           1.822000   \n",
              "2            44.459829        0.803548  ...           1.826356   \n",
              "3            45.281850        0.814000  ...           1.806636   \n",
              "4            45.313570        0.816918  ...           1.825000   \n",
              "\n",
              "   GTA1.DBinPU.Ptgvh  GTA1.DBinPU.Pvh  GTA1.DBinPU.Pvyhlg  GTA1.DBinPU.Qtg  \\\n",
              "0           1.875622        89.215366            2.283488      2245.200549   \n",
              "1           1.912000        91.185000            0.661000      1843.220000   \n",
              "2           1.919575        89.810911            2.239753      1823.263630   \n",
              "3           1.902000        91.661700            2.331621      1810.141429   \n",
              "4           1.920297        91.399304            2.366316      1840.298861   \n",
              "\n",
              "   GTA1.DBinPU.Tk  GTA1.DBinPU.Tn  GTA1.DBinPU.Tt  GTA1.DBinPU.Tvh1  \\\n",
              "0      313.837195       19.470726      485.178963         18.982415   \n",
              "1      276.200000       -5.343000      436.450000         -6.598000   \n",
              "2      314.902055       20.331055      486.493836         20.464089   \n",
              "3      308.517143       18.756000      478.878571         18.093679   \n",
              "4      294.442405        7.065437      466.712975          6.303025   \n",
              "\n",
              "   GTA1.DBinPU.Pzad  \n",
              "0            5850.0  \n",
              "1            5850.0  \n",
              "2            5850.0  \n",
              "3            5850.0  \n",
              "4            5850.0  \n",
              "\n",
              "[5 rows x 26 columns]"
            ]
          },
          "execution_count": 140,
          "metadata": {},
          "output_type": "execute_result"
        }
      ],
      "source": [
        "X_train.head()"
      ]
    },
    {
      "cell_type": "markdown",
      "id": "bb99d9d0-5aa3-4a35-a8ef-e6d0b29dac77",
      "metadata": {
        "id": "bb99d9d0-5aa3-4a35-a8ef-e6d0b29dac77"
      },
      "source": [
        "### Нормализация или стандартизация данных"
      ]
    },
    {
      "cell_type": "code",
      "execution_count": null,
      "id": "05dc1079-7f28-4664-9e65-d61c6112e642",
      "metadata": {
        "id": "05dc1079-7f28-4664-9e65-d61c6112e642",
        "outputId": "dace3afc-6f3c-4dcc-cd58-0e21f7d6a0f7"
      },
      "outputs": [
        {
          "data": {
            "text/html": [
              "<div>\n",
              "<style scoped>\n",
              "    .dataframe tbody tr th:only-of-type {\n",
              "        vertical-align: middle;\n",
              "    }\n",
              "\n",
              "    .dataframe tbody tr th {\n",
              "        vertical-align: top;\n",
              "    }\n",
              "\n",
              "    .dataframe thead th {\n",
              "        text-align: right;\n",
              "    }\n",
              "</style>\n",
              "<table border=\"1\" class=\"dataframe\">\n",
              "  <thead>\n",
              "    <tr style=\"text-align: right;\">\n",
              "      <th></th>\n",
              "      <th>GTA1.DBinPU.Alzzo</th>\n",
              "      <th>GTA1.DBinPU.Bo</th>\n",
              "      <th>GTA1.DBinPU.DlPkf</th>\n",
              "      <th>GTA1.DBinPU.DlPtgft</th>\n",
              "      <th>GTA1.DBinPU.DlPvf</th>\n",
              "      <th>GTA1.DBinPU.fi</th>\n",
              "      <th>GTA1.DBinPU.hmGTD</th>\n",
              "      <th>GTA1.DBinPU.hmTG</th>\n",
              "      <th>GTA1.DBinPU.P1mvhTG</th>\n",
              "      <th>GTA1.DBinPU.Pk</th>\n",
              "      <th>...</th>\n",
              "      <th>GTA1.DBinPU.Ptgpd</th>\n",
              "      <th>GTA1.DBinPU.Ptgvh</th>\n",
              "      <th>GTA1.DBinPU.Pvh</th>\n",
              "      <th>GTA1.DBinPU.Pvyhlg</th>\n",
              "      <th>GTA1.DBinPU.Qtg</th>\n",
              "      <th>GTA1.DBinPU.Tk</th>\n",
              "      <th>GTA1.DBinPU.Tn</th>\n",
              "      <th>GTA1.DBinPU.Tt</th>\n",
              "      <th>GTA1.DBinPU.Tvh1</th>\n",
              "      <th>GTA1.DBinPU.Pzad</th>\n",
              "    </tr>\n",
              "  </thead>\n",
              "  <tbody>\n",
              "    <tr>\n",
              "      <th>count</th>\n",
              "      <td>2.634000e+03</td>\n",
              "      <td>2.634000e+03</td>\n",
              "      <td>2.634000e+03</td>\n",
              "      <td>2.634000e+03</td>\n",
              "      <td>2.634000e+03</td>\n",
              "      <td>2.634000e+03</td>\n",
              "      <td>2.634000e+03</td>\n",
              "      <td>2.634000e+03</td>\n",
              "      <td>2.634000e+03</td>\n",
              "      <td>2.634000e+03</td>\n",
              "      <td>...</td>\n",
              "      <td>2.634000e+03</td>\n",
              "      <td>2.634000e+03</td>\n",
              "      <td>2.634000e+03</td>\n",
              "      <td>2.634000e+03</td>\n",
              "      <td>2.634000e+03</td>\n",
              "      <td>2.634000e+03</td>\n",
              "      <td>2.634000e+03</td>\n",
              "      <td>2.634000e+03</td>\n",
              "      <td>2.634000e+03</td>\n",
              "      <td>2.634000e+03</td>\n",
              "    </tr>\n",
              "    <tr>\n",
              "      <th>mean</th>\n",
              "      <td>1.618548e-17</td>\n",
              "      <td>1.182619e-14</td>\n",
              "      <td>2.373871e-16</td>\n",
              "      <td>4.316129e-17</td>\n",
              "      <td>-1.079032e-16</td>\n",
              "      <td>1.402742e-16</td>\n",
              "      <td>1.278653e-15</td>\n",
              "      <td>-7.661129e-16</td>\n",
              "      <td>-2.805484e-16</td>\n",
              "      <td>1.079032e-16</td>\n",
              "      <td>...</td>\n",
              "      <td>1.079032e-17</td>\n",
              "      <td>-1.294839e-16</td>\n",
              "      <td>6.042581e-16</td>\n",
              "      <td>-1.079032e-17</td>\n",
              "      <td>3.237097e-17</td>\n",
              "      <td>2.158064e-17</td>\n",
              "      <td>-6.474193e-17</td>\n",
              "      <td>6.474193e-17</td>\n",
              "      <td>-1.079032e-16</td>\n",
              "      <td>-6.474193e-17</td>\n",
              "    </tr>\n",
              "    <tr>\n",
              "      <th>std</th>\n",
              "      <td>1.000190e+00</td>\n",
              "      <td>1.000190e+00</td>\n",
              "      <td>1.000190e+00</td>\n",
              "      <td>1.000190e+00</td>\n",
              "      <td>1.000190e+00</td>\n",
              "      <td>1.000190e+00</td>\n",
              "      <td>1.000190e+00</td>\n",
              "      <td>1.000190e+00</td>\n",
              "      <td>1.000190e+00</td>\n",
              "      <td>1.000190e+00</td>\n",
              "      <td>...</td>\n",
              "      <td>1.000190e+00</td>\n",
              "      <td>1.000190e+00</td>\n",
              "      <td>1.000190e+00</td>\n",
              "      <td>1.000190e+00</td>\n",
              "      <td>1.000190e+00</td>\n",
              "      <td>1.000190e+00</td>\n",
              "      <td>1.000190e+00</td>\n",
              "      <td>1.000190e+00</td>\n",
              "      <td>1.000190e+00</td>\n",
              "      <td>1.000190e+00</td>\n",
              "    </tr>\n",
              "    <tr>\n",
              "      <th>min</th>\n",
              "      <td>-1.726360e-01</td>\n",
              "      <td>-3.470233e+00</td>\n",
              "      <td>-1.135012e+00</td>\n",
              "      <td>-1.146167e+00</td>\n",
              "      <td>-1.129967e+00</td>\n",
              "      <td>-1.823652e+00</td>\n",
              "      <td>-1.403247e+00</td>\n",
              "      <td>-1.563028e+00</td>\n",
              "      <td>-1.902613e+00</td>\n",
              "      <td>-1.115309e+00</td>\n",
              "      <td>...</td>\n",
              "      <td>-1.276858e+00</td>\n",
              "      <td>-1.341018e+00</td>\n",
              "      <td>-1.950002e+00</td>\n",
              "      <td>-1.007649e+00</td>\n",
              "      <td>-1.121369e+00</td>\n",
              "      <td>-1.219019e+00</td>\n",
              "      <td>-3.211005e+00</td>\n",
              "      <td>-1.345314e+00</td>\n",
              "      <td>-3.573440e+00</td>\n",
              "      <td>-1.036910e+00</td>\n",
              "    </tr>\n",
              "    <tr>\n",
              "      <th>25%</th>\n",
              "      <td>-1.629784e-01</td>\n",
              "      <td>-7.649348e-01</td>\n",
              "      <td>-1.110155e+00</td>\n",
              "      <td>-1.049917e+00</td>\n",
              "      <td>-1.099016e+00</td>\n",
              "      <td>-8.741541e-01</td>\n",
              "      <td>-1.038893e+00</td>\n",
              "      <td>-7.692991e-01</td>\n",
              "      <td>1.734817e-01</td>\n",
              "      <td>-1.109069e+00</td>\n",
              "      <td>...</td>\n",
              "      <td>-1.273439e+00</td>\n",
              "      <td>-1.338735e+00</td>\n",
              "      <td>-1.045576e+00</td>\n",
              "      <td>-9.144037e-01</td>\n",
              "      <td>-1.121307e+00</td>\n",
              "      <td>-1.172414e+00</td>\n",
              "      <td>-6.777497e-01</td>\n",
              "      <td>-1.315402e+00</td>\n",
              "      <td>-5.536304e-01</td>\n",
              "      <td>-1.036910e+00</td>\n",
              "    </tr>\n",
              "    <tr>\n",
              "      <th>50%</th>\n",
              "      <td>-1.596997e-01</td>\n",
              "      <td>2.563228e-01</td>\n",
              "      <td>6.973047e-02</td>\n",
              "      <td>-7.338727e-02</td>\n",
              "      <td>2.189579e-01</td>\n",
              "      <td>-1.957790e-01</td>\n",
              "      <td>-1.478057e-01</td>\n",
              "      <td>5.898848e-02</td>\n",
              "      <td>5.074863e-01</td>\n",
              "      <td>3.518769e-01</td>\n",
              "      <td>...</td>\n",
              "      <td>7.131038e-01</td>\n",
              "      <td>7.089467e-01</td>\n",
              "      <td>2.792567e-02</td>\n",
              "      <td>-4.420536e-01</td>\n",
              "      <td>2.840005e-01</td>\n",
              "      <td>5.728735e-01</td>\n",
              "      <td>-5.810178e-02</td>\n",
              "      <td>5.835001e-01</td>\n",
              "      <td>-5.337518e-02</td>\n",
              "      <td>7.842354e-02</td>\n",
              "    </tr>\n",
              "    <tr>\n",
              "      <th>75%</th>\n",
              "      <td>-1.564628e-01</td>\n",
              "      <td>7.339399e-01</td>\n",
              "      <td>9.471540e-01</td>\n",
              "      <td>1.018660e+00</td>\n",
              "      <td>9.750215e-01</td>\n",
              "      <td>6.849090e-01</td>\n",
              "      <td>5.738493e-01</td>\n",
              "      <td>4.622368e-01</td>\n",
              "      <td>6.033969e-01</td>\n",
              "      <td>1.051771e+00</td>\n",
              "      <td>...</td>\n",
              "      <td>7.732887e-01</td>\n",
              "      <td>7.551970e-01</td>\n",
              "      <td>1.054741e+00</td>\n",
              "      <td>1.165614e+00</td>\n",
              "      <td>9.952384e-01</td>\n",
              "      <td>9.396049e-01</td>\n",
              "      <td>6.919261e-01</td>\n",
              "      <td>8.275112e-01</td>\n",
              "      <td>8.357963e-01</td>\n",
              "      <td>1.136953e+00</td>\n",
              "    </tr>\n",
              "    <tr>\n",
              "      <th>max</th>\n",
              "      <td>6.639898e+00</td>\n",
              "      <td>2.882629e+00</td>\n",
              "      <td>1.736850e+00</td>\n",
              "      <td>4.093414e+00</td>\n",
              "      <td>1.567700e+00</td>\n",
              "      <td>2.321527e+00</td>\n",
              "      <td>2.506252e+00</td>\n",
              "      <td>2.270199e+00</td>\n",
              "      <td>1.002223e+00</td>\n",
              "      <td>1.174726e+00</td>\n",
              "      <td>...</td>\n",
              "      <td>9.800960e-01</td>\n",
              "      <td>9.201976e-01</td>\n",
              "      <td>1.213767e+00</td>\n",
              "      <td>1.721954e+00</td>\n",
              "      <td>1.493455e+00</td>\n",
              "      <td>1.291318e+00</td>\n",
              "      <td>2.348531e+00</td>\n",
              "      <td>1.324712e+00</td>\n",
              "      <td>2.292033e+00</td>\n",
              "      <td>1.194309e+00</td>\n",
              "    </tr>\n",
              "  </tbody>\n",
              "</table>\n",
              "<p>8 rows × 26 columns</p>\n",
              "</div>"
            ],
            "text/plain": [
              "       GTA1.DBinPU.Alzzo  GTA1.DBinPU.Bo  GTA1.DBinPU.DlPkf  \\\n",
              "count       2.634000e+03    2.634000e+03       2.634000e+03   \n",
              "mean        1.618548e-17    1.182619e-14       2.373871e-16   \n",
              "std         1.000190e+00    1.000190e+00       1.000190e+00   \n",
              "min        -1.726360e-01   -3.470233e+00      -1.135012e+00   \n",
              "25%        -1.629784e-01   -7.649348e-01      -1.110155e+00   \n",
              "50%        -1.596997e-01    2.563228e-01       6.973047e-02   \n",
              "75%        -1.564628e-01    7.339399e-01       9.471540e-01   \n",
              "max         6.639898e+00    2.882629e+00       1.736850e+00   \n",
              "\n",
              "       GTA1.DBinPU.DlPtgft  GTA1.DBinPU.DlPvf  GTA1.DBinPU.fi  \\\n",
              "count         2.634000e+03       2.634000e+03    2.634000e+03   \n",
              "mean          4.316129e-17      -1.079032e-16    1.402742e-16   \n",
              "std           1.000190e+00       1.000190e+00    1.000190e+00   \n",
              "min          -1.146167e+00      -1.129967e+00   -1.823652e+00   \n",
              "25%          -1.049917e+00      -1.099016e+00   -8.741541e-01   \n",
              "50%          -7.338727e-02       2.189579e-01   -1.957790e-01   \n",
              "75%           1.018660e+00       9.750215e-01    6.849090e-01   \n",
              "max           4.093414e+00       1.567700e+00    2.321527e+00   \n",
              "\n",
              "       GTA1.DBinPU.hmGTD  GTA1.DBinPU.hmTG  GTA1.DBinPU.P1mvhTG  \\\n",
              "count       2.634000e+03      2.634000e+03         2.634000e+03   \n",
              "mean        1.278653e-15     -7.661129e-16        -2.805484e-16   \n",
              "std         1.000190e+00      1.000190e+00         1.000190e+00   \n",
              "min        -1.403247e+00     -1.563028e+00        -1.902613e+00   \n",
              "25%        -1.038893e+00     -7.692991e-01         1.734817e-01   \n",
              "50%        -1.478057e-01      5.898848e-02         5.074863e-01   \n",
              "75%         5.738493e-01      4.622368e-01         6.033969e-01   \n",
              "max         2.506252e+00      2.270199e+00         1.002223e+00   \n",
              "\n",
              "       GTA1.DBinPU.Pk  ...  GTA1.DBinPU.Ptgpd  GTA1.DBinPU.Ptgvh  \\\n",
              "count    2.634000e+03  ...       2.634000e+03       2.634000e+03   \n",
              "mean     1.079032e-16  ...       1.079032e-17      -1.294839e-16   \n",
              "std      1.000190e+00  ...       1.000190e+00       1.000190e+00   \n",
              "min     -1.115309e+00  ...      -1.276858e+00      -1.341018e+00   \n",
              "25%     -1.109069e+00  ...      -1.273439e+00      -1.338735e+00   \n",
              "50%      3.518769e-01  ...       7.131038e-01       7.089467e-01   \n",
              "75%      1.051771e+00  ...       7.732887e-01       7.551970e-01   \n",
              "max      1.174726e+00  ...       9.800960e-01       9.201976e-01   \n",
              "\n",
              "       GTA1.DBinPU.Pvh  GTA1.DBinPU.Pvyhlg  GTA1.DBinPU.Qtg  GTA1.DBinPU.Tk  \\\n",
              "count     2.634000e+03        2.634000e+03     2.634000e+03    2.634000e+03   \n",
              "mean      6.042581e-16       -1.079032e-17     3.237097e-17    2.158064e-17   \n",
              "std       1.000190e+00        1.000190e+00     1.000190e+00    1.000190e+00   \n",
              "min      -1.950002e+00       -1.007649e+00    -1.121369e+00   -1.219019e+00   \n",
              "25%      -1.045576e+00       -9.144037e-01    -1.121307e+00   -1.172414e+00   \n",
              "50%       2.792567e-02       -4.420536e-01     2.840005e-01    5.728735e-01   \n",
              "75%       1.054741e+00        1.165614e+00     9.952384e-01    9.396049e-01   \n",
              "max       1.213767e+00        1.721954e+00     1.493455e+00    1.291318e+00   \n",
              "\n",
              "       GTA1.DBinPU.Tn  GTA1.DBinPU.Tt  GTA1.DBinPU.Tvh1  GTA1.DBinPU.Pzad  \n",
              "count    2.634000e+03    2.634000e+03      2.634000e+03      2.634000e+03  \n",
              "mean    -6.474193e-17    6.474193e-17     -1.079032e-16     -6.474193e-17  \n",
              "std      1.000190e+00    1.000190e+00      1.000190e+00      1.000190e+00  \n",
              "min     -3.211005e+00   -1.345314e+00     -3.573440e+00     -1.036910e+00  \n",
              "25%     -6.777497e-01   -1.315402e+00     -5.536304e-01     -1.036910e+00  \n",
              "50%     -5.810178e-02    5.835001e-01     -5.337518e-02      7.842354e-02  \n",
              "75%      6.919261e-01    8.275112e-01      8.357963e-01      1.136953e+00  \n",
              "max      2.348531e+00    1.324712e+00      2.292033e+00      1.194309e+00  \n",
              "\n",
              "[8 rows x 26 columns]"
            ]
          },
          "execution_count": 141,
          "metadata": {},
          "output_type": "execute_result"
        }
      ],
      "source": [
        "# scaler = preprocessing.MinMaxScaler() # нормализация данных\n",
        "scaler = preprocessing.StandardScaler() # стандартизация данных\n",
        "\n",
        "X_train = pd.DataFrame(\n",
        "    scaler.fit_transform(X_train),\n",
        "    columns=X_train.columns,\n",
        "    index=X_train.index)\n",
        "\n",
        "X_train.describe()"
      ]
    },
    {
      "cell_type": "markdown",
      "id": "e51480fb-842e-4de7-8237-6042a2c2dbb0",
      "metadata": {
        "id": "e51480fb-842e-4de7-8237-6042a2c2dbb0"
      },
      "source": [
        "Инициализируем переменные для дальнейшего сравнения моделей"
      ]
    },
    {
      "cell_type": "code",
      "execution_count": null,
      "id": "680b3ffd-404a-442a-90dc-d1421dd3f2f3",
      "metadata": {
        "id": "680b3ffd-404a-442a-90dc-d1421dd3f2f3"
      },
      "outputs": [],
      "source": [
        "accuracy_classifier = {}\n",
        "precision_classifier = {}\n",
        "recall_classifier = {}\n",
        "f1_classifier = {}"
      ]
    },
    {
      "cell_type": "markdown",
      "id": "3f312a0b-ca03-4d86-9d35-cdab40389065",
      "metadata": {
        "id": "3f312a0b-ca03-4d86-9d35-cdab40389065"
      },
      "source": [
        "Вот исправленный и дополненный вариант текста:  \n",
        "\n",
        "---\n",
        "\n",
        "Метод опорных векторов изначально предназначен для бинарной классификации, однако существуют способы адаптации его для решения задач многоклассовой классификации.  \n",
        "\n",
        "Один из таких подходов — стратегия **\"один против всех\"** (*one-versus-all*, OvA), также известная как **\"один против остальных\"** (*one-versus-the-rest*). В этом случае обучается $N$ бинарных классификаторов, по одному для каждого класса. Во время предсказания выбирается класс с наивысшим значением функции принятия решения.  \n",
        "\n",
        "Другой подход — **\"один против одного\"** (*one-versus-one*, OvO), при котором для каждой пары классов обучается отдельный бинарный классификатор. Таким образом, для $N$ классов требуется обучить $\\frac{N(N - 1)}{2}$ классификаторов. Преимущество этого метода в том, что каждый классификатор тренируется только на подмножестве данных, относящихся к двум соответствующим классам.  \n",
        "\n",
        "Метод опорных векторов плохо масштабируется при увеличении объема обучающего набора, поэтому стратегия **OvO часто предпочтительнее**: проще и быстрее обучить множество небольших классификаторов, чем несколько моделей, использующих полный набор данных. Однако для большинства бинарных алгоритмов стратегия **OvA является более естественной**, поскольку в ней каждая модель учитывает все данные и их принадлежность к конкретному классу.  \n",
        "\n",
        "### Рекомендации по выбору стратегии:\n",
        "- **OvO**  \n",
        "  - Лучше для моделей, плохо масштабируемых с ростом данных (например, SVM с нелинейными ядрами).  \n",
        "  - Эффективна при **большом количестве классов**, так как каждый классификатор использует только малую часть данных.  \n",
        "  - Может быть избыточна при небольшом числе классов.  \n",
        "\n",
        "- **OvR**  \n",
        "  - Подходит, если алгоритм **хорошо масштабируется** с данными (например, `LogisticRegression`, `RandomForest`).  \n",
        "  - Применяется, когда **классов немного**, чтобы избежать чрезмерного количества моделей.  \n",
        "  - Может работать лучше, если один класс является **доминирующим** (например, задачи выявления аномалий).  \n",
        "\n",
        "Выбор стратегии зависит от конкретных данных и требований к модели. Если данных много и используется метод SVM, чаще всего предпочтительнее OvO. Если же данных не так много или алгоритм легко масштабируется, стоит попробовать OvA."
      ]
    },
    {
      "cell_type": "code",
      "execution_count": null,
      "id": "d85591d2-e765-4f7d-9aae-905e56bef385",
      "metadata": {
        "id": "d85591d2-e765-4f7d-9aae-905e56bef385",
        "outputId": "b74d11fd-f4c0-4a33-daaf-6cc1699e7d9c",
        "colab": {
          "referenced_widgets": [
            "e7e2070a024c41aba9ccbc24616d3d6c"
          ]
        }
      },
      "outputs": [
        {
          "data": {
            "application/vnd.jupyter.widget-view+json": {
              "model_id": "e7e2070a024c41aba9ccbc24616d3d6c",
              "version_major": 2,
              "version_minor": 0
            },
            "text/plain": [
              "VBox(children=(Label(value='Тип ядра, который будет использоваться в алгоритме'), Dropdown(description='Kernel…"
            ]
          },
          "execution_count": 143,
          "metadata": {},
          "output_type": "execute_result"
        }
      ],
      "source": [
        "kernel = widgets.Dropdown(\n",
        "    options=['linear', 'poly', 'rbf', 'sigmoid'],\n",
        "    value='rbf',\n",
        "    description='Kernel:',\n",
        "    disabled=False,\n",
        ")\n",
        "\n",
        "strategy = widgets.Dropdown(\n",
        "    options=['ovo', 'ovr'],\n",
        "    value='ovr',\n",
        "    description='Strategy:',\n",
        "    disabled=False,\n",
        ")\n",
        "\n",
        "widgets.VBox([\n",
        "    widgets.Label('Тип ядра, который будет использоваться в алгоритме'),\n",
        "    kernel,\n",
        "    widgets.Label('Стратегия'),\n",
        "    strategy])"
      ]
    },
    {
      "cell_type": "code",
      "execution_count": null,
      "id": "92c40b5b-9738-4d87-97ed-e66564b3b649",
      "metadata": {
        "id": "92c40b5b-9738-4d87-97ed-e66564b3b649",
        "outputId": "5602296f-c02b-49b8-c4ef-3689ea33f78b"
      },
      "outputs": [
        {
          "data": {
            "text/html": [
              "<style>#sk-container-id-15 {\n",
              "  /* Definition of color scheme common for light and dark mode */\n",
              "  --sklearn-color-text: black;\n",
              "  --sklearn-color-line: gray;\n",
              "  /* Definition of color scheme for unfitted estimators */\n",
              "  --sklearn-color-unfitted-level-0: #fff5e6;\n",
              "  --sklearn-color-unfitted-level-1: #f6e4d2;\n",
              "  --sklearn-color-unfitted-level-2: #ffe0b3;\n",
              "  --sklearn-color-unfitted-level-3: chocolate;\n",
              "  /* Definition of color scheme for fitted estimators */\n",
              "  --sklearn-color-fitted-level-0: #f0f8ff;\n",
              "  --sklearn-color-fitted-level-1: #d4ebff;\n",
              "  --sklearn-color-fitted-level-2: #b3dbfd;\n",
              "  --sklearn-color-fitted-level-3: cornflowerblue;\n",
              "\n",
              "  /* Specific color for light theme */\n",
              "  --sklearn-color-text-on-default-background: var(--sg-text-color, var(--theme-code-foreground, var(--jp-content-font-color1, black)));\n",
              "  --sklearn-color-background: var(--sg-background-color, var(--theme-background, var(--jp-layout-color0, white)));\n",
              "  --sklearn-color-border-box: var(--sg-text-color, var(--theme-code-foreground, var(--jp-content-font-color1, black)));\n",
              "  --sklearn-color-icon: #696969;\n",
              "\n",
              "  @media (prefers-color-scheme: dark) {\n",
              "    /* Redefinition of color scheme for dark theme */\n",
              "    --sklearn-color-text-on-default-background: var(--sg-text-color, var(--theme-code-foreground, var(--jp-content-font-color1, white)));\n",
              "    --sklearn-color-background: var(--sg-background-color, var(--theme-background, var(--jp-layout-color0, #111)));\n",
              "    --sklearn-color-border-box: var(--sg-text-color, var(--theme-code-foreground, var(--jp-content-font-color1, white)));\n",
              "    --sklearn-color-icon: #878787;\n",
              "  }\n",
              "}\n",
              "\n",
              "#sk-container-id-15 {\n",
              "  color: var(--sklearn-color-text);\n",
              "}\n",
              "\n",
              "#sk-container-id-15 pre {\n",
              "  padding: 0;\n",
              "}\n",
              "\n",
              "#sk-container-id-15 input.sk-hidden--visually {\n",
              "  border: 0;\n",
              "  clip: rect(1px 1px 1px 1px);\n",
              "  clip: rect(1px, 1px, 1px, 1px);\n",
              "  height: 1px;\n",
              "  margin: -1px;\n",
              "  overflow: hidden;\n",
              "  padding: 0;\n",
              "  position: absolute;\n",
              "  width: 1px;\n",
              "}\n",
              "\n",
              "#sk-container-id-15 div.sk-dashed-wrapped {\n",
              "  border: 1px dashed var(--sklearn-color-line);\n",
              "  margin: 0 0.4em 0.5em 0.4em;\n",
              "  box-sizing: border-box;\n",
              "  padding-bottom: 0.4em;\n",
              "  background-color: var(--sklearn-color-background);\n",
              "}\n",
              "\n",
              "#sk-container-id-15 div.sk-container {\n",
              "  /* jupyter's `normalize.less` sets `[hidden] { display: none; }`\n",
              "     but bootstrap.min.css set `[hidden] { display: none !important; }`\n",
              "     so we also need the `!important` here to be able to override the\n",
              "     default hidden behavior on the sphinx rendered scikit-learn.org.\n",
              "     See: https://github.com/scikit-learn/scikit-learn/issues/21755 */\n",
              "  display: inline-block !important;\n",
              "  position: relative;\n",
              "}\n",
              "\n",
              "#sk-container-id-15 div.sk-text-repr-fallback {\n",
              "  display: none;\n",
              "}\n",
              "\n",
              "div.sk-parallel-item,\n",
              "div.sk-serial,\n",
              "div.sk-item {\n",
              "  /* draw centered vertical line to link estimators */\n",
              "  background-image: linear-gradient(var(--sklearn-color-text-on-default-background), var(--sklearn-color-text-on-default-background));\n",
              "  background-size: 2px 100%;\n",
              "  background-repeat: no-repeat;\n",
              "  background-position: center center;\n",
              "}\n",
              "\n",
              "/* Parallel-specific style estimator block */\n",
              "\n",
              "#sk-container-id-15 div.sk-parallel-item::after {\n",
              "  content: \"\";\n",
              "  width: 100%;\n",
              "  border-bottom: 2px solid var(--sklearn-color-text-on-default-background);\n",
              "  flex-grow: 1;\n",
              "}\n",
              "\n",
              "#sk-container-id-15 div.sk-parallel {\n",
              "  display: flex;\n",
              "  align-items: stretch;\n",
              "  justify-content: center;\n",
              "  background-color: var(--sklearn-color-background);\n",
              "  position: relative;\n",
              "}\n",
              "\n",
              "#sk-container-id-15 div.sk-parallel-item {\n",
              "  display: flex;\n",
              "  flex-direction: column;\n",
              "}\n",
              "\n",
              "#sk-container-id-15 div.sk-parallel-item:first-child::after {\n",
              "  align-self: flex-end;\n",
              "  width: 50%;\n",
              "}\n",
              "\n",
              "#sk-container-id-15 div.sk-parallel-item:last-child::after {\n",
              "  align-self: flex-start;\n",
              "  width: 50%;\n",
              "}\n",
              "\n",
              "#sk-container-id-15 div.sk-parallel-item:only-child::after {\n",
              "  width: 0;\n",
              "}\n",
              "\n",
              "/* Serial-specific style estimator block */\n",
              "\n",
              "#sk-container-id-15 div.sk-serial {\n",
              "  display: flex;\n",
              "  flex-direction: column;\n",
              "  align-items: center;\n",
              "  background-color: var(--sklearn-color-background);\n",
              "  padding-right: 1em;\n",
              "  padding-left: 1em;\n",
              "}\n",
              "\n",
              "\n",
              "/* Toggleable style: style used for estimator/Pipeline/ColumnTransformer box that is\n",
              "clickable and can be expanded/collapsed.\n",
              "- Pipeline and ColumnTransformer use this feature and define the default style\n",
              "- Estimators will overwrite some part of the style using the `sk-estimator` class\n",
              "*/\n",
              "\n",
              "/* Pipeline and ColumnTransformer style (default) */\n",
              "\n",
              "#sk-container-id-15 div.sk-toggleable {\n",
              "  /* Default theme specific background. It is overwritten whether we have a\n",
              "  specific estimator or a Pipeline/ColumnTransformer */\n",
              "  background-color: var(--sklearn-color-background);\n",
              "}\n",
              "\n",
              "/* Toggleable label */\n",
              "#sk-container-id-15 label.sk-toggleable__label {\n",
              "  cursor: pointer;\n",
              "  display: block;\n",
              "  width: 100%;\n",
              "  margin-bottom: 0;\n",
              "  padding: 0.5em;\n",
              "  box-sizing: border-box;\n",
              "  text-align: center;\n",
              "}\n",
              "\n",
              "#sk-container-id-15 label.sk-toggleable__label-arrow:before {\n",
              "  /* Arrow on the left of the label */\n",
              "  content: \"▸\";\n",
              "  float: left;\n",
              "  margin-right: 0.25em;\n",
              "  color: var(--sklearn-color-icon);\n",
              "}\n",
              "\n",
              "#sk-container-id-15 label.sk-toggleable__label-arrow:hover:before {\n",
              "  color: var(--sklearn-color-text);\n",
              "}\n",
              "\n",
              "/* Toggleable content - dropdown */\n",
              "\n",
              "#sk-container-id-15 div.sk-toggleable__content {\n",
              "  max-height: 0;\n",
              "  max-width: 0;\n",
              "  overflow: hidden;\n",
              "  text-align: left;\n",
              "  /* unfitted */\n",
              "  background-color: var(--sklearn-color-unfitted-level-0);\n",
              "}\n",
              "\n",
              "#sk-container-id-15 div.sk-toggleable__content.fitted {\n",
              "  /* fitted */\n",
              "  background-color: var(--sklearn-color-fitted-level-0);\n",
              "}\n",
              "\n",
              "#sk-container-id-15 div.sk-toggleable__content pre {\n",
              "  margin: 0.2em;\n",
              "  border-radius: 0.25em;\n",
              "  color: var(--sklearn-color-text);\n",
              "  /* unfitted */\n",
              "  background-color: var(--sklearn-color-unfitted-level-0);\n",
              "}\n",
              "\n",
              "#sk-container-id-15 div.sk-toggleable__content.fitted pre {\n",
              "  /* unfitted */\n",
              "  background-color: var(--sklearn-color-fitted-level-0);\n",
              "}\n",
              "\n",
              "#sk-container-id-15 input.sk-toggleable__control:checked~div.sk-toggleable__content {\n",
              "  /* Expand drop-down */\n",
              "  max-height: 200px;\n",
              "  max-width: 100%;\n",
              "  overflow: auto;\n",
              "}\n",
              "\n",
              "#sk-container-id-15 input.sk-toggleable__control:checked~label.sk-toggleable__label-arrow:before {\n",
              "  content: \"▾\";\n",
              "}\n",
              "\n",
              "/* Pipeline/ColumnTransformer-specific style */\n",
              "\n",
              "#sk-container-id-15 div.sk-label input.sk-toggleable__control:checked~label.sk-toggleable__label {\n",
              "  color: var(--sklearn-color-text);\n",
              "  background-color: var(--sklearn-color-unfitted-level-2);\n",
              "}\n",
              "\n",
              "#sk-container-id-15 div.sk-label.fitted input.sk-toggleable__control:checked~label.sk-toggleable__label {\n",
              "  background-color: var(--sklearn-color-fitted-level-2);\n",
              "}\n",
              "\n",
              "/* Estimator-specific style */\n",
              "\n",
              "/* Colorize estimator box */\n",
              "#sk-container-id-15 div.sk-estimator input.sk-toggleable__control:checked~label.sk-toggleable__label {\n",
              "  /* unfitted */\n",
              "  background-color: var(--sklearn-color-unfitted-level-2);\n",
              "}\n",
              "\n",
              "#sk-container-id-15 div.sk-estimator.fitted input.sk-toggleable__control:checked~label.sk-toggleable__label {\n",
              "  /* fitted */\n",
              "  background-color: var(--sklearn-color-fitted-level-2);\n",
              "}\n",
              "\n",
              "#sk-container-id-15 div.sk-label label.sk-toggleable__label,\n",
              "#sk-container-id-15 div.sk-label label {\n",
              "  /* The background is the default theme color */\n",
              "  color: var(--sklearn-color-text-on-default-background);\n",
              "}\n",
              "\n",
              "/* On hover, darken the color of the background */\n",
              "#sk-container-id-15 div.sk-label:hover label.sk-toggleable__label {\n",
              "  color: var(--sklearn-color-text);\n",
              "  background-color: var(--sklearn-color-unfitted-level-2);\n",
              "}\n",
              "\n",
              "/* Label box, darken color on hover, fitted */\n",
              "#sk-container-id-15 div.sk-label.fitted:hover label.sk-toggleable__label.fitted {\n",
              "  color: var(--sklearn-color-text);\n",
              "  background-color: var(--sklearn-color-fitted-level-2);\n",
              "}\n",
              "\n",
              "/* Estimator label */\n",
              "\n",
              "#sk-container-id-15 div.sk-label label {\n",
              "  font-family: monospace;\n",
              "  font-weight: bold;\n",
              "  display: inline-block;\n",
              "  line-height: 1.2em;\n",
              "}\n",
              "\n",
              "#sk-container-id-15 div.sk-label-container {\n",
              "  text-align: center;\n",
              "}\n",
              "\n",
              "/* Estimator-specific */\n",
              "#sk-container-id-15 div.sk-estimator {\n",
              "  font-family: monospace;\n",
              "  border: 1px dotted var(--sklearn-color-border-box);\n",
              "  border-radius: 0.25em;\n",
              "  box-sizing: border-box;\n",
              "  margin-bottom: 0.5em;\n",
              "  /* unfitted */\n",
              "  background-color: var(--sklearn-color-unfitted-level-0);\n",
              "}\n",
              "\n",
              "#sk-container-id-15 div.sk-estimator.fitted {\n",
              "  /* fitted */\n",
              "  background-color: var(--sklearn-color-fitted-level-0);\n",
              "}\n",
              "\n",
              "/* on hover */\n",
              "#sk-container-id-15 div.sk-estimator:hover {\n",
              "  /* unfitted */\n",
              "  background-color: var(--sklearn-color-unfitted-level-2);\n",
              "}\n",
              "\n",
              "#sk-container-id-15 div.sk-estimator.fitted:hover {\n",
              "  /* fitted */\n",
              "  background-color: var(--sklearn-color-fitted-level-2);\n",
              "}\n",
              "\n",
              "/* Specification for estimator info (e.g. \"i\" and \"?\") */\n",
              "\n",
              "/* Common style for \"i\" and \"?\" */\n",
              "\n",
              ".sk-estimator-doc-link,\n",
              "a:link.sk-estimator-doc-link,\n",
              "a:visited.sk-estimator-doc-link {\n",
              "  float: right;\n",
              "  font-size: smaller;\n",
              "  line-height: 1em;\n",
              "  font-family: monospace;\n",
              "  background-color: var(--sklearn-color-background);\n",
              "  border-radius: 1em;\n",
              "  height: 1em;\n",
              "  width: 1em;\n",
              "  text-decoration: none !important;\n",
              "  margin-left: 1ex;\n",
              "  /* unfitted */\n",
              "  border: var(--sklearn-color-unfitted-level-1) 1pt solid;\n",
              "  color: var(--sklearn-color-unfitted-level-1);\n",
              "}\n",
              "\n",
              ".sk-estimator-doc-link.fitted,\n",
              "a:link.sk-estimator-doc-link.fitted,\n",
              "a:visited.sk-estimator-doc-link.fitted {\n",
              "  /* fitted */\n",
              "  border: var(--sklearn-color-fitted-level-1) 1pt solid;\n",
              "  color: var(--sklearn-color-fitted-level-1);\n",
              "}\n",
              "\n",
              "/* On hover */\n",
              "div.sk-estimator:hover .sk-estimator-doc-link:hover,\n",
              ".sk-estimator-doc-link:hover,\n",
              "div.sk-label-container:hover .sk-estimator-doc-link:hover,\n",
              ".sk-estimator-doc-link:hover {\n",
              "  /* unfitted */\n",
              "  background-color: var(--sklearn-color-unfitted-level-3);\n",
              "  color: var(--sklearn-color-background);\n",
              "  text-decoration: none;\n",
              "}\n",
              "\n",
              "div.sk-estimator.fitted:hover .sk-estimator-doc-link.fitted:hover,\n",
              ".sk-estimator-doc-link.fitted:hover,\n",
              "div.sk-label-container:hover .sk-estimator-doc-link.fitted:hover,\n",
              ".sk-estimator-doc-link.fitted:hover {\n",
              "  /* fitted */\n",
              "  background-color: var(--sklearn-color-fitted-level-3);\n",
              "  color: var(--sklearn-color-background);\n",
              "  text-decoration: none;\n",
              "}\n",
              "\n",
              "/* Span, style for the box shown on hovering the info icon */\n",
              ".sk-estimator-doc-link span {\n",
              "  display: none;\n",
              "  z-index: 9999;\n",
              "  position: relative;\n",
              "  font-weight: normal;\n",
              "  right: .2ex;\n",
              "  padding: .5ex;\n",
              "  margin: .5ex;\n",
              "  width: min-content;\n",
              "  min-width: 20ex;\n",
              "  max-width: 50ex;\n",
              "  color: var(--sklearn-color-text);\n",
              "  box-shadow: 2pt 2pt 4pt #999;\n",
              "  /* unfitted */\n",
              "  background: var(--sklearn-color-unfitted-level-0);\n",
              "  border: .5pt solid var(--sklearn-color-unfitted-level-3);\n",
              "}\n",
              "\n",
              ".sk-estimator-doc-link.fitted span {\n",
              "  /* fitted */\n",
              "  background: var(--sklearn-color-fitted-level-0);\n",
              "  border: var(--sklearn-color-fitted-level-3);\n",
              "}\n",
              "\n",
              ".sk-estimator-doc-link:hover span {\n",
              "  display: block;\n",
              "}\n",
              "\n",
              "/* \"?\"-specific style due to the `<a>` HTML tag */\n",
              "\n",
              "#sk-container-id-15 a.estimator_doc_link {\n",
              "  float: right;\n",
              "  font-size: 1rem;\n",
              "  line-height: 1em;\n",
              "  font-family: monospace;\n",
              "  background-color: var(--sklearn-color-background);\n",
              "  border-radius: 1rem;\n",
              "  height: 1rem;\n",
              "  width: 1rem;\n",
              "  text-decoration: none;\n",
              "  /* unfitted */\n",
              "  color: var(--sklearn-color-unfitted-level-1);\n",
              "  border: var(--sklearn-color-unfitted-level-1) 1pt solid;\n",
              "}\n",
              "\n",
              "#sk-container-id-15 a.estimator_doc_link.fitted {\n",
              "  /* fitted */\n",
              "  border: var(--sklearn-color-fitted-level-1) 1pt solid;\n",
              "  color: var(--sklearn-color-fitted-level-1);\n",
              "}\n",
              "\n",
              "/* On hover */\n",
              "#sk-container-id-15 a.estimator_doc_link:hover {\n",
              "  /* unfitted */\n",
              "  background-color: var(--sklearn-color-unfitted-level-3);\n",
              "  color: var(--sklearn-color-background);\n",
              "  text-decoration: none;\n",
              "}\n",
              "\n",
              "#sk-container-id-15 a.estimator_doc_link.fitted:hover {\n",
              "  /* fitted */\n",
              "  background-color: var(--sklearn-color-fitted-level-3);\n",
              "}\n",
              "</style><div id=\"sk-container-id-15\" class=\"sk-top-container\"><div class=\"sk-text-repr-fallback\"><pre>SVC(gamma=&#x27;auto&#x27;, random_state=42)</pre><b>In a Jupyter environment, please rerun this cell to show the HTML representation or trust the notebook. <br />On GitHub, the HTML representation is unable to render, please try loading this page with nbviewer.org.</b></div><div class=\"sk-container\" hidden><div class=\"sk-item\"><div class=\"sk-estimator fitted sk-toggleable\"><input class=\"sk-toggleable__control sk-hidden--visually\" id=\"sk-estimator-id-15\" type=\"checkbox\" checked><label for=\"sk-estimator-id-15\" class=\"sk-toggleable__label fitted sk-toggleable__label-arrow fitted\">&nbsp;&nbsp;SVC<a class=\"sk-estimator-doc-link fitted\" rel=\"noreferrer\" target=\"_blank\" href=\"https://scikit-learn.org/1.5/modules/generated/sklearn.svm.SVC.html\">?<span>Documentation for SVC</span></a><span class=\"sk-estimator-doc-link fitted\">i<span>Fitted</span></span></label><div class=\"sk-toggleable__content fitted\"><pre>SVC(gamma=&#x27;auto&#x27;, random_state=42)</pre></div> </div></div></div></div>"
            ],
            "text/plain": [
              "SVC(gamma='auto', random_state=42)"
            ]
          },
          "execution_count": 165,
          "metadata": {},
          "output_type": "execute_result"
        }
      ],
      "source": [
        "svm_clf = SVC(gamma=\"auto\", random_state=42,\n",
        "              decision_function_shape=strategy.value,\n",
        "              kernel = kernel.value)\n",
        "svm_clf.fit(X_train, y_train)"
      ]
    },
    {
      "cell_type": "code",
      "execution_count": null,
      "id": "d7d6d6b2-0479-4f13-a128-a3aafd2afb71",
      "metadata": {
        "id": "d7d6d6b2-0479-4f13-a128-a3aafd2afb71",
        "outputId": "682a0719-a8d7-49b6-d7dd-b225ce84f41d"
      },
      "outputs": [
        {
          "name": "stdout",
          "output_type": "stream",
          "text": [
            "Предсказание ['full_power_mode']\n",
            "Правда              target\n",
            "10  full_power_mode\n"
          ]
        }
      ],
      "source": [
        "some_index = X_train.sample().index\n",
        "\n",
        "X_some_mode = X_train.iloc[some_index]\n",
        "y_some_mode = y_train.iloc[some_index]\n",
        "\n",
        "print(f\"Предсказание {svm_clf.predict(X_some_mode)}\")\n",
        "print(f\"Правда {y_some_mode}\")"
      ]
    },
    {
      "cell_type": "markdown",
      "id": "3e51f920-3539-4320-8859-966be3500528",
      "metadata": {
        "id": "3e51f920-3539-4320-8859-966be3500528"
      },
      "source": [
        "Метод **`decision_function()`** в `SVC` из `sklearn` возвращает оценку степени принадлежности объекта к определенному классу. Эта оценка называется **отступом (margin)** и представляет собой расстояние до разделяющей гиперплоскости в пространстве признаков.  \n",
        "\n",
        "**Для многоклассовой классификации** (`n_classes > 2`):  \n",
        "   - Если используется стратегия **\"Один-против-одного\" (OvO, по умолчанию в `SVC`)**, то метод возвращает массив размерности `(n_samples, n_classes * (n_classes - 1) / 2)`, где каждая колонка соответствует предсказанному отступу для одной из пар классов. Итоговый класс определяется голосованием.  \n",
        "   - Если используется стратегия **\"Один-против-всех\" (OvR, при использовании `OneVsRestClassifier`)**, то метод возвращает массив размерности `(n_samples, n_classes)`, где каждое значение — это отступ для соответствующего класса."
      ]
    },
    {
      "cell_type": "code",
      "execution_count": null,
      "id": "00ced285-01c1-4c02-a1ee-0df2ffaec119",
      "metadata": {
        "id": "00ced285-01c1-4c02-a1ee-0df2ffaec119",
        "outputId": "4335894f-e3de-4b9f-9561-206fb185f6a5"
      },
      "outputs": [
        {
          "data": {
            "text/plain": [
              "array([[ 4.08483147,  2.87530862,  5.27795539,  6.28820728,  0.74058853,\n",
              "         1.77990853, -0.28355891]])"
            ]
          },
          "execution_count": 151,
          "metadata": {},
          "output_type": "execute_result"
        }
      ],
      "source": [
        "some_mode_scores = svm_clf.decision_function(X_some_mode)\n",
        "some_mode_scores"
      ]
    },
    {
      "cell_type": "code",
      "execution_count": null,
      "id": "e068bba5-8438-4f02-b5cb-e187256a50ef",
      "metadata": {
        "id": "e068bba5-8438-4f02-b5cb-e187256a50ef",
        "outputId": "cc282d65-4cf0-49ce-d1af-048b619ae763"
      },
      "outputs": [
        {
          "data": {
            "text/plain": [
              "array(['decreas_power_mode', 'full_power_mode', 'increas_power_mode',\n",
              "       'partial_power_mode', 'shutdown_mode', 'start_up_mode',\n",
              "       'stopped_state_mode'], dtype=object)"
            ]
          },
          "execution_count": 152,
          "metadata": {},
          "output_type": "execute_result"
        }
      ],
      "source": [
        "svm_clf.classes_"
      ]
    },
    {
      "cell_type": "markdown",
      "id": "b8e4835b-2c85-40a3-a4dc-66c51b1536a4",
      "metadata": {
        "id": "b8e4835b-2c85-40a3-a4dc-66c51b1536a4"
      },
      "source": [
        "### Анализ качества модели опорных векторов"
      ]
    },
    {
      "cell_type": "markdown",
      "id": "3986ee48-5a84-46d5-9e63-2a8018639911",
      "metadata": {
        "id": "3986ee48-5a84-46d5-9e63-2a8018639911"
      },
      "source": [
        "**Кросс-валидация (Cross-Validation, CV)** – это метод **оценки качества модели**, который используется для проверки её обобщающей способности.  \n",
        "\n",
        "**Основная идея:**  \n",
        "- Данные делятся на **обучающую** и **тестовую** выборку **не один раз**, а **несколько**.  \n",
        "- Модель обучается на **разных частях данных** и тестируется на оставшихся.  \n",
        "- Это помогает **избежать переобучения** и получить более **надежную оценку качества модели**.  "
      ]
    },
    {
      "cell_type": "markdown",
      "id": "67f7c4b5-ea5b-4045-96b3-8b15cb18e0d4",
      "metadata": {
        "id": "67f7c4b5-ea5b-4045-96b3-8b15cb18e0d4"
      },
      "source": [
        "В случае, когда в задаче **многоклассовой классификации** некоторые классы **встречаются реже других**, стандартная кросс-валидация **(KFold, StratifiedKFold)** может привести к ситуации, когда в некоторых фолдах тестовая выборка не содержит примеры редких классов. Это может **исказить оценку модели**, так как:  \n",
        "\n",
        "- **Модель не учится на редких классах** из-за нехватки данных в обучающих фолдах.  \n",
        "- **Некоторые классы вообще не присутствуют в тесте**, что делает метрики, такие как `accuracy`, необъективными.  \n",
        "\n",
        "---\n",
        "\n",
        "\n",
        "\n",
        "**`StratifiedKFold`**  \n",
        "Этот метод **разбивает данные так, чтобы пропорции классов сохранялись в каждом фолде**, уменьшая вероятность выпадения редких классов.  \n",
        "\n",
        "**Но** если у какого-то класса **слишком мало примеров** (например, всего 2-3), он все равно может не попасть в тестовый фолд.\n"
      ]
    },
    {
      "cell_type": "markdown",
      "id": "df07a3f4-f062-4ee9-b414-388520152466",
      "metadata": {
        "id": "df07a3f4-f062-4ee9-b414-388520152466"
      },
      "source": [
        "Метод **`cross_val_predict`** выполняет **кросс-валидацию** и возвращает **предсказания** для каждого объекта на основе моделей, обученных на разных разбиениях данных."
      ]
    },
    {
      "cell_type": "code",
      "execution_count": null,
      "id": "ce5bcd64-f0a0-4fa3-b69f-6f808b8ab532",
      "metadata": {
        "id": "ce5bcd64-f0a0-4fa3-b69f-6f808b8ab532"
      },
      "outputs": [],
      "source": [
        "svm_clf_eval = SVC(\n",
        "    gamma=\"auto\", random_state=42,\n",
        "    decision_function_shape=strategy.value,\n",
        "    kernel = kernel.value)\n",
        "# Создаем стратифицированную кросс-валидацию\n",
        "skf = StratifiedKFold(n_splits=5, shuffle=True, random_state=42)\n",
        "# Получаем предсказания с кросс-валидацией\n",
        "y_train_pred_svm = cross_val_predict(svm_clf_eval, X_train, y_train, cv=skf)"
      ]
    },
    {
      "cell_type": "markdown",
      "id": "9ae360c6-0894-4ac5-8755-46d260f1ff6f",
      "metadata": {
        "id": "9ae360c6-0894-4ac5-8755-46d260f1ff6f"
      },
      "source": [
        "#### Матрица неточностей"
      ]
    },
    {
      "cell_type": "code",
      "execution_count": null,
      "id": "385142f5-940f-432e-bea4-a5ec49576c97",
      "metadata": {
        "id": "385142f5-940f-432e-bea4-a5ec49576c97",
        "outputId": "f82b2895-b57f-42ee-a6a8-b316e8603108"
      },
      "outputs": [
        {
          "data": {
            "image/png": "[encoded data removed]",
            "text/plain": [
              "<Figure size 640x480 with 2 Axes>"
            ]
          },
          "metadata": {},
          "output_type": "display_data"
        }
      ],
      "source": [
        "conf_mat = confusion_matrix(y_train, y_train_pred_svm)\n",
        "ConfusionMatrixDisplay(conf_mat).plot()\n",
        "plt.show()"
      ]
    },
    {
      "cell_type": "markdown",
      "id": "4e8f0a73-9e28-4385-9012-f2893f329855",
      "metadata": {
        "id": "4e8f0a73-9e28-4385-9012-f2893f329855"
      },
      "source": [
        "#### Accuracy"
      ]
    },
    {
      "cell_type": "code",
      "execution_count": null,
      "id": "eb24c37f-fa13-4b97-be64-9035031f29d5",
      "metadata": {
        "id": "eb24c37f-fa13-4b97-be64-9035031f29d5"
      },
      "outputs": [],
      "source": [
        "accuracy_classifier['svm'] = accuracy_score(y_train, y_train_pred_svm)"
      ]
    },
    {
      "cell_type": "markdown",
      "id": "3171f2ce-e337-48f3-94ac-509eade1dce5",
      "metadata": {
        "id": "3171f2ce-e337-48f3-94ac-509eade1dce5"
      },
      "source": [
        "#### Precision и recall"
      ]
    },
    {
      "cell_type": "code",
      "execution_count": null,
      "id": "ae9cb23a-0142-40bd-8cad-66a9feafd850",
      "metadata": {
        "id": "ae9cb23a-0142-40bd-8cad-66a9feafd850"
      },
      "outputs": [],
      "source": [
        "precision_classifier['svm'] = precision_score(y_train, y_train_pred_svm, average='macro', zero_division = np.nan)\n",
        "recall_classifier['svm'] = recall_score(y_train, y_train_pred_svm, average='macro', zero_division = np.nan)"
      ]
    },
    {
      "cell_type": "markdown",
      "id": "9678ab6d-7d55-4ca7-af80-7904ca8c54cc",
      "metadata": {
        "id": "9678ab6d-7d55-4ca7-af80-7904ca8c54cc"
      },
      "source": [
        "#### F1"
      ]
    },
    {
      "cell_type": "code",
      "execution_count": null,
      "id": "44c1a507-bd75-4bc2-80d2-a044aa20c174",
      "metadata": {
        "id": "44c1a507-bd75-4bc2-80d2-a044aa20c174"
      },
      "outputs": [],
      "source": [
        "f1_classifier['svm'] = f1_score(y_train, y_train_pred_svm, average='macro', zero_division = np.nan)"
      ]
    },
    {
      "cell_type": "markdown",
      "id": "c0460924-a9bf-479b-821e-31457574b517",
      "metadata": {
        "id": "c0460924-a9bf-479b-821e-31457574b517"
      },
      "source": [
        "#### Значения метрик"
      ]
    },
    {
      "cell_type": "code",
      "execution_count": null,
      "id": "4203214e-7a06-43f8-8c7e-ea4aa5339a5c",
      "metadata": {
        "id": "4203214e-7a06-43f8-8c7e-ea4aa5339a5c",
        "outputId": "961fa5f9-fbbb-471d-b3aa-a23c53bb7ca3"
      },
      "outputs": [
        {
          "name": "stdout",
          "output_type": "stream",
          "text": [
            "accuracy - 83.68%\n",
            "precision - 79.63%\n",
            "recall - 66.97%\n",
            "F1 - 68.87%\n"
          ]
        }
      ],
      "source": [
        "print(f\"accuracy - {accuracy_classifier['svm']*100:0.2f}%\")\n",
        "print(f\"precision - {precision_classifier['svm']*100:0.2f}%\")\n",
        "print(f\"recall - {recall_classifier['svm']*100:0.2f}%\")\n",
        "print(f\"F1 - {f1_classifier['svm']*100:0.2f}%\")"
      ]
    },
    {
      "cell_type": "markdown",
      "id": "ec83d274-0f31-4a50-bffc-c2cf02cbc436",
      "metadata": {
        "id": "ec83d274-0f31-4a50-bffc-c2cf02cbc436"
      },
      "source": [
        "## Метод ближайших соседей (K-Nearest Neighbors, KNN)\n",
        "\n",
        "**Метод k-ближайших соседей (KNN)** – это простой и эффективный алгоритм **классификации** и **регрессии**, основанный на **поиске ближайших точек** в пространстве признаков.  \n",
        "\n",
        "**Основная идея:**  \n",
        "1. Для нового объекта **ищутся K ближайших точек** (соседей) в обучающей выборке.  \n",
        "2. Класс объекта определяется **по большинству** среди соседей.   \n",
        "\n",
        "---\n",
        "\n",
        "**Как работает KNN?**  \n",
        "\n",
        "**Выбираем количество соседей (K)**  \n",
        "- Маленькое K → модель **чувствительна** к шуму (может переобучаться).  \n",
        "- Большое K → модель становится **более устойчивой**, но может терять точность.  \n",
        "\n",
        "**Вычисляем расстояния между точками**  \n",
        "- **Евклидово расстояние** (стандартный вариант):  \n",
        "$$ d(A, B) = \\sqrt{(x_1 - x_2)^2 + (y_1 - y_2)^2} $$\n",
        "- Можно использовать и другие метрики: **Манхэттенское, Косинусное, Чебышёва**.  \n",
        "\n",
        "**Определяем класс нового объекта**  \n",
        "- Берем K ближайших точек и **голосуем за класс** (большинство решает).  \n",
        "- Если **регрессия** – усредняем значения.  \n",
        "\n",
        "---\n",
        "\n",
        "**Преимущества и недостатки KNN**  \n",
        "\n",
        "**Плюсы:**  \n",
        "**Простота** – не требует сложного обучения.  \n",
        "**Гибкость** – можно менять метрики и K.  \n",
        "**Хорошо работает при малых данных**.  \n",
        "\n",
        "**Минусы:**  \n",
        "**Медленный при больших данных** – O(N) сложность поиска соседей.  \n",
        "**Чувствителен к шуму** при малых K.  \n",
        "**Плохо работает с высокой размерностью** (проклятие размерности).  \n",
        "\n",
        "---\n",
        "\n",
        "Метод ближайших соседей **хорош для небольших данных** и **прост в реализации**, но **плохо масштабируется**.  \n",
        "Лучше работает при **малом количестве признаков** и **нормализованных данных**."
      ]
    },
    {
      "cell_type": "code",
      "execution_count": null,
      "id": "cf9a64dc-e3a6-4ba5-8ff9-1a6beb42367c",
      "metadata": {
        "id": "cf9a64dc-e3a6-4ba5-8ff9-1a6beb42367c",
        "outputId": "c462106c-c377-48a3-860c-7295dbdf36ce",
        "colab": {
          "referenced_widgets": [
            "8f4feb79bc6c428396626b06e2b2dc4b"
          ]
        }
      },
      "outputs": [
        {
          "data": {
            "application/vnd.jupyter.widget-view+json": {
              "model_id": "8f4feb79bc6c428396626b06e2b2dc4b",
              "version_major": 2,
              "version_minor": 0
            },
            "text/plain": [
              "IntSlider(value=5, description='Число соседей:', max=10, min=1)"
            ]
          },
          "metadata": {},
          "output_type": "display_data"
        }
      ],
      "source": [
        "n_neighbors = widgets.IntSlider(\n",
        "    value=5, min=1, max=10, step=1, description=\"Число соседей:\")\n",
        "display(n_neighbors)"
      ]
    },
    {
      "cell_type": "code",
      "execution_count": null,
      "id": "ea047ca4-8dfc-4e2c-8fce-3ab70aacca3e",
      "metadata": {
        "id": "ea047ca4-8dfc-4e2c-8fce-3ab70aacca3e",
        "outputId": "4f4bd7dd-6a9d-4c39-9d7e-817f83c8e705"
      },
      "outputs": [
        {
          "data": {
            "text/html": [
              "<style>#sk-container-id-19 {\n",
              "  /* Definition of color scheme common for light and dark mode */\n",
              "  --sklearn-color-text: black;\n",
              "  --sklearn-color-line: gray;\n",
              "  /* Definition of color scheme for unfitted estimators */\n",
              "  --sklearn-color-unfitted-level-0: #fff5e6;\n",
              "  --sklearn-color-unfitted-level-1: #f6e4d2;\n",
              "  --sklearn-color-unfitted-level-2: #ffe0b3;\n",
              "  --sklearn-color-unfitted-level-3: chocolate;\n",
              "  /* Definition of color scheme for fitted estimators */\n",
              "  --sklearn-color-fitted-level-0: #f0f8ff;\n",
              "  --sklearn-color-fitted-level-1: #d4ebff;\n",
              "  --sklearn-color-fitted-level-2: #b3dbfd;\n",
              "  --sklearn-color-fitted-level-3: cornflowerblue;\n",
              "\n",
              "  /* Specific color for light theme */\n",
              "  --sklearn-color-text-on-default-background: var(--sg-text-color, var(--theme-code-foreground, var(--jp-content-font-color1, black)));\n",
              "  --sklearn-color-background: var(--sg-background-color, var(--theme-background, var(--jp-layout-color0, white)));\n",
              "  --sklearn-color-border-box: var(--sg-text-color, var(--theme-code-foreground, var(--jp-content-font-color1, black)));\n",
              "  --sklearn-color-icon: #696969;\n",
              "\n",
              "  @media (prefers-color-scheme: dark) {\n",
              "    /* Redefinition of color scheme for dark theme */\n",
              "    --sklearn-color-text-on-default-background: var(--sg-text-color, var(--theme-code-foreground, var(--jp-content-font-color1, white)));\n",
              "    --sklearn-color-background: var(--sg-background-color, var(--theme-background, var(--jp-layout-color0, #111)));\n",
              "    --sklearn-color-border-box: var(--sg-text-color, var(--theme-code-foreground, var(--jp-content-font-color1, white)));\n",
              "    --sklearn-color-icon: #878787;\n",
              "  }\n",
              "}\n",
              "\n",
              "#sk-container-id-19 {\n",
              "  color: var(--sklearn-color-text);\n",
              "}\n",
              "\n",
              "#sk-container-id-19 pre {\n",
              "  padding: 0;\n",
              "}\n",
              "\n",
              "#sk-container-id-19 input.sk-hidden--visually {\n",
              "  border: 0;\n",
              "  clip: rect(1px 1px 1px 1px);\n",
              "  clip: rect(1px, 1px, 1px, 1px);\n",
              "  height: 1px;\n",
              "  margin: -1px;\n",
              "  overflow: hidden;\n",
              "  padding: 0;\n",
              "  position: absolute;\n",
              "  width: 1px;\n",
              "}\n",
              "\n",
              "#sk-container-id-19 div.sk-dashed-wrapped {\n",
              "  border: 1px dashed var(--sklearn-color-line);\n",
              "  margin: 0 0.4em 0.5em 0.4em;\n",
              "  box-sizing: border-box;\n",
              "  padding-bottom: 0.4em;\n",
              "  background-color: var(--sklearn-color-background);\n",
              "}\n",
              "\n",
              "#sk-container-id-19 div.sk-container {\n",
              "  /* jupyter's `normalize.less` sets `[hidden] { display: none; }`\n",
              "     but bootstrap.min.css set `[hidden] { display: none !important; }`\n",
              "     so we also need the `!important` here to be able to override the\n",
              "     default hidden behavior on the sphinx rendered scikit-learn.org.\n",
              "     See: https://github.com/scikit-learn/scikit-learn/issues/21755 */\n",
              "  display: inline-block !important;\n",
              "  position: relative;\n",
              "}\n",
              "\n",
              "#sk-container-id-19 div.sk-text-repr-fallback {\n",
              "  display: none;\n",
              "}\n",
              "\n",
              "div.sk-parallel-item,\n",
              "div.sk-serial,\n",
              "div.sk-item {\n",
              "  /* draw centered vertical line to link estimators */\n",
              "  background-image: linear-gradient(var(--sklearn-color-text-on-default-background), var(--sklearn-color-text-on-default-background));\n",
              "  background-size: 2px 100%;\n",
              "  background-repeat: no-repeat;\n",
              "  background-position: center center;\n",
              "}\n",
              "\n",
              "/* Parallel-specific style estimator block */\n",
              "\n",
              "#sk-container-id-19 div.sk-parallel-item::after {\n",
              "  content: \"\";\n",
              "  width: 100%;\n",
              "  border-bottom: 2px solid var(--sklearn-color-text-on-default-background);\n",
              "  flex-grow: 1;\n",
              "}\n",
              "\n",
              "#sk-container-id-19 div.sk-parallel {\n",
              "  display: flex;\n",
              "  align-items: stretch;\n",
              "  justify-content: center;\n",
              "  background-color: var(--sklearn-color-background);\n",
              "  position: relative;\n",
              "}\n",
              "\n",
              "#sk-container-id-19 div.sk-parallel-item {\n",
              "  display: flex;\n",
              "  flex-direction: column;\n",
              "}\n",
              "\n",
              "#sk-container-id-19 div.sk-parallel-item:first-child::after {\n",
              "  align-self: flex-end;\n",
              "  width: 50%;\n",
              "}\n",
              "\n",
              "#sk-container-id-19 div.sk-parallel-item:last-child::after {\n",
              "  align-self: flex-start;\n",
              "  width: 50%;\n",
              "}\n",
              "\n",
              "#sk-container-id-19 div.sk-parallel-item:only-child::after {\n",
              "  width: 0;\n",
              "}\n",
              "\n",
              "/* Serial-specific style estimator block */\n",
              "\n",
              "#sk-container-id-19 div.sk-serial {\n",
              "  display: flex;\n",
              "  flex-direction: column;\n",
              "  align-items: center;\n",
              "  background-color: var(--sklearn-color-background);\n",
              "  padding-right: 1em;\n",
              "  padding-left: 1em;\n",
              "}\n",
              "\n",
              "\n",
              "/* Toggleable style: style used for estimator/Pipeline/ColumnTransformer box that is\n",
              "clickable and can be expanded/collapsed.\n",
              "- Pipeline and ColumnTransformer use this feature and define the default style\n",
              "- Estimators will overwrite some part of the style using the `sk-estimator` class\n",
              "*/\n",
              "\n",
              "/* Pipeline and ColumnTransformer style (default) */\n",
              "\n",
              "#sk-container-id-19 div.sk-toggleable {\n",
              "  /* Default theme specific background. It is overwritten whether we have a\n",
              "  specific estimator or a Pipeline/ColumnTransformer */\n",
              "  background-color: var(--sklearn-color-background);\n",
              "}\n",
              "\n",
              "/* Toggleable label */\n",
              "#sk-container-id-19 label.sk-toggleable__label {\n",
              "  cursor: pointer;\n",
              "  display: block;\n",
              "  width: 100%;\n",
              "  margin-bottom: 0;\n",
              "  padding: 0.5em;\n",
              "  box-sizing: border-box;\n",
              "  text-align: center;\n",
              "}\n",
              "\n",
              "#sk-container-id-19 label.sk-toggleable__label-arrow:before {\n",
              "  /* Arrow on the left of the label */\n",
              "  content: \"▸\";\n",
              "  float: left;\n",
              "  margin-right: 0.25em;\n",
              "  color: var(--sklearn-color-icon);\n",
              "}\n",
              "\n",
              "#sk-container-id-19 label.sk-toggleable__label-arrow:hover:before {\n",
              "  color: var(--sklearn-color-text);\n",
              "}\n",
              "\n",
              "/* Toggleable content - dropdown */\n",
              "\n",
              "#sk-container-id-19 div.sk-toggleable__content {\n",
              "  max-height: 0;\n",
              "  max-width: 0;\n",
              "  overflow: hidden;\n",
              "  text-align: left;\n",
              "  /* unfitted */\n",
              "  background-color: var(--sklearn-color-unfitted-level-0);\n",
              "}\n",
              "\n",
              "#sk-container-id-19 div.sk-toggleable__content.fitted {\n",
              "  /* fitted */\n",
              "  background-color: var(--sklearn-color-fitted-level-0);\n",
              "}\n",
              "\n",
              "#sk-container-id-19 div.sk-toggleable__content pre {\n",
              "  margin: 0.2em;\n",
              "  border-radius: 0.25em;\n",
              "  color: var(--sklearn-color-text);\n",
              "  /* unfitted */\n",
              "  background-color: var(--sklearn-color-unfitted-level-0);\n",
              "}\n",
              "\n",
              "#sk-container-id-19 div.sk-toggleable__content.fitted pre {\n",
              "  /* unfitted */\n",
              "  background-color: var(--sklearn-color-fitted-level-0);\n",
              "}\n",
              "\n",
              "#sk-container-id-19 input.sk-toggleable__control:checked~div.sk-toggleable__content {\n",
              "  /* Expand drop-down */\n",
              "  max-height: 200px;\n",
              "  max-width: 100%;\n",
              "  overflow: auto;\n",
              "}\n",
              "\n",
              "#sk-container-id-19 input.sk-toggleable__control:checked~label.sk-toggleable__label-arrow:before {\n",
              "  content: \"▾\";\n",
              "}\n",
              "\n",
              "/* Pipeline/ColumnTransformer-specific style */\n",
              "\n",
              "#sk-container-id-19 div.sk-label input.sk-toggleable__control:checked~label.sk-toggleable__label {\n",
              "  color: var(--sklearn-color-text);\n",
              "  background-color: var(--sklearn-color-unfitted-level-2);\n",
              "}\n",
              "\n",
              "#sk-container-id-19 div.sk-label.fitted input.sk-toggleable__control:checked~label.sk-toggleable__label {\n",
              "  background-color: var(--sklearn-color-fitted-level-2);\n",
              "}\n",
              "\n",
              "/* Estimator-specific style */\n",
              "\n",
              "/* Colorize estimator box */\n",
              "#sk-container-id-19 div.sk-estimator input.sk-toggleable__control:checked~label.sk-toggleable__label {\n",
              "  /* unfitted */\n",
              "  background-color: var(--sklearn-color-unfitted-level-2);\n",
              "}\n",
              "\n",
              "#sk-container-id-19 div.sk-estimator.fitted input.sk-toggleable__control:checked~label.sk-toggleable__label {\n",
              "  /* fitted */\n",
              "  background-color: var(--sklearn-color-fitted-level-2);\n",
              "}\n",
              "\n",
              "#sk-container-id-19 div.sk-label label.sk-toggleable__label,\n",
              "#sk-container-id-19 div.sk-label label {\n",
              "  /* The background is the default theme color */\n",
              "  color: var(--sklearn-color-text-on-default-background);\n",
              "}\n",
              "\n",
              "/* On hover, darken the color of the background */\n",
              "#sk-container-id-19 div.sk-label:hover label.sk-toggleable__label {\n",
              "  color: var(--sklearn-color-text);\n",
              "  background-color: var(--sklearn-color-unfitted-level-2);\n",
              "}\n",
              "\n",
              "/* Label box, darken color on hover, fitted */\n",
              "#sk-container-id-19 div.sk-label.fitted:hover label.sk-toggleable__label.fitted {\n",
              "  color: var(--sklearn-color-text);\n",
              "  background-color: var(--sklearn-color-fitted-level-2);\n",
              "}\n",
              "\n",
              "/* Estimator label */\n",
              "\n",
              "#sk-container-id-19 div.sk-label label {\n",
              "  font-family: monospace;\n",
              "  font-weight: bold;\n",
              "  display: inline-block;\n",
              "  line-height: 1.2em;\n",
              "}\n",
              "\n",
              "#sk-container-id-19 div.sk-label-container {\n",
              "  text-align: center;\n",
              "}\n",
              "\n",
              "/* Estimator-specific */\n",
              "#sk-container-id-19 div.sk-estimator {\n",
              "  font-family: monospace;\n",
              "  border: 1px dotted var(--sklearn-color-border-box);\n",
              "  border-radius: 0.25em;\n",
              "  box-sizing: border-box;\n",
              "  margin-bottom: 0.5em;\n",
              "  /* unfitted */\n",
              "  background-color: var(--sklearn-color-unfitted-level-0);\n",
              "}\n",
              "\n",
              "#sk-container-id-19 div.sk-estimator.fitted {\n",
              "  /* fitted */\n",
              "  background-color: var(--sklearn-color-fitted-level-0);\n",
              "}\n",
              "\n",
              "/* on hover */\n",
              "#sk-container-id-19 div.sk-estimator:hover {\n",
              "  /* unfitted */\n",
              "  background-color: var(--sklearn-color-unfitted-level-2);\n",
              "}\n",
              "\n",
              "#sk-container-id-19 div.sk-estimator.fitted:hover {\n",
              "  /* fitted */\n",
              "  background-color: var(--sklearn-color-fitted-level-2);\n",
              "}\n",
              "\n",
              "/* Specification for estimator info (e.g. \"i\" and \"?\") */\n",
              "\n",
              "/* Common style for \"i\" and \"?\" */\n",
              "\n",
              ".sk-estimator-doc-link,\n",
              "a:link.sk-estimator-doc-link,\n",
              "a:visited.sk-estimator-doc-link {\n",
              "  float: right;\n",
              "  font-size: smaller;\n",
              "  line-height: 1em;\n",
              "  font-family: monospace;\n",
              "  background-color: var(--sklearn-color-background);\n",
              "  border-radius: 1em;\n",
              "  height: 1em;\n",
              "  width: 1em;\n",
              "  text-decoration: none !important;\n",
              "  margin-left: 1ex;\n",
              "  /* unfitted */\n",
              "  border: var(--sklearn-color-unfitted-level-1) 1pt solid;\n",
              "  color: var(--sklearn-color-unfitted-level-1);\n",
              "}\n",
              "\n",
              ".sk-estimator-doc-link.fitted,\n",
              "a:link.sk-estimator-doc-link.fitted,\n",
              "a:visited.sk-estimator-doc-link.fitted {\n",
              "  /* fitted */\n",
              "  border: var(--sklearn-color-fitted-level-1) 1pt solid;\n",
              "  color: var(--sklearn-color-fitted-level-1);\n",
              "}\n",
              "\n",
              "/* On hover */\n",
              "div.sk-estimator:hover .sk-estimator-doc-link:hover,\n",
              ".sk-estimator-doc-link:hover,\n",
              "div.sk-label-container:hover .sk-estimator-doc-link:hover,\n",
              ".sk-estimator-doc-link:hover {\n",
              "  /* unfitted */\n",
              "  background-color: var(--sklearn-color-unfitted-level-3);\n",
              "  color: var(--sklearn-color-background);\n",
              "  text-decoration: none;\n",
              "}\n",
              "\n",
              "div.sk-estimator.fitted:hover .sk-estimator-doc-link.fitted:hover,\n",
              ".sk-estimator-doc-link.fitted:hover,\n",
              "div.sk-label-container:hover .sk-estimator-doc-link.fitted:hover,\n",
              ".sk-estimator-doc-link.fitted:hover {\n",
              "  /* fitted */\n",
              "  background-color: var(--sklearn-color-fitted-level-3);\n",
              "  color: var(--sklearn-color-background);\n",
              "  text-decoration: none;\n",
              "}\n",
              "\n",
              "/* Span, style for the box shown on hovering the info icon */\n",
              ".sk-estimator-doc-link span {\n",
              "  display: none;\n",
              "  z-index: 9999;\n",
              "  position: relative;\n",
              "  font-weight: normal;\n",
              "  right: .2ex;\n",
              "  padding: .5ex;\n",
              "  margin: .5ex;\n",
              "  width: min-content;\n",
              "  min-width: 20ex;\n",
              "  max-width: 50ex;\n",
              "  color: var(--sklearn-color-text);\n",
              "  box-shadow: 2pt 2pt 4pt #999;\n",
              "  /* unfitted */\n",
              "  background: var(--sklearn-color-unfitted-level-0);\n",
              "  border: .5pt solid var(--sklearn-color-unfitted-level-3);\n",
              "}\n",
              "\n",
              ".sk-estimator-doc-link.fitted span {\n",
              "  /* fitted */\n",
              "  background: var(--sklearn-color-fitted-level-0);\n",
              "  border: var(--sklearn-color-fitted-level-3);\n",
              "}\n",
              "\n",
              ".sk-estimator-doc-link:hover span {\n",
              "  display: block;\n",
              "}\n",
              "\n",
              "/* \"?\"-specific style due to the `<a>` HTML tag */\n",
              "\n",
              "#sk-container-id-19 a.estimator_doc_link {\n",
              "  float: right;\n",
              "  font-size: 1rem;\n",
              "  line-height: 1em;\n",
              "  font-family: monospace;\n",
              "  background-color: var(--sklearn-color-background);\n",
              "  border-radius: 1rem;\n",
              "  height: 1rem;\n",
              "  width: 1rem;\n",
              "  text-decoration: none;\n",
              "  /* unfitted */\n",
              "  color: var(--sklearn-color-unfitted-level-1);\n",
              "  border: var(--sklearn-color-unfitted-level-1) 1pt solid;\n",
              "}\n",
              "\n",
              "#sk-container-id-19 a.estimator_doc_link.fitted {\n",
              "  /* fitted */\n",
              "  border: var(--sklearn-color-fitted-level-1) 1pt solid;\n",
              "  color: var(--sklearn-color-fitted-level-1);\n",
              "}\n",
              "\n",
              "/* On hover */\n",
              "#sk-container-id-19 a.estimator_doc_link:hover {\n",
              "  /* unfitted */\n",
              "  background-color: var(--sklearn-color-unfitted-level-3);\n",
              "  color: var(--sklearn-color-background);\n",
              "  text-decoration: none;\n",
              "}\n",
              "\n",
              "#sk-container-id-19 a.estimator_doc_link.fitted:hover {\n",
              "  /* fitted */\n",
              "  background-color: var(--sklearn-color-fitted-level-3);\n",
              "}\n",
              "</style><div id=\"sk-container-id-19\" class=\"sk-top-container\"><div class=\"sk-text-repr-fallback\"><pre>KNeighborsClassifier()</pre><b>In a Jupyter environment, please rerun this cell to show the HTML representation or trust the notebook. <br />On GitHub, the HTML representation is unable to render, please try loading this page with nbviewer.org.</b></div><div class=\"sk-container\" hidden><div class=\"sk-item\"><div class=\"sk-estimator fitted sk-toggleable\"><input class=\"sk-toggleable__control sk-hidden--visually\" id=\"sk-estimator-id-19\" type=\"checkbox\" checked><label for=\"sk-estimator-id-19\" class=\"sk-toggleable__label fitted sk-toggleable__label-arrow fitted\">&nbsp;&nbsp;KNeighborsClassifier<a class=\"sk-estimator-doc-link fitted\" rel=\"noreferrer\" target=\"_blank\" href=\"https://scikit-learn.org/1.5/modules/generated/sklearn.neighbors.KNeighborsClassifier.html\">?<span>Documentation for KNeighborsClassifier</span></a><span class=\"sk-estimator-doc-link fitted\">i<span>Fitted</span></span></label><div class=\"sk-toggleable__content fitted\"><pre>KNeighborsClassifier()</pre></div> </div></div></div></div>"
            ],
            "text/plain": [
              "KNeighborsClassifier()"
            ]
          },
          "execution_count": 244,
          "metadata": {},
          "output_type": "execute_result"
        }
      ],
      "source": [
        "from sklearn.neighbors import KNeighborsClassifier\n",
        "\n",
        "knn_clf = KNeighborsClassifier(n_neighbors=n_neighbors.value)\n",
        "knn_clf.fit(X_train, y_train)"
      ]
    },
    {
      "cell_type": "code",
      "execution_count": null,
      "id": "d6ca8bf0-14ce-4c53-9e8e-ae52961c865b",
      "metadata": {
        "id": "d6ca8bf0-14ce-4c53-9e8e-ae52961c865b",
        "outputId": "57bbb613-ca8a-4e58-d447-25adc33bc10e"
      },
      "outputs": [
        {
          "name": "stdout",
          "output_type": "stream",
          "text": [
            "Предсказание ['stopped_state_mode']\n",
            "Правда                   target\n",
            "1282  stopped_state_mode\n"
          ]
        }
      ],
      "source": [
        "some_index = X_train.sample().index\n",
        "\n",
        "X_some_mode = X_train.iloc[some_index]\n",
        "y_some_mode = y_train.iloc[some_index]\n",
        "\n",
        "print(f\"Предсказание {knn_clf.predict(X_some_mode)}\")\n",
        "print(f\"Правда {y_some_mode}\")"
      ]
    },
    {
      "cell_type": "markdown",
      "id": "69f90af7-96ff-4bdb-a72d-590c3177531d",
      "metadata": {
        "id": "69f90af7-96ff-4bdb-a72d-590c3177531d"
      },
      "source": [
        "### Анализ качества модели ближайших соседей"
      ]
    },
    {
      "cell_type": "code",
      "execution_count": null,
      "id": "a8d2ee7b-3e58-4a20-b188-5eccd4f5eda5",
      "metadata": {
        "id": "a8d2ee7b-3e58-4a20-b188-5eccd4f5eda5"
      },
      "outputs": [],
      "source": [
        "knn_clf_eval = KNeighborsClassifier(n_neighbors=n_neighbors.value)\n",
        "# Создаем стратифицированную кросс-валидацию\n",
        "skf = StratifiedKFold(n_splits=5, shuffle=True, random_state=42)\n",
        "# Получаем предсказания с кросс-валидацией\n",
        "y_train_pred_knn = cross_val_predict(knn_clf_eval, X_train, y_train, cv=skf)"
      ]
    },
    {
      "cell_type": "code",
      "execution_count": null,
      "id": "273aa80e-a131-4501-80b9-3b6482454f7f",
      "metadata": {
        "id": "273aa80e-a131-4501-80b9-3b6482454f7f",
        "outputId": "cf4d497c-a07a-40c3-a019-09a5d05dc07c"
      },
      "outputs": [
        {
          "data": {
            "image/png": "[encoded data removed]",
            "text/plain": [
              "<Figure size 640x480 with 2 Axes>"
            ]
          },
          "metadata": {},
          "output_type": "display_data"
        }
      ],
      "source": [
        "conf_mat = confusion_matrix(y_train, y_train_pred_knn)\n",
        "ConfusionMatrixDisplay(conf_mat).plot()\n",
        "plt.show()"
      ]
    },
    {
      "cell_type": "markdown",
      "id": "9c5ad31f-4146-474d-9a22-524a3627708a",
      "metadata": {
        "id": "9c5ad31f-4146-474d-9a22-524a3627708a"
      },
      "source": [
        "#### Accuracy"
      ]
    },
    {
      "cell_type": "code",
      "execution_count": null,
      "id": "938be3a1-8a81-4ae7-b083-806cc0e8a894",
      "metadata": {
        "id": "938be3a1-8a81-4ae7-b083-806cc0e8a894"
      },
      "outputs": [],
      "source": [
        "accuracy_classifier['knn'] = accuracy_score(y_train, y_train_pred_knn)"
      ]
    },
    {
      "cell_type": "markdown",
      "id": "35c78c6a-7264-42d4-927d-5c7f9ec007b9",
      "metadata": {
        "id": "35c78c6a-7264-42d4-927d-5c7f9ec007b9"
      },
      "source": [
        "#### Precision и recall"
      ]
    },
    {
      "cell_type": "code",
      "execution_count": null,
      "id": "d8e692bb-6a67-48ba-9536-684fbe427717",
      "metadata": {
        "id": "d8e692bb-6a67-48ba-9536-684fbe427717"
      },
      "outputs": [],
      "source": [
        "precision_classifier['knn'] = precision_score(y_train, y_train_pred_knn, average='macro', zero_division = np.nan)\n",
        "recall_classifier['knn'] = recall_score(y_train, y_train_pred_knn, average='macro', zero_division = np.nan)"
      ]
    },
    {
      "cell_type": "markdown",
      "id": "7d685cad-8a49-464b-9d34-337eaf2a6ea3",
      "metadata": {
        "id": "7d685cad-8a49-464b-9d34-337eaf2a6ea3"
      },
      "source": [
        "#### F1"
      ]
    },
    {
      "cell_type": "code",
      "execution_count": null,
      "id": "9dd18abc-8951-4d46-bf82-044edfc377f0",
      "metadata": {
        "id": "9dd18abc-8951-4d46-bf82-044edfc377f0"
      },
      "outputs": [],
      "source": [
        "f1_classifier['knn'] = f1_score(y_train, y_train_pred_knn, average='macro', zero_division = np.nan)"
      ]
    },
    {
      "cell_type": "markdown",
      "id": "bacf1239-633d-44da-820e-2997740b92a5",
      "metadata": {
        "id": "bacf1239-633d-44da-820e-2997740b92a5"
      },
      "source": [
        "#### Значения метрик"
      ]
    },
    {
      "cell_type": "code",
      "execution_count": null,
      "id": "72118fcb-7872-4f22-9409-aaf66cc96c69",
      "metadata": {
        "id": "72118fcb-7872-4f22-9409-aaf66cc96c69",
        "outputId": "7d58bc78-61e3-449c-c382-101400e2a2ef"
      },
      "outputs": [
        {
          "name": "stdout",
          "output_type": "stream",
          "text": [
            "accuracy - 89.75%\n",
            "precision - 83.01%\n",
            "recall - 82.77%\n",
            "F1 - 82.80%\n"
          ]
        }
      ],
      "source": [
        "print(f\"accuracy - {accuracy_classifier['knn']*100:0.2f}%\")\n",
        "print(f\"precision - {precision_classifier['knn']*100:0.2f}%\")\n",
        "print(f\"recall - {recall_classifier['knn']*100:0.2f}%\")\n",
        "print(f\"F1 - {f1_classifier['knn']*100:0.2f}%\")"
      ]
    },
    {
      "cell_type": "markdown",
      "id": "485bd6e1-3182-4e2d-bc18-26a38dbf1ca3",
      "metadata": {
        "id": "485bd6e1-3182-4e2d-bc18-26a38dbf1ca3"
      },
      "source": [
        "## Случайный лес (Random Forest)\n",
        "\n",
        "**Случайный лес (Random Forest)** – это ансамблевый алгоритм машинного обучения, который строит **множество деревьев решений** и объединяет их предсказания. Он используется как для **классификации**, так и для **регрессии**.  \n",
        "\n",
        "**Основная идея** – создать несколько деревьев решений и усреднять их предсказания, чтобы модель была **более точной и устойчивой**.  \n",
        "\n",
        "---\n",
        "\n",
        "**Как работает случайный лес?**  \n",
        "**Создание множества деревьев решений**  \n",
        "- Каждое дерево строится на **случайной подвыборке** данных (bagging).  \n",
        "- Для каждого разбиения в узле дерева выбирается **случайное подмножество признаков**.  \n",
        "\n",
        "**Обучение деревьев независимо друг от друга**  \n",
        "- В отличие от градиентного бустинга, деревья **не зависят друг от друга**.  \n",
        "- Это делает алгоритм **быстрым в обучении** и **устойчивым к переобучению**.  \n",
        "\n",
        "**Объединение предсказаний**  \n",
        "- В **классификации** – голосование большинства (majority voting).  \n",
        "\n",
        "**Когда использовать Random Forest?**  \n",
        "Когда нужна **высокая точность**.  \n",
        "Когда данные **шумные** или **содержат выбросы**.  \n",
        "Когда важна **устойчивость модели** к переобучению.  \n",
        "Когда нужно **оценить важность признаков**.  \n",
        "\n",
        "**Когда НЕ использовать?**  \n",
        "Если нужны **интерпретируемые модели** – сложно понять, как именно модель принимает решение.  \n",
        "Если важна **скорость предсказаний** – например, для реального времени.  \n",
        "\n",
        "---\n",
        "\n",
        "**Random Forest** – мощный алгоритм, который отлично работает на большинстве задач машинного обучения. Он особенно полезен, когда нужна **высокая точность**, а данные **сложные и шумные**."
      ]
    },
    {
      "cell_type": "code",
      "execution_count": null,
      "id": "13da20ab-800a-489a-b65e-ea183c43687a",
      "metadata": {
        "id": "13da20ab-800a-489a-b65e-ea183c43687a",
        "outputId": "a6b0af82-faf4-414e-9be9-62921af0d2c1",
        "colab": {
          "referenced_widgets": [
            "f2528a31b1ca4d53a5bc483a03329ce3"
          ]
        }
      },
      "outputs": [
        {
          "data": {
            "application/vnd.jupyter.widget-view+json": {
              "model_id": "f2528a31b1ca4d53a5bc483a03329ce3",
              "version_major": 2,
              "version_minor": 0
            },
            "text/plain": [
              "IntSlider(value=100, description='Число деревьев:', max=500, min=1)"
            ]
          },
          "metadata": {},
          "output_type": "display_data"
        }
      ],
      "source": [
        "n_estimators = widgets.IntSlider(\n",
        "    value=100, min=1, max=500, step=1, description=\"Число деревьев:\")\n",
        "display(n_estimators)"
      ]
    },
    {
      "cell_type": "code",
      "execution_count": null,
      "id": "6be4a024-1354-4c1d-b092-e2b7da9e6df8",
      "metadata": {
        "id": "6be4a024-1354-4c1d-b092-e2b7da9e6df8",
        "outputId": "114602ef-16ca-463e-915c-685b6b0040f7"
      },
      "outputs": [
        {
          "data": {
            "text/html": [
              "<style>#sk-container-id-20 {\n",
              "  /* Definition of color scheme common for light and dark mode */\n",
              "  --sklearn-color-text: black;\n",
              "  --sklearn-color-line: gray;\n",
              "  /* Definition of color scheme for unfitted estimators */\n",
              "  --sklearn-color-unfitted-level-0: #fff5e6;\n",
              "  --sklearn-color-unfitted-level-1: #f6e4d2;\n",
              "  --sklearn-color-unfitted-level-2: #ffe0b3;\n",
              "  --sklearn-color-unfitted-level-3: chocolate;\n",
              "  /* Definition of color scheme for fitted estimators */\n",
              "  --sklearn-color-fitted-level-0: #f0f8ff;\n",
              "  --sklearn-color-fitted-level-1: #d4ebff;\n",
              "  --sklearn-color-fitted-level-2: #b3dbfd;\n",
              "  --sklearn-color-fitted-level-3: cornflowerblue;\n",
              "\n",
              "  /* Specific color for light theme */\n",
              "  --sklearn-color-text-on-default-background: var(--sg-text-color, var(--theme-code-foreground, var(--jp-content-font-color1, black)));\n",
              "  --sklearn-color-background: var(--sg-background-color, var(--theme-background, var(--jp-layout-color0, white)));\n",
              "  --sklearn-color-border-box: var(--sg-text-color, var(--theme-code-foreground, var(--jp-content-font-color1, black)));\n",
              "  --sklearn-color-icon: #696969;\n",
              "\n",
              "  @media (prefers-color-scheme: dark) {\n",
              "    /* Redefinition of color scheme for dark theme */\n",
              "    --sklearn-color-text-on-default-background: var(--sg-text-color, var(--theme-code-foreground, var(--jp-content-font-color1, white)));\n",
              "    --sklearn-color-background: var(--sg-background-color, var(--theme-background, var(--jp-layout-color0, #111)));\n",
              "    --sklearn-color-border-box: var(--sg-text-color, var(--theme-code-foreground, var(--jp-content-font-color1, white)));\n",
              "    --sklearn-color-icon: #878787;\n",
              "  }\n",
              "}\n",
              "\n",
              "#sk-container-id-20 {\n",
              "  color: var(--sklearn-color-text);\n",
              "}\n",
              "\n",
              "#sk-container-id-20 pre {\n",
              "  padding: 0;\n",
              "}\n",
              "\n",
              "#sk-container-id-20 input.sk-hidden--visually {\n",
              "  border: 0;\n",
              "  clip: rect(1px 1px 1px 1px);\n",
              "  clip: rect(1px, 1px, 1px, 1px);\n",
              "  height: 1px;\n",
              "  margin: -1px;\n",
              "  overflow: hidden;\n",
              "  padding: 0;\n",
              "  position: absolute;\n",
              "  width: 1px;\n",
              "}\n",
              "\n",
              "#sk-container-id-20 div.sk-dashed-wrapped {\n",
              "  border: 1px dashed var(--sklearn-color-line);\n",
              "  margin: 0 0.4em 0.5em 0.4em;\n",
              "  box-sizing: border-box;\n",
              "  padding-bottom: 0.4em;\n",
              "  background-color: var(--sklearn-color-background);\n",
              "}\n",
              "\n",
              "#sk-container-id-20 div.sk-container {\n",
              "  /* jupyter's `normalize.less` sets `[hidden] { display: none; }`\n",
              "     but bootstrap.min.css set `[hidden] { display: none !important; }`\n",
              "     so we also need the `!important` here to be able to override the\n",
              "     default hidden behavior on the sphinx rendered scikit-learn.org.\n",
              "     See: https://github.com/scikit-learn/scikit-learn/issues/21755 */\n",
              "  display: inline-block !important;\n",
              "  position: relative;\n",
              "}\n",
              "\n",
              "#sk-container-id-20 div.sk-text-repr-fallback {\n",
              "  display: none;\n",
              "}\n",
              "\n",
              "div.sk-parallel-item,\n",
              "div.sk-serial,\n",
              "div.sk-item {\n",
              "  /* draw centered vertical line to link estimators */\n",
              "  background-image: linear-gradient(var(--sklearn-color-text-on-default-background), var(--sklearn-color-text-on-default-background));\n",
              "  background-size: 2px 100%;\n",
              "  background-repeat: no-repeat;\n",
              "  background-position: center center;\n",
              "}\n",
              "\n",
              "/* Parallel-specific style estimator block */\n",
              "\n",
              "#sk-container-id-20 div.sk-parallel-item::after {\n",
              "  content: \"\";\n",
              "  width: 100%;\n",
              "  border-bottom: 2px solid var(--sklearn-color-text-on-default-background);\n",
              "  flex-grow: 1;\n",
              "}\n",
              "\n",
              "#sk-container-id-20 div.sk-parallel {\n",
              "  display: flex;\n",
              "  align-items: stretch;\n",
              "  justify-content: center;\n",
              "  background-color: var(--sklearn-color-background);\n",
              "  position: relative;\n",
              "}\n",
              "\n",
              "#sk-container-id-20 div.sk-parallel-item {\n",
              "  display: flex;\n",
              "  flex-direction: column;\n",
              "}\n",
              "\n",
              "#sk-container-id-20 div.sk-parallel-item:first-child::after {\n",
              "  align-self: flex-end;\n",
              "  width: 50%;\n",
              "}\n",
              "\n",
              "#sk-container-id-20 div.sk-parallel-item:last-child::after {\n",
              "  align-self: flex-start;\n",
              "  width: 50%;\n",
              "}\n",
              "\n",
              "#sk-container-id-20 div.sk-parallel-item:only-child::after {\n",
              "  width: 0;\n",
              "}\n",
              "\n",
              "/* Serial-specific style estimator block */\n",
              "\n",
              "#sk-container-id-20 div.sk-serial {\n",
              "  display: flex;\n",
              "  flex-direction: column;\n",
              "  align-items: center;\n",
              "  background-color: var(--sklearn-color-background);\n",
              "  padding-right: 1em;\n",
              "  padding-left: 1em;\n",
              "}\n",
              "\n",
              "\n",
              "/* Toggleable style: style used for estimator/Pipeline/ColumnTransformer box that is\n",
              "clickable and can be expanded/collapsed.\n",
              "- Pipeline and ColumnTransformer use this feature and define the default style\n",
              "- Estimators will overwrite some part of the style using the `sk-estimator` class\n",
              "*/\n",
              "\n",
              "/* Pipeline and ColumnTransformer style (default) */\n",
              "\n",
              "#sk-container-id-20 div.sk-toggleable {\n",
              "  /* Default theme specific background. It is overwritten whether we have a\n",
              "  specific estimator or a Pipeline/ColumnTransformer */\n",
              "  background-color: var(--sklearn-color-background);\n",
              "}\n",
              "\n",
              "/* Toggleable label */\n",
              "#sk-container-id-20 label.sk-toggleable__label {\n",
              "  cursor: pointer;\n",
              "  display: block;\n",
              "  width: 100%;\n",
              "  margin-bottom: 0;\n",
              "  padding: 0.5em;\n",
              "  box-sizing: border-box;\n",
              "  text-align: center;\n",
              "}\n",
              "\n",
              "#sk-container-id-20 label.sk-toggleable__label-arrow:before {\n",
              "  /* Arrow on the left of the label */\n",
              "  content: \"▸\";\n",
              "  float: left;\n",
              "  margin-right: 0.25em;\n",
              "  color: var(--sklearn-color-icon);\n",
              "}\n",
              "\n",
              "#sk-container-id-20 label.sk-toggleable__label-arrow:hover:before {\n",
              "  color: var(--sklearn-color-text);\n",
              "}\n",
              "\n",
              "/* Toggleable content - dropdown */\n",
              "\n",
              "#sk-container-id-20 div.sk-toggleable__content {\n",
              "  max-height: 0;\n",
              "  max-width: 0;\n",
              "  overflow: hidden;\n",
              "  text-align: left;\n",
              "  /* unfitted */\n",
              "  background-color: var(--sklearn-color-unfitted-level-0);\n",
              "}\n",
              "\n",
              "#sk-container-id-20 div.sk-toggleable__content.fitted {\n",
              "  /* fitted */\n",
              "  background-color: var(--sklearn-color-fitted-level-0);\n",
              "}\n",
              "\n",
              "#sk-container-id-20 div.sk-toggleable__content pre {\n",
              "  margin: 0.2em;\n",
              "  border-radius: 0.25em;\n",
              "  color: var(--sklearn-color-text);\n",
              "  /* unfitted */\n",
              "  background-color: var(--sklearn-color-unfitted-level-0);\n",
              "}\n",
              "\n",
              "#sk-container-id-20 div.sk-toggleable__content.fitted pre {\n",
              "  /* unfitted */\n",
              "  background-color: var(--sklearn-color-fitted-level-0);\n",
              "}\n",
              "\n",
              "#sk-container-id-20 input.sk-toggleable__control:checked~div.sk-toggleable__content {\n",
              "  /* Expand drop-down */\n",
              "  max-height: 200px;\n",
              "  max-width: 100%;\n",
              "  overflow: auto;\n",
              "}\n",
              "\n",
              "#sk-container-id-20 input.sk-toggleable__control:checked~label.sk-toggleable__label-arrow:before {\n",
              "  content: \"▾\";\n",
              "}\n",
              "\n",
              "/* Pipeline/ColumnTransformer-specific style */\n",
              "\n",
              "#sk-container-id-20 div.sk-label input.sk-toggleable__control:checked~label.sk-toggleable__label {\n",
              "  color: var(--sklearn-color-text);\n",
              "  background-color: var(--sklearn-color-unfitted-level-2);\n",
              "}\n",
              "\n",
              "#sk-container-id-20 div.sk-label.fitted input.sk-toggleable__control:checked~label.sk-toggleable__label {\n",
              "  background-color: var(--sklearn-color-fitted-level-2);\n",
              "}\n",
              "\n",
              "/* Estimator-specific style */\n",
              "\n",
              "/* Colorize estimator box */\n",
              "#sk-container-id-20 div.sk-estimator input.sk-toggleable__control:checked~label.sk-toggleable__label {\n",
              "  /* unfitted */\n",
              "  background-color: var(--sklearn-color-unfitted-level-2);\n",
              "}\n",
              "\n",
              "#sk-container-id-20 div.sk-estimator.fitted input.sk-toggleable__control:checked~label.sk-toggleable__label {\n",
              "  /* fitted */\n",
              "  background-color: var(--sklearn-color-fitted-level-2);\n",
              "}\n",
              "\n",
              "#sk-container-id-20 div.sk-label label.sk-toggleable__label,\n",
              "#sk-container-id-20 div.sk-label label {\n",
              "  /* The background is the default theme color */\n",
              "  color: var(--sklearn-color-text-on-default-background);\n",
              "}\n",
              "\n",
              "/* On hover, darken the color of the background */\n",
              "#sk-container-id-20 div.sk-label:hover label.sk-toggleable__label {\n",
              "  color: var(--sklearn-color-text);\n",
              "  background-color: var(--sklearn-color-unfitted-level-2);\n",
              "}\n",
              "\n",
              "/* Label box, darken color on hover, fitted */\n",
              "#sk-container-id-20 div.sk-label.fitted:hover label.sk-toggleable__label.fitted {\n",
              "  color: var(--sklearn-color-text);\n",
              "  background-color: var(--sklearn-color-fitted-level-2);\n",
              "}\n",
              "\n",
              "/* Estimator label */\n",
              "\n",
              "#sk-container-id-20 div.sk-label label {\n",
              "  font-family: monospace;\n",
              "  font-weight: bold;\n",
              "  display: inline-block;\n",
              "  line-height: 1.2em;\n",
              "}\n",
              "\n",
              "#sk-container-id-20 div.sk-label-container {\n",
              "  text-align: center;\n",
              "}\n",
              "\n",
              "/* Estimator-specific */\n",
              "#sk-container-id-20 div.sk-estimator {\n",
              "  font-family: monospace;\n",
              "  border: 1px dotted var(--sklearn-color-border-box);\n",
              "  border-radius: 0.25em;\n",
              "  box-sizing: border-box;\n",
              "  margin-bottom: 0.5em;\n",
              "  /* unfitted */\n",
              "  background-color: var(--sklearn-color-unfitted-level-0);\n",
              "}\n",
              "\n",
              "#sk-container-id-20 div.sk-estimator.fitted {\n",
              "  /* fitted */\n",
              "  background-color: var(--sklearn-color-fitted-level-0);\n",
              "}\n",
              "\n",
              "/* on hover */\n",
              "#sk-container-id-20 div.sk-estimator:hover {\n",
              "  /* unfitted */\n",
              "  background-color: var(--sklearn-color-unfitted-level-2);\n",
              "}\n",
              "\n",
              "#sk-container-id-20 div.sk-estimator.fitted:hover {\n",
              "  /* fitted */\n",
              "  background-color: var(--sklearn-color-fitted-level-2);\n",
              "}\n",
              "\n",
              "/* Specification for estimator info (e.g. \"i\" and \"?\") */\n",
              "\n",
              "/* Common style for \"i\" and \"?\" */\n",
              "\n",
              ".sk-estimator-doc-link,\n",
              "a:link.sk-estimator-doc-link,\n",
              "a:visited.sk-estimator-doc-link {\n",
              "  float: right;\n",
              "  font-size: smaller;\n",
              "  line-height: 1em;\n",
              "  font-family: monospace;\n",
              "  background-color: var(--sklearn-color-background);\n",
              "  border-radius: 1em;\n",
              "  height: 1em;\n",
              "  width: 1em;\n",
              "  text-decoration: none !important;\n",
              "  margin-left: 1ex;\n",
              "  /* unfitted */\n",
              "  border: var(--sklearn-color-unfitted-level-1) 1pt solid;\n",
              "  color: var(--sklearn-color-unfitted-level-1);\n",
              "}\n",
              "\n",
              ".sk-estimator-doc-link.fitted,\n",
              "a:link.sk-estimator-doc-link.fitted,\n",
              "a:visited.sk-estimator-doc-link.fitted {\n",
              "  /* fitted */\n",
              "  border: var(--sklearn-color-fitted-level-1) 1pt solid;\n",
              "  color: var(--sklearn-color-fitted-level-1);\n",
              "}\n",
              "\n",
              "/* On hover */\n",
              "div.sk-estimator:hover .sk-estimator-doc-link:hover,\n",
              ".sk-estimator-doc-link:hover,\n",
              "div.sk-label-container:hover .sk-estimator-doc-link:hover,\n",
              ".sk-estimator-doc-link:hover {\n",
              "  /* unfitted */\n",
              "  background-color: var(--sklearn-color-unfitted-level-3);\n",
              "  color: var(--sklearn-color-background);\n",
              "  text-decoration: none;\n",
              "}\n",
              "\n",
              "div.sk-estimator.fitted:hover .sk-estimator-doc-link.fitted:hover,\n",
              ".sk-estimator-doc-link.fitted:hover,\n",
              "div.sk-label-container:hover .sk-estimator-doc-link.fitted:hover,\n",
              ".sk-estimator-doc-link.fitted:hover {\n",
              "  /* fitted */\n",
              "  background-color: var(--sklearn-color-fitted-level-3);\n",
              "  color: var(--sklearn-color-background);\n",
              "  text-decoration: none;\n",
              "}\n",
              "\n",
              "/* Span, style for the box shown on hovering the info icon */\n",
              ".sk-estimator-doc-link span {\n",
              "  display: none;\n",
              "  z-index: 9999;\n",
              "  position: relative;\n",
              "  font-weight: normal;\n",
              "  right: .2ex;\n",
              "  padding: .5ex;\n",
              "  margin: .5ex;\n",
              "  width: min-content;\n",
              "  min-width: 20ex;\n",
              "  max-width: 50ex;\n",
              "  color: var(--sklearn-color-text);\n",
              "  box-shadow: 2pt 2pt 4pt #999;\n",
              "  /* unfitted */\n",
              "  background: var(--sklearn-color-unfitted-level-0);\n",
              "  border: .5pt solid var(--sklearn-color-unfitted-level-3);\n",
              "}\n",
              "\n",
              ".sk-estimator-doc-link.fitted span {\n",
              "  /* fitted */\n",
              "  background: var(--sklearn-color-fitted-level-0);\n",
              "  border: var(--sklearn-color-fitted-level-3);\n",
              "}\n",
              "\n",
              ".sk-estimator-doc-link:hover span {\n",
              "  display: block;\n",
              "}\n",
              "\n",
              "/* \"?\"-specific style due to the `<a>` HTML tag */\n",
              "\n",
              "#sk-container-id-20 a.estimator_doc_link {\n",
              "  float: right;\n",
              "  font-size: 1rem;\n",
              "  line-height: 1em;\n",
              "  font-family: monospace;\n",
              "  background-color: var(--sklearn-color-background);\n",
              "  border-radius: 1rem;\n",
              "  height: 1rem;\n",
              "  width: 1rem;\n",
              "  text-decoration: none;\n",
              "  /* unfitted */\n",
              "  color: var(--sklearn-color-unfitted-level-1);\n",
              "  border: var(--sklearn-color-unfitted-level-1) 1pt solid;\n",
              "}\n",
              "\n",
              "#sk-container-id-20 a.estimator_doc_link.fitted {\n",
              "  /* fitted */\n",
              "  border: var(--sklearn-color-fitted-level-1) 1pt solid;\n",
              "  color: var(--sklearn-color-fitted-level-1);\n",
              "}\n",
              "\n",
              "/* On hover */\n",
              "#sk-container-id-20 a.estimator_doc_link:hover {\n",
              "  /* unfitted */\n",
              "  background-color: var(--sklearn-color-unfitted-level-3);\n",
              "  color: var(--sklearn-color-background);\n",
              "  text-decoration: none;\n",
              "}\n",
              "\n",
              "#sk-container-id-20 a.estimator_doc_link.fitted:hover {\n",
              "  /* fitted */\n",
              "  background-color: var(--sklearn-color-fitted-level-3);\n",
              "}\n",
              "</style><div id=\"sk-container-id-20\" class=\"sk-top-container\"><div class=\"sk-text-repr-fallback\"><pre>RandomForestClassifier(random_state=42)</pre><b>In a Jupyter environment, please rerun this cell to show the HTML representation or trust the notebook. <br />On GitHub, the HTML representation is unable to render, please try loading this page with nbviewer.org.</b></div><div class=\"sk-container\" hidden><div class=\"sk-item\"><div class=\"sk-estimator fitted sk-toggleable\"><input class=\"sk-toggleable__control sk-hidden--visually\" id=\"sk-estimator-id-20\" type=\"checkbox\" checked><label for=\"sk-estimator-id-20\" class=\"sk-toggleable__label fitted sk-toggleable__label-arrow fitted\">&nbsp;&nbsp;RandomForestClassifier<a class=\"sk-estimator-doc-link fitted\" rel=\"noreferrer\" target=\"_blank\" href=\"https://scikit-learn.org/1.5/modules/generated/sklearn.ensemble.RandomForestClassifier.html\">?<span>Documentation for RandomForestClassifier</span></a><span class=\"sk-estimator-doc-link fitted\">i<span>Fitted</span></span></label><div class=\"sk-toggleable__content fitted\"><pre>RandomForestClassifier(random_state=42)</pre></div> </div></div></div></div>"
            ],
            "text/plain": [
              "RandomForestClassifier(random_state=42)"
            ]
          },
          "execution_count": 255,
          "metadata": {},
          "output_type": "execute_result"
        }
      ],
      "source": [
        "forest_clf = RandomForestClassifier(n_estimators=n_estimators.value, random_state=42)\n",
        "forest_clf.fit(X_train, y_train)"
      ]
    },
    {
      "cell_type": "code",
      "execution_count": null,
      "id": "1e411a08-df1d-4732-ae03-19317f3eed2d",
      "metadata": {
        "id": "1e411a08-df1d-4732-ae03-19317f3eed2d",
        "outputId": "281621bd-4cb0-48fc-afaa-b7cdba66cb5f"
      },
      "outputs": [
        {
          "name": "stdout",
          "output_type": "stream",
          "text": [
            "Предсказание ['shutdown_mode']\n",
            "Правда              target\n",
            "2262  shutdown_mode\n"
          ]
        }
      ],
      "source": [
        "some_index = X_train.sample().index\n",
        "\n",
        "X_some_mode = X_train.iloc[some_index]\n",
        "y_some_mode = y_train.iloc[some_index]\n",
        "\n",
        "print(f\"Предсказание {forest_clf.predict(X_some_mode)}\")\n",
        "print(f\"Правда {y_some_mode}\")"
      ]
    },
    {
      "cell_type": "markdown",
      "id": "c9a1a691-09ec-4fa9-9fe8-6e811f7be9c0",
      "metadata": {
        "id": "c9a1a691-09ec-4fa9-9fe8-6e811f7be9c0"
      },
      "source": [
        "### Анализ качества модели случайного леса"
      ]
    },
    {
      "cell_type": "code",
      "execution_count": null,
      "id": "9d88f24f-d598-49b7-8205-81f0d0bb782b",
      "metadata": {
        "id": "9d88f24f-d598-49b7-8205-81f0d0bb782b"
      },
      "outputs": [],
      "source": [
        "forest_clf_eval = RandomForestClassifier(n_estimators=n_estimators.value, random_state=42)\n",
        "# Создаем стратифицированную кросс-валидацию\n",
        "skf = StratifiedKFold(n_splits=5, shuffle=True, random_state=42)\n",
        "# Получаем предсказания с кросс-валидацией\n",
        "y_train_pred_forest = cross_val_predict(forest_clf_eval, X_train, y_train, cv=skf)"
      ]
    },
    {
      "cell_type": "code",
      "execution_count": null,
      "id": "86ab1d9d-016b-4147-b256-77303c84b3c0",
      "metadata": {
        "id": "86ab1d9d-016b-4147-b256-77303c84b3c0",
        "outputId": "130a3aca-8442-4e8f-ce3c-af5dd632e3cd"
      },
      "outputs": [
        {
          "data": {
            "image/png": "[encoded data removed]",
            "text/plain": [
              "<Figure size 640x480 with 2 Axes>"
            ]
          },
          "metadata": {},
          "output_type": "display_data"
        }
      ],
      "source": [
        "conf_mat = confusion_matrix(y_train, y_train_pred_forest)\n",
        "ConfusionMatrixDisplay(conf_mat).plot()\n",
        "plt.show()"
      ]
    },
    {
      "cell_type": "markdown",
      "id": "99580b0e-723e-4ed3-924e-435f974cdad4",
      "metadata": {
        "id": "99580b0e-723e-4ed3-924e-435f974cdad4"
      },
      "source": [
        "#### Accuracy"
      ]
    },
    {
      "cell_type": "code",
      "execution_count": null,
      "id": "f10b1f2a-eec7-4c05-a625-21570bcf05dc",
      "metadata": {
        "id": "f10b1f2a-eec7-4c05-a625-21570bcf05dc"
      },
      "outputs": [],
      "source": [
        "accuracy_classifier['forest'] = accuracy_score(y_train, y_train_pred_forest)"
      ]
    },
    {
      "cell_type": "markdown",
      "id": "c0cdc141-7542-4b01-b01a-c2b0cad96e39",
      "metadata": {
        "id": "c0cdc141-7542-4b01-b01a-c2b0cad96e39"
      },
      "source": [
        "#### Precision и recall"
      ]
    },
    {
      "cell_type": "code",
      "execution_count": null,
      "id": "71e6b152-eacc-4369-a5c0-a7123108bf5f",
      "metadata": {
        "id": "71e6b152-eacc-4369-a5c0-a7123108bf5f"
      },
      "outputs": [],
      "source": [
        "precision_classifier['forest'] = precision_score(y_train, y_train_pred_forest, average='macro', zero_division = np.nan)\n",
        "recall_classifier['forest'] = recall_score(y_train, y_train_pred_forest, average='macro', zero_division = np.nan)"
      ]
    },
    {
      "cell_type": "markdown",
      "id": "735c3f7c-afe3-4929-b6b5-7a94c6f113c1",
      "metadata": {
        "id": "735c3f7c-afe3-4929-b6b5-7a94c6f113c1"
      },
      "source": [
        "#### F1"
      ]
    },
    {
      "cell_type": "code",
      "execution_count": null,
      "id": "ea2fdde9-3966-4d4f-92ee-4929c9902a80",
      "metadata": {
        "id": "ea2fdde9-3966-4d4f-92ee-4929c9902a80"
      },
      "outputs": [],
      "source": [
        "f1_classifier['forest'] = f1_score(y_train, y_train_pred_forest, average='macro', zero_division = np.nan)"
      ]
    },
    {
      "cell_type": "markdown",
      "id": "2c15f2fe-2f0c-4971-a3bd-555cdef2e6d2",
      "metadata": {
        "id": "2c15f2fe-2f0c-4971-a3bd-555cdef2e6d2"
      },
      "source": [
        "#### Значения метрик"
      ]
    },
    {
      "cell_type": "code",
      "execution_count": null,
      "id": "6fee1e2b-c167-488b-9b69-403b5c87b890",
      "metadata": {
        "id": "6fee1e2b-c167-488b-9b69-403b5c87b890",
        "outputId": "d90ebe06-628e-448c-a824-0990660c0d50"
      },
      "outputs": [
        {
          "name": "stdout",
          "output_type": "stream",
          "text": [
            "accuracy - 94.61%\n",
            "precision - 91.68%\n",
            "recall - 89.24%\n",
            "F1 - 90.32%\n"
          ]
        }
      ],
      "source": [
        "print(f\"accuracy - {accuracy_classifier['forest']*100:0.2f}%\")\n",
        "print(f\"precision - {precision_classifier['forest']*100:0.2f}%\")\n",
        "print(f\"recall - {recall_classifier['forest']*100:0.2f}%\")\n",
        "print(f\"F1 - {f1_classifier['forest']*100:0.2f}%\")"
      ]
    },
    {
      "cell_type": "markdown",
      "id": "683a5819-d1d3-43ad-9a88-6b1a84fb4db9",
      "metadata": {
        "id": "683a5819-d1d3-43ad-9a88-6b1a84fb4db9"
      },
      "source": [
        "## Сравнение"
      ]
    },
    {
      "cell_type": "code",
      "execution_count": null,
      "id": "11622ea7-2b17-448e-a62a-d9c600f2433d",
      "metadata": {
        "id": "11622ea7-2b17-448e-a62a-d9c600f2433d",
        "outputId": "62d63fce-5533-4118-e38e-aecd3965f1c5"
      },
      "outputs": [
        {
          "data": {
            "text/plain": [
              "{'svm': np.float64(0.7962546878534467),\n",
              " 'knn': np.float64(0.8301402193369797),\n",
              " 'forest': np.float64(0.9168157389258585)}"
            ]
          },
          "execution_count": 217,
          "metadata": {},
          "output_type": "execute_result"
        }
      ],
      "source": [
        "precision_classifier"
      ]
    },
    {
      "cell_type": "code",
      "execution_count": null,
      "id": "7f8925c4-9be4-46f8-8f7c-49d8653d16fc",
      "metadata": {
        "id": "7f8925c4-9be4-46f8-8f7c-49d8653d16fc",
        "outputId": "d61bfb53-9c34-4f2d-cb99-bdc3600db824"
      },
      "outputs": [
        {
          "data": {
            "text/plain": [
              "{'svm': np.float64(0.6697090634198392),\n",
              " 'knn': np.float64(0.8277366062739978),\n",
              " 'forest': np.float64(0.8924486354154271)}"
            ]
          },
          "execution_count": 218,
          "metadata": {},
          "output_type": "execute_result"
        }
      ],
      "source": [
        "recall_classifier"
      ]
    },
    {
      "cell_type": "code",
      "execution_count": null,
      "id": "b9e321e7-bf44-4151-9258-453937b0a01f",
      "metadata": {
        "id": "b9e321e7-bf44-4151-9258-453937b0a01f",
        "outputId": "c7ceadfc-23e4-4a02-e5ba-7bddee21b887"
      },
      "outputs": [
        {
          "data": {
            "text/plain": [
              "{'svm': np.float64(0.6886505723911461),\n",
              " 'knn': np.float64(0.8279873097642854),\n",
              " 'forest': np.float64(0.9032224715212009)}"
            ]
          },
          "execution_count": 219,
          "metadata": {},
          "output_type": "execute_result"
        }
      ],
      "source": [
        "f1_classifier"
      ]
    },
    {
      "cell_type": "code",
      "execution_count": null,
      "id": "411ede94-830c-4277-9f9b-ffb45dd0b52e",
      "metadata": {
        "id": "411ede94-830c-4277-9f9b-ffb45dd0b52e",
        "outputId": "12e53145-ce69-40d7-e78a-396e92a96edf"
      },
      "outputs": [
        {
          "data": {
            "text/plain": [
              "{'svm': 0.89749430523918,\n",
              " 'knn': 0.89749430523918,\n",
              " 'forest': 0.9460895975702354}"
            ]
          },
          "execution_count": 220,
          "metadata": {},
          "output_type": "execute_result"
        }
      ],
      "source": [
        "accuracy_classifier"
      ]
    },
    {
      "cell_type": "code",
      "execution_count": null,
      "id": "edfa1384-d68a-4610-89f4-b2564ad18ff6",
      "metadata": {
        "id": "edfa1384-d68a-4610-89f4-b2564ad18ff6"
      },
      "outputs": [],
      "source": []
    }
  ],
  "metadata": {
    "kernelspec": {
      "display_name": "Python 3 (ipykernel)",
      "language": "python",
      "name": "python3"
    },
    "language_info": {
      "codemirror_mode": {
        "name": "ipython",
        "version": 3
      },
      "file_extension": ".py",
      "mimetype": "text/x-python",
      "name": "python",
      "nbconvert_exporter": "python",
      "pygments_lexer": "ipython3",
      "version": "3.12.4"
    },
    "colab": {
      "provenance": [],
      "include_colab_link": true
    }
  },
  "nbformat": 4,
  "nbformat_minor": 5
}