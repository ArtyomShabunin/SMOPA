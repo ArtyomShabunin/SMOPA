{
  "cells": [
    {
      "cell_type": "markdown",
      "metadata": {
        "id": "view-in-github",
        "colab_type": "text"
      },
      "source": [
        "<a href=\"https://colab.research.google.com/github/ArtyomShabunin/SMOPA/blob/main/lesson_7.ipynb\" target=\"_parent\"><img src=\"https://colab.research.google.com/assets/colab-badge.svg\" alt=\"Open In Colab\"/></a>"
      ]
    },
    {
      "cell_type": "markdown",
      "id": "17db1210-d971-4a37-a9e2-a1b097d6bd1c",
      "metadata": {
        "id": "17db1210-d971-4a37-a9e2-a1b097d6bd1c"
      },
      "source": [
        "<img src=\"https://prana-system.com/files/110/rds_color_full.png\" alt=\"tot image\" width=\"300\"  align=\"center\"/> &nbsp;&nbsp;&nbsp;&nbsp;&nbsp;&nbsp;&nbsp;&nbsp;\n",
        "<img src=\"https://mpei.ru/AboutUniverse/OficialInfo/Attributes/PublishingImages/logo1.jpg\" alt=\"mpei image\" width=\"200\" align=\"center\"/>\n",
        "<img src=\"https://mpei.ru/Structure/Universe/tanpe/structure/tfhe/PublishingImages/tot.png\" alt=\"tot image\" width=\"100\"  align=\"center\"/>\n",
        "\n",
        "---\n",
        "\n",
        "# **Системы машинного обучения и предиктивной аналитики в тепловой и возобновляемой энергетике**  \n",
        "\n",
        "# ***Практические занятия***\n",
        "\n",
        "\n",
        "---"
      ]
    },
    {
      "cell_type": "markdown",
      "id": "649f24c5-e668-40b7-9dec-f8532fd853fb",
      "metadata": {
        "id": "649f24c5-e668-40b7-9dec-f8532fd853fb"
      },
      "source": [
        "# Занятие №7\n",
        "# Многоклассовая классификация методами глубокого обучения\n",
        "**2 апреля 2025г.**"
      ]
    },
    {
      "cell_type": "code",
      "execution_count": 425,
      "id": "9e473d41-cb8c-432e-918e-02b06a183e61",
      "metadata": {
        "id": "9e473d41-cb8c-432e-918e-02b06a183e61"
      },
      "outputs": [],
      "source": [
        "import numpy as np\n",
        "import pandas as pd\n",
        "import seaborn as sns\n",
        "import matplotlib.pyplot as plt\n",
        "\n",
        "from sklearn import preprocessing\n",
        "# from sklearn.model_selection import cross_val_predict\n",
        "from sklearn.metrics import confusion_matrix, precision_score, recall_score, f1_score, ConfusionMatrixDisplay\n",
        "from sklearn.metrics import accuracy_score, r2_score\n",
        "\n",
        "\n",
        "import torch\n",
        "import torch.nn as nn\n",
        "import torch.nn.functional as F\n",
        "from torch.utils.data import Dataset, DataLoader\n",
        "from torch.optim import lr_scheduler\n",
        "\n",
        "from imblearn.under_sampling import RandomUnderSampler\n",
        "\n",
        "from tqdm import tqdm"
      ]
    },
    {
      "cell_type": "code",
      "execution_count": null,
      "id": "79debe5c-65c5-4820-8cc8-13fae17674c2",
      "metadata": {
        "colab": {
          "base_uri": "https://localhost:8080/"
        },
        "id": "79debe5c-65c5-4820-8cc8-13fae17674c2",
        "outputId": "25e4260d-e5d1-44a3-97f4-ca635751e38b"
      },
      "outputs": [
        {
          "output_type": "execute_result",
          "data": {
            "text/plain": [
              "device(type='cuda')"
            ]
          },
          "metadata": {},
          "execution_count": 282
        }
      ],
      "source": [
        "device = torch.device('cuda') if torch.cuda.is_available() else torch.device('cpu')\n",
        "# device = torch.device('cpu')\n",
        "device"
      ]
    },
    {
      "cell_type": "markdown",
      "id": "f0267989-2fb6-4388-b6f7-c1f8034fdf29",
      "metadata": {
        "id": "f0267989-2fb6-4388-b6f7-c1f8034fdf29"
      },
      "source": [
        "## Загрузка данных"
      ]
    },
    {
      "cell_type": "code",
      "execution_count": null,
      "id": "00b92e51-ce8b-4456-97d6-4ac23c867342",
      "metadata": {
        "colab": {
          "base_uri": "https://localhost:8080/"
        },
        "id": "00b92e51-ce8b-4456-97d6-4ac23c867342",
        "outputId": "ccb3efa4-eb3b-4a77-8950-d4df2b64f252"
      },
      "outputs": [
        {
          "output_type": "stream",
          "name": "stderr",
          "text": [
            "Downloading...\n",
            "From (original): https://drive.google.com/uc?id=1j54o4pHTm3HvaYTEtv_i4hOJGy5yNeZZ\n",
            "From (redirected): https://drive.google.com/uc?id=1j54o4pHTm3HvaYTEtv_i4hOJGy5yNeZZ&confirm=t&uuid=883bb37e-5b44-49be-b7c6-1702d2dc2f9d\n",
            "To: /content/data_modes.gzip\n",
            "100%|██████████| 173M/173M [00:01<00:00, 138MB/s] \n"
          ]
        }
      ],
      "source": [
        "import gdown\n",
        "import warnings\n",
        "warnings.filterwarnings('ignore')\n",
        "gdown.download('https://drive.google.com/uc?id=1j54o4pHTm3HvaYTEtv_i4hOJGy5yNeZZ', verify=False)\n",
        "\n",
        "data = pd.read_parquet(\"./data_modes.gzip\")"
      ]
    },
    {
      "cell_type": "code",
      "execution_count": null,
      "id": "0daddace-c412-4c85-a0c6-7a885ef9906a",
      "metadata": {
        "colab": {
          "base_uri": "https://localhost:8080/"
        },
        "id": "0daddace-c412-4c85-a0c6-7a885ef9906a",
        "outputId": "d77c1c91-f9f6-4806-86e9-9bda9fed899e"
      },
      "outputs": [
        {
          "output_type": "execute_result",
          "data": {
            "text/plain": [
              "(1082098, 56)"
            ]
          },
          "metadata": {},
          "execution_count": 387
        }
      ],
      "source": [
        "data.shape"
      ]
    },
    {
      "cell_type": "code",
      "execution_count": null,
      "id": "503cced8-06bb-456b-8b39-60379e7ca3d0",
      "metadata": {
        "colab": {
          "base_uri": "https://localhost:8080/",
          "height": 429
        },
        "id": "503cced8-06bb-456b-8b39-60379e7ca3d0",
        "outputId": "64084029-fc77-4e57-b7dc-207aa89e16c7"
      },
      "outputs": [
        {
          "output_type": "execute_result",
          "data": {
            "text/plain": [
              "                     GTA1.DBinPU.Aldi  GTA1.DBinPU.Alvna  GTA1.DBinPU.Alzzo  \\\n",
              "2023-02-26 06:59:50        225.550000          -4.398000          -0.082000   \n",
              "2023-02-26 07:00:00        225.610769          -4.327115          -0.089769   \n",
              "2023-02-26 07:00:10        225.436897          -4.363724          -0.091000   \n",
              "2023-02-26 07:00:20        225.710833          -4.306625          -0.093000   \n",
              "2023-02-26 07:00:30        226.355000          -4.183118          -0.091500   \n",
              "\n",
              "                     GTA1.DBinPU.Bo  GTA1.DBinPU.DlPkf  GTA1.DBinPU.DlPtgft  \\\n",
              "2023-02-26 06:59:50         101.044         113.088000            33.709000   \n",
              "2023-02-26 07:00:00         101.044         113.151231            33.709000   \n",
              "2023-02-26 07:00:10         101.044         113.039759            33.633586   \n",
              "2023-02-26 07:00:20         101.044         113.053458            33.506500   \n",
              "2023-02-26 07:00:30         101.044         113.730941            33.818529   \n",
              "\n",
              "                     GTA1.DBinPU.DlPvf  GTA1.DBinPU.fi  GTA1.DBinPU.hmGTD  \\\n",
              "2023-02-26 06:59:50           0.200000       56.615000             442.64   \n",
              "2023-02-26 07:00:00           0.200000       56.615000             442.64   \n",
              "2023-02-26 07:00:10           0.200207       56.516103             442.64   \n",
              "2023-02-26 07:00:20           0.200750       56.376000             442.64   \n",
              "2023-02-26 07:00:30           0.200000       56.199353             442.64   \n",
              "\n",
              "                     GTA1.DBinPU.hmTG  ...  heated_air  zzo_is_open  \\\n",
              "2023-02-26 06:59:50           444.536  ...       False        False   \n",
              "2023-02-26 07:00:00           444.536  ...       False        False   \n",
              "2023-02-26 07:00:10           444.536  ...       False        False   \n",
              "2023-02-26 07:00:20           444.536  ...       False        False   \n",
              "2023-02-26 07:00:30           444.536  ...       False        False   \n",
              "\n",
              "                     full_power_mode  partial_power_mode  increas_power_mode  \\\n",
              "2023-02-26 06:59:50             True               False               False   \n",
              "2023-02-26 07:00:00             True               False               False   \n",
              "2023-02-26 07:00:10             True               False               False   \n",
              "2023-02-26 07:00:20             True               False               False   \n",
              "2023-02-26 07:00:30             True               False               False   \n",
              "\n",
              "                     decreas_power_mode  start_up_mode  shutdown_mode  \\\n",
              "2023-02-26 06:59:50               False          False          False   \n",
              "2023-02-26 07:00:00               False          False          False   \n",
              "2023-02-26 07:00:10               False          False          False   \n",
              "2023-02-26 07:00:20               False          False          False   \n",
              "2023-02-26 07:00:30               False          False          False   \n",
              "\n",
              "                     stopped_state_mode  air_heating_mode  \n",
              "2023-02-26 06:59:50               False             False  \n",
              "2023-02-26 07:00:00               False             False  \n",
              "2023-02-26 07:00:10               False             False  \n",
              "2023-02-26 07:00:20               False             False  \n",
              "2023-02-26 07:00:30               False             False  \n",
              "\n",
              "[5 rows x 56 columns]"
            ],
            "text/html": [
              "\n",
              "  <div id=\"df-9f5ef4ca-0db9-4716-924b-2fbd59eb19c5\" class=\"colab-df-container\">\n",
              "    <div>\n",
              "<style scoped>\n",
              "    .dataframe tbody tr th:only-of-type {\n",
              "        vertical-align: middle;\n",
              "    }\n",
              "\n",
              "    .dataframe tbody tr th {\n",
              "        vertical-align: top;\n",
              "    }\n",
              "\n",
              "    .dataframe thead th {\n",
              "        text-align: right;\n",
              "    }\n",
              "</style>\n",
              "<table border=\"1\" class=\"dataframe\">\n",
              "  <thead>\n",
              "    <tr style=\"text-align: right;\">\n",
              "      <th></th>\n",
              "      <th>GTA1.DBinPU.Aldi</th>\n",
              "      <th>GTA1.DBinPU.Alvna</th>\n",
              "      <th>GTA1.DBinPU.Alzzo</th>\n",
              "      <th>GTA1.DBinPU.Bo</th>\n",
              "      <th>GTA1.DBinPU.DlPkf</th>\n",
              "      <th>GTA1.DBinPU.DlPtgft</th>\n",
              "      <th>GTA1.DBinPU.DlPvf</th>\n",
              "      <th>GTA1.DBinPU.fi</th>\n",
              "      <th>GTA1.DBinPU.hmGTD</th>\n",
              "      <th>GTA1.DBinPU.hmTG</th>\n",
              "      <th>...</th>\n",
              "      <th>heated_air</th>\n",
              "      <th>zzo_is_open</th>\n",
              "      <th>full_power_mode</th>\n",
              "      <th>partial_power_mode</th>\n",
              "      <th>increas_power_mode</th>\n",
              "      <th>decreas_power_mode</th>\n",
              "      <th>start_up_mode</th>\n",
              "      <th>shutdown_mode</th>\n",
              "      <th>stopped_state_mode</th>\n",
              "      <th>air_heating_mode</th>\n",
              "    </tr>\n",
              "  </thead>\n",
              "  <tbody>\n",
              "    <tr>\n",
              "      <th>2023-02-26 06:59:50</th>\n",
              "      <td>225.550000</td>\n",
              "      <td>-4.398000</td>\n",
              "      <td>-0.082000</td>\n",
              "      <td>101.044</td>\n",
              "      <td>113.088000</td>\n",
              "      <td>33.709000</td>\n",
              "      <td>0.200000</td>\n",
              "      <td>56.615000</td>\n",
              "      <td>442.64</td>\n",
              "      <td>444.536</td>\n",
              "      <td>...</td>\n",
              "      <td>False</td>\n",
              "      <td>False</td>\n",
              "      <td>True</td>\n",
              "      <td>False</td>\n",
              "      <td>False</td>\n",
              "      <td>False</td>\n",
              "      <td>False</td>\n",
              "      <td>False</td>\n",
              "      <td>False</td>\n",
              "      <td>False</td>\n",
              "    </tr>\n",
              "    <tr>\n",
              "      <th>2023-02-26 07:00:00</th>\n",
              "      <td>225.610769</td>\n",
              "      <td>-4.327115</td>\n",
              "      <td>-0.089769</td>\n",
              "      <td>101.044</td>\n",
              "      <td>113.151231</td>\n",
              "      <td>33.709000</td>\n",
              "      <td>0.200000</td>\n",
              "      <td>56.615000</td>\n",
              "      <td>442.64</td>\n",
              "      <td>444.536</td>\n",
              "      <td>...</td>\n",
              "      <td>False</td>\n",
              "      <td>False</td>\n",
              "      <td>True</td>\n",
              "      <td>False</td>\n",
              "      <td>False</td>\n",
              "      <td>False</td>\n",
              "      <td>False</td>\n",
              "      <td>False</td>\n",
              "      <td>False</td>\n",
              "      <td>False</td>\n",
              "    </tr>\n",
              "    <tr>\n",
              "      <th>2023-02-26 07:00:10</th>\n",
              "      <td>225.436897</td>\n",
              "      <td>-4.363724</td>\n",
              "      <td>-0.091000</td>\n",
              "      <td>101.044</td>\n",
              "      <td>113.039759</td>\n",
              "      <td>33.633586</td>\n",
              "      <td>0.200207</td>\n",
              "      <td>56.516103</td>\n",
              "      <td>442.64</td>\n",
              "      <td>444.536</td>\n",
              "      <td>...</td>\n",
              "      <td>False</td>\n",
              "      <td>False</td>\n",
              "      <td>True</td>\n",
              "      <td>False</td>\n",
              "      <td>False</td>\n",
              "      <td>False</td>\n",
              "      <td>False</td>\n",
              "      <td>False</td>\n",
              "      <td>False</td>\n",
              "      <td>False</td>\n",
              "    </tr>\n",
              "    <tr>\n",
              "      <th>2023-02-26 07:00:20</th>\n",
              "      <td>225.710833</td>\n",
              "      <td>-4.306625</td>\n",
              "      <td>-0.093000</td>\n",
              "      <td>101.044</td>\n",
              "      <td>113.053458</td>\n",
              "      <td>33.506500</td>\n",
              "      <td>0.200750</td>\n",
              "      <td>56.376000</td>\n",
              "      <td>442.64</td>\n",
              "      <td>444.536</td>\n",
              "      <td>...</td>\n",
              "      <td>False</td>\n",
              "      <td>False</td>\n",
              "      <td>True</td>\n",
              "      <td>False</td>\n",
              "      <td>False</td>\n",
              "      <td>False</td>\n",
              "      <td>False</td>\n",
              "      <td>False</td>\n",
              "      <td>False</td>\n",
              "      <td>False</td>\n",
              "    </tr>\n",
              "    <tr>\n",
              "      <th>2023-02-26 07:00:30</th>\n",
              "      <td>226.355000</td>\n",
              "      <td>-4.183118</td>\n",
              "      <td>-0.091500</td>\n",
              "      <td>101.044</td>\n",
              "      <td>113.730941</td>\n",
              "      <td>33.818529</td>\n",
              "      <td>0.200000</td>\n",
              "      <td>56.199353</td>\n",
              "      <td>442.64</td>\n",
              "      <td>444.536</td>\n",
              "      <td>...</td>\n",
              "      <td>False</td>\n",
              "      <td>False</td>\n",
              "      <td>True</td>\n",
              "      <td>False</td>\n",
              "      <td>False</td>\n",
              "      <td>False</td>\n",
              "      <td>False</td>\n",
              "      <td>False</td>\n",
              "      <td>False</td>\n",
              "      <td>False</td>\n",
              "    </tr>\n",
              "  </tbody>\n",
              "</table>\n",
              "<p>5 rows × 56 columns</p>\n",
              "</div>\n",
              "    <div class=\"colab-df-buttons\">\n",
              "\n",
              "  <div class=\"colab-df-container\">\n",
              "    <button class=\"colab-df-convert\" onclick=\"convertToInteractive('df-9f5ef4ca-0db9-4716-924b-2fbd59eb19c5')\"\n",
              "            title=\"Convert this dataframe to an interactive table.\"\n",
              "            style=\"display:none;\">\n",
              "\n",
              "  <svg xmlns=\"http://www.w3.org/2000/svg\" height=\"24px\" viewBox=\"0 -960 960 960\">\n",
              "    <path d=\"M120-120v-720h720v720H120Zm60-500h600v-160H180v160Zm220 220h160v-160H400v160Zm0 220h160v-160H400v160ZM180-400h160v-160H180v160Zm440 0h160v-160H620v160ZM180-180h160v-160H180v160Zm440 0h160v-160H620v160Z\"/>\n",
              "  </svg>\n",
              "    </button>\n",
              "\n",
              "  <style>\n",
              "    .colab-df-container {\n",
              "      display:flex;\n",
              "      gap: 12px;\n",
              "    }\n",
              "\n",
              "    .colab-df-convert {\n",
              "      background-color: #E8F0FE;\n",
              "      border: none;\n",
              "      border-radius: 50%;\n",
              "      cursor: pointer;\n",
              "      display: none;\n",
              "      fill: #1967D2;\n",
              "      height: 32px;\n",
              "      padding: 0 0 0 0;\n",
              "      width: 32px;\n",
              "    }\n",
              "\n",
              "    .colab-df-convert:hover {\n",
              "      background-color: #E2EBFA;\n",
              "      box-shadow: 0px 1px 2px rgba(60, 64, 67, 0.3), 0px 1px 3px 1px rgba(60, 64, 67, 0.15);\n",
              "      fill: #174EA6;\n",
              "    }\n",
              "\n",
              "    .colab-df-buttons div {\n",
              "      margin-bottom: 4px;\n",
              "    }\n",
              "\n",
              "    [theme=dark] .colab-df-convert {\n",
              "      background-color: #3B4455;\n",
              "      fill: #D2E3FC;\n",
              "    }\n",
              "\n",
              "    [theme=dark] .colab-df-convert:hover {\n",
              "      background-color: #434B5C;\n",
              "      box-shadow: 0px 1px 3px 1px rgba(0, 0, 0, 0.15);\n",
              "      filter: drop-shadow(0px 1px 2px rgba(0, 0, 0, 0.3));\n",
              "      fill: #FFFFFF;\n",
              "    }\n",
              "  </style>\n",
              "\n",
              "    <script>\n",
              "      const buttonEl =\n",
              "        document.querySelector('#df-9f5ef4ca-0db9-4716-924b-2fbd59eb19c5 button.colab-df-convert');\n",
              "      buttonEl.style.display =\n",
              "        google.colab.kernel.accessAllowed ? 'block' : 'none';\n",
              "\n",
              "      async function convertToInteractive(key) {\n",
              "        const element = document.querySelector('#df-9f5ef4ca-0db9-4716-924b-2fbd59eb19c5');\n",
              "        const dataTable =\n",
              "          await google.colab.kernel.invokeFunction('convertToInteractive',\n",
              "                                                    [key], {});\n",
              "        if (!dataTable) return;\n",
              "\n",
              "        const docLinkHtml = 'Like what you see? Visit the ' +\n",
              "          '<a target=\"_blank\" href=https://colab.research.google.com/notebooks/data_table.ipynb>data table notebook</a>'\n",
              "          + ' to learn more about interactive tables.';\n",
              "        element.innerHTML = '';\n",
              "        dataTable['output_type'] = 'display_data';\n",
              "        await google.colab.output.renderOutput(dataTable, element);\n",
              "        const docLink = document.createElement('div');\n",
              "        docLink.innerHTML = docLinkHtml;\n",
              "        element.appendChild(docLink);\n",
              "      }\n",
              "    </script>\n",
              "  </div>\n",
              "\n",
              "\n",
              "<div id=\"df-fa035b7f-15d3-4578-be83-183ed078189e\">\n",
              "  <button class=\"colab-df-quickchart\" onclick=\"quickchart('df-fa035b7f-15d3-4578-be83-183ed078189e')\"\n",
              "            title=\"Suggest charts\"\n",
              "            style=\"display:none;\">\n",
              "\n",
              "<svg xmlns=\"http://www.w3.org/2000/svg\" height=\"24px\"viewBox=\"0 0 24 24\"\n",
              "     width=\"24px\">\n",
              "    <g>\n",
              "        <path d=\"M19 3H5c-1.1 0-2 .9-2 2v14c0 1.1.9 2 2 2h14c1.1 0 2-.9 2-2V5c0-1.1-.9-2-2-2zM9 17H7v-7h2v7zm4 0h-2V7h2v10zm4 0h-2v-4h2v4z\"/>\n",
              "    </g>\n",
              "</svg>\n",
              "  </button>\n",
              "\n",
              "<style>\n",
              "  .colab-df-quickchart {\n",
              "      --bg-color: #E8F0FE;\n",
              "      --fill-color: #1967D2;\n",
              "      --hover-bg-color: #E2EBFA;\n",
              "      --hover-fill-color: #174EA6;\n",
              "      --disabled-fill-color: #AAA;\n",
              "      --disabled-bg-color: #DDD;\n",
              "  }\n",
              "\n",
              "  [theme=dark] .colab-df-quickchart {\n",
              "      --bg-color: #3B4455;\n",
              "      --fill-color: #D2E3FC;\n",
              "      --hover-bg-color: #434B5C;\n",
              "      --hover-fill-color: #FFFFFF;\n",
              "      --disabled-bg-color: #3B4455;\n",
              "      --disabled-fill-color: #666;\n",
              "  }\n",
              "\n",
              "  .colab-df-quickchart {\n",
              "    background-color: var(--bg-color);\n",
              "    border: none;\n",
              "    border-radius: 50%;\n",
              "    cursor: pointer;\n",
              "    display: none;\n",
              "    fill: var(--fill-color);\n",
              "    height: 32px;\n",
              "    padding: 0;\n",
              "    width: 32px;\n",
              "  }\n",
              "\n",
              "  .colab-df-quickchart:hover {\n",
              "    background-color: var(--hover-bg-color);\n",
              "    box-shadow: 0 1px 2px rgba(60, 64, 67, 0.3), 0 1px 3px 1px rgba(60, 64, 67, 0.15);\n",
              "    fill: var(--button-hover-fill-color);\n",
              "  }\n",
              "\n",
              "  .colab-df-quickchart-complete:disabled,\n",
              "  .colab-df-quickchart-complete:disabled:hover {\n",
              "    background-color: var(--disabled-bg-color);\n",
              "    fill: var(--disabled-fill-color);\n",
              "    box-shadow: none;\n",
              "  }\n",
              "\n",
              "  .colab-df-spinner {\n",
              "    border: 2px solid var(--fill-color);\n",
              "    border-color: transparent;\n",
              "    border-bottom-color: var(--fill-color);\n",
              "    animation:\n",
              "      spin 1s steps(1) infinite;\n",
              "  }\n",
              "\n",
              "  @keyframes spin {\n",
              "    0% {\n",
              "      border-color: transparent;\n",
              "      border-bottom-color: var(--fill-color);\n",
              "      border-left-color: var(--fill-color);\n",
              "    }\n",
              "    20% {\n",
              "      border-color: transparent;\n",
              "      border-left-color: var(--fill-color);\n",
              "      border-top-color: var(--fill-color);\n",
              "    }\n",
              "    30% {\n",
              "      border-color: transparent;\n",
              "      border-left-color: var(--fill-color);\n",
              "      border-top-color: var(--fill-color);\n",
              "      border-right-color: var(--fill-color);\n",
              "    }\n",
              "    40% {\n",
              "      border-color: transparent;\n",
              "      border-right-color: var(--fill-color);\n",
              "      border-top-color: var(--fill-color);\n",
              "    }\n",
              "    60% {\n",
              "      border-color: transparent;\n",
              "      border-right-color: var(--fill-color);\n",
              "    }\n",
              "    80% {\n",
              "      border-color: transparent;\n",
              "      border-right-color: var(--fill-color);\n",
              "      border-bottom-color: var(--fill-color);\n",
              "    }\n",
              "    90% {\n",
              "      border-color: transparent;\n",
              "      border-bottom-color: var(--fill-color);\n",
              "    }\n",
              "  }\n",
              "</style>\n",
              "\n",
              "  <script>\n",
              "    async function quickchart(key) {\n",
              "      const quickchartButtonEl =\n",
              "        document.querySelector('#' + key + ' button');\n",
              "      quickchartButtonEl.disabled = true;  // To prevent multiple clicks.\n",
              "      quickchartButtonEl.classList.add('colab-df-spinner');\n",
              "      try {\n",
              "        const charts = await google.colab.kernel.invokeFunction(\n",
              "            'suggestCharts', [key], {});\n",
              "      } catch (error) {\n",
              "        console.error('Error during call to suggestCharts:', error);\n",
              "      }\n",
              "      quickchartButtonEl.classList.remove('colab-df-spinner');\n",
              "      quickchartButtonEl.classList.add('colab-df-quickchart-complete');\n",
              "    }\n",
              "    (() => {\n",
              "      let quickchartButtonEl =\n",
              "        document.querySelector('#df-fa035b7f-15d3-4578-be83-183ed078189e button');\n",
              "      quickchartButtonEl.style.display =\n",
              "        google.colab.kernel.accessAllowed ? 'block' : 'none';\n",
              "    })();\n",
              "  </script>\n",
              "</div>\n",
              "\n",
              "    </div>\n",
              "  </div>\n"
            ],
            "application/vnd.google.colaboratory.intrinsic+json": {
              "type": "dataframe",
              "variable_name": "data"
            }
          },
          "metadata": {},
          "execution_count": 388
        }
      ],
      "source": [
        "data.head()"
      ]
    },
    {
      "cell_type": "markdown",
      "id": "208ff946-7007-4b0b-934f-ce9c9943632a",
      "metadata": {
        "id": "208ff946-7007-4b0b-934f-ce9c9943632a"
      },
      "source": [
        "## Сформируем датасет для решения задачи многоклассовой классификации"
      ]
    },
    {
      "cell_type": "markdown",
      "id": "4dbb0a33-d822-49f8-a30a-6971e245f422",
      "metadata": {
        "id": "4dbb0a33-d822-49f8-a30a-6971e245f422"
      },
      "source": [
        "Выберем сигналы которые будем использовать. Исключим все признаки на основании которых выделялись целевые режимы."
      ]
    },
    {
      "cell_type": "code",
      "execution_count": null,
      "id": "1a3c6208-fb2e-4c7b-b7cf-bb32097de663",
      "metadata": {
        "id": "1a3c6208-fb2e-4c7b-b7cf-bb32097de663"
      },
      "outputs": [],
      "source": [
        "feature_columns = [\n",
        "    'GTA1.DBinPU.Alzzo', 'GTA1.DBinPU.Bo', 'GTA1.DBinPU.DlPkf',\n",
        "    'GTA1.DBinPU.DlPtgft', 'GTA1.DBinPU.DlPvf', 'GTA1.DBinPU.fi',\n",
        "    'GTA1.DBinPU.hmGTD', 'GTA1.DBinPU.hmTG', 'GTA1.DBinPU.P1mvhTG',\n",
        "    'GTA1.DBinPU.Pk',\n",
        "    'GTA1.DBinPU.Pmvh', 'GTA1.DBinPU.PmvhMOGTD',\n",
        "    'GTA1.DBinPU.PmvhMOTG', 'GTA1.DBinPU.PmvyhMOGTD',\n",
        "    'GTA1.DBinPU.PmvyhMOTG', 'GTA1.DBinPU.Prazrjag_navhode',\n",
        "    'GTA1.DBinPU.Ptgpd', 'GTA1.DBinPU.Ptgvh',\n",
        "    'GTA1.DBinPU.Pvh',\n",
        "    'GTA1.DBinPU.Pvyhlg',\n",
        "    'GTA1.DBinPU.Qtg',\n",
        "    'GTA1.DBinPU.Tk',\n",
        "    'GTA1.DBinPU.Tn', 'GTA1.DBinPU.Tt', 'GTA1.DBinPU.Tvh1',\n",
        "    'GTA1.DBinPU.Pzad'\n",
        "    ]\n",
        "\n",
        "target_columns = [\n",
        "    'full_power_mode',\n",
        "    'partial_power_mode',\n",
        "    'increas_power_mode',\n",
        "    'decreas_power_mode',\n",
        "    'start_up_mode',\n",
        "    'shutdown_mode',\n",
        "    'stopped_state_mode'\n",
        "]"
      ]
    },
    {
      "cell_type": "code",
      "execution_count": null,
      "id": "4a3451ec-188d-4974-8c08-74ae11997bff",
      "metadata": {
        "id": "4a3451ec-188d-4974-8c08-74ae11997bff"
      },
      "outputs": [],
      "source": [
        "data.loc[data['adjustment_range'], ['start_up_mode']] = False\n",
        "data.loc[data['adjustment_range'], ['shutdown_mode']] = False\n",
        "data.loc[data['increase_power'], ['shutdown_mode']] = False\n",
        "data.loc[data['decreas_power_mode'], ['start_up_mode']] = False"
      ]
    },
    {
      "cell_type": "code",
      "execution_count": null,
      "id": "6370d590-659d-4847-8223-f41803195925",
      "metadata": {
        "id": "6370d590-659d-4847-8223-f41803195925"
      },
      "outputs": [],
      "source": [
        "data = data.loc[data[target_columns].sum(axis=1) == 1]"
      ]
    },
    {
      "cell_type": "code",
      "execution_count": null,
      "id": "0284753b-5d51-4ff0-91b3-781d57b22549",
      "metadata": {
        "id": "0284753b-5d51-4ff0-91b3-781d57b22549"
      },
      "outputs": [],
      "source": []
    },
    {
      "cell_type": "code",
      "execution_count": null,
      "id": "aa58c822-f7a4-4ff3-a013-dde8e0e719b1",
      "metadata": {
        "id": "aa58c822-f7a4-4ff3-a013-dde8e0e719b1"
      },
      "outputs": [],
      "source": [
        "X = data.loc[:,feature_columns]"
      ]
    },
    {
      "cell_type": "code",
      "execution_count": null,
      "id": "b25dc4b0-aee7-4fef-acf8-93d3c8a2f495",
      "metadata": {
        "id": "b25dc4b0-aee7-4fef-acf8-93d3c8a2f495"
      },
      "outputs": [],
      "source": [
        "data['target'] = data[target_columns].idxmax(axis=1)\n",
        "y = data.loc[:, ['target']]"
      ]
    },
    {
      "cell_type": "code",
      "execution_count": null,
      "id": "2297d7f7-eda6-4b0d-a59c-1a9e2b41f8f3",
      "metadata": {
        "colab": {
          "base_uri": "https://localhost:8080/",
          "height": 335
        },
        "id": "2297d7f7-eda6-4b0d-a59c-1a9e2b41f8f3",
        "outputId": "731c716f-f230-4ce2-b1e7-dba891d34295"
      },
      "outputs": [
        {
          "output_type": "execute_result",
          "data": {
            "text/plain": [
              "target            \n",
              "full_power_mode       1044257\n",
              "stopped_state_mode      26614\n",
              "partial_power_mode       9547\n",
              "shutdown_mode             344\n",
              "increas_power_mode        109\n",
              "decreas_power_mode        103\n",
              "start_up_mode              98\n",
              "Name: count, dtype: int64"
            ],
            "text/html": [
              "<div>\n",
              "<style scoped>\n",
              "    .dataframe tbody tr th:only-of-type {\n",
              "        vertical-align: middle;\n",
              "    }\n",
              "\n",
              "    .dataframe tbody tr th {\n",
              "        vertical-align: top;\n",
              "    }\n",
              "\n",
              "    .dataframe thead th {\n",
              "        text-align: right;\n",
              "    }\n",
              "</style>\n",
              "<table border=\"1\" class=\"dataframe\">\n",
              "  <thead>\n",
              "    <tr style=\"text-align: right;\">\n",
              "      <th></th>\n",
              "      <th>count</th>\n",
              "    </tr>\n",
              "    <tr>\n",
              "      <th>target</th>\n",
              "      <th></th>\n",
              "    </tr>\n",
              "  </thead>\n",
              "  <tbody>\n",
              "    <tr>\n",
              "      <th>full_power_mode</th>\n",
              "      <td>1044257</td>\n",
              "    </tr>\n",
              "    <tr>\n",
              "      <th>stopped_state_mode</th>\n",
              "      <td>26614</td>\n",
              "    </tr>\n",
              "    <tr>\n",
              "      <th>partial_power_mode</th>\n",
              "      <td>9547</td>\n",
              "    </tr>\n",
              "    <tr>\n",
              "      <th>shutdown_mode</th>\n",
              "      <td>344</td>\n",
              "    </tr>\n",
              "    <tr>\n",
              "      <th>increas_power_mode</th>\n",
              "      <td>109</td>\n",
              "    </tr>\n",
              "    <tr>\n",
              "      <th>decreas_power_mode</th>\n",
              "      <td>103</td>\n",
              "    </tr>\n",
              "    <tr>\n",
              "      <th>start_up_mode</th>\n",
              "      <td>98</td>\n",
              "    </tr>\n",
              "  </tbody>\n",
              "</table>\n",
              "</div><br><label><b>dtype:</b> int64</label>"
            ]
          },
          "metadata": {},
          "execution_count": 394
        }
      ],
      "source": [
        "y.value_counts()"
      ]
    },
    {
      "cell_type": "markdown",
      "id": "e6af7ede-bd80-45d6-b85a-b1ba8872e976",
      "metadata": {
        "id": "e6af7ede-bd80-45d6-b85a-b1ba8872e976"
      },
      "source": [
        "### Деление на тестовую и тренировочную выборки"
      ]
    },
    {
      "cell_type": "code",
      "execution_count": null,
      "id": "da81595e-8aa3-40cd-a8cc-36b2e9537d1d",
      "metadata": {
        "id": "da81595e-8aa3-40cd-a8cc-36b2e9537d1d"
      },
      "outputs": [],
      "source": [
        "from sklearn.model_selection import train_test_split\n",
        "# Разделяем с учетом дисбаланса классов\n",
        "X_train, X_test, y_train, y_test = train_test_split(X, y, test_size=0.2, stratify=y, random_state=42)"
      ]
    },
    {
      "cell_type": "code",
      "execution_count": null,
      "id": "0cfcc82a-0b11-4494-9204-8706ce0e792d",
      "metadata": {
        "colab": {
          "base_uri": "https://localhost:8080/",
          "height": 335
        },
        "id": "0cfcc82a-0b11-4494-9204-8706ce0e792d",
        "outputId": "7ab6dd88-8724-47e2-bf5a-8679eb0c42da"
      },
      "outputs": [
        {
          "output_type": "execute_result",
          "data": {
            "text/plain": [
              "target            \n",
              "full_power_mode       835405\n",
              "stopped_state_mode     21291\n",
              "partial_power_mode      7638\n",
              "shutdown_mode            275\n",
              "increas_power_mode        87\n",
              "decreas_power_mode        82\n",
              "start_up_mode             79\n",
              "Name: count, dtype: int64"
            ],
            "text/html": [
              "<div>\n",
              "<style scoped>\n",
              "    .dataframe tbody tr th:only-of-type {\n",
              "        vertical-align: middle;\n",
              "    }\n",
              "\n",
              "    .dataframe tbody tr th {\n",
              "        vertical-align: top;\n",
              "    }\n",
              "\n",
              "    .dataframe thead th {\n",
              "        text-align: right;\n",
              "    }\n",
              "</style>\n",
              "<table border=\"1\" class=\"dataframe\">\n",
              "  <thead>\n",
              "    <tr style=\"text-align: right;\">\n",
              "      <th></th>\n",
              "      <th>count</th>\n",
              "    </tr>\n",
              "    <tr>\n",
              "      <th>target</th>\n",
              "      <th></th>\n",
              "    </tr>\n",
              "  </thead>\n",
              "  <tbody>\n",
              "    <tr>\n",
              "      <th>full_power_mode</th>\n",
              "      <td>835405</td>\n",
              "    </tr>\n",
              "    <tr>\n",
              "      <th>stopped_state_mode</th>\n",
              "      <td>21291</td>\n",
              "    </tr>\n",
              "    <tr>\n",
              "      <th>partial_power_mode</th>\n",
              "      <td>7638</td>\n",
              "    </tr>\n",
              "    <tr>\n",
              "      <th>shutdown_mode</th>\n",
              "      <td>275</td>\n",
              "    </tr>\n",
              "    <tr>\n",
              "      <th>increas_power_mode</th>\n",
              "      <td>87</td>\n",
              "    </tr>\n",
              "    <tr>\n",
              "      <th>decreas_power_mode</th>\n",
              "      <td>82</td>\n",
              "    </tr>\n",
              "    <tr>\n",
              "      <th>start_up_mode</th>\n",
              "      <td>79</td>\n",
              "    </tr>\n",
              "  </tbody>\n",
              "</table>\n",
              "</div><br><label><b>dtype:</b> int64</label>"
            ]
          },
          "metadata": {},
          "execution_count": 396
        }
      ],
      "source": [
        "y_train.value_counts()"
      ]
    },
    {
      "cell_type": "code",
      "execution_count": null,
      "id": "5e70d33f-1374-4b41-879e-fddd86d5c7c7",
      "metadata": {
        "colab": {
          "base_uri": "https://localhost:8080/",
          "height": 335
        },
        "id": "5e70d33f-1374-4b41-879e-fddd86d5c7c7",
        "outputId": "3b78ad5d-e9b9-4589-c176-e812dde908ad"
      },
      "outputs": [
        {
          "output_type": "execute_result",
          "data": {
            "text/plain": [
              "target            \n",
              "full_power_mode       208852\n",
              "stopped_state_mode      5323\n",
              "partial_power_mode      1909\n",
              "shutdown_mode             69\n",
              "increas_power_mode        22\n",
              "decreas_power_mode        21\n",
              "start_up_mode             19\n",
              "Name: count, dtype: int64"
            ],
            "text/html": [
              "<div>\n",
              "<style scoped>\n",
              "    .dataframe tbody tr th:only-of-type {\n",
              "        vertical-align: middle;\n",
              "    }\n",
              "\n",
              "    .dataframe tbody tr th {\n",
              "        vertical-align: top;\n",
              "    }\n",
              "\n",
              "    .dataframe thead th {\n",
              "        text-align: right;\n",
              "    }\n",
              "</style>\n",
              "<table border=\"1\" class=\"dataframe\">\n",
              "  <thead>\n",
              "    <tr style=\"text-align: right;\">\n",
              "      <th></th>\n",
              "      <th>count</th>\n",
              "    </tr>\n",
              "    <tr>\n",
              "      <th>target</th>\n",
              "      <th></th>\n",
              "    </tr>\n",
              "  </thead>\n",
              "  <tbody>\n",
              "    <tr>\n",
              "      <th>full_power_mode</th>\n",
              "      <td>208852</td>\n",
              "    </tr>\n",
              "    <tr>\n",
              "      <th>stopped_state_mode</th>\n",
              "      <td>5323</td>\n",
              "    </tr>\n",
              "    <tr>\n",
              "      <th>partial_power_mode</th>\n",
              "      <td>1909</td>\n",
              "    </tr>\n",
              "    <tr>\n",
              "      <th>shutdown_mode</th>\n",
              "      <td>69</td>\n",
              "    </tr>\n",
              "    <tr>\n",
              "      <th>increas_power_mode</th>\n",
              "      <td>22</td>\n",
              "    </tr>\n",
              "    <tr>\n",
              "      <th>decreas_power_mode</th>\n",
              "      <td>21</td>\n",
              "    </tr>\n",
              "    <tr>\n",
              "      <th>start_up_mode</th>\n",
              "      <td>19</td>\n",
              "    </tr>\n",
              "  </tbody>\n",
              "</table>\n",
              "</div><br><label><b>dtype:</b> int64</label>"
            ]
          },
          "metadata": {},
          "execution_count": 397
        }
      ],
      "source": [
        "y_test.value_counts()"
      ]
    },
    {
      "cell_type": "markdown",
      "id": "109da6b2-c9c8-4dc3-bb21-23ff87048dfb",
      "metadata": {
        "id": "109da6b2-c9c8-4dc3-bb21-23ff87048dfb"
      },
      "source": [
        "Видно, что датасет сильно несбалансирован.\n",
        "При такой несбалансорованности модели будут плохо обучаеться на редких классах.\n",
        "Алгоритм может игнорировать малочисленные классы, потому что минимизация ошибки будет достигаться за счет предсказания большинства.\n",
        "Например, если модель всегда предсказывает full_power_mode, она все равно получит высокую точность."
      ]
    },
    {
      "cell_type": "markdown",
      "id": "6db9fa77-afe9-4496-9cb7-da8c4dd319b0",
      "metadata": {
        "id": "6db9fa77-afe9-4496-9cb7-da8c4dd319b0"
      },
      "source": [
        "### Балансировка данных\n",
        "**Oversampling (увеличение малых классов)**  \n",
        "   - Повторение существующих редких примеров или их генерация.  \n",
        "   - **SMOTE (Synthetic Minority Over-sampling Technique)** – создает новые точки малочисленных классов, используя линейные комбинации соседних точек.  \n",
        "\n",
        "**Undersampling (уменьшение частых классов)**  \n",
        "- Удаление случайных примеров из большинства классов.  \n",
        "\n",
        "**Комбинация Oversampling + Undersampling**  \n",
        "   - Часто лучше сначала **уменьшить большие**, а затем **увеличить малые классы**.  "
      ]
    },
    {
      "cell_type": "markdown",
      "id": "eca449c1-b6cb-4297-b7b8-56fab6bdb03f",
      "metadata": {
        "id": "eca449c1-b6cb-4297-b7b8-56fab6bdb03f"
      },
      "source": [
        "#### Undersampling"
      ]
    },
    {
      "cell_type": "code",
      "execution_count": null,
      "id": "58c6bfaf-40cc-4c7f-9c4b-985a5136b854",
      "metadata": {
        "id": "58c6bfaf-40cc-4c7f-9c4b-985a5136b854"
      },
      "outputs": [],
      "source": [
        "from imblearn.under_sampling import RandomUnderSampler\n",
        "sampling_strategy = {\n",
        "    \"full_power_mode\": 1000,\n",
        "    \"stopped_state_mode\": 1000,\n",
        "    \"partial_power_mode\": 1000\n",
        "}\n",
        "rus = RandomUnderSampler(sampling_strategy=sampling_strategy, random_state=42)\n",
        "X_train_resampled, y_train_resampled = rus.fit_resample(X_train, y_train)"
      ]
    },
    {
      "cell_type": "code",
      "execution_count": null,
      "id": "f7d8daf8-692f-469f-a103-70b6edd1992b",
      "metadata": {
        "colab": {
          "base_uri": "https://localhost:8080/",
          "height": 335
        },
        "id": "f7d8daf8-692f-469f-a103-70b6edd1992b",
        "outputId": "edcba7f5-3e38-42a5-c15b-3ef051e572a2"
      },
      "outputs": [
        {
          "output_type": "execute_result",
          "data": {
            "text/plain": [
              "target            \n",
              "full_power_mode       1000\n",
              "stopped_state_mode    1000\n",
              "partial_power_mode    1000\n",
              "shutdown_mode          275\n",
              "increas_power_mode      87\n",
              "decreas_power_mode      82\n",
              "start_up_mode           79\n",
              "Name: count, dtype: int64"
            ],
            "text/html": [
              "<div>\n",
              "<style scoped>\n",
              "    .dataframe tbody tr th:only-of-type {\n",
              "        vertical-align: middle;\n",
              "    }\n",
              "\n",
              "    .dataframe tbody tr th {\n",
              "        vertical-align: top;\n",
              "    }\n",
              "\n",
              "    .dataframe thead th {\n",
              "        text-align: right;\n",
              "    }\n",
              "</style>\n",
              "<table border=\"1\" class=\"dataframe\">\n",
              "  <thead>\n",
              "    <tr style=\"text-align: right;\">\n",
              "      <th></th>\n",
              "      <th>count</th>\n",
              "    </tr>\n",
              "    <tr>\n",
              "      <th>target</th>\n",
              "      <th></th>\n",
              "    </tr>\n",
              "  </thead>\n",
              "  <tbody>\n",
              "    <tr>\n",
              "      <th>full_power_mode</th>\n",
              "      <td>1000</td>\n",
              "    </tr>\n",
              "    <tr>\n",
              "      <th>stopped_state_mode</th>\n",
              "      <td>1000</td>\n",
              "    </tr>\n",
              "    <tr>\n",
              "      <th>partial_power_mode</th>\n",
              "      <td>1000</td>\n",
              "    </tr>\n",
              "    <tr>\n",
              "      <th>shutdown_mode</th>\n",
              "      <td>275</td>\n",
              "    </tr>\n",
              "    <tr>\n",
              "      <th>increas_power_mode</th>\n",
              "      <td>87</td>\n",
              "    </tr>\n",
              "    <tr>\n",
              "      <th>decreas_power_mode</th>\n",
              "      <td>82</td>\n",
              "    </tr>\n",
              "    <tr>\n",
              "      <th>start_up_mode</th>\n",
              "      <td>79</td>\n",
              "    </tr>\n",
              "  </tbody>\n",
              "</table>\n",
              "</div><br><label><b>dtype:</b> int64</label>"
            ]
          },
          "metadata": {},
          "execution_count": 399
        }
      ],
      "source": [
        "y_train_resampled.value_counts()"
      ]
    },
    {
      "cell_type": "code",
      "execution_count": null,
      "id": "e7608b57-ef37-4188-b8ae-3b38c461052e",
      "metadata": {
        "id": "e7608b57-ef37-4188-b8ae-3b38c461052e"
      },
      "outputs": [],
      "source": [
        "sampling_strategy = {\n",
        "    \"full_power_mode\": 100,\n",
        "    \"stopped_state_mode\": 100,\n",
        "    \"partial_power_mode\": 100\n",
        "}\n",
        "rus = RandomUnderSampler(sampling_strategy=sampling_strategy, random_state=42)\n",
        "X_test_resampled, y_test_resampled = rus.fit_resample(X_test, y_test)"
      ]
    },
    {
      "cell_type": "code",
      "execution_count": null,
      "id": "bab30c6f-2db9-41b6-b995-056994379a02",
      "metadata": {
        "colab": {
          "base_uri": "https://localhost:8080/",
          "height": 335
        },
        "id": "bab30c6f-2db9-41b6-b995-056994379a02",
        "outputId": "89bab96a-71b7-4f15-e657-c2ba3a4cb22a"
      },
      "outputs": [
        {
          "output_type": "execute_result",
          "data": {
            "text/plain": [
              "target            \n",
              "full_power_mode       100\n",
              "stopped_state_mode    100\n",
              "partial_power_mode    100\n",
              "shutdown_mode          69\n",
              "increas_power_mode     22\n",
              "decreas_power_mode     21\n",
              "start_up_mode          19\n",
              "Name: count, dtype: int64"
            ],
            "text/html": [
              "<div>\n",
              "<style scoped>\n",
              "    .dataframe tbody tr th:only-of-type {\n",
              "        vertical-align: middle;\n",
              "    }\n",
              "\n",
              "    .dataframe tbody tr th {\n",
              "        vertical-align: top;\n",
              "    }\n",
              "\n",
              "    .dataframe thead th {\n",
              "        text-align: right;\n",
              "    }\n",
              "</style>\n",
              "<table border=\"1\" class=\"dataframe\">\n",
              "  <thead>\n",
              "    <tr style=\"text-align: right;\">\n",
              "      <th></th>\n",
              "      <th>count</th>\n",
              "    </tr>\n",
              "    <tr>\n",
              "      <th>target</th>\n",
              "      <th></th>\n",
              "    </tr>\n",
              "  </thead>\n",
              "  <tbody>\n",
              "    <tr>\n",
              "      <th>full_power_mode</th>\n",
              "      <td>100</td>\n",
              "    </tr>\n",
              "    <tr>\n",
              "      <th>stopped_state_mode</th>\n",
              "      <td>100</td>\n",
              "    </tr>\n",
              "    <tr>\n",
              "      <th>partial_power_mode</th>\n",
              "      <td>100</td>\n",
              "    </tr>\n",
              "    <tr>\n",
              "      <th>shutdown_mode</th>\n",
              "      <td>69</td>\n",
              "    </tr>\n",
              "    <tr>\n",
              "      <th>increas_power_mode</th>\n",
              "      <td>22</td>\n",
              "    </tr>\n",
              "    <tr>\n",
              "      <th>decreas_power_mode</th>\n",
              "      <td>21</td>\n",
              "    </tr>\n",
              "    <tr>\n",
              "      <th>start_up_mode</th>\n",
              "      <td>19</td>\n",
              "    </tr>\n",
              "  </tbody>\n",
              "</table>\n",
              "</div><br><label><b>dtype:</b> int64</label>"
            ]
          },
          "metadata": {},
          "execution_count": 401
        }
      ],
      "source": [
        "y_test_resampled.value_counts()"
      ]
    },
    {
      "cell_type": "markdown",
      "id": "9cb69ac0-8d8d-48d5-8230-23b4b7621326",
      "metadata": {
        "id": "9cb69ac0-8d8d-48d5-8230-23b4b7621326"
      },
      "source": [
        "#### Oversampling"
      ]
    },
    {
      "cell_type": "code",
      "execution_count": null,
      "id": "79e4ab61-de40-4bdf-9813-f53a7eaaab40",
      "metadata": {
        "id": "79e4ab61-de40-4bdf-9813-f53a7eaaab40"
      },
      "outputs": [],
      "source": [
        "from imblearn.over_sampling import SMOTE\n",
        "X_train_resampled, y_train_resampled = SMOTE().fit_resample(X_train_resampled, y_train_resampled)"
      ]
    },
    {
      "cell_type": "code",
      "execution_count": null,
      "id": "cd700f2c-ace4-4948-a72b-a33cc2195dc8",
      "metadata": {
        "colab": {
          "base_uri": "https://localhost:8080/",
          "height": 335
        },
        "id": "cd700f2c-ace4-4948-a72b-a33cc2195dc8",
        "outputId": "fd2eadbb-3ff0-4f63-b8e0-a4d528d27ca3"
      },
      "outputs": [
        {
          "output_type": "execute_result",
          "data": {
            "text/plain": [
              "target            \n",
              "decreas_power_mode    1000\n",
              "full_power_mode       1000\n",
              "increas_power_mode    1000\n",
              "partial_power_mode    1000\n",
              "shutdown_mode         1000\n",
              "start_up_mode         1000\n",
              "stopped_state_mode    1000\n",
              "Name: count, dtype: int64"
            ],
            "text/html": [
              "<div>\n",
              "<style scoped>\n",
              "    .dataframe tbody tr th:only-of-type {\n",
              "        vertical-align: middle;\n",
              "    }\n",
              "\n",
              "    .dataframe tbody tr th {\n",
              "        vertical-align: top;\n",
              "    }\n",
              "\n",
              "    .dataframe thead th {\n",
              "        text-align: right;\n",
              "    }\n",
              "</style>\n",
              "<table border=\"1\" class=\"dataframe\">\n",
              "  <thead>\n",
              "    <tr style=\"text-align: right;\">\n",
              "      <th></th>\n",
              "      <th>count</th>\n",
              "    </tr>\n",
              "    <tr>\n",
              "      <th>target</th>\n",
              "      <th></th>\n",
              "    </tr>\n",
              "  </thead>\n",
              "  <tbody>\n",
              "    <tr>\n",
              "      <th>decreas_power_mode</th>\n",
              "      <td>1000</td>\n",
              "    </tr>\n",
              "    <tr>\n",
              "      <th>full_power_mode</th>\n",
              "      <td>1000</td>\n",
              "    </tr>\n",
              "    <tr>\n",
              "      <th>increas_power_mode</th>\n",
              "      <td>1000</td>\n",
              "    </tr>\n",
              "    <tr>\n",
              "      <th>partial_power_mode</th>\n",
              "      <td>1000</td>\n",
              "    </tr>\n",
              "    <tr>\n",
              "      <th>shutdown_mode</th>\n",
              "      <td>1000</td>\n",
              "    </tr>\n",
              "    <tr>\n",
              "      <th>start_up_mode</th>\n",
              "      <td>1000</td>\n",
              "    </tr>\n",
              "    <tr>\n",
              "      <th>stopped_state_mode</th>\n",
              "      <td>1000</td>\n",
              "    </tr>\n",
              "  </tbody>\n",
              "</table>\n",
              "</div><br><label><b>dtype:</b> int64</label>"
            ]
          },
          "metadata": {},
          "execution_count": 403
        }
      ],
      "source": [
        "y_train_resampled.value_counts()"
      ]
    },
    {
      "cell_type": "markdown",
      "id": "1f92cc1a-9a33-4c1c-9e70-665b5f8a7843",
      "metadata": {
        "id": "1f92cc1a-9a33-4c1c-9e70-665b5f8a7843"
      },
      "source": [
        "### Нормализация или стандартизация данных"
      ]
    },
    {
      "cell_type": "code",
      "execution_count": null,
      "id": "bce5f2cd-879e-4105-a24e-47975f81fbe0",
      "metadata": {
        "colab": {
          "base_uri": "https://localhost:8080/",
          "height": 350
        },
        "id": "bce5f2cd-879e-4105-a24e-47975f81fbe0",
        "outputId": "437859fa-8a12-4a64-cb19-f1608d11d342"
      },
      "outputs": [
        {
          "output_type": "execute_result",
          "data": {
            "text/plain": [
              "       GTA1.DBinPU.Alzzo  GTA1.DBinPU.Bo  GTA1.DBinPU.DlPkf  \\\n",
              "count       7.000000e+03    7.000000e+03       7.000000e+03   \n",
              "mean       -8.120488e-18    1.868930e-14       6.496391e-17   \n",
              "std         1.000071e+00    1.000071e+00       1.000071e+00   \n",
              "min        -1.507644e-01   -3.459538e+00      -1.359193e+00   \n",
              "25%        -1.391758e-01   -8.307980e-01      -1.262726e+00   \n",
              "50%        -1.368433e-01    1.710868e-01       3.483803e-02   \n",
              "75%        -1.332264e-01    6.949562e-01       8.878110e-01   \n",
              "max         7.499191e+00    2.774366e+00       1.808819e+00   \n",
              "\n",
              "       GTA1.DBinPU.DlPtgft  GTA1.DBinPU.DlPvf  GTA1.DBinPU.fi  \\\n",
              "count         7.000000e+03       7.000000e+03    7.000000e+03   \n",
              "mean         -9.744586e-17      -6.496391e-17    8.120488e-17   \n",
              "std           1.000071e+00       1.000071e+00    1.000071e+00   \n",
              "min          -1.251625e+00      -1.306516e+00   -1.731105e+00   \n",
              "25%          -1.095186e+00      -1.162293e+00   -7.558173e-01   \n",
              "50%          -7.633305e-02       1.986922e-01   -1.749946e-01   \n",
              "75%           9.992970e-01       9.366536e-01    7.104108e-01   \n",
              "max           1.830728e+00       1.605236e+00    2.593301e+00   \n",
              "\n",
              "       GTA1.DBinPU.hmGTD  GTA1.DBinPU.hmTG  GTA1.DBinPU.P1mvhTG  \\\n",
              "count       7.000000e+03      7.000000e+03         7.000000e+03   \n",
              "mean       -4.872293e-16      6.861813e-16        -1.624098e-17   \n",
              "std         1.000071e+00      1.000071e+00         1.000071e+00   \n",
              "min        -1.680412e+00     -1.865194e+00        -2.451840e+00   \n",
              "25%        -7.088812e-01     -7.444614e-01         1.537422e-01   \n",
              "50%        -1.143499e-01     -4.277733e-02         4.172262e-01   \n",
              "75%         7.995305e-01      6.311594e-01         5.249668e-01   \n",
              "max         2.581322e+00      2.436444e+00         9.898869e-01   \n",
              "\n",
              "       GTA1.DBinPU.Pk  ...  GTA1.DBinPU.Ptgpd  GTA1.DBinPU.Ptgvh  \\\n",
              "count    7.000000e+03  ...       7.000000e+03       7.000000e+03   \n",
              "mean    -6.496391e-17  ...       6.496391e-17       1.461688e-16   \n",
              "std      1.000071e+00  ...       1.000071e+00       1.000071e+00   \n",
              "min     -1.271887e+00  ...      -1.729158e+00      -1.748365e+00   \n",
              "25%     -1.239029e+00  ...      -7.406215e-01       1.373285e-01   \n",
              "50%      3.958619e-01  ...       5.192383e-01       5.433260e-01   \n",
              "75%      1.015378e+00  ...       6.446625e-01       6.130851e-01   \n",
              "max      1.162595e+00  ...       7.783163e-01       7.485159e-01   \n",
              "\n",
              "       GTA1.DBinPU.Pvh  GTA1.DBinPU.Pvyhlg  GTA1.DBinPU.Qtg  GTA1.DBinPU.Tk  \\\n",
              "count     7.000000e+03        7.000000e+03     7.000000e+03    7.000000e+03   \n",
              "mean     -7.795669e-16        6.496391e-17     1.299278e-16   -6.496391e-17   \n",
              "std       1.000071e+00        1.000071e+00     1.000071e+00    1.000071e+00   \n",
              "min      -2.031793e+00       -1.083613e+00    -1.277763e+00   -1.455763e+00   \n",
              "25%      -1.035686e+00       -9.823339e-01    -1.272594e+00   -1.234723e+00   \n",
              "50%       9.823599e-03       -2.771661e-01     2.650629e-01    5.097694e-01   \n",
              "75%       9.630707e-01        1.074692e+00     9.475534e-01    8.809097e-01   \n",
              "max       1.337513e+00        1.729531e+00     1.498963e+00    1.265786e+00   \n",
              "\n",
              "       GTA1.DBinPU.Tn  GTA1.DBinPU.Tt  GTA1.DBinPU.Tvh1  GTA1.DBinPU.Pzad  \n",
              "count    7.000000e+03    7.000000e+03      7.000000e+03      7.000000e+03  \n",
              "mean     3.248195e-17   -1.624098e-16     -6.090366e-18     -1.299278e-16  \n",
              "std      1.000071e+00    1.000071e+00      1.000071e+00      1.000071e+00  \n",
              "min     -3.253751e+00   -1.776869e+00     -3.356988e+00     -1.127810e+00  \n",
              "25%     -7.522978e-01   -5.764278e-01     -6.373436e-01     -1.127810e+00  \n",
              "50%     -9.010739e-02    4.206206e-01     -9.236345e-02      1.801335e-01  \n",
              "75%      6.832552e-01    6.771500e-01      8.444856e-01      1.129646e+00  \n",
              "max      2.449844e+00    1.156022e+00      2.414970e+00      1.209713e+00  \n",
              "\n",
              "[8 rows x 26 columns]"
            ],
            "text/html": [
              "\n",
              "  <div id=\"df-961365e5-fd7d-4393-81e0-d12da87b5511\" class=\"colab-df-container\">\n",
              "    <div>\n",
              "<style scoped>\n",
              "    .dataframe tbody tr th:only-of-type {\n",
              "        vertical-align: middle;\n",
              "    }\n",
              "\n",
              "    .dataframe tbody tr th {\n",
              "        vertical-align: top;\n",
              "    }\n",
              "\n",
              "    .dataframe thead th {\n",
              "        text-align: right;\n",
              "    }\n",
              "</style>\n",
              "<table border=\"1\" class=\"dataframe\">\n",
              "  <thead>\n",
              "    <tr style=\"text-align: right;\">\n",
              "      <th></th>\n",
              "      <th>GTA1.DBinPU.Alzzo</th>\n",
              "      <th>GTA1.DBinPU.Bo</th>\n",
              "      <th>GTA1.DBinPU.DlPkf</th>\n",
              "      <th>GTA1.DBinPU.DlPtgft</th>\n",
              "      <th>GTA1.DBinPU.DlPvf</th>\n",
              "      <th>GTA1.DBinPU.fi</th>\n",
              "      <th>GTA1.DBinPU.hmGTD</th>\n",
              "      <th>GTA1.DBinPU.hmTG</th>\n",
              "      <th>GTA1.DBinPU.P1mvhTG</th>\n",
              "      <th>GTA1.DBinPU.Pk</th>\n",
              "      <th>...</th>\n",
              "      <th>GTA1.DBinPU.Ptgpd</th>\n",
              "      <th>GTA1.DBinPU.Ptgvh</th>\n",
              "      <th>GTA1.DBinPU.Pvh</th>\n",
              "      <th>GTA1.DBinPU.Pvyhlg</th>\n",
              "      <th>GTA1.DBinPU.Qtg</th>\n",
              "      <th>GTA1.DBinPU.Tk</th>\n",
              "      <th>GTA1.DBinPU.Tn</th>\n",
              "      <th>GTA1.DBinPU.Tt</th>\n",
              "      <th>GTA1.DBinPU.Tvh1</th>\n",
              "      <th>GTA1.DBinPU.Pzad</th>\n",
              "    </tr>\n",
              "  </thead>\n",
              "  <tbody>\n",
              "    <tr>\n",
              "      <th>count</th>\n",
              "      <td>7.000000e+03</td>\n",
              "      <td>7.000000e+03</td>\n",
              "      <td>7.000000e+03</td>\n",
              "      <td>7.000000e+03</td>\n",
              "      <td>7.000000e+03</td>\n",
              "      <td>7.000000e+03</td>\n",
              "      <td>7.000000e+03</td>\n",
              "      <td>7.000000e+03</td>\n",
              "      <td>7.000000e+03</td>\n",
              "      <td>7.000000e+03</td>\n",
              "      <td>...</td>\n",
              "      <td>7.000000e+03</td>\n",
              "      <td>7.000000e+03</td>\n",
              "      <td>7.000000e+03</td>\n",
              "      <td>7.000000e+03</td>\n",
              "      <td>7.000000e+03</td>\n",
              "      <td>7.000000e+03</td>\n",
              "      <td>7.000000e+03</td>\n",
              "      <td>7.000000e+03</td>\n",
              "      <td>7.000000e+03</td>\n",
              "      <td>7.000000e+03</td>\n",
              "    </tr>\n",
              "    <tr>\n",
              "      <th>mean</th>\n",
              "      <td>-8.120488e-18</td>\n",
              "      <td>1.868930e-14</td>\n",
              "      <td>6.496391e-17</td>\n",
              "      <td>-9.744586e-17</td>\n",
              "      <td>-6.496391e-17</td>\n",
              "      <td>8.120488e-17</td>\n",
              "      <td>-4.872293e-16</td>\n",
              "      <td>6.861813e-16</td>\n",
              "      <td>-1.624098e-17</td>\n",
              "      <td>-6.496391e-17</td>\n",
              "      <td>...</td>\n",
              "      <td>6.496391e-17</td>\n",
              "      <td>1.461688e-16</td>\n",
              "      <td>-7.795669e-16</td>\n",
              "      <td>6.496391e-17</td>\n",
              "      <td>1.299278e-16</td>\n",
              "      <td>-6.496391e-17</td>\n",
              "      <td>3.248195e-17</td>\n",
              "      <td>-1.624098e-16</td>\n",
              "      <td>-6.090366e-18</td>\n",
              "      <td>-1.299278e-16</td>\n",
              "    </tr>\n",
              "    <tr>\n",
              "      <th>std</th>\n",
              "      <td>1.000071e+00</td>\n",
              "      <td>1.000071e+00</td>\n",
              "      <td>1.000071e+00</td>\n",
              "      <td>1.000071e+00</td>\n",
              "      <td>1.000071e+00</td>\n",
              "      <td>1.000071e+00</td>\n",
              "      <td>1.000071e+00</td>\n",
              "      <td>1.000071e+00</td>\n",
              "      <td>1.000071e+00</td>\n",
              "      <td>1.000071e+00</td>\n",
              "      <td>...</td>\n",
              "      <td>1.000071e+00</td>\n",
              "      <td>1.000071e+00</td>\n",
              "      <td>1.000071e+00</td>\n",
              "      <td>1.000071e+00</td>\n",
              "      <td>1.000071e+00</td>\n",
              "      <td>1.000071e+00</td>\n",
              "      <td>1.000071e+00</td>\n",
              "      <td>1.000071e+00</td>\n",
              "      <td>1.000071e+00</td>\n",
              "      <td>1.000071e+00</td>\n",
              "    </tr>\n",
              "    <tr>\n",
              "      <th>min</th>\n",
              "      <td>-1.507644e-01</td>\n",
              "      <td>-3.459538e+00</td>\n",
              "      <td>-1.359193e+00</td>\n",
              "      <td>-1.251625e+00</td>\n",
              "      <td>-1.306516e+00</td>\n",
              "      <td>-1.731105e+00</td>\n",
              "      <td>-1.680412e+00</td>\n",
              "      <td>-1.865194e+00</td>\n",
              "      <td>-2.451840e+00</td>\n",
              "      <td>-1.271887e+00</td>\n",
              "      <td>...</td>\n",
              "      <td>-1.729158e+00</td>\n",
              "      <td>-1.748365e+00</td>\n",
              "      <td>-2.031793e+00</td>\n",
              "      <td>-1.083613e+00</td>\n",
              "      <td>-1.277763e+00</td>\n",
              "      <td>-1.455763e+00</td>\n",
              "      <td>-3.253751e+00</td>\n",
              "      <td>-1.776869e+00</td>\n",
              "      <td>-3.356988e+00</td>\n",
              "      <td>-1.127810e+00</td>\n",
              "    </tr>\n",
              "    <tr>\n",
              "      <th>25%</th>\n",
              "      <td>-1.391758e-01</td>\n",
              "      <td>-8.307980e-01</td>\n",
              "      <td>-1.262726e+00</td>\n",
              "      <td>-1.095186e+00</td>\n",
              "      <td>-1.162293e+00</td>\n",
              "      <td>-7.558173e-01</td>\n",
              "      <td>-7.088812e-01</td>\n",
              "      <td>-7.444614e-01</td>\n",
              "      <td>1.537422e-01</td>\n",
              "      <td>-1.239029e+00</td>\n",
              "      <td>...</td>\n",
              "      <td>-7.406215e-01</td>\n",
              "      <td>1.373285e-01</td>\n",
              "      <td>-1.035686e+00</td>\n",
              "      <td>-9.823339e-01</td>\n",
              "      <td>-1.272594e+00</td>\n",
              "      <td>-1.234723e+00</td>\n",
              "      <td>-7.522978e-01</td>\n",
              "      <td>-5.764278e-01</td>\n",
              "      <td>-6.373436e-01</td>\n",
              "      <td>-1.127810e+00</td>\n",
              "    </tr>\n",
              "    <tr>\n",
              "      <th>50%</th>\n",
              "      <td>-1.368433e-01</td>\n",
              "      <td>1.710868e-01</td>\n",
              "      <td>3.483803e-02</td>\n",
              "      <td>-7.633305e-02</td>\n",
              "      <td>1.986922e-01</td>\n",
              "      <td>-1.749946e-01</td>\n",
              "      <td>-1.143499e-01</td>\n",
              "      <td>-4.277733e-02</td>\n",
              "      <td>4.172262e-01</td>\n",
              "      <td>3.958619e-01</td>\n",
              "      <td>...</td>\n",
              "      <td>5.192383e-01</td>\n",
              "      <td>5.433260e-01</td>\n",
              "      <td>9.823599e-03</td>\n",
              "      <td>-2.771661e-01</td>\n",
              "      <td>2.650629e-01</td>\n",
              "      <td>5.097694e-01</td>\n",
              "      <td>-9.010739e-02</td>\n",
              "      <td>4.206206e-01</td>\n",
              "      <td>-9.236345e-02</td>\n",
              "      <td>1.801335e-01</td>\n",
              "    </tr>\n",
              "    <tr>\n",
              "      <th>75%</th>\n",
              "      <td>-1.332264e-01</td>\n",
              "      <td>6.949562e-01</td>\n",
              "      <td>8.878110e-01</td>\n",
              "      <td>9.992970e-01</td>\n",
              "      <td>9.366536e-01</td>\n",
              "      <td>7.104108e-01</td>\n",
              "      <td>7.995305e-01</td>\n",
              "      <td>6.311594e-01</td>\n",
              "      <td>5.249668e-01</td>\n",
              "      <td>1.015378e+00</td>\n",
              "      <td>...</td>\n",
              "      <td>6.446625e-01</td>\n",
              "      <td>6.130851e-01</td>\n",
              "      <td>9.630707e-01</td>\n",
              "      <td>1.074692e+00</td>\n",
              "      <td>9.475534e-01</td>\n",
              "      <td>8.809097e-01</td>\n",
              "      <td>6.832552e-01</td>\n",
              "      <td>6.771500e-01</td>\n",
              "      <td>8.444856e-01</td>\n",
              "      <td>1.129646e+00</td>\n",
              "    </tr>\n",
              "    <tr>\n",
              "      <th>max</th>\n",
              "      <td>7.499191e+00</td>\n",
              "      <td>2.774366e+00</td>\n",
              "      <td>1.808819e+00</td>\n",
              "      <td>1.830728e+00</td>\n",
              "      <td>1.605236e+00</td>\n",
              "      <td>2.593301e+00</td>\n",
              "      <td>2.581322e+00</td>\n",
              "      <td>2.436444e+00</td>\n",
              "      <td>9.898869e-01</td>\n",
              "      <td>1.162595e+00</td>\n",
              "      <td>...</td>\n",
              "      <td>7.783163e-01</td>\n",
              "      <td>7.485159e-01</td>\n",
              "      <td>1.337513e+00</td>\n",
              "      <td>1.729531e+00</td>\n",
              "      <td>1.498963e+00</td>\n",
              "      <td>1.265786e+00</td>\n",
              "      <td>2.449844e+00</td>\n",
              "      <td>1.156022e+00</td>\n",
              "      <td>2.414970e+00</td>\n",
              "      <td>1.209713e+00</td>\n",
              "    </tr>\n",
              "  </tbody>\n",
              "</table>\n",
              "<p>8 rows × 26 columns</p>\n",
              "</div>\n",
              "    <div class=\"colab-df-buttons\">\n",
              "\n",
              "  <div class=\"colab-df-container\">\n",
              "    <button class=\"colab-df-convert\" onclick=\"convertToInteractive('df-961365e5-fd7d-4393-81e0-d12da87b5511')\"\n",
              "            title=\"Convert this dataframe to an interactive table.\"\n",
              "            style=\"display:none;\">\n",
              "\n",
              "  <svg xmlns=\"http://www.w3.org/2000/svg\" height=\"24px\" viewBox=\"0 -960 960 960\">\n",
              "    <path d=\"M120-120v-720h720v720H120Zm60-500h600v-160H180v160Zm220 220h160v-160H400v160Zm0 220h160v-160H400v160ZM180-400h160v-160H180v160Zm440 0h160v-160H620v160ZM180-180h160v-160H180v160Zm440 0h160v-160H620v160Z\"/>\n",
              "  </svg>\n",
              "    </button>\n",
              "\n",
              "  <style>\n",
              "    .colab-df-container {\n",
              "      display:flex;\n",
              "      gap: 12px;\n",
              "    }\n",
              "\n",
              "    .colab-df-convert {\n",
              "      background-color: #E8F0FE;\n",
              "      border: none;\n",
              "      border-radius: 50%;\n",
              "      cursor: pointer;\n",
              "      display: none;\n",
              "      fill: #1967D2;\n",
              "      height: 32px;\n",
              "      padding: 0 0 0 0;\n",
              "      width: 32px;\n",
              "    }\n",
              "\n",
              "    .colab-df-convert:hover {\n",
              "      background-color: #E2EBFA;\n",
              "      box-shadow: 0px 1px 2px rgba(60, 64, 67, 0.3), 0px 1px 3px 1px rgba(60, 64, 67, 0.15);\n",
              "      fill: #174EA6;\n",
              "    }\n",
              "\n",
              "    .colab-df-buttons div {\n",
              "      margin-bottom: 4px;\n",
              "    }\n",
              "\n",
              "    [theme=dark] .colab-df-convert {\n",
              "      background-color: #3B4455;\n",
              "      fill: #D2E3FC;\n",
              "    }\n",
              "\n",
              "    [theme=dark] .colab-df-convert:hover {\n",
              "      background-color: #434B5C;\n",
              "      box-shadow: 0px 1px 3px 1px rgba(0, 0, 0, 0.15);\n",
              "      filter: drop-shadow(0px 1px 2px rgba(0, 0, 0, 0.3));\n",
              "      fill: #FFFFFF;\n",
              "    }\n",
              "  </style>\n",
              "\n",
              "    <script>\n",
              "      const buttonEl =\n",
              "        document.querySelector('#df-961365e5-fd7d-4393-81e0-d12da87b5511 button.colab-df-convert');\n",
              "      buttonEl.style.display =\n",
              "        google.colab.kernel.accessAllowed ? 'block' : 'none';\n",
              "\n",
              "      async function convertToInteractive(key) {\n",
              "        const element = document.querySelector('#df-961365e5-fd7d-4393-81e0-d12da87b5511');\n",
              "        const dataTable =\n",
              "          await google.colab.kernel.invokeFunction('convertToInteractive',\n",
              "                                                    [key], {});\n",
              "        if (!dataTable) return;\n",
              "\n",
              "        const docLinkHtml = 'Like what you see? Visit the ' +\n",
              "          '<a target=\"_blank\" href=https://colab.research.google.com/notebooks/data_table.ipynb>data table notebook</a>'\n",
              "          + ' to learn more about interactive tables.';\n",
              "        element.innerHTML = '';\n",
              "        dataTable['output_type'] = 'display_data';\n",
              "        await google.colab.output.renderOutput(dataTable, element);\n",
              "        const docLink = document.createElement('div');\n",
              "        docLink.innerHTML = docLinkHtml;\n",
              "        element.appendChild(docLink);\n",
              "      }\n",
              "    </script>\n",
              "  </div>\n",
              "\n",
              "\n",
              "<div id=\"df-00b28614-88ec-46c9-8a3d-26ef8c2cb726\">\n",
              "  <button class=\"colab-df-quickchart\" onclick=\"quickchart('df-00b28614-88ec-46c9-8a3d-26ef8c2cb726')\"\n",
              "            title=\"Suggest charts\"\n",
              "            style=\"display:none;\">\n",
              "\n",
              "<svg xmlns=\"http://www.w3.org/2000/svg\" height=\"24px\"viewBox=\"0 0 24 24\"\n",
              "     width=\"24px\">\n",
              "    <g>\n",
              "        <path d=\"M19 3H5c-1.1 0-2 .9-2 2v14c0 1.1.9 2 2 2h14c1.1 0 2-.9 2-2V5c0-1.1-.9-2-2-2zM9 17H7v-7h2v7zm4 0h-2V7h2v10zm4 0h-2v-4h2v4z\"/>\n",
              "    </g>\n",
              "</svg>\n",
              "  </button>\n",
              "\n",
              "<style>\n",
              "  .colab-df-quickchart {\n",
              "      --bg-color: #E8F0FE;\n",
              "      --fill-color: #1967D2;\n",
              "      --hover-bg-color: #E2EBFA;\n",
              "      --hover-fill-color: #174EA6;\n",
              "      --disabled-fill-color: #AAA;\n",
              "      --disabled-bg-color: #DDD;\n",
              "  }\n",
              "\n",
              "  [theme=dark] .colab-df-quickchart {\n",
              "      --bg-color: #3B4455;\n",
              "      --fill-color: #D2E3FC;\n",
              "      --hover-bg-color: #434B5C;\n",
              "      --hover-fill-color: #FFFFFF;\n",
              "      --disabled-bg-color: #3B4455;\n",
              "      --disabled-fill-color: #666;\n",
              "  }\n",
              "\n",
              "  .colab-df-quickchart {\n",
              "    background-color: var(--bg-color);\n",
              "    border: none;\n",
              "    border-radius: 50%;\n",
              "    cursor: pointer;\n",
              "    display: none;\n",
              "    fill: var(--fill-color);\n",
              "    height: 32px;\n",
              "    padding: 0;\n",
              "    width: 32px;\n",
              "  }\n",
              "\n",
              "  .colab-df-quickchart:hover {\n",
              "    background-color: var(--hover-bg-color);\n",
              "    box-shadow: 0 1px 2px rgba(60, 64, 67, 0.3), 0 1px 3px 1px rgba(60, 64, 67, 0.15);\n",
              "    fill: var(--button-hover-fill-color);\n",
              "  }\n",
              "\n",
              "  .colab-df-quickchart-complete:disabled,\n",
              "  .colab-df-quickchart-complete:disabled:hover {\n",
              "    background-color: var(--disabled-bg-color);\n",
              "    fill: var(--disabled-fill-color);\n",
              "    box-shadow: none;\n",
              "  }\n",
              "\n",
              "  .colab-df-spinner {\n",
              "    border: 2px solid var(--fill-color);\n",
              "    border-color: transparent;\n",
              "    border-bottom-color: var(--fill-color);\n",
              "    animation:\n",
              "      spin 1s steps(1) infinite;\n",
              "  }\n",
              "\n",
              "  @keyframes spin {\n",
              "    0% {\n",
              "      border-color: transparent;\n",
              "      border-bottom-color: var(--fill-color);\n",
              "      border-left-color: var(--fill-color);\n",
              "    }\n",
              "    20% {\n",
              "      border-color: transparent;\n",
              "      border-left-color: var(--fill-color);\n",
              "      border-top-color: var(--fill-color);\n",
              "    }\n",
              "    30% {\n",
              "      border-color: transparent;\n",
              "      border-left-color: var(--fill-color);\n",
              "      border-top-color: var(--fill-color);\n",
              "      border-right-color: var(--fill-color);\n",
              "    }\n",
              "    40% {\n",
              "      border-color: transparent;\n",
              "      border-right-color: var(--fill-color);\n",
              "      border-top-color: var(--fill-color);\n",
              "    }\n",
              "    60% {\n",
              "      border-color: transparent;\n",
              "      border-right-color: var(--fill-color);\n",
              "    }\n",
              "    80% {\n",
              "      border-color: transparent;\n",
              "      border-right-color: var(--fill-color);\n",
              "      border-bottom-color: var(--fill-color);\n",
              "    }\n",
              "    90% {\n",
              "      border-color: transparent;\n",
              "      border-bottom-color: var(--fill-color);\n",
              "    }\n",
              "  }\n",
              "</style>\n",
              "\n",
              "  <script>\n",
              "    async function quickchart(key) {\n",
              "      const quickchartButtonEl =\n",
              "        document.querySelector('#' + key + ' button');\n",
              "      quickchartButtonEl.disabled = true;  // To prevent multiple clicks.\n",
              "      quickchartButtonEl.classList.add('colab-df-spinner');\n",
              "      try {\n",
              "        const charts = await google.colab.kernel.invokeFunction(\n",
              "            'suggestCharts', [key], {});\n",
              "      } catch (error) {\n",
              "        console.error('Error during call to suggestCharts:', error);\n",
              "      }\n",
              "      quickchartButtonEl.classList.remove('colab-df-spinner');\n",
              "      quickchartButtonEl.classList.add('colab-df-quickchart-complete');\n",
              "    }\n",
              "    (() => {\n",
              "      let quickchartButtonEl =\n",
              "        document.querySelector('#df-00b28614-88ec-46c9-8a3d-26ef8c2cb726 button');\n",
              "      quickchartButtonEl.style.display =\n",
              "        google.colab.kernel.accessAllowed ? 'block' : 'none';\n",
              "    })();\n",
              "  </script>\n",
              "</div>\n",
              "\n",
              "    </div>\n",
              "  </div>\n"
            ],
            "application/vnd.google.colaboratory.intrinsic+json": {
              "type": "dataframe"
            }
          },
          "metadata": {},
          "execution_count": 404
        }
      ],
      "source": [
        "# scaler = preprocessing.MinMaxScaler() # нормализация данных\n",
        "scaler = preprocessing.StandardScaler() # стандартизация данных\n",
        "\n",
        "X_train_resampled_scaled = pd.DataFrame(\n",
        "    scaler.fit_transform(X_train_resampled),\n",
        "    columns=X_train_resampled.columns,\n",
        "    index=X_train_resampled.index)\n",
        "\n",
        "X_test_resampled_scaled = pd.DataFrame(\n",
        "    scaler.transform(X_test_resampled),\n",
        "    columns=X_test_resampled.columns,\n",
        "    index=X_test_resampled.index)\n",
        "\n",
        "X_train_resampled_scaled.describe()"
      ]
    },
    {
      "cell_type": "code",
      "execution_count": null,
      "id": "802a4a39-d99c-4342-87aa-135151b3e481",
      "metadata": {
        "id": "802a4a39-d99c-4342-87aa-135151b3e481"
      },
      "outputs": [],
      "source": []
    },
    {
      "cell_type": "markdown",
      "id": "392435c6-083d-4afa-8471-2c49eeef00f9",
      "metadata": {
        "id": "392435c6-083d-4afa-8471-2c49eeef00f9"
      },
      "source": [
        "### Encoding"
      ]
    },
    {
      "cell_type": "code",
      "execution_count": null,
      "id": "6917c03e-bf63-419a-86a0-6f3633dde34d",
      "metadata": {
        "id": "6917c03e-bf63-419a-86a0-6f3633dde34d"
      },
      "outputs": [],
      "source": [
        "from sklearn.preprocessing import LabelEncoder\n",
        "encoder = LabelEncoder()"
      ]
    },
    {
      "cell_type": "code",
      "execution_count": null,
      "id": "530b5a7d-5d9c-414a-8db5-7957141a5536",
      "metadata": {
        "id": "530b5a7d-5d9c-414a-8db5-7957141a5536"
      },
      "outputs": [],
      "source": [
        "y_train_resampled_encoded = encoder.fit_transform(y_train_resampled.values[:,0])\n",
        "y_test_resampled_encoded = encoder.transform(y_test_resampled.values[:,0])"
      ]
    },
    {
      "cell_type": "code",
      "execution_count": null,
      "id": "c2f03089-2a5f-4c97-bb0f-54f9ff0bfe67",
      "metadata": {
        "id": "c2f03089-2a5f-4c97-bb0f-54f9ff0bfe67"
      },
      "outputs": [],
      "source": []
    },
    {
      "cell_type": "markdown",
      "id": "8ae5e9c9-0c6c-4e1b-a0df-12ffbf0b110c",
      "metadata": {
        "id": "8ae5e9c9-0c6c-4e1b-a0df-12ffbf0b110c"
      },
      "source": [
        "## Полносвязная нейронная сеть (многослойный персептрон)"
      ]
    },
    {
      "cell_type": "markdown",
      "id": "df39a82e-df88-4166-b91f-1c1010cb6daa",
      "metadata": {
        "id": "df39a82e-df88-4166-b91f-1c1010cb6daa"
      },
      "source": [
        "Инициализируем переменные для дальнейшего сравнения моделей"
      ]
    },
    {
      "cell_type": "code",
      "execution_count": null,
      "id": "dd19a0f3-3b95-43ec-b9a3-0501d56cad26",
      "metadata": {
        "id": "dd19a0f3-3b95-43ec-b9a3-0501d56cad26"
      },
      "outputs": [],
      "source": [
        "accuracy_classifier = {}\n",
        "precision_classifier = {}\n",
        "recall_classifier = {}\n",
        "f1_classifier = {}"
      ]
    },
    {
      "cell_type": "markdown",
      "id": "9e40b554-eb68-462e-8415-be255cc94605",
      "metadata": {
        "id": "9e40b554-eb68-462e-8415-be255cc94605"
      },
      "source": [
        "### Dataset"
      ]
    },
    {
      "cell_type": "code",
      "execution_count": null,
      "id": "1d8f847b-d84c-4c9e-a86a-a3841636e7c2",
      "metadata": {
        "id": "1d8f847b-d84c-4c9e-a86a-a3841636e7c2"
      },
      "outputs": [],
      "source": [
        "class ModeDataset(Dataset):\n",
        "    def __init__(self):\n",
        "        self.x = torch.tensor(X_train_resampled_scaled.values, dtype=torch.float32)\n",
        "        self.y = torch.tensor(y_train_resampled_encoded, dtype=torch.long)\n",
        "\n",
        "    def __getitem__(self, idx):\n",
        "        return self.x[idx], self.y[idx]\n",
        "\n",
        "    def __len__(self):\n",
        "        return self.x.shape[0]"
      ]
    },
    {
      "cell_type": "code",
      "execution_count": null,
      "id": "1c9d2dcb-beb5-42d3-a4b2-77e5f94c4004",
      "metadata": {
        "colab": {
          "base_uri": "https://localhost:8080/"
        },
        "id": "1c9d2dcb-beb5-42d3-a4b2-77e5f94c4004",
        "outputId": "14bf621c-9041-4b5c-e988-1d40762821cb"
      },
      "outputs": [
        {
          "output_type": "stream",
          "name": "stdout",
          "text": [
            "7000\n",
            "Sample number 0 :  (tensor([-0.1404,  0.6971,  0.4125,  0.2917,  0.4387, -0.9233, -1.6643, -1.8603,\n",
            "         0.2377,  0.6582,  0.6295, -0.6811,  0.3844,  0.0000,  0.0000,  0.5016,\n",
            "         0.5942,  0.5822, -0.3299,  0.6691,  0.6938,  0.6862, -0.1369,  0.3901,\n",
            "        -0.3336,  0.3548]), tensor(0))\n",
            "tensor([-0.1404,  0.6971,  0.4125,  0.2917,  0.4387, -0.9233, -1.6643, -1.8603,\n",
            "         0.2377,  0.6582,  0.6295, -0.6811,  0.3844,  0.0000,  0.0000,  0.5016,\n",
            "         0.5942,  0.5822, -0.3299,  0.6691,  0.6938,  0.6862, -0.1369,  0.3901,\n",
            "        -0.3336,  0.3548]) tensor(0)\n"
          ]
        }
      ],
      "source": [
        "dataset = ModeDataset()\n",
        "\n",
        "print(len(dataset))\n",
        "print(\"Sample number 0 : \", dataset[0])\n",
        "print(dataset[0][0], dataset[0][1])"
      ]
    },
    {
      "cell_type": "code",
      "execution_count": null,
      "id": "bb827de8-a4af-4eca-9baf-4207e3370a81",
      "metadata": {
        "id": "bb827de8-a4af-4eca-9baf-4207e3370a81"
      },
      "outputs": [],
      "source": [
        "BATCH_SIZE = 256\n",
        "\n",
        "INPUT_SIZE = len(feature_columns)\n",
        "OUTPUT_SIZE = len(target_columns)\n",
        "\n",
        "train_size = int(0.8 * len(dataset))\n",
        "valid_size = len(dataset) - train_size\n",
        "train_dataset, valid_dataset = torch.utils.data.random_split(dataset, [train_size, valid_size])\n",
        "\n",
        "\n",
        "train_loader = DataLoader(train_dataset, batch_size=BATCH_SIZE, shuffle=True)\n",
        "valid_loader = DataLoader(valid_dataset, batch_size=BATCH_SIZE, shuffle=True)"
      ]
    },
    {
      "cell_type": "markdown",
      "id": "5ce04b7c-5e58-4700-8351-8749dab540f6",
      "metadata": {
        "id": "5ce04b7c-5e58-4700-8351-8749dab540f6"
      },
      "source": [
        "### Функция для обучения модели"
      ]
    },
    {
      "cell_type": "code",
      "execution_count": null,
      "id": "8c92d415-4235-429e-9f8d-c89565ed72b0",
      "metadata": {
        "id": "8c92d415-4235-429e-9f8d-c89565ed72b0"
      },
      "outputs": [],
      "source": [
        "def train_model(model, criterion, optimizer, scheduler, num_epochs=100):\n",
        "\n",
        "    loaders = {\"train\": train_loader, \"valid\": valid_loader}\n",
        "\n",
        "    epochs = num_epochs\n",
        "\n",
        "    lr = []\n",
        "    losses = {\"train\": [], \"valid\": []}\n",
        "    for epoch in tqdm(range(epochs)):\n",
        "\n",
        "        for k, dataloader in loaders.items():\n",
        "            running_loss = []\n",
        "\n",
        "            for x_batch, y_batch in dataloader:\n",
        "                x_batch = x_batch.to(device)\n",
        "                y_batch = y_batch.to(device)\n",
        "\n",
        "                if k == \"train\":\n",
        "                    model.train()\n",
        "                    optimizer.zero_grad()\n",
        "                    outp = model(x_batch)\n",
        "                else:\n",
        "                    model.eval()\n",
        "                    with torch.no_grad():\n",
        "                        outp = model(x_batch)\n",
        "\n",
        "                loss = criterion(outp, y_batch)\n",
        "                running_loss.append(loss.item())\n",
        "\n",
        "                if k == \"train\":\n",
        "                    loss.backward()\n",
        "                    optimizer.step()\n",
        "\n",
        "            if k == \"train\":\n",
        "                lr.append(scheduler.optimizer.param_groups[0]['lr'])\n",
        "            losses[k].append(np.array(running_loss).mean())\n",
        "\n",
        "        scheduler.step(losses[\"train\"][-1])\n",
        "\n",
        "    return model, losses, lr"
      ]
    },
    {
      "cell_type": "code",
      "execution_count": null,
      "id": "2a4f5ab9-1e67-4548-b1fa-e1e62e3c8a16",
      "metadata": {
        "id": "2a4f5ab9-1e67-4548-b1fa-e1e62e3c8a16"
      },
      "outputs": [],
      "source": []
    },
    {
      "cell_type": "markdown",
      "id": "bcf9ee66-a423-4ec9-bf18-b90e16f20045",
      "metadata": {
        "id": "bcf9ee66-a423-4ec9-bf18-b90e16f20045"
      },
      "source": [
        "### Архитектура нейронной сети"
      ]
    },
    {
      "cell_type": "markdown",
      "source": [
        "#### Модель №1\n"
      ],
      "metadata": {
        "id": "_2g8AIMjum5W"
      },
      "id": "_2g8AIMjum5W"
    },
    {
      "cell_type": "code",
      "execution_count": null,
      "id": "93648946-4cca-42ab-962a-9d8b056da8bd",
      "metadata": {
        "id": "93648946-4cca-42ab-962a-9d8b056da8bd"
      },
      "outputs": [],
      "source": [
        "class FCNN_v1(nn.Module):\n",
        "  def __init__(\n",
        "      self, hidden_size=512, hidden_num=1,\n",
        "      # dropout_rate=0\n",
        "      ):\n",
        "    super(FCNN_v1, self).__init__()\n",
        "\n",
        "    # Входной слой\n",
        "    self.input_layer = nn.Sequential(\n",
        "        nn.Linear(INPUT_SIZE, hidden_size),\n",
        "        # nn.BatchNorm1d(hidden_size),\n",
        "        nn.ReLU(),\n",
        "        # nn.Dropout(dropout_rate)\n",
        "    )\n",
        "\n",
        "    # Скрытые слои\n",
        "    self.hidden_layers = nn.ModuleList()\n",
        "    for _ in range(hidden_num):\n",
        "        self.hidden_layers.append(\n",
        "            nn.Sequential(\n",
        "                nn.Linear(hidden_size, hidden_size),\n",
        "                # nn.BatchNorm1d(hidden_size),\n",
        "                nn.ReLU(),\n",
        "                # nn.Dropout(dropout_rate)\n",
        "            )\n",
        "        )\n",
        "\n",
        "    # Выходной слой\n",
        "    self.output_layer = nn.Linear(hidden_size, OUTPUT_SIZE)\n",
        "\n",
        "  def forward(self, x):\n",
        "    x = self.input_layer(x)\n",
        "\n",
        "    for layer in self.hidden_layers:\n",
        "        x = layer(x)\n",
        "\n",
        "    x = self.output_layer(x)\n",
        "    return x\n"
      ]
    },
    {
      "cell_type": "markdown",
      "id": "bc79d926-5b5a-4024-b3d5-97c26690a28c",
      "metadata": {
        "id": "bc79d926-5b5a-4024-b3d5-97c26690a28c"
      },
      "source": [
        "##### Обучение модели"
      ]
    },
    {
      "cell_type": "code",
      "source": [],
      "metadata": {
        "id": "Ix8zrQFViczn"
      },
      "id": "Ix8zrQFViczn",
      "execution_count": null,
      "outputs": []
    },
    {
      "cell_type": "code",
      "execution_count": null,
      "id": "38cd521b-6e77-48e7-be08-5801c3a4a2c9",
      "metadata": {
        "colab": {
          "base_uri": "https://localhost:8080/"
        },
        "id": "38cd521b-6e77-48e7-be08-5801c3a4a2c9",
        "outputId": "30284013-a646-43c7-8339-0c413005421e"
      },
      "outputs": [
        {
          "output_type": "stream",
          "name": "stderr",
          "text": [
            "100%|██████████| 200/200 [00:18<00:00, 10.76it/s]\n"
          ]
        }
      ],
      "source": [
        "FCNN_v1_16_2 = FCNN_v1(16, 2).to(device)\n",
        "# FCNN_64_2._initialize_weights()\n",
        "\n",
        "# criterion = nn.MSELoss()\n",
        "\n",
        "# class_weights = torch.tensor([2.0, 2.0, 1.0]).to(device)\n",
        "\n",
        "criterion = nn.CrossEntropyLoss()\n",
        "# criterion = nn.NLLLoss()\n",
        "optimizer = torch.optim.Adam(FCNN_v1_16_2.parameters(), lr=1e-3, weight_decay=1e-5)\n",
        "# scheduler = lr_scheduler.StepLR(optimizer, step_size=10, gamma=0.1)\n",
        "scheduler = lr_scheduler.ReduceLROnPlateau(optimizer, mode='min', factor=0.3,\n",
        "                                           patience=30, threshold=0.0001)\n",
        "\n",
        "FCNN_v1_16_2, losses_FCNN_v1_16_2, lr_FCNN_v1_16_2 = train_model(\n",
        "    FCNN_v1_16_2, criterion, optimizer,\n",
        "    scheduler, num_epochs=200)"
      ]
    },
    {
      "cell_type": "code",
      "execution_count": null,
      "id": "43f11eee-6236-43b2-b528-486652187fff",
      "metadata": {
        "colab": {
          "base_uri": "https://localhost:8080/",
          "height": 453
        },
        "id": "43f11eee-6236-43b2-b528-486652187fff",
        "outputId": "976a67bb-44bd-45af-b369-2693109a0852"
      },
      "outputs": [
        {
          "output_type": "display_data",
          "data": {
            "text/plain": [
              "<Figure size 640x480 with 1 Axes>"
            ],
            "image/png": "[encoded data removed]"
          },
          "metadata": {}
        }
      ],
      "source": [
        "plt.plot(losses_FCNN_v1_16_2['train'], label='train');\n",
        "plt.plot(losses_FCNN_v1_16_2['valid'], label='valid');\n",
        "plt.legend();\n",
        "plt.ylabel(\"Ошибка\");\n",
        "plt.xlabel(\"Эпоха обучения\");"
      ]
    },
    {
      "cell_type": "code",
      "execution_count": null,
      "id": "686bd9b9-32bc-48c0-8e21-4ec3c8632b9e",
      "metadata": {
        "colab": {
          "base_uri": "https://localhost:8080/",
          "height": 430
        },
        "id": "686bd9b9-32bc-48c0-8e21-4ec3c8632b9e",
        "outputId": "3d0fa58b-a948-4ca7-fc63-2523c1a7f0f6"
      },
      "outputs": [
        {
          "output_type": "display_data",
          "data": {
            "text/plain": [
              "<Figure size 640x480 with 1 Axes>"
            ],
            "image/png": "[encoded data removed]"
          },
          "metadata": {}
        }
      ],
      "source": [
        "plt.plot(lr_FCNN_v1_16_2);"
      ]
    },
    {
      "cell_type": "code",
      "execution_count": null,
      "id": "fc7f044c-5472-496a-b13f-d4cc2800b0b1",
      "metadata": {
        "colab": {
          "base_uri": "https://localhost:8080/"
        },
        "id": "fc7f044c-5472-496a-b13f-d4cc2800b0b1",
        "outputId": "ae374982-213e-41af-e687-836d4c4095e4"
      },
      "outputs": [
        {
          "output_type": "stream",
          "name": "stdout",
          "text": [
            "Loss в конце обучения\n",
            "На обучающей выборке: 0.20291\n",
            "На валидационной выборке: 0.26072\n"
          ]
        }
      ],
      "source": [
        "print('Loss в конце обучения')\n",
        "print(f'На обучающей выборке: {losses_FCNN_v1_16_2[\"train\"][-1]:.5f}')\n",
        "print(f'На валидационной выборке: {losses_FCNN_v1_16_2[\"valid\"][-1]:.5f}')"
      ]
    },
    {
      "cell_type": "code",
      "execution_count": null,
      "id": "80bbc3e7-8b35-4c73-ae26-4b7a4e4a4028",
      "metadata": {
        "id": "80bbc3e7-8b35-4c73-ae26-4b7a4e4a4028"
      },
      "outputs": [],
      "source": []
    },
    {
      "cell_type": "code",
      "execution_count": null,
      "id": "f90d02e8-7b3f-45cf-8dd4-bcb291d566e9",
      "metadata": {
        "colab": {
          "base_uri": "https://localhost:8080/"
        },
        "id": "f90d02e8-7b3f-45cf-8dd4-bcb291d566e9",
        "outputId": "b133a6b4-f7a5-4b75-9955-449707f32a7e"
      },
      "outputs": [
        {
          "output_type": "stream",
          "name": "stdout",
          "text": [
            "Истина - decreas_power_mode >>> decreas_power_mode - предсказание\n",
            "Истина - full_power_mode >>> full_power_mode - предсказание\n",
            "Истина - increas_power_mode >>> partial_power_mode - предсказание\n",
            "Истина - partial_power_mode >>> partial_power_mode - предсказание\n",
            "Истина - shutdown_mode >>> start_up_mode - предсказание\n",
            "Истина - start_up_mode >>> start_up_mode - предсказание\n",
            "Истина - stopped_state_mode >>> stopped_state_mode - предсказание\n"
          ]
        }
      ],
      "source": [
        "some_indexes = y_test_resampled.groupby('target').sample(n=1, random_state=42).index\n",
        "X_some_modes = X_test_resampled_scaled.loc[some_indexes]\n",
        "y_some_modes = y_test_resampled.loc[some_indexes]\n",
        "\n",
        "FCNN_v1_16_2.to(\"cpu\")\n",
        "FCNN_v1_16_2.eval()\n",
        "logits = FCNN_v1_16_2(torch.tensor(X_some_modes.values, dtype=torch.float32))\n",
        "predicted_classes = torch.argmax(logits, dim=1)\n",
        "\n",
        "for target, predict in zip(y_some_modes.values, predicted_classes.detach().numpy()):\n",
        "    print(f\"Истина - {target[0]} >>> {encoder.inverse_transform([predict])[0]} - предсказание\")"
      ]
    },
    {
      "cell_type": "code",
      "execution_count": null,
      "id": "38a7bcbe-4a08-4b9e-9a68-7b8f22f702cc",
      "metadata": {
        "colab": {
          "base_uri": "https://localhost:8080/"
        },
        "id": "38a7bcbe-4a08-4b9e-9a68-7b8f22f702cc",
        "outputId": "bd207d0a-6d98-433e-a5a1-8a3dc982dee4"
      },
      "outputs": [
        {
          "output_type": "execute_result",
          "data": {
            "text/plain": [
              "tensor([[ 6.6515e+00,  6.5285e+00, -4.8745e-01, -1.7350e+00, -1.0860e+01,\n",
              "         -1.1072e+01, -1.8317e+01],\n",
              "        [ 3.5279e+00,  4.6797e+00, -2.7023e-02, -2.8484e+00, -8.9708e+00,\n",
              "         -6.7265e+00, -1.9143e+01],\n",
              "        [ 1.9796e+00, -3.9009e+00,  2.2586e+00,  3.5417e+00, -8.3861e+00,\n",
              "         -8.0056e+00, -1.1949e+01],\n",
              "        [ 2.9847e-01,  1.2397e-01, -1.5405e+00,  7.2803e+00, -7.7859e+00,\n",
              "         -9.9176e+00, -9.2303e+00],\n",
              "        [-2.4504e+01, -2.6106e+01, -2.6990e+01, -1.7893e+01,  1.0717e+01,\n",
              "          1.1608e+01, -6.8327e+00],\n",
              "        [-2.1989e+01, -2.9144e+01, -2.4108e+01, -1.3332e+01,  1.0197e+01,\n",
              "          1.0674e+01, -2.3645e+00],\n",
              "        [-1.7501e+00, -2.5855e+01, -5.0251e+01,  5.0194e+00,  7.5210e+00,\n",
              "         -8.7894e+00,  1.8900e+01]], grad_fn=<AddmmBackward0>)"
            ]
          },
          "metadata": {},
          "execution_count": 418
        }
      ],
      "source": [
        "logits"
      ]
    },
    {
      "cell_type": "code",
      "source": [
        "encoder.transform(y_some_modes.values)"
      ],
      "metadata": {
        "colab": {
          "base_uri": "https://localhost:8080/"
        },
        "id": "U-tvEz_jgcal",
        "outputId": "560b28b2-c8a1-4992-b05e-384b148fb206"
      },
      "id": "U-tvEz_jgcal",
      "execution_count": null,
      "outputs": [
        {
          "output_type": "execute_result",
          "data": {
            "text/plain": [
              "array([0, 1, 2, 3, 4, 5, 6])"
            ]
          },
          "metadata": {},
          "execution_count": 419
        }
      ]
    },
    {
      "cell_type": "code",
      "source": [
        "criterion(logits, torch.tensor(encoder.transform(y_some_modes.values)))"
      ],
      "metadata": {
        "colab": {
          "base_uri": "https://localhost:8080/"
        },
        "id": "klNFfPHdgp4t",
        "outputId": "3e9c283c-31af-4ee7-a1ae-e6b5b84933e8"
      },
      "id": "klNFfPHdgp4t",
      "execution_count": null,
      "outputs": [
        {
          "output_type": "execute_result",
          "data": {
            "text/plain": [
              "tensor(0.6165, grad_fn=<NllLossBackward0>)"
            ]
          },
          "metadata": {},
          "execution_count": 420
        }
      ]
    },
    {
      "cell_type": "code",
      "execution_count": null,
      "id": "957292ee-3ce2-4a89-80fe-660e6f3c4a75",
      "metadata": {
        "colab": {
          "base_uri": "https://localhost:8080/"
        },
        "id": "957292ee-3ce2-4a89-80fe-660e6f3c4a75",
        "outputId": "12a3aaf6-9cfc-4f3c-de89-ce1339bbb5d1"
      },
      "outputs": [
        {
          "output_type": "execute_result",
          "data": {
            "text/plain": [
              "tensor([[5.3043e-01, 4.6903e-01, 4.2095e-04, 1.2090e-04, 1.3166e-08, 1.0650e-08,\n",
              "         7.6030e-12],\n",
              "        [2.3844e-01, 7.5433e-01, 6.8152e-03, 4.0566e-04, 8.8973e-07, 8.3935e-06,\n",
              "         3.4018e-11],\n",
              "        [1.4097e-01, 3.9381e-04, 1.8633e-01, 6.7229e-01, 4.4399e-06, 6.4958e-06,\n",
              "         1.2587e-07],\n",
              "        [9.2687e-04, 7.7846e-04, 1.4736e-04, 9.9815e-01, 2.8578e-07, 3.3903e-08,\n",
              "         6.7407e-08],\n",
              "        [1.4694e-16, 2.9622e-17, 1.2240e-17, 1.0922e-13, 2.9090e-01, 7.0910e-01,\n",
              "         6.9476e-09],\n",
              "        [4.0267e-15, 3.1435e-18, 4.8382e-16, 2.3158e-11, 3.8302e-01, 6.1698e-01,\n",
              "         1.3421e-06],\n",
              "        [1.0757e-09, 3.6568e-20, 9.2940e-31, 9.3677e-07, 1.1432e-05, 9.4314e-13,\n",
              "         9.9999e-01]], grad_fn=<SoftmaxBackward0>)"
            ]
          },
          "metadata": {},
          "execution_count": 421
        }
      ],
      "source": [
        "torch.softmax(logits, dim=1)"
      ]
    },
    {
      "cell_type": "markdown",
      "id": "7782244f-f595-46bc-9551-468ca61ea895",
      "metadata": {
        "id": "7782244f-f595-46bc-9551-468ca61ea895"
      },
      "source": [
        "### Анализ качества модели"
      ]
    },
    {
      "cell_type": "code",
      "execution_count": null,
      "id": "d51ab8b8-ab4f-43b4-be16-405575be8acb",
      "metadata": {
        "id": "d51ab8b8-ab4f-43b4-be16-405575be8acb"
      },
      "outputs": [],
      "source": [
        "FCNN_v1_16_2.eval()\n",
        "logits =  FCNN_v1_16_2(torch.tensor(X_test_resampled_scaled.values, dtype=torch.float32))\n",
        "\n",
        "probabilities = torch.softmax(logits, dim=1)\n",
        "predicted_classes = torch.argmax(probabilities, dim=1)\n",
        "\n",
        "y_test_pred_FCNN_v1_16_2 = encoder.inverse_transform(predicted_classes)"
      ]
    },
    {
      "cell_type": "markdown",
      "id": "f88ba7d5-2e72-4955-b963-d7446059a0d7",
      "metadata": {
        "id": "f88ba7d5-2e72-4955-b963-d7446059a0d7"
      },
      "source": [
        "#### Матрица неточностей"
      ]
    },
    {
      "cell_type": "code",
      "execution_count": null,
      "id": "aa4f213c-3e2b-454f-8967-49711ac4bc6e",
      "metadata": {
        "colab": {
          "base_uri": "https://localhost:8080/",
          "height": 587
        },
        "id": "aa4f213c-3e2b-454f-8967-49711ac4bc6e",
        "outputId": "e95273ea-158d-43fe-b25a-82914b841216"
      },
      "outputs": [
        {
          "output_type": "display_data",
          "data": {
            "text/plain": [
              "<Figure size 640x480 with 2 Axes>"
            ],
            "image/png": "[encoded data removed]"
          },
          "metadata": {}
        }
      ],
      "source": [
        "conf_mat = confusion_matrix(y_test_resampled, y_test_pred_FCNN_v1_16_2)\n",
        "ConfusionMatrixDisplay(conf_mat, display_labels=encoder.classes_).plot()\n",
        "plt.xticks(rotation=90)\n",
        "plt.show()"
      ]
    },
    {
      "cell_type": "markdown",
      "source": [
        "#### Accuracy"
      ],
      "metadata": {
        "id": "26yAGOJmxRJZ"
      },
      "id": "26yAGOJmxRJZ"
    },
    {
      "cell_type": "code",
      "execution_count": 426,
      "id": "22bf4921-08b3-4e12-b44f-4e5367b6e17b",
      "metadata": {
        "id": "22bf4921-08b3-4e12-b44f-4e5367b6e17b"
      },
      "outputs": [],
      "source": [
        "accuracy_classifier['FCNN_v1_16_2'] = accuracy_score(y_test_resampled, y_test_pred_FCNN_v1_16_2)"
      ]
    },
    {
      "cell_type": "markdown",
      "source": [
        "#### Precision и recall"
      ],
      "metadata": {
        "id": "UVsls6YCxfWl"
      },
      "id": "UVsls6YCxfWl"
    },
    {
      "cell_type": "code",
      "execution_count": 427,
      "id": "459071ef-331f-4848-b247-e94862729ddb",
      "metadata": {
        "id": "459071ef-331f-4848-b247-e94862729ddb"
      },
      "outputs": [],
      "source": [
        "precision_classifier['FCNN_v1_16_2'] = precision_score(y_test_resampled, y_test_pred_FCNN_v1_16_2, average='macro', zero_division = np.nan)\n",
        "recall_classifier['FCNN_v1_16_2'] = recall_score(y_test_resampled, y_test_pred_FCNN_v1_16_2, average='macro', zero_division = np.nan)"
      ]
    },
    {
      "cell_type": "markdown",
      "source": [
        "#### F1"
      ],
      "metadata": {
        "id": "_y42fbhRxoWi"
      },
      "id": "_y42fbhRxoWi"
    },
    {
      "cell_type": "code",
      "source": [
        "f1_classifier['FCNN_v1_16_2'] = f1_score(y_test_resampled, y_test_pred_FCNN_v1_16_2, average='macro', zero_division = np.nan)"
      ],
      "metadata": {
        "id": "L6fAAndOw-M9"
      },
      "id": "L6fAAndOw-M9",
      "execution_count": 429,
      "outputs": []
    },
    {
      "cell_type": "markdown",
      "source": [
        "#### Значения метрик"
      ],
      "metadata": {
        "id": "rezYqTGQxyKY"
      },
      "id": "rezYqTGQxyKY"
    },
    {
      "cell_type": "code",
      "source": [
        "print(f\"accuracy - {accuracy_classifier['FCNN_v1_16_2']*100:0.2f}%\")\n",
        "print(f\"precision - {precision_classifier['FCNN_v1_16_2']*100:0.2f}%\")\n",
        "print(f\"recall - {recall_classifier['FCNN_v1_16_2']*100:0.2f}%\")\n",
        "print(f\"F1 - {f1_classifier['FCNN_v1_16_2']*100:0.2f}%\")"
      ],
      "metadata": {
        "id": "cU18xnssw-QD",
        "colab": {
          "base_uri": "https://localhost:8080/"
        },
        "outputId": "3865e585-f256-4ddc-c973-c77d64bb42f8"
      },
      "id": "cU18xnssw-QD",
      "execution_count": 430,
      "outputs": [
        {
          "output_type": "stream",
          "name": "stdout",
          "text": [
            "accuracy - 87.70%\n",
            "precision - 78.01%\n",
            "recall - 80.58%\n",
            "F1 - 78.60%\n"
          ]
        }
      ]
    },
    {
      "cell_type": "code",
      "source": [],
      "metadata": {
        "id": "zvAhkYYKw-SW"
      },
      "id": "zvAhkYYKw-SW",
      "execution_count": null,
      "outputs": []
    },
    {
      "cell_type": "markdown",
      "source": [
        "#### Модель №2\n",
        "#### Обучение модели"
      ],
      "metadata": {
        "id": "6WJUiU4O0WCm"
      },
      "id": "6WJUiU4O0WCm"
    },
    {
      "cell_type": "code",
      "source": [
        "FCNN_v1_16_4 = FCNN_v1(16, 4).to(device)\n",
        "\n",
        "criterion = nn.CrossEntropyLoss()\n",
        "optimizer = torch.optim.Adam(FCNN_v1_16_4.parameters(), lr=1e-3, weight_decay=1e-5)\n",
        "scheduler = lr_scheduler.ReduceLROnPlateau(optimizer, mode='min', factor=0.3,\n",
        "                                           patience=30, threshold=0.0001)\n",
        "\n",
        "FCNN_v1_16_4, losses_FCNN_v1_16_4, lr_FCNN_v1_16_4 = train_model(\n",
        "    FCNN_v1_16_4, criterion, optimizer,\n",
        "    scheduler, num_epochs=200)"
      ],
      "metadata": {
        "id": "lagWqmHHw-VH",
        "colab": {
          "base_uri": "https://localhost:8080/"
        },
        "outputId": "a3eaa21e-2b91-4a38-dfff-cafe37b7ee17"
      },
      "id": "lagWqmHHw-VH",
      "execution_count": 434,
      "outputs": [
        {
          "output_type": "stream",
          "name": "stderr",
          "text": [
            "100%|██████████| 200/200 [00:21<00:00,  9.50it/s]\n"
          ]
        }
      ]
    },
    {
      "cell_type": "code",
      "execution_count": 435,
      "id": "f8c8776a-5c65-4ccf-979a-a5c5f957a93c",
      "metadata": {
        "id": "f8c8776a-5c65-4ccf-979a-a5c5f957a93c",
        "colab": {
          "base_uri": "https://localhost:8080/",
          "height": 449
        },
        "outputId": "e6d6c20e-45fd-4f23-ed2a-a75685382bb9"
      },
      "outputs": [
        {
          "output_type": "display_data",
          "data": {
            "text/plain": [
              "<Figure size 640x480 with 1 Axes>"
            ],
            "image/png": "[encoded data removed]"
          },
          "metadata": {}
        }
      ],
      "source": [
        "plt.plot(losses_FCNN_v1_16_4['train'], label='train');\n",
        "plt.plot(losses_FCNN_v1_16_4['valid'], label='valid');\n",
        "plt.legend();\n",
        "plt.ylabel(\"Ошибка\");\n",
        "plt.xlabel(\"Эпоха обучения\");"
      ]
    },
    {
      "cell_type": "code",
      "source": [
        "plt.plot(lr_FCNN_v1_16_4);"
      ],
      "metadata": {
        "colab": {
          "base_uri": "https://localhost:8080/",
          "height": 430
        },
        "id": "20uXnBVg0r9y",
        "outputId": "048022a9-dace-4167-ee84-496c665847f2"
      },
      "id": "20uXnBVg0r9y",
      "execution_count": 436,
      "outputs": [
        {
          "output_type": "display_data",
          "data": {
            "text/plain": [
              "<Figure size 640x480 with 1 Axes>"
            ],
            "image/png": "[encoded data removed]"
          },
          "metadata": {}
        }
      ]
    },
    {
      "cell_type": "code",
      "source": [
        "print('Loss в конце обучения')\n",
        "print(f'На обучающей выборке: {losses_FCNN_v1_16_4[\"train\"][-1]:.5f}')\n",
        "print(f'На валидационной выборке: {losses_FCNN_v1_16_4[\"valid\"][-1]:.5f}')"
      ],
      "metadata": {
        "colab": {
          "base_uri": "https://localhost:8080/"
        },
        "id": "d3dG26yh0sBY",
        "outputId": "e8cd735e-bc0d-47a9-c1bf-29fb54a632e3"
      },
      "id": "d3dG26yh0sBY",
      "execution_count": 437,
      "outputs": [
        {
          "output_type": "stream",
          "name": "stdout",
          "text": [
            "Loss в конце обучения\n",
            "На обучающей выборке: 0.24788\n",
            "На валидационной выборке: 0.30556\n"
          ]
        }
      ]
    },
    {
      "cell_type": "code",
      "source": [
        "some_indexes = y_test_resampled.groupby('target').sample(n=1, random_state=42).index\n",
        "X_some_modes = X_test_resampled_scaled.loc[some_indexes]\n",
        "y_some_modes = y_test_resampled.loc[some_indexes]\n",
        "\n",
        "FCNN_v1_16_4.to(\"cpu\")\n",
        "FCNN_v1_16_4.eval()\n",
        "logits = FCNN_v1_16_4(torch.tensor(X_some_modes.values, dtype=torch.float32))\n",
        "predicted_classes = torch.argmax(logits, dim=1)\n",
        "\n",
        "for target, predict in zip(y_some_modes.values, predicted_classes.detach().numpy()):\n",
        "    print(f\"Истина - {target[0]} >>> {encoder.inverse_transform([predict])[0]} - предсказание\")"
      ],
      "metadata": {
        "colab": {
          "base_uri": "https://localhost:8080/"
        },
        "id": "opdUFqH71Yng",
        "outputId": "20dc10b8-698e-4d0d-f165-bb1e43b18c1f"
      },
      "id": "opdUFqH71Yng",
      "execution_count": 438,
      "outputs": [
        {
          "output_type": "stream",
          "name": "stdout",
          "text": [
            "Истина - decreas_power_mode >>> full_power_mode - предсказание\n",
            "Истина - full_power_mode >>> full_power_mode - предсказание\n",
            "Истина - increas_power_mode >>> increas_power_mode - предсказание\n",
            "Истина - partial_power_mode >>> partial_power_mode - предсказание\n",
            "Истина - shutdown_mode >>> start_up_mode - предсказание\n",
            "Истина - start_up_mode >>> start_up_mode - предсказание\n",
            "Истина - stopped_state_mode >>> stopped_state_mode - предсказание\n"
          ]
        }
      ]
    },
    {
      "cell_type": "markdown",
      "source": [
        "### Анализ качества модели"
      ],
      "metadata": {
        "id": "vZRm6y_f12eO"
      },
      "id": "vZRm6y_f12eO"
    },
    {
      "cell_type": "code",
      "source": [
        "FCNN_v1_16_4.eval()\n",
        "logits =  FCNN_v1_16_4(torch.tensor(X_test_resampled_scaled.values, dtype=torch.float32))\n",
        "\n",
        "probabilities = torch.softmax(logits, dim=1)\n",
        "predicted_classes = torch.argmax(probabilities, dim=1)\n",
        "\n",
        "y_test_pred_FCNN_v1_16_4 = encoder.inverse_transform(predicted_classes)"
      ],
      "metadata": {
        "id": "BpcQtFkz1n-3"
      },
      "id": "BpcQtFkz1n-3",
      "execution_count": 439,
      "outputs": []
    },
    {
      "cell_type": "markdown",
      "source": [
        "#### Матрица неточностей"
      ],
      "metadata": {
        "id": "6hDzycJi2Ttj"
      },
      "id": "6hDzycJi2Ttj"
    },
    {
      "cell_type": "code",
      "source": [
        "conf_mat = confusion_matrix(y_test_resampled, y_test_pred_FCNN_v1_16_4)\n",
        "ConfusionMatrixDisplay(conf_mat, display_labels=encoder.classes_).plot()\n",
        "plt.xticks(rotation=90)\n",
        "plt.show()"
      ],
      "metadata": {
        "colab": {
          "base_uri": "https://localhost:8080/",
          "height": 587
        },
        "id": "rXTjqktN1oDC",
        "outputId": "2ede6aba-f9a5-4f0c-e6cb-288a834daa72"
      },
      "id": "rXTjqktN1oDC",
      "execution_count": 440,
      "outputs": [
        {
          "output_type": "display_data",
          "data": {
            "text/plain": [
              "<Figure size 640x480 with 2 Axes>"
            ],
            "image/png": "[encoded data removed]"
          },
          "metadata": {}
        }
      ]
    },
    {
      "cell_type": "markdown",
      "source": [
        "#### Accuracy"
      ],
      "metadata": {
        "id": "MEL9MMqD2jXV"
      },
      "id": "MEL9MMqD2jXV"
    },
    {
      "cell_type": "code",
      "source": [
        "accuracy_classifier['FCNN_v1_16_4'] = accuracy_score(y_test_resampled, y_test_pred_FCNN_v1_16_4)"
      ],
      "metadata": {
        "id": "qBTkpKWV1YyY"
      },
      "id": "qBTkpKWV1YyY",
      "execution_count": 441,
      "outputs": []
    },
    {
      "cell_type": "markdown",
      "source": [
        "#### Precision и recall"
      ],
      "metadata": {
        "id": "CTXfC_U4209a"
      },
      "id": "CTXfC_U4209a"
    },
    {
      "cell_type": "code",
      "source": [
        "precision_classifier['FCNN_v1_16_4'] = precision_score(y_test_resampled, y_test_pred_FCNN_v1_16_4, average='macro', zero_division = np.nan)\n",
        "recall_classifier['FCNN_v1_16_4'] = recall_score(y_test_resampled, y_test_pred_FCNN_v1_16_4, average='macro', zero_division = np.nan)"
      ],
      "metadata": {
        "id": "y3WGLXGq2ipu"
      },
      "id": "y3WGLXGq2ipu",
      "execution_count": 442,
      "outputs": []
    },
    {
      "cell_type": "markdown",
      "source": [
        "#### F1"
      ],
      "metadata": {
        "id": "B5Lbnq-Z3AIN"
      },
      "id": "B5Lbnq-Z3AIN"
    },
    {
      "cell_type": "code",
      "source": [
        "f1_classifier['FCNN_v1_16_4'] = f1_score(y_test_resampled, y_test_pred_FCNN_v1_16_4, average='macro', zero_division = np.nan)"
      ],
      "metadata": {
        "id": "pAIKc42e2i4D"
      },
      "id": "pAIKc42e2i4D",
      "execution_count": 443,
      "outputs": []
    },
    {
      "cell_type": "markdown",
      "source": [
        "#### Значения метрик"
      ],
      "metadata": {
        "id": "URMjvbQx3N24"
      },
      "id": "URMjvbQx3N24"
    },
    {
      "cell_type": "code",
      "source": [
        "print(f\"accuracy - {accuracy_classifier['FCNN_v1_16_4']*100:0.2f}%\")\n",
        "print(f\"precision - {precision_classifier['FCNN_v1_16_4']*100:0.2f}%\")\n",
        "print(f\"recall - {recall_classifier['FCNN_v1_16_4']*100:0.2f}%\")\n",
        "print(f\"F1 - {f1_classifier['FCNN_v1_16_4']*100:0.2f}%\")"
      ],
      "metadata": {
        "colab": {
          "base_uri": "https://localhost:8080/"
        },
        "id": "1YHcrlKw2i7t",
        "outputId": "6110ed08-3742-48e5-f4fd-cd147b88cb76"
      },
      "id": "1YHcrlKw2i7t",
      "execution_count": 444,
      "outputs": [
        {
          "output_type": "stream",
          "name": "stdout",
          "text": [
            "accuracy - 88.86%\n",
            "precision - 80.39%\n",
            "recall - 80.16%\n",
            "F1 - 79.25%\n"
          ]
        }
      ]
    },
    {
      "cell_type": "code",
      "source": [
        "f1_classifier"
      ],
      "metadata": {
        "colab": {
          "base_uri": "https://localhost:8080/"
        },
        "id": "Zc5iynAF3bjt",
        "outputId": "0cd499c1-df52-4dd0-f52b-bd281327c52f"
      },
      "id": "Zc5iynAF3bjt",
      "execution_count": 445,
      "outputs": [
        {
          "output_type": "execute_result",
          "data": {
            "text/plain": [
              "{'FCNN_v1_16_2': 0.7860275636761048, 'FCNN_v1_16_4': 0.7924988056233365}"
            ]
          },
          "metadata": {},
          "execution_count": 445
        }
      ]
    },
    {
      "cell_type": "code",
      "source": [],
      "metadata": {
        "id": "mr-l2qS63bnp"
      },
      "id": "mr-l2qS63bnp",
      "execution_count": null,
      "outputs": []
    },
    {
      "cell_type": "code",
      "source": [],
      "metadata": {
        "id": "FbBRkuQP0sJs"
      },
      "id": "FbBRkuQP0sJs",
      "execution_count": null,
      "outputs": []
    },
    {
      "cell_type": "code",
      "execution_count": null,
      "id": "6242f921-5555-474b-b6f6-9e04044fc474",
      "metadata": {
        "id": "6242f921-5555-474b-b6f6-9e04044fc474",
        "outputId": "2e3adee8-9d31-4fea-d10f-7c498ac075f2"
      },
      "outputs": [
        {
          "name": "stderr",
          "output_type": "stream",
          "text": [
            "100%|██████████| 100/100 [00:12<00:00,  7.72it/s]\n"
          ]
        }
      ],
      "source": [
        "FCNN_64_5 = FCNN(26, 7, 64, 5)\n",
        "\n",
        "criterion = nn.MSELoss()\n",
        "optimizer = torch.optim.Adam(FCNN_64_5.parameters(), lr=1e-3)\n",
        "# scheduler = lr_scheduler.StepLR(optimizer, step_size=10, gamma=0.1)\n",
        "scheduler = lr_scheduler.ReduceLROnPlateau(optimizer, mode='min', factor=0.3,\n",
        "                                           patience=3, threshold=0.0001)\n",
        "\n",
        "FCNN_64_5, losses_FCNN_64_5 = train_model(\n",
        "    FCNN_64_5, criterion, optimizer,\n",
        "    scheduler, num_epochs=100)"
      ]
    },
    {
      "cell_type": "code",
      "execution_count": null,
      "id": "7d27a83c-af3d-4cf0-adfb-7e2d5b212075",
      "metadata": {
        "id": "7d27a83c-af3d-4cf0-adfb-7e2d5b212075",
        "outputId": "1be29e64-c755-4cf2-a97b-c75e03c376a0"
      },
      "outputs": [
        {
          "data": {
            "image/png": "[encoded data removed]",
            "text/plain": [
              "<Figure size 640x480 with 1 Axes>"
            ]
          },
          "metadata": {},
          "output_type": "display_data"
        }
      ],
      "source": [
        "plt.plot(losses_FCNN_64_5['train'], label='train');\n",
        "plt.plot(losses_FCNN_64_5['valid'], label='valid');\n",
        "plt.ylabel(\"Среднеквадратичная\\nошибка\");\n",
        "plt.xlabel(\"Эпоха обучения\");"
      ]
    },
    {
      "cell_type": "code",
      "execution_count": null,
      "id": "1296b4a2-5672-42c0-8474-b5429013d685",
      "metadata": {
        "id": "1296b4a2-5672-42c0-8474-b5429013d685",
        "outputId": "e789cb8b-08b4-4a22-fbbe-181a2c304cc0"
      },
      "outputs": [
        {
          "name": "stderr",
          "output_type": "stream",
          "text": [
            "100%|██████████| 100/100 [00:14<00:00,  6.68it/s]\n"
          ]
        }
      ],
      "source": [
        "FCNN_256_2 = FCNN(26, 7, 256, 2)\n",
        "\n",
        "criterion = nn.MSELoss()\n",
        "optimizer = torch.optim.Adam(FCNN_256_2.parameters(), lr=1e-3)\n",
        "# scheduler = lr_scheduler.StepLR(optimizer, step_size=10, gamma=0.1)\n",
        "scheduler = lr_scheduler.ReduceLROnPlateau(optimizer, mode='min', factor=0.3,\n",
        "                                           patience=3, threshold=0.0001)\n",
        "\n",
        "FCNN_256_2, losses_FCNN_256_2 = train_model(\n",
        "    FCNN_256_2, criterion, optimizer,\n",
        "    scheduler, num_epochs=100)"
      ]
    },
    {
      "cell_type": "code",
      "execution_count": null,
      "id": "5062bd15-cff1-40d5-8ad7-301f159da629",
      "metadata": {
        "id": "5062bd15-cff1-40d5-8ad7-301f159da629",
        "outputId": "444be4e2-157b-49fd-e1e4-75a1eaf92a1f"
      },
      "outputs": [
        {
          "ename": "NameError",
          "evalue": "name 'losses_FCNN_256_2' is not defined",
          "output_type": "error",
          "traceback": [
            "\u001b[1;31m---------------------------------------------------------------------------\u001b[0m",
            "\u001b[1;31mNameError\u001b[0m                                 Traceback (most recent call last)",
            "Cell \u001b[1;32mIn[134], line 1\u001b[0m\n\u001b[1;32m----> 1\u001b[0m plt\u001b[38;5;241m.\u001b[39mplot(\u001b[43mlosses_FCNN_256_2\u001b[49m[\u001b[38;5;124m'\u001b[39m\u001b[38;5;124mtrain\u001b[39m\u001b[38;5;124m'\u001b[39m], label\u001b[38;5;241m=\u001b[39m\u001b[38;5;124m'\u001b[39m\u001b[38;5;124mtrain\u001b[39m\u001b[38;5;124m'\u001b[39m);\n\u001b[0;32m      2\u001b[0m plt\u001b[38;5;241m.\u001b[39mplot(losses_FCNN_256_2[\u001b[38;5;124m'\u001b[39m\u001b[38;5;124mvalid\u001b[39m\u001b[38;5;124m'\u001b[39m], label\u001b[38;5;241m=\u001b[39m\u001b[38;5;124m'\u001b[39m\u001b[38;5;124mvalid\u001b[39m\u001b[38;5;124m'\u001b[39m);\n\u001b[0;32m      3\u001b[0m plt\u001b[38;5;241m.\u001b[39mylabel(\u001b[38;5;124m\"\u001b[39m\u001b[38;5;124mСреднеквадратичная\u001b[39m\u001b[38;5;130;01m\\n\u001b[39;00m\u001b[38;5;124mошибка\u001b[39m\u001b[38;5;124m\"\u001b[39m);\n",
            "\u001b[1;31mNameError\u001b[0m: name 'losses_FCNN_256_2' is not defined"
          ]
        }
      ],
      "source": [
        "plt.plot(losses_FCNN_256_2['train'], label='train');\n",
        "plt.plot(losses_FCNN_256_2['valid'], label='valid');\n",
        "plt.ylabel(\"Среднеквадратичная\\nошибка\");\n",
        "plt.xlabel(\"Эпоха обучения\");\n",
        "plt.legend();"
      ]
    },
    {
      "cell_type": "code",
      "execution_count": null,
      "id": "fa97e6b1-24ab-4679-be0f-9645c9b01f29",
      "metadata": {
        "id": "fa97e6b1-24ab-4679-be0f-9645c9b01f29"
      },
      "outputs": [],
      "source": []
    },
    {
      "cell_type": "code",
      "execution_count": null,
      "id": "da4a2950-8feb-4bfe-bcf1-1d5ed3f351d3",
      "metadata": {
        "id": "da4a2950-8feb-4bfe-bcf1-1d5ed3f351d3"
      },
      "outputs": [],
      "source": []
    },
    {
      "cell_type": "code",
      "execution_count": null,
      "id": "89daeeec-05cf-4a49-905d-a6835eb43cb0",
      "metadata": {
        "id": "89daeeec-05cf-4a49-905d-a6835eb43cb0"
      },
      "outputs": [],
      "source": [
        "# y_test_pred = cross_val_predict(FCNN_256_2, torch.tensor(X_test, dtype=torch.float32), y_test, cv=3)\n",
        "# conf_mx = confusion_matrix(y_test, y_train_pred)\n",
        "# conf_mx"
      ]
    },
    {
      "cell_type": "code",
      "execution_count": null,
      "id": "eab6a8a3-2fa3-4392-b45e-41404cd9f181",
      "metadata": {
        "id": "eab6a8a3-2fa3-4392-b45e-41404cd9f181",
        "outputId": "c5f0fcbd-d398-4511-d792-a83af1980ceb"
      },
      "outputs": [
        {
          "data": {
            "text/plain": [
              "array([[-0.21138504,  0.55662423, -0.35919895, ...,  0.38173824,\n",
              "         0.92805023, -0.39852083],\n",
              "       [-0.21380329, -0.50087478,  0.92281509, ...,  0.75502602,\n",
              "         1.03233705,  0.97874579],\n",
              "       [ 1.91535401,  0.55583456,  0.84823309, ...,  0.50466226,\n",
              "        -1.60257995,  0.97874579],\n",
              "       ...,\n",
              "       [-0.2194112 ,  0.409426  ,  0.11006636, ...,  0.24972722,\n",
              "        -1.21506219,  0.15773938],\n",
              "       [-0.21823864,  1.35595022,  0.61681358, ...,  0.41620173,\n",
              "        -0.71802525,  0.69028408],\n",
              "       [-0.2203578 ,  0.5435486 ,  0.5195617 , ...,  0.46310713,\n",
              "        -0.98825485,  0.97874579]])"
            ]
          },
          "execution_count": 146,
          "metadata": {},
          "output_type": "execute_result"
        }
      ],
      "source": []
    },
    {
      "cell_type": "code",
      "execution_count": null,
      "id": "164ebfb4-db93-474e-b05e-30712a1464b4",
      "metadata": {
        "id": "164ebfb4-db93-474e-b05e-30712a1464b4"
      },
      "outputs": [],
      "source": [
        "y_train_pred = FCNN_256_2(torch.tensor(scaler.transform(X_test), dtype=torch.float32)).detach().numpy()"
      ]
    },
    {
      "cell_type": "code",
      "execution_count": null,
      "id": "c5a25f5f-4e73-4826-bb05-a1cd346b274b",
      "metadata": {
        "id": "c5a25f5f-4e73-4826-bb05-a1cd346b274b"
      },
      "outputs": [],
      "source": [
        "y_test = torch.tensor(y_test, dtype=torch.float32).detach().numpy()"
      ]
    },
    {
      "cell_type": "code",
      "execution_count": null,
      "id": "af6f929a-1770-47de-b359-0821a147c975",
      "metadata": {
        "id": "af6f929a-1770-47de-b359-0821a147c975"
      },
      "outputs": [],
      "source": []
    },
    {
      "cell_type": "code",
      "execution_count": null,
      "id": "516010c9-5a34-4140-a4ca-49b2631851ff",
      "metadata": {
        "id": "516010c9-5a34-4140-a4ca-49b2631851ff",
        "outputId": "25299943-7d9f-4208-c534-c5920dc78d5e"
      },
      "outputs": [
        {
          "data": {
            "image/png": "[encoded data removed]",
            "text/plain": [
              "<Figure size 480x480 with 1 Axes>"
            ]
          },
          "metadata": {},
          "output_type": "display_data"
        }
      ],
      "source": [
        "conf_mx = confusion_matrix(y_test.argmax(axis=1), y_train_pred.argmax(axis=1))\n",
        "conf_mx\n",
        "plt.matshow(conf_mx, cmap=plt.cm.gray)\n",
        "plt.show()"
      ]
    },
    {
      "cell_type": "code",
      "execution_count": null,
      "id": "fb9d34cf-b526-4e42-8d99-91f91901a57d",
      "metadata": {
        "id": "fb9d34cf-b526-4e42-8d99-91f91901a57d"
      },
      "outputs": [],
      "source": []
    },
    {
      "cell_type": "code",
      "execution_count": null,
      "id": "31721bf8-aa32-47aa-b5fc-07c743660a77",
      "metadata": {
        "id": "31721bf8-aa32-47aa-b5fc-07c743660a77"
      },
      "outputs": [],
      "source": []
    },
    {
      "cell_type": "code",
      "execution_count": null,
      "id": "2cb7b7d8-93dd-44b0-adad-6c31b05509ad",
      "metadata": {
        "id": "2cb7b7d8-93dd-44b0-adad-6c31b05509ad"
      },
      "outputs": [],
      "source": []
    },
    {
      "cell_type": "code",
      "execution_count": null,
      "id": "87a61d73-c073-42de-ab2b-8798bb328b36",
      "metadata": {
        "id": "87a61d73-c073-42de-ab2b-8798bb328b36"
      },
      "outputs": [],
      "source": [
        "!pip install shap\n",
        "\n",
        "import shap\n",
        "\n",
        "explainer = shap.Explainer(lambda x: FCNN_64_2(torch.tensor(x.values, dtype=torch.float32)), X_train_resampled_scaled)\n",
        "shap_values = explainer(X_test_resampled_scaled)\n",
        "\n",
        "shap.summary_plot(shap_values, X_test_resampled_scaled, class_names=target_columns)"
      ]
    }
  ],
  "metadata": {
    "kernelspec": {
      "display_name": "Python 3",
      "name": "python3"
    },
    "language_info": {
      "codemirror_mode": {
        "name": "ipython",
        "version": 3
      },
      "file_extension": ".py",
      "mimetype": "text/x-python",
      "name": "python",
      "nbconvert_exporter": "python",
      "pygments_lexer": "ipython3",
      "version": "3.12.4"
    },
    "colab": {
      "provenance": [],
      "gpuType": "T4",
      "include_colab_link": true
    },
    "accelerator": "GPU"
  },
  "nbformat": 4,
  "nbformat_minor": 5
}