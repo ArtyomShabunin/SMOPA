{
  "cells": [
    {
      "cell_type": "markdown",
      "metadata": {
        "id": "view-in-github",
        "colab_type": "text"
      },
      "source": [
        "<a href=\"https://colab.research.google.com/github/ArtyomShabunin/SMOPA/blob/main/lesson_7.ipynb\" target=\"_parent\"><img src=\"https://colab.research.google.com/assets/colab-badge.svg\" alt=\"Open In Colab\"/></a>"
      ]
    },
    {
      "cell_type": "markdown",
      "id": "17db1210-d971-4a37-a9e2-a1b097d6bd1c",
      "metadata": {
        "id": "17db1210-d971-4a37-a9e2-a1b097d6bd1c"
      },
      "source": [
        "<img src=\"https://prana-system.com/files/110/rds_color_full.png\" alt=\"tot image\" width=\"300\"  align=\"center\"/> &nbsp;&nbsp;&nbsp;&nbsp;&nbsp;&nbsp;&nbsp;&nbsp;\n",
        "<img src=\"https://mpei.ru/AboutUniverse/OficialInfo/Attributes/PublishingImages/logo1.jpg\" alt=\"mpei image\" width=\"200\" align=\"center\"/>\n",
        "<img src=\"https://mpei.ru/Structure/Universe/tanpe/structure/tfhe/PublishingImages/tot.png\" alt=\"tot image\" width=\"100\"  align=\"center\"/>\n",
        "\n",
        "---\n",
        "\n",
        "# **Системы машинного обучения и предиктивной аналитики в тепловой и возобновляемой энергетике**  \n",
        "\n",
        "# ***Практические занятия***\n",
        "\n",
        "\n",
        "---"
      ]
    },
    {
      "cell_type": "markdown",
      "id": "649f24c5-e668-40b7-9dec-f8532fd853fb",
      "metadata": {
        "id": "649f24c5-e668-40b7-9dec-f8532fd853fb"
      },
      "source": [
        "# Занятие №7\n",
        "# Многоклассовая классификация методами глубокого обучения\n",
        "**2 апреля 2025г.**"
      ]
    },
    {
      "cell_type": "code",
      "execution_count": 100,
      "id": "9e473d41-cb8c-432e-918e-02b06a183e61",
      "metadata": {
        "id": "9e473d41-cb8c-432e-918e-02b06a183e61"
      },
      "outputs": [],
      "source": [
        "import numpy as np\n",
        "import pandas as pd\n",
        "import seaborn as sns\n",
        "import matplotlib.pyplot as plt\n",
        "\n",
        "from sklearn import preprocessing\n",
        "# from sklearn.model_selection import cross_val_predict\n",
        "from sklearn.metrics import confusion_matrix, precision_score, recall_score, f1_score, ConfusionMatrixDisplay\n",
        "\n",
        "import torch\n",
        "import torch.nn as nn\n",
        "import torch.nn.functional as F\n",
        "from torch.utils.data import Dataset, DataLoader\n",
        "from torch.optim import lr_scheduler\n",
        "\n",
        "from imblearn.under_sampling import RandomUnderSampler\n",
        "\n",
        "from tqdm import tqdm"
      ]
    },
    {
      "cell_type": "code",
      "execution_count": 101,
      "id": "79debe5c-65c5-4820-8cc8-13fae17674c2",
      "metadata": {
        "colab": {
          "base_uri": "https://localhost:8080/"
        },
        "id": "79debe5c-65c5-4820-8cc8-13fae17674c2",
        "outputId": "bce793c5-b792-4312-9b6c-dcf21277998d"
      },
      "outputs": [
        {
          "output_type": "execute_result",
          "data": {
            "text/plain": [
              "device(type='cuda')"
            ]
          },
          "metadata": {},
          "execution_count": 101
        }
      ],
      "source": [
        "device = torch.device('cuda') if torch.cuda.is_available() else torch.device('cpu')\n",
        "# device = torch.device('cpu')\n",
        "device"
      ]
    },
    {
      "cell_type": "markdown",
      "id": "f0267989-2fb6-4388-b6f7-c1f8034fdf29",
      "metadata": {
        "id": "f0267989-2fb6-4388-b6f7-c1f8034fdf29"
      },
      "source": [
        "## Загрузка данных"
      ]
    },
    {
      "cell_type": "code",
      "execution_count": 102,
      "id": "00b92e51-ce8b-4456-97d6-4ac23c867342",
      "metadata": {
        "colab": {
          "base_uri": "https://localhost:8080/"
        },
        "id": "00b92e51-ce8b-4456-97d6-4ac23c867342",
        "outputId": "d9349933-2921-4df1-b9e5-a35cffe4caa6"
      },
      "outputs": [
        {
          "output_type": "stream",
          "name": "stderr",
          "text": [
            "Downloading...\n",
            "From (original): https://drive.google.com/uc?id=1j54o4pHTm3HvaYTEtv_i4hOJGy5yNeZZ\n",
            "From (redirected): https://drive.google.com/uc?id=1j54o4pHTm3HvaYTEtv_i4hOJGy5yNeZZ&confirm=t&uuid=417f452a-16f0-4d74-9731-f2511224fb51\n",
            "To: /content/data_modes.gzip\n",
            "100%|██████████| 173M/173M [00:01<00:00, 118MB/s]\n"
          ]
        }
      ],
      "source": [
        "import gdown\n",
        "import warnings\n",
        "warnings.filterwarnings('ignore')\n",
        "gdown.download('https://drive.google.com/uc?id=1j54o4pHTm3HvaYTEtv_i4hOJGy5yNeZZ', verify=False)\n",
        "\n",
        "data = pd.read_parquet(\"./data_modes.gzip\")"
      ]
    },
    {
      "cell_type": "code",
      "execution_count": 103,
      "id": "0daddace-c412-4c85-a0c6-7a885ef9906a",
      "metadata": {
        "colab": {
          "base_uri": "https://localhost:8080/"
        },
        "id": "0daddace-c412-4c85-a0c6-7a885ef9906a",
        "outputId": "18189bcf-f0cc-4e76-a52b-0a4527b86279"
      },
      "outputs": [
        {
          "output_type": "execute_result",
          "data": {
            "text/plain": [
              "(1082098, 56)"
            ]
          },
          "metadata": {},
          "execution_count": 103
        }
      ],
      "source": [
        "data.shape"
      ]
    },
    {
      "cell_type": "code",
      "execution_count": 104,
      "id": "503cced8-06bb-456b-8b39-60379e7ca3d0",
      "metadata": {
        "colab": {
          "base_uri": "https://localhost:8080/",
          "height": 429
        },
        "id": "503cced8-06bb-456b-8b39-60379e7ca3d0",
        "outputId": "432b9afb-59b3-4f97-deaf-d6b72462ad4e"
      },
      "outputs": [
        {
          "output_type": "execute_result",
          "data": {
            "text/plain": [
              "                     GTA1.DBinPU.Aldi  GTA1.DBinPU.Alvna  GTA1.DBinPU.Alzzo  \\\n",
              "2023-02-26 06:59:50        225.550000          -4.398000          -0.082000   \n",
              "2023-02-26 07:00:00        225.610769          -4.327115          -0.089769   \n",
              "2023-02-26 07:00:10        225.436897          -4.363724          -0.091000   \n",
              "2023-02-26 07:00:20        225.710833          -4.306625          -0.093000   \n",
              "2023-02-26 07:00:30        226.355000          -4.183118          -0.091500   \n",
              "\n",
              "                     GTA1.DBinPU.Bo  GTA1.DBinPU.DlPkf  GTA1.DBinPU.DlPtgft  \\\n",
              "2023-02-26 06:59:50         101.044         113.088000            33.709000   \n",
              "2023-02-26 07:00:00         101.044         113.151231            33.709000   \n",
              "2023-02-26 07:00:10         101.044         113.039759            33.633586   \n",
              "2023-02-26 07:00:20         101.044         113.053458            33.506500   \n",
              "2023-02-26 07:00:30         101.044         113.730941            33.818529   \n",
              "\n",
              "                     GTA1.DBinPU.DlPvf  GTA1.DBinPU.fi  GTA1.DBinPU.hmGTD  \\\n",
              "2023-02-26 06:59:50           0.200000       56.615000             442.64   \n",
              "2023-02-26 07:00:00           0.200000       56.615000             442.64   \n",
              "2023-02-26 07:00:10           0.200207       56.516103             442.64   \n",
              "2023-02-26 07:00:20           0.200750       56.376000             442.64   \n",
              "2023-02-26 07:00:30           0.200000       56.199353             442.64   \n",
              "\n",
              "                     GTA1.DBinPU.hmTG  ...  heated_air  zzo_is_open  \\\n",
              "2023-02-26 06:59:50           444.536  ...       False        False   \n",
              "2023-02-26 07:00:00           444.536  ...       False        False   \n",
              "2023-02-26 07:00:10           444.536  ...       False        False   \n",
              "2023-02-26 07:00:20           444.536  ...       False        False   \n",
              "2023-02-26 07:00:30           444.536  ...       False        False   \n",
              "\n",
              "                     full_power_mode  partial_power_mode  increas_power_mode  \\\n",
              "2023-02-26 06:59:50             True               False               False   \n",
              "2023-02-26 07:00:00             True               False               False   \n",
              "2023-02-26 07:00:10             True               False               False   \n",
              "2023-02-26 07:00:20             True               False               False   \n",
              "2023-02-26 07:00:30             True               False               False   \n",
              "\n",
              "                     decreas_power_mode  start_up_mode  shutdown_mode  \\\n",
              "2023-02-26 06:59:50               False          False          False   \n",
              "2023-02-26 07:00:00               False          False          False   \n",
              "2023-02-26 07:00:10               False          False          False   \n",
              "2023-02-26 07:00:20               False          False          False   \n",
              "2023-02-26 07:00:30               False          False          False   \n",
              "\n",
              "                     stopped_state_mode  air_heating_mode  \n",
              "2023-02-26 06:59:50               False             False  \n",
              "2023-02-26 07:00:00               False             False  \n",
              "2023-02-26 07:00:10               False             False  \n",
              "2023-02-26 07:00:20               False             False  \n",
              "2023-02-26 07:00:30               False             False  \n",
              "\n",
              "[5 rows x 56 columns]"
            ],
            "text/html": [
              "\n",
              "  <div id=\"df-615e8523-bdc4-47c5-a88d-7f929734755e\" class=\"colab-df-container\">\n",
              "    <div>\n",
              "<style scoped>\n",
              "    .dataframe tbody tr th:only-of-type {\n",
              "        vertical-align: middle;\n",
              "    }\n",
              "\n",
              "    .dataframe tbody tr th {\n",
              "        vertical-align: top;\n",
              "    }\n",
              "\n",
              "    .dataframe thead th {\n",
              "        text-align: right;\n",
              "    }\n",
              "</style>\n",
              "<table border=\"1\" class=\"dataframe\">\n",
              "  <thead>\n",
              "    <tr style=\"text-align: right;\">\n",
              "      <th></th>\n",
              "      <th>GTA1.DBinPU.Aldi</th>\n",
              "      <th>GTA1.DBinPU.Alvna</th>\n",
              "      <th>GTA1.DBinPU.Alzzo</th>\n",
              "      <th>GTA1.DBinPU.Bo</th>\n",
              "      <th>GTA1.DBinPU.DlPkf</th>\n",
              "      <th>GTA1.DBinPU.DlPtgft</th>\n",
              "      <th>GTA1.DBinPU.DlPvf</th>\n",
              "      <th>GTA1.DBinPU.fi</th>\n",
              "      <th>GTA1.DBinPU.hmGTD</th>\n",
              "      <th>GTA1.DBinPU.hmTG</th>\n",
              "      <th>...</th>\n",
              "      <th>heated_air</th>\n",
              "      <th>zzo_is_open</th>\n",
              "      <th>full_power_mode</th>\n",
              "      <th>partial_power_mode</th>\n",
              "      <th>increas_power_mode</th>\n",
              "      <th>decreas_power_mode</th>\n",
              "      <th>start_up_mode</th>\n",
              "      <th>shutdown_mode</th>\n",
              "      <th>stopped_state_mode</th>\n",
              "      <th>air_heating_mode</th>\n",
              "    </tr>\n",
              "  </thead>\n",
              "  <tbody>\n",
              "    <tr>\n",
              "      <th>2023-02-26 06:59:50</th>\n",
              "      <td>225.550000</td>\n",
              "      <td>-4.398000</td>\n",
              "      <td>-0.082000</td>\n",
              "      <td>101.044</td>\n",
              "      <td>113.088000</td>\n",
              "      <td>33.709000</td>\n",
              "      <td>0.200000</td>\n",
              "      <td>56.615000</td>\n",
              "      <td>442.64</td>\n",
              "      <td>444.536</td>\n",
              "      <td>...</td>\n",
              "      <td>False</td>\n",
              "      <td>False</td>\n",
              "      <td>True</td>\n",
              "      <td>False</td>\n",
              "      <td>False</td>\n",
              "      <td>False</td>\n",
              "      <td>False</td>\n",
              "      <td>False</td>\n",
              "      <td>False</td>\n",
              "      <td>False</td>\n",
              "    </tr>\n",
              "    <tr>\n",
              "      <th>2023-02-26 07:00:00</th>\n",
              "      <td>225.610769</td>\n",
              "      <td>-4.327115</td>\n",
              "      <td>-0.089769</td>\n",
              "      <td>101.044</td>\n",
              "      <td>113.151231</td>\n",
              "      <td>33.709000</td>\n",
              "      <td>0.200000</td>\n",
              "      <td>56.615000</td>\n",
              "      <td>442.64</td>\n",
              "      <td>444.536</td>\n",
              "      <td>...</td>\n",
              "      <td>False</td>\n",
              "      <td>False</td>\n",
              "      <td>True</td>\n",
              "      <td>False</td>\n",
              "      <td>False</td>\n",
              "      <td>False</td>\n",
              "      <td>False</td>\n",
              "      <td>False</td>\n",
              "      <td>False</td>\n",
              "      <td>False</td>\n",
              "    </tr>\n",
              "    <tr>\n",
              "      <th>2023-02-26 07:00:10</th>\n",
              "      <td>225.436897</td>\n",
              "      <td>-4.363724</td>\n",
              "      <td>-0.091000</td>\n",
              "      <td>101.044</td>\n",
              "      <td>113.039759</td>\n",
              "      <td>33.633586</td>\n",
              "      <td>0.200207</td>\n",
              "      <td>56.516103</td>\n",
              "      <td>442.64</td>\n",
              "      <td>444.536</td>\n",
              "      <td>...</td>\n",
              "      <td>False</td>\n",
              "      <td>False</td>\n",
              "      <td>True</td>\n",
              "      <td>False</td>\n",
              "      <td>False</td>\n",
              "      <td>False</td>\n",
              "      <td>False</td>\n",
              "      <td>False</td>\n",
              "      <td>False</td>\n",
              "      <td>False</td>\n",
              "    </tr>\n",
              "    <tr>\n",
              "      <th>2023-02-26 07:00:20</th>\n",
              "      <td>225.710833</td>\n",
              "      <td>-4.306625</td>\n",
              "      <td>-0.093000</td>\n",
              "      <td>101.044</td>\n",
              "      <td>113.053458</td>\n",
              "      <td>33.506500</td>\n",
              "      <td>0.200750</td>\n",
              "      <td>56.376000</td>\n",
              "      <td>442.64</td>\n",
              "      <td>444.536</td>\n",
              "      <td>...</td>\n",
              "      <td>False</td>\n",
              "      <td>False</td>\n",
              "      <td>True</td>\n",
              "      <td>False</td>\n",
              "      <td>False</td>\n",
              "      <td>False</td>\n",
              "      <td>False</td>\n",
              "      <td>False</td>\n",
              "      <td>False</td>\n",
              "      <td>False</td>\n",
              "    </tr>\n",
              "    <tr>\n",
              "      <th>2023-02-26 07:00:30</th>\n",
              "      <td>226.355000</td>\n",
              "      <td>-4.183118</td>\n",
              "      <td>-0.091500</td>\n",
              "      <td>101.044</td>\n",
              "      <td>113.730941</td>\n",
              "      <td>33.818529</td>\n",
              "      <td>0.200000</td>\n",
              "      <td>56.199353</td>\n",
              "      <td>442.64</td>\n",
              "      <td>444.536</td>\n",
              "      <td>...</td>\n",
              "      <td>False</td>\n",
              "      <td>False</td>\n",
              "      <td>True</td>\n",
              "      <td>False</td>\n",
              "      <td>False</td>\n",
              "      <td>False</td>\n",
              "      <td>False</td>\n",
              "      <td>False</td>\n",
              "      <td>False</td>\n",
              "      <td>False</td>\n",
              "    </tr>\n",
              "  </tbody>\n",
              "</table>\n",
              "<p>5 rows × 56 columns</p>\n",
              "</div>\n",
              "    <div class=\"colab-df-buttons\">\n",
              "\n",
              "  <div class=\"colab-df-container\">\n",
              "    <button class=\"colab-df-convert\" onclick=\"convertToInteractive('df-615e8523-bdc4-47c5-a88d-7f929734755e')\"\n",
              "            title=\"Convert this dataframe to an interactive table.\"\n",
              "            style=\"display:none;\">\n",
              "\n",
              "  <svg xmlns=\"http://www.w3.org/2000/svg\" height=\"24px\" viewBox=\"0 -960 960 960\">\n",
              "    <path d=\"M120-120v-720h720v720H120Zm60-500h600v-160H180v160Zm220 220h160v-160H400v160Zm0 220h160v-160H400v160ZM180-400h160v-160H180v160Zm440 0h160v-160H620v160ZM180-180h160v-160H180v160Zm440 0h160v-160H620v160Z\"/>\n",
              "  </svg>\n",
              "    </button>\n",
              "\n",
              "  <style>\n",
              "    .colab-df-container {\n",
              "      display:flex;\n",
              "      gap: 12px;\n",
              "    }\n",
              "\n",
              "    .colab-df-convert {\n",
              "      background-color: #E8F0FE;\n",
              "      border: none;\n",
              "      border-radius: 50%;\n",
              "      cursor: pointer;\n",
              "      display: none;\n",
              "      fill: #1967D2;\n",
              "      height: 32px;\n",
              "      padding: 0 0 0 0;\n",
              "      width: 32px;\n",
              "    }\n",
              "\n",
              "    .colab-df-convert:hover {\n",
              "      background-color: #E2EBFA;\n",
              "      box-shadow: 0px 1px 2px rgba(60, 64, 67, 0.3), 0px 1px 3px 1px rgba(60, 64, 67, 0.15);\n",
              "      fill: #174EA6;\n",
              "    }\n",
              "\n",
              "    .colab-df-buttons div {\n",
              "      margin-bottom: 4px;\n",
              "    }\n",
              "\n",
              "    [theme=dark] .colab-df-convert {\n",
              "      background-color: #3B4455;\n",
              "      fill: #D2E3FC;\n",
              "    }\n",
              "\n",
              "    [theme=dark] .colab-df-convert:hover {\n",
              "      background-color: #434B5C;\n",
              "      box-shadow: 0px 1px 3px 1px rgba(0, 0, 0, 0.15);\n",
              "      filter: drop-shadow(0px 1px 2px rgba(0, 0, 0, 0.3));\n",
              "      fill: #FFFFFF;\n",
              "    }\n",
              "  </style>\n",
              "\n",
              "    <script>\n",
              "      const buttonEl =\n",
              "        document.querySelector('#df-615e8523-bdc4-47c5-a88d-7f929734755e button.colab-df-convert');\n",
              "      buttonEl.style.display =\n",
              "        google.colab.kernel.accessAllowed ? 'block' : 'none';\n",
              "\n",
              "      async function convertToInteractive(key) {\n",
              "        const element = document.querySelector('#df-615e8523-bdc4-47c5-a88d-7f929734755e');\n",
              "        const dataTable =\n",
              "          await google.colab.kernel.invokeFunction('convertToInteractive',\n",
              "                                                    [key], {});\n",
              "        if (!dataTable) return;\n",
              "\n",
              "        const docLinkHtml = 'Like what you see? Visit the ' +\n",
              "          '<a target=\"_blank\" href=https://colab.research.google.com/notebooks/data_table.ipynb>data table notebook</a>'\n",
              "          + ' to learn more about interactive tables.';\n",
              "        element.innerHTML = '';\n",
              "        dataTable['output_type'] = 'display_data';\n",
              "        await google.colab.output.renderOutput(dataTable, element);\n",
              "        const docLink = document.createElement('div');\n",
              "        docLink.innerHTML = docLinkHtml;\n",
              "        element.appendChild(docLink);\n",
              "      }\n",
              "    </script>\n",
              "  </div>\n",
              "\n",
              "\n",
              "<div id=\"df-2a542082-cec4-456e-9405-53b9807da08d\">\n",
              "  <button class=\"colab-df-quickchart\" onclick=\"quickchart('df-2a542082-cec4-456e-9405-53b9807da08d')\"\n",
              "            title=\"Suggest charts\"\n",
              "            style=\"display:none;\">\n",
              "\n",
              "<svg xmlns=\"http://www.w3.org/2000/svg\" height=\"24px\"viewBox=\"0 0 24 24\"\n",
              "     width=\"24px\">\n",
              "    <g>\n",
              "        <path d=\"M19 3H5c-1.1 0-2 .9-2 2v14c0 1.1.9 2 2 2h14c1.1 0 2-.9 2-2V5c0-1.1-.9-2-2-2zM9 17H7v-7h2v7zm4 0h-2V7h2v10zm4 0h-2v-4h2v4z\"/>\n",
              "    </g>\n",
              "</svg>\n",
              "  </button>\n",
              "\n",
              "<style>\n",
              "  .colab-df-quickchart {\n",
              "      --bg-color: #E8F0FE;\n",
              "      --fill-color: #1967D2;\n",
              "      --hover-bg-color: #E2EBFA;\n",
              "      --hover-fill-color: #174EA6;\n",
              "      --disabled-fill-color: #AAA;\n",
              "      --disabled-bg-color: #DDD;\n",
              "  }\n",
              "\n",
              "  [theme=dark] .colab-df-quickchart {\n",
              "      --bg-color: #3B4455;\n",
              "      --fill-color: #D2E3FC;\n",
              "      --hover-bg-color: #434B5C;\n",
              "      --hover-fill-color: #FFFFFF;\n",
              "      --disabled-bg-color: #3B4455;\n",
              "      --disabled-fill-color: #666;\n",
              "  }\n",
              "\n",
              "  .colab-df-quickchart {\n",
              "    background-color: var(--bg-color);\n",
              "    border: none;\n",
              "    border-radius: 50%;\n",
              "    cursor: pointer;\n",
              "    display: none;\n",
              "    fill: var(--fill-color);\n",
              "    height: 32px;\n",
              "    padding: 0;\n",
              "    width: 32px;\n",
              "  }\n",
              "\n",
              "  .colab-df-quickchart:hover {\n",
              "    background-color: var(--hover-bg-color);\n",
              "    box-shadow: 0 1px 2px rgba(60, 64, 67, 0.3), 0 1px 3px 1px rgba(60, 64, 67, 0.15);\n",
              "    fill: var(--button-hover-fill-color);\n",
              "  }\n",
              "\n",
              "  .colab-df-quickchart-complete:disabled,\n",
              "  .colab-df-quickchart-complete:disabled:hover {\n",
              "    background-color: var(--disabled-bg-color);\n",
              "    fill: var(--disabled-fill-color);\n",
              "    box-shadow: none;\n",
              "  }\n",
              "\n",
              "  .colab-df-spinner {\n",
              "    border: 2px solid var(--fill-color);\n",
              "    border-color: transparent;\n",
              "    border-bottom-color: var(--fill-color);\n",
              "    animation:\n",
              "      spin 1s steps(1) infinite;\n",
              "  }\n",
              "\n",
              "  @keyframes spin {\n",
              "    0% {\n",
              "      border-color: transparent;\n",
              "      border-bottom-color: var(--fill-color);\n",
              "      border-left-color: var(--fill-color);\n",
              "    }\n",
              "    20% {\n",
              "      border-color: transparent;\n",
              "      border-left-color: var(--fill-color);\n",
              "      border-top-color: var(--fill-color);\n",
              "    }\n",
              "    30% {\n",
              "      border-color: transparent;\n",
              "      border-left-color: var(--fill-color);\n",
              "      border-top-color: var(--fill-color);\n",
              "      border-right-color: var(--fill-color);\n",
              "    }\n",
              "    40% {\n",
              "      border-color: transparent;\n",
              "      border-right-color: var(--fill-color);\n",
              "      border-top-color: var(--fill-color);\n",
              "    }\n",
              "    60% {\n",
              "      border-color: transparent;\n",
              "      border-right-color: var(--fill-color);\n",
              "    }\n",
              "    80% {\n",
              "      border-color: transparent;\n",
              "      border-right-color: var(--fill-color);\n",
              "      border-bottom-color: var(--fill-color);\n",
              "    }\n",
              "    90% {\n",
              "      border-color: transparent;\n",
              "      border-bottom-color: var(--fill-color);\n",
              "    }\n",
              "  }\n",
              "</style>\n",
              "\n",
              "  <script>\n",
              "    async function quickchart(key) {\n",
              "      const quickchartButtonEl =\n",
              "        document.querySelector('#' + key + ' button');\n",
              "      quickchartButtonEl.disabled = true;  // To prevent multiple clicks.\n",
              "      quickchartButtonEl.classList.add('colab-df-spinner');\n",
              "      try {\n",
              "        const charts = await google.colab.kernel.invokeFunction(\n",
              "            'suggestCharts', [key], {});\n",
              "      } catch (error) {\n",
              "        console.error('Error during call to suggestCharts:', error);\n",
              "      }\n",
              "      quickchartButtonEl.classList.remove('colab-df-spinner');\n",
              "      quickchartButtonEl.classList.add('colab-df-quickchart-complete');\n",
              "    }\n",
              "    (() => {\n",
              "      let quickchartButtonEl =\n",
              "        document.querySelector('#df-2a542082-cec4-456e-9405-53b9807da08d button');\n",
              "      quickchartButtonEl.style.display =\n",
              "        google.colab.kernel.accessAllowed ? 'block' : 'none';\n",
              "    })();\n",
              "  </script>\n",
              "</div>\n",
              "\n",
              "    </div>\n",
              "  </div>\n"
            ],
            "application/vnd.google.colaboratory.intrinsic+json": {
              "type": "dataframe",
              "variable_name": "data"
            }
          },
          "metadata": {},
          "execution_count": 104
        }
      ],
      "source": [
        "data.head()"
      ]
    },
    {
      "cell_type": "markdown",
      "id": "208ff946-7007-4b0b-934f-ce9c9943632a",
      "metadata": {
        "id": "208ff946-7007-4b0b-934f-ce9c9943632a"
      },
      "source": [
        "## Сформируем датасет для решения задачи многоклассовой классификации"
      ]
    },
    {
      "cell_type": "markdown",
      "id": "4dbb0a33-d822-49f8-a30a-6971e245f422",
      "metadata": {
        "id": "4dbb0a33-d822-49f8-a30a-6971e245f422"
      },
      "source": [
        "Выберем сигналы которые будем использовать. Исключим все признаки на основании которых выделялись целевые режимы."
      ]
    },
    {
      "cell_type": "code",
      "execution_count": 105,
      "id": "1a3c6208-fb2e-4c7b-b7cf-bb32097de663",
      "metadata": {
        "id": "1a3c6208-fb2e-4c7b-b7cf-bb32097de663"
      },
      "outputs": [],
      "source": [
        "feature_columns = [\n",
        "    'GTA1.DBinPU.Alzzo', 'GTA1.DBinPU.Bo', 'GTA1.DBinPU.DlPkf',\n",
        "    'GTA1.DBinPU.DlPtgft', 'GTA1.DBinPU.DlPvf', 'GTA1.DBinPU.fi',\n",
        "    'GTA1.DBinPU.hmGTD', 'GTA1.DBinPU.hmTG', 'GTA1.DBinPU.P1mvhTG',\n",
        "    'GTA1.DBinPU.Pk',\n",
        "    'GTA1.DBinPU.Pmvh', 'GTA1.DBinPU.PmvhMOGTD',\n",
        "    'GTA1.DBinPU.PmvhMOTG', 'GTA1.DBinPU.PmvyhMOGTD',\n",
        "    'GTA1.DBinPU.PmvyhMOTG', 'GTA1.DBinPU.Prazrjag_navhode',\n",
        "    'GTA1.DBinPU.Ptgpd', 'GTA1.DBinPU.Ptgvh',\n",
        "    'GTA1.DBinPU.Pvh',\n",
        "    'GTA1.DBinPU.Pvyhlg',\n",
        "    'GTA1.DBinPU.Qtg', 'GTA1.DBinPU.Tk',\n",
        "    'GTA1.DBinPU.Tn', 'GTA1.DBinPU.Tt', 'GTA1.DBinPU.Tvh1',\n",
        "    'GTA1.DBinPU.Pzad']\n",
        "\n",
        "target_columns = [\n",
        "    'full_power_mode',\n",
        "    'partial_power_mode',\n",
        "    # 'increas_power_mode',\n",
        "    # 'decreas_power_mode',\n",
        "    # 'start_up_mode',\n",
        "    # 'shutdown_mode',\n",
        "    'stopped_state_mode'\n",
        "]"
      ]
    },
    {
      "cell_type": "code",
      "execution_count": 106,
      "id": "4a3451ec-188d-4974-8c08-74ae11997bff",
      "metadata": {
        "id": "4a3451ec-188d-4974-8c08-74ae11997bff"
      },
      "outputs": [],
      "source": [
        "# data.loc[data['adjustment_range'], ['start_up_mode']] = False\n",
        "# data.loc[data['adjustment_range'], ['shutdown_mode']] = False\n",
        "# data.loc[data['increase_power'], ['shutdown_mode']] = False\n",
        "# data.loc[data['decreas_power_mode'], ['start_up_mode']] = False"
      ]
    },
    {
      "cell_type": "code",
      "execution_count": 107,
      "id": "6370d590-659d-4847-8223-f41803195925",
      "metadata": {
        "id": "6370d590-659d-4847-8223-f41803195925"
      },
      "outputs": [],
      "source": [
        "# data = data.loc[data[target_columns].sum(axis=1) == 1]"
      ]
    },
    {
      "cell_type": "code",
      "execution_count": 107,
      "id": "0284753b-5d51-4ff0-91b3-781d57b22549",
      "metadata": {
        "id": "0284753b-5d51-4ff0-91b3-781d57b22549"
      },
      "outputs": [],
      "source": []
    },
    {
      "cell_type": "code",
      "execution_count": 108,
      "id": "aa58c822-f7a4-4ff3-a013-dde8e0e719b1",
      "metadata": {
        "id": "aa58c822-f7a4-4ff3-a013-dde8e0e719b1"
      },
      "outputs": [],
      "source": [
        "X = data.loc[:,feature_columns]"
      ]
    },
    {
      "cell_type": "code",
      "execution_count": 109,
      "id": "b25dc4b0-aee7-4fef-acf8-93d3c8a2f495",
      "metadata": {
        "id": "b25dc4b0-aee7-4fef-acf8-93d3c8a2f495"
      },
      "outputs": [],
      "source": [
        "data['target'] = data[target_columns].idxmax(axis=1)\n",
        "y = data.loc[:, ['target']]"
      ]
    },
    {
      "cell_type": "code",
      "execution_count": 110,
      "id": "2297d7f7-eda6-4b0d-a59c-1a9e2b41f8f3",
      "metadata": {
        "colab": {
          "base_uri": "https://localhost:8080/",
          "height": 210
        },
        "id": "2297d7f7-eda6-4b0d-a59c-1a9e2b41f8f3",
        "outputId": "d5161fb5-d45e-4de4-c740-040fc537af8e"
      },
      "outputs": [
        {
          "output_type": "execute_result",
          "data": {
            "text/plain": [
              "target            \n",
              "full_power_mode       1045781\n",
              "stopped_state_mode      26770\n",
              "partial_power_mode       9547\n",
              "Name: count, dtype: int64"
            ],
            "text/html": [
              "<div>\n",
              "<style scoped>\n",
              "    .dataframe tbody tr th:only-of-type {\n",
              "        vertical-align: middle;\n",
              "    }\n",
              "\n",
              "    .dataframe tbody tr th {\n",
              "        vertical-align: top;\n",
              "    }\n",
              "\n",
              "    .dataframe thead th {\n",
              "        text-align: right;\n",
              "    }\n",
              "</style>\n",
              "<table border=\"1\" class=\"dataframe\">\n",
              "  <thead>\n",
              "    <tr style=\"text-align: right;\">\n",
              "      <th></th>\n",
              "      <th>count</th>\n",
              "    </tr>\n",
              "    <tr>\n",
              "      <th>target</th>\n",
              "      <th></th>\n",
              "    </tr>\n",
              "  </thead>\n",
              "  <tbody>\n",
              "    <tr>\n",
              "      <th>full_power_mode</th>\n",
              "      <td>1045781</td>\n",
              "    </tr>\n",
              "    <tr>\n",
              "      <th>stopped_state_mode</th>\n",
              "      <td>26770</td>\n",
              "    </tr>\n",
              "    <tr>\n",
              "      <th>partial_power_mode</th>\n",
              "      <td>9547</td>\n",
              "    </tr>\n",
              "  </tbody>\n",
              "</table>\n",
              "</div><br><label><b>dtype:</b> int64</label>"
            ]
          },
          "metadata": {},
          "execution_count": 110
        }
      ],
      "source": [
        "y.value_counts()"
      ]
    },
    {
      "cell_type": "markdown",
      "id": "e6af7ede-bd80-45d6-b85a-b1ba8872e976",
      "metadata": {
        "id": "e6af7ede-bd80-45d6-b85a-b1ba8872e976"
      },
      "source": [
        "### Деление на тестовую и тренировочную выборки"
      ]
    },
    {
      "cell_type": "code",
      "execution_count": 111,
      "id": "da81595e-8aa3-40cd-a8cc-36b2e9537d1d",
      "metadata": {
        "id": "da81595e-8aa3-40cd-a8cc-36b2e9537d1d"
      },
      "outputs": [],
      "source": [
        "from sklearn.model_selection import train_test_split\n",
        "# Разделяем с учетом дисбаланса классов\n",
        "X_train, X_test, y_train, y_test = train_test_split(X, y, test_size=0.2, stratify=y, random_state=42)"
      ]
    },
    {
      "cell_type": "code",
      "execution_count": 112,
      "id": "0cfcc82a-0b11-4494-9204-8706ce0e792d",
      "metadata": {
        "colab": {
          "base_uri": "https://localhost:8080/",
          "height": 210
        },
        "id": "0cfcc82a-0b11-4494-9204-8706ce0e792d",
        "outputId": "010ea66f-cb91-4e12-db8e-370dc9d43e91"
      },
      "outputs": [
        {
          "output_type": "execute_result",
          "data": {
            "text/plain": [
              "target            \n",
              "full_power_mode       836624\n",
              "stopped_state_mode     21416\n",
              "partial_power_mode      7638\n",
              "Name: count, dtype: int64"
            ],
            "text/html": [
              "<div>\n",
              "<style scoped>\n",
              "    .dataframe tbody tr th:only-of-type {\n",
              "        vertical-align: middle;\n",
              "    }\n",
              "\n",
              "    .dataframe tbody tr th {\n",
              "        vertical-align: top;\n",
              "    }\n",
              "\n",
              "    .dataframe thead th {\n",
              "        text-align: right;\n",
              "    }\n",
              "</style>\n",
              "<table border=\"1\" class=\"dataframe\">\n",
              "  <thead>\n",
              "    <tr style=\"text-align: right;\">\n",
              "      <th></th>\n",
              "      <th>count</th>\n",
              "    </tr>\n",
              "    <tr>\n",
              "      <th>target</th>\n",
              "      <th></th>\n",
              "    </tr>\n",
              "  </thead>\n",
              "  <tbody>\n",
              "    <tr>\n",
              "      <th>full_power_mode</th>\n",
              "      <td>836624</td>\n",
              "    </tr>\n",
              "    <tr>\n",
              "      <th>stopped_state_mode</th>\n",
              "      <td>21416</td>\n",
              "    </tr>\n",
              "    <tr>\n",
              "      <th>partial_power_mode</th>\n",
              "      <td>7638</td>\n",
              "    </tr>\n",
              "  </tbody>\n",
              "</table>\n",
              "</div><br><label><b>dtype:</b> int64</label>"
            ]
          },
          "metadata": {},
          "execution_count": 112
        }
      ],
      "source": [
        "y_train.value_counts()"
      ]
    },
    {
      "cell_type": "code",
      "execution_count": 113,
      "id": "5e70d33f-1374-4b41-879e-fddd86d5c7c7",
      "metadata": {
        "colab": {
          "base_uri": "https://localhost:8080/",
          "height": 210
        },
        "id": "5e70d33f-1374-4b41-879e-fddd86d5c7c7",
        "outputId": "c3a5811b-58b4-4c65-9416-eff94733126e"
      },
      "outputs": [
        {
          "output_type": "execute_result",
          "data": {
            "text/plain": [
              "target            \n",
              "full_power_mode       209157\n",
              "stopped_state_mode      5354\n",
              "partial_power_mode      1909\n",
              "Name: count, dtype: int64"
            ],
            "text/html": [
              "<div>\n",
              "<style scoped>\n",
              "    .dataframe tbody tr th:only-of-type {\n",
              "        vertical-align: middle;\n",
              "    }\n",
              "\n",
              "    .dataframe tbody tr th {\n",
              "        vertical-align: top;\n",
              "    }\n",
              "\n",
              "    .dataframe thead th {\n",
              "        text-align: right;\n",
              "    }\n",
              "</style>\n",
              "<table border=\"1\" class=\"dataframe\">\n",
              "  <thead>\n",
              "    <tr style=\"text-align: right;\">\n",
              "      <th></th>\n",
              "      <th>count</th>\n",
              "    </tr>\n",
              "    <tr>\n",
              "      <th>target</th>\n",
              "      <th></th>\n",
              "    </tr>\n",
              "  </thead>\n",
              "  <tbody>\n",
              "    <tr>\n",
              "      <th>full_power_mode</th>\n",
              "      <td>209157</td>\n",
              "    </tr>\n",
              "    <tr>\n",
              "      <th>stopped_state_mode</th>\n",
              "      <td>5354</td>\n",
              "    </tr>\n",
              "    <tr>\n",
              "      <th>partial_power_mode</th>\n",
              "      <td>1909</td>\n",
              "    </tr>\n",
              "  </tbody>\n",
              "</table>\n",
              "</div><br><label><b>dtype:</b> int64</label>"
            ]
          },
          "metadata": {},
          "execution_count": 113
        }
      ],
      "source": [
        "y_test.value_counts()"
      ]
    },
    {
      "cell_type": "markdown",
      "id": "109da6b2-c9c8-4dc3-bb21-23ff87048dfb",
      "metadata": {
        "id": "109da6b2-c9c8-4dc3-bb21-23ff87048dfb"
      },
      "source": [
        "Видно, что датасет сильно несбалансирован.\n",
        "При такой несбалансорованности модели будут плохо обучаеться на редких классах.\n",
        "Алгоритм может игнорировать малочисленные классы, потому что минимизация ошибки будет достигаться за счет предсказания большинства.\n",
        "Например, если модель всегда предсказывает full_power_mode, она все равно получит высокую точность."
      ]
    },
    {
      "cell_type": "markdown",
      "id": "6db9fa77-afe9-4496-9cb7-da8c4dd319b0",
      "metadata": {
        "id": "6db9fa77-afe9-4496-9cb7-da8c4dd319b0"
      },
      "source": [
        "### Балансировка данных\n",
        "**Oversampling (увеличение малых классов)**  \n",
        "   - Повторение существующих редких примеров или их генерация.  \n",
        "   - **SMOTE (Synthetic Minority Over-sampling Technique)** – создает новые точки малочисленных классов, используя линейные комбинации соседних точек.  \n",
        "\n",
        "**Undersampling (уменьшение частых классов)**  \n",
        "- Удаление случайных примеров из большинства классов.  \n",
        "\n",
        "**Комбинация Oversampling + Undersampling**  \n",
        "   - Часто лучше сначала **уменьшить большие**, а затем **увеличить малые классы**.  "
      ]
    },
    {
      "cell_type": "markdown",
      "id": "eca449c1-b6cb-4297-b7b8-56fab6bdb03f",
      "metadata": {
        "id": "eca449c1-b6cb-4297-b7b8-56fab6bdb03f"
      },
      "source": [
        "#### Undersampling"
      ]
    },
    {
      "cell_type": "code",
      "execution_count": 114,
      "id": "58c6bfaf-40cc-4c7f-9c4b-985a5136b854",
      "metadata": {
        "id": "58c6bfaf-40cc-4c7f-9c4b-985a5136b854"
      },
      "outputs": [],
      "source": [
        "from imblearn.under_sampling import RandomUnderSampler\n",
        "sampling_strategy = {\n",
        "    \"full_power_mode\": 1000,\n",
        "    \"stopped_state_mode\": 1000,\n",
        "    \"partial_power_mode\": 1000\n",
        "}\n",
        "rus = RandomUnderSampler(sampling_strategy=sampling_strategy, random_state=42)\n",
        "X_train_resampled, y_train_resampled = rus.fit_resample(X_train, y_train)"
      ]
    },
    {
      "cell_type": "code",
      "execution_count": 115,
      "id": "f7d8daf8-692f-469f-a103-70b6edd1992b",
      "metadata": {
        "colab": {
          "base_uri": "https://localhost:8080/",
          "height": 210
        },
        "id": "f7d8daf8-692f-469f-a103-70b6edd1992b",
        "outputId": "6bd9709d-d585-4aa7-a8b8-a86c7be5ac2d"
      },
      "outputs": [
        {
          "output_type": "execute_result",
          "data": {
            "text/plain": [
              "target            \n",
              "full_power_mode       1000\n",
              "partial_power_mode    1000\n",
              "stopped_state_mode    1000\n",
              "Name: count, dtype: int64"
            ],
            "text/html": [
              "<div>\n",
              "<style scoped>\n",
              "    .dataframe tbody tr th:only-of-type {\n",
              "        vertical-align: middle;\n",
              "    }\n",
              "\n",
              "    .dataframe tbody tr th {\n",
              "        vertical-align: top;\n",
              "    }\n",
              "\n",
              "    .dataframe thead th {\n",
              "        text-align: right;\n",
              "    }\n",
              "</style>\n",
              "<table border=\"1\" class=\"dataframe\">\n",
              "  <thead>\n",
              "    <tr style=\"text-align: right;\">\n",
              "      <th></th>\n",
              "      <th>count</th>\n",
              "    </tr>\n",
              "    <tr>\n",
              "      <th>target</th>\n",
              "      <th></th>\n",
              "    </tr>\n",
              "  </thead>\n",
              "  <tbody>\n",
              "    <tr>\n",
              "      <th>full_power_mode</th>\n",
              "      <td>1000</td>\n",
              "    </tr>\n",
              "    <tr>\n",
              "      <th>partial_power_mode</th>\n",
              "      <td>1000</td>\n",
              "    </tr>\n",
              "    <tr>\n",
              "      <th>stopped_state_mode</th>\n",
              "      <td>1000</td>\n",
              "    </tr>\n",
              "  </tbody>\n",
              "</table>\n",
              "</div><br><label><b>dtype:</b> int64</label>"
            ]
          },
          "metadata": {},
          "execution_count": 115
        }
      ],
      "source": [
        "y_train_resampled.value_counts()"
      ]
    },
    {
      "cell_type": "code",
      "execution_count": 116,
      "id": "e7608b57-ef37-4188-b8ae-3b38c461052e",
      "metadata": {
        "id": "e7608b57-ef37-4188-b8ae-3b38c461052e"
      },
      "outputs": [],
      "source": [
        "sampling_strategy = {\n",
        "    \"full_power_mode\": 100,\n",
        "    \"stopped_state_mode\": 100,\n",
        "    \"partial_power_mode\": 100\n",
        "}\n",
        "rus = RandomUnderSampler(sampling_strategy=sampling_strategy, random_state=42)\n",
        "X_test_resampled, y_test_resampled = rus.fit_resample(X_test, y_test)"
      ]
    },
    {
      "cell_type": "code",
      "execution_count": 117,
      "id": "bab30c6f-2db9-41b6-b995-056994379a02",
      "metadata": {
        "colab": {
          "base_uri": "https://localhost:8080/",
          "height": 210
        },
        "id": "bab30c6f-2db9-41b6-b995-056994379a02",
        "outputId": "c0af6a95-7eb0-4bfc-8437-b75899879124"
      },
      "outputs": [
        {
          "output_type": "execute_result",
          "data": {
            "text/plain": [
              "target            \n",
              "full_power_mode       100\n",
              "partial_power_mode    100\n",
              "stopped_state_mode    100\n",
              "Name: count, dtype: int64"
            ],
            "text/html": [
              "<div>\n",
              "<style scoped>\n",
              "    .dataframe tbody tr th:only-of-type {\n",
              "        vertical-align: middle;\n",
              "    }\n",
              "\n",
              "    .dataframe tbody tr th {\n",
              "        vertical-align: top;\n",
              "    }\n",
              "\n",
              "    .dataframe thead th {\n",
              "        text-align: right;\n",
              "    }\n",
              "</style>\n",
              "<table border=\"1\" class=\"dataframe\">\n",
              "  <thead>\n",
              "    <tr style=\"text-align: right;\">\n",
              "      <th></th>\n",
              "      <th>count</th>\n",
              "    </tr>\n",
              "    <tr>\n",
              "      <th>target</th>\n",
              "      <th></th>\n",
              "    </tr>\n",
              "  </thead>\n",
              "  <tbody>\n",
              "    <tr>\n",
              "      <th>full_power_mode</th>\n",
              "      <td>100</td>\n",
              "    </tr>\n",
              "    <tr>\n",
              "      <th>partial_power_mode</th>\n",
              "      <td>100</td>\n",
              "    </tr>\n",
              "    <tr>\n",
              "      <th>stopped_state_mode</th>\n",
              "      <td>100</td>\n",
              "    </tr>\n",
              "  </tbody>\n",
              "</table>\n",
              "</div><br><label><b>dtype:</b> int64</label>"
            ]
          },
          "metadata": {},
          "execution_count": 117
        }
      ],
      "source": [
        "y_test_resampled.value_counts()"
      ]
    },
    {
      "cell_type": "markdown",
      "id": "9cb69ac0-8d8d-48d5-8230-23b4b7621326",
      "metadata": {
        "id": "9cb69ac0-8d8d-48d5-8230-23b4b7621326"
      },
      "source": [
        "#### Oversampling"
      ]
    },
    {
      "cell_type": "code",
      "execution_count": 118,
      "id": "79e4ab61-de40-4bdf-9813-f53a7eaaab40",
      "metadata": {
        "id": "79e4ab61-de40-4bdf-9813-f53a7eaaab40"
      },
      "outputs": [],
      "source": [
        "from imblearn.over_sampling import SMOTE\n",
        "X_train_resampled, y_train_resampled = SMOTE().fit_resample(X_train_resampled, y_train_resampled)"
      ]
    },
    {
      "cell_type": "code",
      "execution_count": 119,
      "id": "cd700f2c-ace4-4948-a72b-a33cc2195dc8",
      "metadata": {
        "colab": {
          "base_uri": "https://localhost:8080/",
          "height": 210
        },
        "id": "cd700f2c-ace4-4948-a72b-a33cc2195dc8",
        "outputId": "1ac51e0c-2384-4d6c-ba46-121689492e6d"
      },
      "outputs": [
        {
          "output_type": "execute_result",
          "data": {
            "text/plain": [
              "target            \n",
              "full_power_mode       1000\n",
              "partial_power_mode    1000\n",
              "stopped_state_mode    1000\n",
              "Name: count, dtype: int64"
            ],
            "text/html": [
              "<div>\n",
              "<style scoped>\n",
              "    .dataframe tbody tr th:only-of-type {\n",
              "        vertical-align: middle;\n",
              "    }\n",
              "\n",
              "    .dataframe tbody tr th {\n",
              "        vertical-align: top;\n",
              "    }\n",
              "\n",
              "    .dataframe thead th {\n",
              "        text-align: right;\n",
              "    }\n",
              "</style>\n",
              "<table border=\"1\" class=\"dataframe\">\n",
              "  <thead>\n",
              "    <tr style=\"text-align: right;\">\n",
              "      <th></th>\n",
              "      <th>count</th>\n",
              "    </tr>\n",
              "    <tr>\n",
              "      <th>target</th>\n",
              "      <th></th>\n",
              "    </tr>\n",
              "  </thead>\n",
              "  <tbody>\n",
              "    <tr>\n",
              "      <th>full_power_mode</th>\n",
              "      <td>1000</td>\n",
              "    </tr>\n",
              "    <tr>\n",
              "      <th>partial_power_mode</th>\n",
              "      <td>1000</td>\n",
              "    </tr>\n",
              "    <tr>\n",
              "      <th>stopped_state_mode</th>\n",
              "      <td>1000</td>\n",
              "    </tr>\n",
              "  </tbody>\n",
              "</table>\n",
              "</div><br><label><b>dtype:</b> int64</label>"
            ]
          },
          "metadata": {},
          "execution_count": 119
        }
      ],
      "source": [
        "y_train_resampled.value_counts()"
      ]
    },
    {
      "cell_type": "markdown",
      "id": "1f92cc1a-9a33-4c1c-9e70-665b5f8a7843",
      "metadata": {
        "id": "1f92cc1a-9a33-4c1c-9e70-665b5f8a7843"
      },
      "source": [
        "### Нормализация или стандартизация данных"
      ]
    },
    {
      "cell_type": "code",
      "execution_count": 120,
      "id": "bce5f2cd-879e-4105-a24e-47975f81fbe0",
      "metadata": {
        "colab": {
          "base_uri": "https://localhost:8080/",
          "height": 350
        },
        "id": "bce5f2cd-879e-4105-a24e-47975f81fbe0",
        "outputId": "42f56e08-b9f1-4587-c7d0-32af47ab4f04"
      },
      "outputs": [
        {
          "output_type": "execute_result",
          "data": {
            "text/plain": [
              "       GTA1.DBinPU.Alzzo  GTA1.DBinPU.Bo  GTA1.DBinPU.DlPkf  \\\n",
              "count       3.000000e+03    3.000000e+03        3000.000000   \n",
              "mean       -9.473903e-18    1.222607e-14           0.000000   \n",
              "std         1.000167e+00    1.000167e+00           1.000167   \n",
              "min        -2.076325e-01   -3.600363e+00          -1.319045   \n",
              "25%        -2.014321e-01   -7.036436e-01          -1.295837   \n",
              "50%        -1.975053e-01    2.538132e-01           0.178991   \n",
              "75%        -1.944335e-01    7.154589e-01           0.827057   \n",
              "max         5.230260e+00    2.946557e+00           1.523526   \n",
              "\n",
              "       GTA1.DBinPU.DlPtgft  GTA1.DBinPU.DlPvf  GTA1.DBinPU.fi  \\\n",
              "count          3000.000000       3.000000e+03    3.000000e+03   \n",
              "mean              0.000000       2.273737e-16    2.652693e-16   \n",
              "std               1.000167       1.000167e+00    1.000167e+00   \n",
              "min              -1.266297      -1.366010e+00   -2.238373e+00   \n",
              "25%              -1.258417      -1.332026e+00   -7.608600e-01   \n",
              "50%               0.063523       2.025547e-01   -1.329417e-01   \n",
              "75%               0.872796       8.441639e-01    6.642379e-01   \n",
              "max               7.114079       1.344066e+00    2.647111e+00   \n",
              "\n",
              "       GTA1.DBinPU.hmGTD  GTA1.DBinPU.hmTG  GTA1.DBinPU.P1mvhTG  \\\n",
              "count       3.000000e+03      3.000000e+03         3.000000e+03   \n",
              "mean       -1.215028e-15     -9.829175e-16         1.136868e-16   \n",
              "std         1.000167e+00      1.000167e+00         1.000167e+00   \n",
              "min        -1.422283e+00     -1.677930e+00        -1.623786e+00   \n",
              "25%        -1.048513e+00     -8.612304e-01        -1.574989e+00   \n",
              "50%        -1.541689e-01     -2.232318e-02         6.005737e-01   \n",
              "75%         5.607690e-01      3.886341e-01         6.674253e-01   \n",
              "max         2.511558e+00      2.231608e+00         9.836127e-01   \n",
              "\n",
              "       GTA1.DBinPU.Pk  ...  GTA1.DBinPU.Ptgpd  GTA1.DBinPU.Ptgvh  \\\n",
              "count    3.000000e+03  ...        3000.000000       3.000000e+03   \n",
              "mean    -7.579123e-17  ...           0.000000       2.273737e-16   \n",
              "std      1.000167e+00  ...           1.000167       1.000167e+00   \n",
              "min     -1.378703e+00  ...          -1.414613      -1.419812e+00   \n",
              "25%     -1.372347e+00  ...          -1.412181      -1.417475e+00   \n",
              "50%      4.231707e-01  ...           0.654772       6.760768e-01   \n",
              "75%      8.712557e-01  ...           0.702143       7.053729e-01   \n",
              "max      9.538813e-01  ...           0.957880       9.101548e-01   \n",
              "\n",
              "       GTA1.DBinPU.Pvh  GTA1.DBinPU.Pvyhlg  GTA1.DBinPU.Qtg  GTA1.DBinPU.Tk  \\\n",
              "count     3.000000e+03        3.000000e+03     3.000000e+03    3.000000e+03   \n",
              "mean      1.743198e-15       -1.136868e-16    -1.515825e-16   -2.273737e-16   \n",
              "std       1.000167e+00        1.000167e+00     1.000167e+00    1.000167e+00   \n",
              "min      -1.749094e+00       -1.138379e+00    -1.360400e+00   -1.424960e+00   \n",
              "25%      -8.524652e-01       -1.105616e+00    -1.360340e+00   -1.381507e+00   \n",
              "50%      -5.306281e-01       -3.902388e-02     4.799045e-01    5.202733e-01   \n",
              "75%       1.204427e+00        1.193026e+00     8.075137e-01    7.971948e-01   \n",
              "max       1.453663e+00        1.512869e+00     1.307180e+00    1.074492e+00   \n",
              "\n",
              "       GTA1.DBinPU.Tn  GTA1.DBinPU.Tt  GTA1.DBinPU.Tvh1  GTA1.DBinPU.Pzad  \n",
              "count    3.000000e+03    3.000000e+03      3.000000e+03      3.000000e+03  \n",
              "mean    -7.579123e-17    1.515825e-16     -1.894781e-17     -1.515825e-16  \n",
              "std      1.000167e+00    1.000167e+00      1.000167e+00      1.000167e+00  \n",
              "min     -2.622070e+00   -1.426861e+00     -2.950839e+00     -1.319213e+00  \n",
              "25%     -7.888381e-01   -1.399296e+00     -6.591286e-01     -1.319213e+00  \n",
              "50%     -1.342659e-01    5.761435e-01     -2.374390e-02      2.383969e-01  \n",
              "75%      9.998610e-01    7.854134e-01      9.056631e-01      9.587912e-01  \n",
              "max      2.091435e+00    1.005543e+00      2.066186e+00      9.587912e-01  \n",
              "\n",
              "[8 rows x 26 columns]"
            ],
            "text/html": [
              "\n",
              "  <div id=\"df-689d66d0-853a-4ad0-9cd9-70039b5e1d09\" class=\"colab-df-container\">\n",
              "    <div>\n",
              "<style scoped>\n",
              "    .dataframe tbody tr th:only-of-type {\n",
              "        vertical-align: middle;\n",
              "    }\n",
              "\n",
              "    .dataframe tbody tr th {\n",
              "        vertical-align: top;\n",
              "    }\n",
              "\n",
              "    .dataframe thead th {\n",
              "        text-align: right;\n",
              "    }\n",
              "</style>\n",
              "<table border=\"1\" class=\"dataframe\">\n",
              "  <thead>\n",
              "    <tr style=\"text-align: right;\">\n",
              "      <th></th>\n",
              "      <th>GTA1.DBinPU.Alzzo</th>\n",
              "      <th>GTA1.DBinPU.Bo</th>\n",
              "      <th>GTA1.DBinPU.DlPkf</th>\n",
              "      <th>GTA1.DBinPU.DlPtgft</th>\n",
              "      <th>GTA1.DBinPU.DlPvf</th>\n",
              "      <th>GTA1.DBinPU.fi</th>\n",
              "      <th>GTA1.DBinPU.hmGTD</th>\n",
              "      <th>GTA1.DBinPU.hmTG</th>\n",
              "      <th>GTA1.DBinPU.P1mvhTG</th>\n",
              "      <th>GTA1.DBinPU.Pk</th>\n",
              "      <th>...</th>\n",
              "      <th>GTA1.DBinPU.Ptgpd</th>\n",
              "      <th>GTA1.DBinPU.Ptgvh</th>\n",
              "      <th>GTA1.DBinPU.Pvh</th>\n",
              "      <th>GTA1.DBinPU.Pvyhlg</th>\n",
              "      <th>GTA1.DBinPU.Qtg</th>\n",
              "      <th>GTA1.DBinPU.Tk</th>\n",
              "      <th>GTA1.DBinPU.Tn</th>\n",
              "      <th>GTA1.DBinPU.Tt</th>\n",
              "      <th>GTA1.DBinPU.Tvh1</th>\n",
              "      <th>GTA1.DBinPU.Pzad</th>\n",
              "    </tr>\n",
              "  </thead>\n",
              "  <tbody>\n",
              "    <tr>\n",
              "      <th>count</th>\n",
              "      <td>3.000000e+03</td>\n",
              "      <td>3.000000e+03</td>\n",
              "      <td>3000.000000</td>\n",
              "      <td>3000.000000</td>\n",
              "      <td>3.000000e+03</td>\n",
              "      <td>3.000000e+03</td>\n",
              "      <td>3.000000e+03</td>\n",
              "      <td>3.000000e+03</td>\n",
              "      <td>3.000000e+03</td>\n",
              "      <td>3.000000e+03</td>\n",
              "      <td>...</td>\n",
              "      <td>3000.000000</td>\n",
              "      <td>3.000000e+03</td>\n",
              "      <td>3.000000e+03</td>\n",
              "      <td>3.000000e+03</td>\n",
              "      <td>3.000000e+03</td>\n",
              "      <td>3.000000e+03</td>\n",
              "      <td>3.000000e+03</td>\n",
              "      <td>3.000000e+03</td>\n",
              "      <td>3.000000e+03</td>\n",
              "      <td>3.000000e+03</td>\n",
              "    </tr>\n",
              "    <tr>\n",
              "      <th>mean</th>\n",
              "      <td>-9.473903e-18</td>\n",
              "      <td>1.222607e-14</td>\n",
              "      <td>0.000000</td>\n",
              "      <td>0.000000</td>\n",
              "      <td>2.273737e-16</td>\n",
              "      <td>2.652693e-16</td>\n",
              "      <td>-1.215028e-15</td>\n",
              "      <td>-9.829175e-16</td>\n",
              "      <td>1.136868e-16</td>\n",
              "      <td>-7.579123e-17</td>\n",
              "      <td>...</td>\n",
              "      <td>0.000000</td>\n",
              "      <td>2.273737e-16</td>\n",
              "      <td>1.743198e-15</td>\n",
              "      <td>-1.136868e-16</td>\n",
              "      <td>-1.515825e-16</td>\n",
              "      <td>-2.273737e-16</td>\n",
              "      <td>-7.579123e-17</td>\n",
              "      <td>1.515825e-16</td>\n",
              "      <td>-1.894781e-17</td>\n",
              "      <td>-1.515825e-16</td>\n",
              "    </tr>\n",
              "    <tr>\n",
              "      <th>std</th>\n",
              "      <td>1.000167e+00</td>\n",
              "      <td>1.000167e+00</td>\n",
              "      <td>1.000167</td>\n",
              "      <td>1.000167</td>\n",
              "      <td>1.000167e+00</td>\n",
              "      <td>1.000167e+00</td>\n",
              "      <td>1.000167e+00</td>\n",
              "      <td>1.000167e+00</td>\n",
              "      <td>1.000167e+00</td>\n",
              "      <td>1.000167e+00</td>\n",
              "      <td>...</td>\n",
              "      <td>1.000167</td>\n",
              "      <td>1.000167e+00</td>\n",
              "      <td>1.000167e+00</td>\n",
              "      <td>1.000167e+00</td>\n",
              "      <td>1.000167e+00</td>\n",
              "      <td>1.000167e+00</td>\n",
              "      <td>1.000167e+00</td>\n",
              "      <td>1.000167e+00</td>\n",
              "      <td>1.000167e+00</td>\n",
              "      <td>1.000167e+00</td>\n",
              "    </tr>\n",
              "    <tr>\n",
              "      <th>min</th>\n",
              "      <td>-2.076325e-01</td>\n",
              "      <td>-3.600363e+00</td>\n",
              "      <td>-1.319045</td>\n",
              "      <td>-1.266297</td>\n",
              "      <td>-1.366010e+00</td>\n",
              "      <td>-2.238373e+00</td>\n",
              "      <td>-1.422283e+00</td>\n",
              "      <td>-1.677930e+00</td>\n",
              "      <td>-1.623786e+00</td>\n",
              "      <td>-1.378703e+00</td>\n",
              "      <td>...</td>\n",
              "      <td>-1.414613</td>\n",
              "      <td>-1.419812e+00</td>\n",
              "      <td>-1.749094e+00</td>\n",
              "      <td>-1.138379e+00</td>\n",
              "      <td>-1.360400e+00</td>\n",
              "      <td>-1.424960e+00</td>\n",
              "      <td>-2.622070e+00</td>\n",
              "      <td>-1.426861e+00</td>\n",
              "      <td>-2.950839e+00</td>\n",
              "      <td>-1.319213e+00</td>\n",
              "    </tr>\n",
              "    <tr>\n",
              "      <th>25%</th>\n",
              "      <td>-2.014321e-01</td>\n",
              "      <td>-7.036436e-01</td>\n",
              "      <td>-1.295837</td>\n",
              "      <td>-1.258417</td>\n",
              "      <td>-1.332026e+00</td>\n",
              "      <td>-7.608600e-01</td>\n",
              "      <td>-1.048513e+00</td>\n",
              "      <td>-8.612304e-01</td>\n",
              "      <td>-1.574989e+00</td>\n",
              "      <td>-1.372347e+00</td>\n",
              "      <td>...</td>\n",
              "      <td>-1.412181</td>\n",
              "      <td>-1.417475e+00</td>\n",
              "      <td>-8.524652e-01</td>\n",
              "      <td>-1.105616e+00</td>\n",
              "      <td>-1.360340e+00</td>\n",
              "      <td>-1.381507e+00</td>\n",
              "      <td>-7.888381e-01</td>\n",
              "      <td>-1.399296e+00</td>\n",
              "      <td>-6.591286e-01</td>\n",
              "      <td>-1.319213e+00</td>\n",
              "    </tr>\n",
              "    <tr>\n",
              "      <th>50%</th>\n",
              "      <td>-1.975053e-01</td>\n",
              "      <td>2.538132e-01</td>\n",
              "      <td>0.178991</td>\n",
              "      <td>0.063523</td>\n",
              "      <td>2.025547e-01</td>\n",
              "      <td>-1.329417e-01</td>\n",
              "      <td>-1.541689e-01</td>\n",
              "      <td>-2.232318e-02</td>\n",
              "      <td>6.005737e-01</td>\n",
              "      <td>4.231707e-01</td>\n",
              "      <td>...</td>\n",
              "      <td>0.654772</td>\n",
              "      <td>6.760768e-01</td>\n",
              "      <td>-5.306281e-01</td>\n",
              "      <td>-3.902388e-02</td>\n",
              "      <td>4.799045e-01</td>\n",
              "      <td>5.202733e-01</td>\n",
              "      <td>-1.342659e-01</td>\n",
              "      <td>5.761435e-01</td>\n",
              "      <td>-2.374390e-02</td>\n",
              "      <td>2.383969e-01</td>\n",
              "    </tr>\n",
              "    <tr>\n",
              "      <th>75%</th>\n",
              "      <td>-1.944335e-01</td>\n",
              "      <td>7.154589e-01</td>\n",
              "      <td>0.827057</td>\n",
              "      <td>0.872796</td>\n",
              "      <td>8.441639e-01</td>\n",
              "      <td>6.642379e-01</td>\n",
              "      <td>5.607690e-01</td>\n",
              "      <td>3.886341e-01</td>\n",
              "      <td>6.674253e-01</td>\n",
              "      <td>8.712557e-01</td>\n",
              "      <td>...</td>\n",
              "      <td>0.702143</td>\n",
              "      <td>7.053729e-01</td>\n",
              "      <td>1.204427e+00</td>\n",
              "      <td>1.193026e+00</td>\n",
              "      <td>8.075137e-01</td>\n",
              "      <td>7.971948e-01</td>\n",
              "      <td>9.998610e-01</td>\n",
              "      <td>7.854134e-01</td>\n",
              "      <td>9.056631e-01</td>\n",
              "      <td>9.587912e-01</td>\n",
              "    </tr>\n",
              "    <tr>\n",
              "      <th>max</th>\n",
              "      <td>5.230260e+00</td>\n",
              "      <td>2.946557e+00</td>\n",
              "      <td>1.523526</td>\n",
              "      <td>7.114079</td>\n",
              "      <td>1.344066e+00</td>\n",
              "      <td>2.647111e+00</td>\n",
              "      <td>2.511558e+00</td>\n",
              "      <td>2.231608e+00</td>\n",
              "      <td>9.836127e-01</td>\n",
              "      <td>9.538813e-01</td>\n",
              "      <td>...</td>\n",
              "      <td>0.957880</td>\n",
              "      <td>9.101548e-01</td>\n",
              "      <td>1.453663e+00</td>\n",
              "      <td>1.512869e+00</td>\n",
              "      <td>1.307180e+00</td>\n",
              "      <td>1.074492e+00</td>\n",
              "      <td>2.091435e+00</td>\n",
              "      <td>1.005543e+00</td>\n",
              "      <td>2.066186e+00</td>\n",
              "      <td>9.587912e-01</td>\n",
              "    </tr>\n",
              "  </tbody>\n",
              "</table>\n",
              "<p>8 rows × 26 columns</p>\n",
              "</div>\n",
              "    <div class=\"colab-df-buttons\">\n",
              "\n",
              "  <div class=\"colab-df-container\">\n",
              "    <button class=\"colab-df-convert\" onclick=\"convertToInteractive('df-689d66d0-853a-4ad0-9cd9-70039b5e1d09')\"\n",
              "            title=\"Convert this dataframe to an interactive table.\"\n",
              "            style=\"display:none;\">\n",
              "\n",
              "  <svg xmlns=\"http://www.w3.org/2000/svg\" height=\"24px\" viewBox=\"0 -960 960 960\">\n",
              "    <path d=\"M120-120v-720h720v720H120Zm60-500h600v-160H180v160Zm220 220h160v-160H400v160Zm0 220h160v-160H400v160ZM180-400h160v-160H180v160Zm440 0h160v-160H620v160ZM180-180h160v-160H180v160Zm440 0h160v-160H620v160Z\"/>\n",
              "  </svg>\n",
              "    </button>\n",
              "\n",
              "  <style>\n",
              "    .colab-df-container {\n",
              "      display:flex;\n",
              "      gap: 12px;\n",
              "    }\n",
              "\n",
              "    .colab-df-convert {\n",
              "      background-color: #E8F0FE;\n",
              "      border: none;\n",
              "      border-radius: 50%;\n",
              "      cursor: pointer;\n",
              "      display: none;\n",
              "      fill: #1967D2;\n",
              "      height: 32px;\n",
              "      padding: 0 0 0 0;\n",
              "      width: 32px;\n",
              "    }\n",
              "\n",
              "    .colab-df-convert:hover {\n",
              "      background-color: #E2EBFA;\n",
              "      box-shadow: 0px 1px 2px rgba(60, 64, 67, 0.3), 0px 1px 3px 1px rgba(60, 64, 67, 0.15);\n",
              "      fill: #174EA6;\n",
              "    }\n",
              "\n",
              "    .colab-df-buttons div {\n",
              "      margin-bottom: 4px;\n",
              "    }\n",
              "\n",
              "    [theme=dark] .colab-df-convert {\n",
              "      background-color: #3B4455;\n",
              "      fill: #D2E3FC;\n",
              "    }\n",
              "\n",
              "    [theme=dark] .colab-df-convert:hover {\n",
              "      background-color: #434B5C;\n",
              "      box-shadow: 0px 1px 3px 1px rgba(0, 0, 0, 0.15);\n",
              "      filter: drop-shadow(0px 1px 2px rgba(0, 0, 0, 0.3));\n",
              "      fill: #FFFFFF;\n",
              "    }\n",
              "  </style>\n",
              "\n",
              "    <script>\n",
              "      const buttonEl =\n",
              "        document.querySelector('#df-689d66d0-853a-4ad0-9cd9-70039b5e1d09 button.colab-df-convert');\n",
              "      buttonEl.style.display =\n",
              "        google.colab.kernel.accessAllowed ? 'block' : 'none';\n",
              "\n",
              "      async function convertToInteractive(key) {\n",
              "        const element = document.querySelector('#df-689d66d0-853a-4ad0-9cd9-70039b5e1d09');\n",
              "        const dataTable =\n",
              "          await google.colab.kernel.invokeFunction('convertToInteractive',\n",
              "                                                    [key], {});\n",
              "        if (!dataTable) return;\n",
              "\n",
              "        const docLinkHtml = 'Like what you see? Visit the ' +\n",
              "          '<a target=\"_blank\" href=https://colab.research.google.com/notebooks/data_table.ipynb>data table notebook</a>'\n",
              "          + ' to learn more about interactive tables.';\n",
              "        element.innerHTML = '';\n",
              "        dataTable['output_type'] = 'display_data';\n",
              "        await google.colab.output.renderOutput(dataTable, element);\n",
              "        const docLink = document.createElement('div');\n",
              "        docLink.innerHTML = docLinkHtml;\n",
              "        element.appendChild(docLink);\n",
              "      }\n",
              "    </script>\n",
              "  </div>\n",
              "\n",
              "\n",
              "<div id=\"df-a944daf1-5b05-41c0-ba50-91e14a7deccc\">\n",
              "  <button class=\"colab-df-quickchart\" onclick=\"quickchart('df-a944daf1-5b05-41c0-ba50-91e14a7deccc')\"\n",
              "            title=\"Suggest charts\"\n",
              "            style=\"display:none;\">\n",
              "\n",
              "<svg xmlns=\"http://www.w3.org/2000/svg\" height=\"24px\"viewBox=\"0 0 24 24\"\n",
              "     width=\"24px\">\n",
              "    <g>\n",
              "        <path d=\"M19 3H5c-1.1 0-2 .9-2 2v14c0 1.1.9 2 2 2h14c1.1 0 2-.9 2-2V5c0-1.1-.9-2-2-2zM9 17H7v-7h2v7zm4 0h-2V7h2v10zm4 0h-2v-4h2v4z\"/>\n",
              "    </g>\n",
              "</svg>\n",
              "  </button>\n",
              "\n",
              "<style>\n",
              "  .colab-df-quickchart {\n",
              "      --bg-color: #E8F0FE;\n",
              "      --fill-color: #1967D2;\n",
              "      --hover-bg-color: #E2EBFA;\n",
              "      --hover-fill-color: #174EA6;\n",
              "      --disabled-fill-color: #AAA;\n",
              "      --disabled-bg-color: #DDD;\n",
              "  }\n",
              "\n",
              "  [theme=dark] .colab-df-quickchart {\n",
              "      --bg-color: #3B4455;\n",
              "      --fill-color: #D2E3FC;\n",
              "      --hover-bg-color: #434B5C;\n",
              "      --hover-fill-color: #FFFFFF;\n",
              "      --disabled-bg-color: #3B4455;\n",
              "      --disabled-fill-color: #666;\n",
              "  }\n",
              "\n",
              "  .colab-df-quickchart {\n",
              "    background-color: var(--bg-color);\n",
              "    border: none;\n",
              "    border-radius: 50%;\n",
              "    cursor: pointer;\n",
              "    display: none;\n",
              "    fill: var(--fill-color);\n",
              "    height: 32px;\n",
              "    padding: 0;\n",
              "    width: 32px;\n",
              "  }\n",
              "\n",
              "  .colab-df-quickchart:hover {\n",
              "    background-color: var(--hover-bg-color);\n",
              "    box-shadow: 0 1px 2px rgba(60, 64, 67, 0.3), 0 1px 3px 1px rgba(60, 64, 67, 0.15);\n",
              "    fill: var(--button-hover-fill-color);\n",
              "  }\n",
              "\n",
              "  .colab-df-quickchart-complete:disabled,\n",
              "  .colab-df-quickchart-complete:disabled:hover {\n",
              "    background-color: var(--disabled-bg-color);\n",
              "    fill: var(--disabled-fill-color);\n",
              "    box-shadow: none;\n",
              "  }\n",
              "\n",
              "  .colab-df-spinner {\n",
              "    border: 2px solid var(--fill-color);\n",
              "    border-color: transparent;\n",
              "    border-bottom-color: var(--fill-color);\n",
              "    animation:\n",
              "      spin 1s steps(1) infinite;\n",
              "  }\n",
              "\n",
              "  @keyframes spin {\n",
              "    0% {\n",
              "      border-color: transparent;\n",
              "      border-bottom-color: var(--fill-color);\n",
              "      border-left-color: var(--fill-color);\n",
              "    }\n",
              "    20% {\n",
              "      border-color: transparent;\n",
              "      border-left-color: var(--fill-color);\n",
              "      border-top-color: var(--fill-color);\n",
              "    }\n",
              "    30% {\n",
              "      border-color: transparent;\n",
              "      border-left-color: var(--fill-color);\n",
              "      border-top-color: var(--fill-color);\n",
              "      border-right-color: var(--fill-color);\n",
              "    }\n",
              "    40% {\n",
              "      border-color: transparent;\n",
              "      border-right-color: var(--fill-color);\n",
              "      border-top-color: var(--fill-color);\n",
              "    }\n",
              "    60% {\n",
              "      border-color: transparent;\n",
              "      border-right-color: var(--fill-color);\n",
              "    }\n",
              "    80% {\n",
              "      border-color: transparent;\n",
              "      border-right-color: var(--fill-color);\n",
              "      border-bottom-color: var(--fill-color);\n",
              "    }\n",
              "    90% {\n",
              "      border-color: transparent;\n",
              "      border-bottom-color: var(--fill-color);\n",
              "    }\n",
              "  }\n",
              "</style>\n",
              "\n",
              "  <script>\n",
              "    async function quickchart(key) {\n",
              "      const quickchartButtonEl =\n",
              "        document.querySelector('#' + key + ' button');\n",
              "      quickchartButtonEl.disabled = true;  // To prevent multiple clicks.\n",
              "      quickchartButtonEl.classList.add('colab-df-spinner');\n",
              "      try {\n",
              "        const charts = await google.colab.kernel.invokeFunction(\n",
              "            'suggestCharts', [key], {});\n",
              "      } catch (error) {\n",
              "        console.error('Error during call to suggestCharts:', error);\n",
              "      }\n",
              "      quickchartButtonEl.classList.remove('colab-df-spinner');\n",
              "      quickchartButtonEl.classList.add('colab-df-quickchart-complete');\n",
              "    }\n",
              "    (() => {\n",
              "      let quickchartButtonEl =\n",
              "        document.querySelector('#df-a944daf1-5b05-41c0-ba50-91e14a7deccc button');\n",
              "      quickchartButtonEl.style.display =\n",
              "        google.colab.kernel.accessAllowed ? 'block' : 'none';\n",
              "    })();\n",
              "  </script>\n",
              "</div>\n",
              "\n",
              "    </div>\n",
              "  </div>\n"
            ],
            "application/vnd.google.colaboratory.intrinsic+json": {
              "type": "dataframe"
            }
          },
          "metadata": {},
          "execution_count": 120
        }
      ],
      "source": [
        "# scaler = preprocessing.MinMaxScaler() # нормализация данных\n",
        "scaler = preprocessing.StandardScaler() # стандартизация данных\n",
        "\n",
        "X_train_resampled_scaled = pd.DataFrame(\n",
        "    scaler.fit_transform(X_train_resampled),\n",
        "    columns=X_train_resampled.columns,\n",
        "    index=X_train_resampled.index)\n",
        "\n",
        "X_test_resampled_scaled = pd.DataFrame(\n",
        "    scaler.transform(X_test_resampled),\n",
        "    columns=X_test_resampled.columns,\n",
        "    index=X_test_resampled.index)\n",
        "\n",
        "X_train_resampled_scaled.describe()"
      ]
    },
    {
      "cell_type": "code",
      "execution_count": 120,
      "id": "802a4a39-d99c-4342-87aa-135151b3e481",
      "metadata": {
        "id": "802a4a39-d99c-4342-87aa-135151b3e481"
      },
      "outputs": [],
      "source": []
    },
    {
      "cell_type": "markdown",
      "id": "392435c6-083d-4afa-8471-2c49eeef00f9",
      "metadata": {
        "id": "392435c6-083d-4afa-8471-2c49eeef00f9"
      },
      "source": [
        "### Encoding"
      ]
    },
    {
      "cell_type": "code",
      "execution_count": 121,
      "id": "6917c03e-bf63-419a-86a0-6f3633dde34d",
      "metadata": {
        "id": "6917c03e-bf63-419a-86a0-6f3633dde34d"
      },
      "outputs": [],
      "source": [
        "from sklearn.preprocessing import LabelEncoder\n",
        "encoder = LabelEncoder()"
      ]
    },
    {
      "cell_type": "code",
      "execution_count": 122,
      "id": "530b5a7d-5d9c-414a-8db5-7957141a5536",
      "metadata": {
        "id": "530b5a7d-5d9c-414a-8db5-7957141a5536"
      },
      "outputs": [],
      "source": [
        "y_train_resampled_encoded = encoder.fit_transform(y_train_resampled.values[:,0])\n",
        "y_test_resampled_encoded = encoder.transform(y_test_resampled.values[:,0])"
      ]
    },
    {
      "cell_type": "code",
      "execution_count": 123,
      "id": "82aa7234-1694-48ed-be0d-4d04a24a4d8e",
      "metadata": {
        "colab": {
          "base_uri": "https://localhost:8080/",
          "height": 206
        },
        "id": "82aa7234-1694-48ed-be0d-4d04a24a4d8e",
        "outputId": "3948c352-fd85-4b98-af74-82b8b1bcd635"
      },
      "outputs": [
        {
          "output_type": "execute_result",
          "data": {
            "text/plain": [
              "            target\n",
              "0  full_power_mode\n",
              "1  full_power_mode\n",
              "2  full_power_mode\n",
              "3  full_power_mode\n",
              "4  full_power_mode"
            ],
            "text/html": [
              "\n",
              "  <div id=\"df-1b3f20c8-0cfa-4eeb-bd49-d5dfd63369eb\" class=\"colab-df-container\">\n",
              "    <div>\n",
              "<style scoped>\n",
              "    .dataframe tbody tr th:only-of-type {\n",
              "        vertical-align: middle;\n",
              "    }\n",
              "\n",
              "    .dataframe tbody tr th {\n",
              "        vertical-align: top;\n",
              "    }\n",
              "\n",
              "    .dataframe thead th {\n",
              "        text-align: right;\n",
              "    }\n",
              "</style>\n",
              "<table border=\"1\" class=\"dataframe\">\n",
              "  <thead>\n",
              "    <tr style=\"text-align: right;\">\n",
              "      <th></th>\n",
              "      <th>target</th>\n",
              "    </tr>\n",
              "  </thead>\n",
              "  <tbody>\n",
              "    <tr>\n",
              "      <th>0</th>\n",
              "      <td>full_power_mode</td>\n",
              "    </tr>\n",
              "    <tr>\n",
              "      <th>1</th>\n",
              "      <td>full_power_mode</td>\n",
              "    </tr>\n",
              "    <tr>\n",
              "      <th>2</th>\n",
              "      <td>full_power_mode</td>\n",
              "    </tr>\n",
              "    <tr>\n",
              "      <th>3</th>\n",
              "      <td>full_power_mode</td>\n",
              "    </tr>\n",
              "    <tr>\n",
              "      <th>4</th>\n",
              "      <td>full_power_mode</td>\n",
              "    </tr>\n",
              "  </tbody>\n",
              "</table>\n",
              "</div>\n",
              "    <div class=\"colab-df-buttons\">\n",
              "\n",
              "  <div class=\"colab-df-container\">\n",
              "    <button class=\"colab-df-convert\" onclick=\"convertToInteractive('df-1b3f20c8-0cfa-4eeb-bd49-d5dfd63369eb')\"\n",
              "            title=\"Convert this dataframe to an interactive table.\"\n",
              "            style=\"display:none;\">\n",
              "\n",
              "  <svg xmlns=\"http://www.w3.org/2000/svg\" height=\"24px\" viewBox=\"0 -960 960 960\">\n",
              "    <path d=\"M120-120v-720h720v720H120Zm60-500h600v-160H180v160Zm220 220h160v-160H400v160Zm0 220h160v-160H400v160ZM180-400h160v-160H180v160Zm440 0h160v-160H620v160ZM180-180h160v-160H180v160Zm440 0h160v-160H620v160Z\"/>\n",
              "  </svg>\n",
              "    </button>\n",
              "\n",
              "  <style>\n",
              "    .colab-df-container {\n",
              "      display:flex;\n",
              "      gap: 12px;\n",
              "    }\n",
              "\n",
              "    .colab-df-convert {\n",
              "      background-color: #E8F0FE;\n",
              "      border: none;\n",
              "      border-radius: 50%;\n",
              "      cursor: pointer;\n",
              "      display: none;\n",
              "      fill: #1967D2;\n",
              "      height: 32px;\n",
              "      padding: 0 0 0 0;\n",
              "      width: 32px;\n",
              "    }\n",
              "\n",
              "    .colab-df-convert:hover {\n",
              "      background-color: #E2EBFA;\n",
              "      box-shadow: 0px 1px 2px rgba(60, 64, 67, 0.3), 0px 1px 3px 1px rgba(60, 64, 67, 0.15);\n",
              "      fill: #174EA6;\n",
              "    }\n",
              "\n",
              "    .colab-df-buttons div {\n",
              "      margin-bottom: 4px;\n",
              "    }\n",
              "\n",
              "    [theme=dark] .colab-df-convert {\n",
              "      background-color: #3B4455;\n",
              "      fill: #D2E3FC;\n",
              "    }\n",
              "\n",
              "    [theme=dark] .colab-df-convert:hover {\n",
              "      background-color: #434B5C;\n",
              "      box-shadow: 0px 1px 3px 1px rgba(0, 0, 0, 0.15);\n",
              "      filter: drop-shadow(0px 1px 2px rgba(0, 0, 0, 0.3));\n",
              "      fill: #FFFFFF;\n",
              "    }\n",
              "  </style>\n",
              "\n",
              "    <script>\n",
              "      const buttonEl =\n",
              "        document.querySelector('#df-1b3f20c8-0cfa-4eeb-bd49-d5dfd63369eb button.colab-df-convert');\n",
              "      buttonEl.style.display =\n",
              "        google.colab.kernel.accessAllowed ? 'block' : 'none';\n",
              "\n",
              "      async function convertToInteractive(key) {\n",
              "        const element = document.querySelector('#df-1b3f20c8-0cfa-4eeb-bd49-d5dfd63369eb');\n",
              "        const dataTable =\n",
              "          await google.colab.kernel.invokeFunction('convertToInteractive',\n",
              "                                                    [key], {});\n",
              "        if (!dataTable) return;\n",
              "\n",
              "        const docLinkHtml = 'Like what you see? Visit the ' +\n",
              "          '<a target=\"_blank\" href=https://colab.research.google.com/notebooks/data_table.ipynb>data table notebook</a>'\n",
              "          + ' to learn more about interactive tables.';\n",
              "        element.innerHTML = '';\n",
              "        dataTable['output_type'] = 'display_data';\n",
              "        await google.colab.output.renderOutput(dataTable, element);\n",
              "        const docLink = document.createElement('div');\n",
              "        docLink.innerHTML = docLinkHtml;\n",
              "        element.appendChild(docLink);\n",
              "      }\n",
              "    </script>\n",
              "  </div>\n",
              "\n",
              "\n",
              "<div id=\"df-93150d2f-5bf4-46a1-b0c4-f1408a20ddf0\">\n",
              "  <button class=\"colab-df-quickchart\" onclick=\"quickchart('df-93150d2f-5bf4-46a1-b0c4-f1408a20ddf0')\"\n",
              "            title=\"Suggest charts\"\n",
              "            style=\"display:none;\">\n",
              "\n",
              "<svg xmlns=\"http://www.w3.org/2000/svg\" height=\"24px\"viewBox=\"0 0 24 24\"\n",
              "     width=\"24px\">\n",
              "    <g>\n",
              "        <path d=\"M19 3H5c-1.1 0-2 .9-2 2v14c0 1.1.9 2 2 2h14c1.1 0 2-.9 2-2V5c0-1.1-.9-2-2-2zM9 17H7v-7h2v7zm4 0h-2V7h2v10zm4 0h-2v-4h2v4z\"/>\n",
              "    </g>\n",
              "</svg>\n",
              "  </button>\n",
              "\n",
              "<style>\n",
              "  .colab-df-quickchart {\n",
              "      --bg-color: #E8F0FE;\n",
              "      --fill-color: #1967D2;\n",
              "      --hover-bg-color: #E2EBFA;\n",
              "      --hover-fill-color: #174EA6;\n",
              "      --disabled-fill-color: #AAA;\n",
              "      --disabled-bg-color: #DDD;\n",
              "  }\n",
              "\n",
              "  [theme=dark] .colab-df-quickchart {\n",
              "      --bg-color: #3B4455;\n",
              "      --fill-color: #D2E3FC;\n",
              "      --hover-bg-color: #434B5C;\n",
              "      --hover-fill-color: #FFFFFF;\n",
              "      --disabled-bg-color: #3B4455;\n",
              "      --disabled-fill-color: #666;\n",
              "  }\n",
              "\n",
              "  .colab-df-quickchart {\n",
              "    background-color: var(--bg-color);\n",
              "    border: none;\n",
              "    border-radius: 50%;\n",
              "    cursor: pointer;\n",
              "    display: none;\n",
              "    fill: var(--fill-color);\n",
              "    height: 32px;\n",
              "    padding: 0;\n",
              "    width: 32px;\n",
              "  }\n",
              "\n",
              "  .colab-df-quickchart:hover {\n",
              "    background-color: var(--hover-bg-color);\n",
              "    box-shadow: 0 1px 2px rgba(60, 64, 67, 0.3), 0 1px 3px 1px rgba(60, 64, 67, 0.15);\n",
              "    fill: var(--button-hover-fill-color);\n",
              "  }\n",
              "\n",
              "  .colab-df-quickchart-complete:disabled,\n",
              "  .colab-df-quickchart-complete:disabled:hover {\n",
              "    background-color: var(--disabled-bg-color);\n",
              "    fill: var(--disabled-fill-color);\n",
              "    box-shadow: none;\n",
              "  }\n",
              "\n",
              "  .colab-df-spinner {\n",
              "    border: 2px solid var(--fill-color);\n",
              "    border-color: transparent;\n",
              "    border-bottom-color: var(--fill-color);\n",
              "    animation:\n",
              "      spin 1s steps(1) infinite;\n",
              "  }\n",
              "\n",
              "  @keyframes spin {\n",
              "    0% {\n",
              "      border-color: transparent;\n",
              "      border-bottom-color: var(--fill-color);\n",
              "      border-left-color: var(--fill-color);\n",
              "    }\n",
              "    20% {\n",
              "      border-color: transparent;\n",
              "      border-left-color: var(--fill-color);\n",
              "      border-top-color: var(--fill-color);\n",
              "    }\n",
              "    30% {\n",
              "      border-color: transparent;\n",
              "      border-left-color: var(--fill-color);\n",
              "      border-top-color: var(--fill-color);\n",
              "      border-right-color: var(--fill-color);\n",
              "    }\n",
              "    40% {\n",
              "      border-color: transparent;\n",
              "      border-right-color: var(--fill-color);\n",
              "      border-top-color: var(--fill-color);\n",
              "    }\n",
              "    60% {\n",
              "      border-color: transparent;\n",
              "      border-right-color: var(--fill-color);\n",
              "    }\n",
              "    80% {\n",
              "      border-color: transparent;\n",
              "      border-right-color: var(--fill-color);\n",
              "      border-bottom-color: var(--fill-color);\n",
              "    }\n",
              "    90% {\n",
              "      border-color: transparent;\n",
              "      border-bottom-color: var(--fill-color);\n",
              "    }\n",
              "  }\n",
              "</style>\n",
              "\n",
              "  <script>\n",
              "    async function quickchart(key) {\n",
              "      const quickchartButtonEl =\n",
              "        document.querySelector('#' + key + ' button');\n",
              "      quickchartButtonEl.disabled = true;  // To prevent multiple clicks.\n",
              "      quickchartButtonEl.classList.add('colab-df-spinner');\n",
              "      try {\n",
              "        const charts = await google.colab.kernel.invokeFunction(\n",
              "            'suggestCharts', [key], {});\n",
              "      } catch (error) {\n",
              "        console.error('Error during call to suggestCharts:', error);\n",
              "      }\n",
              "      quickchartButtonEl.classList.remove('colab-df-spinner');\n",
              "      quickchartButtonEl.classList.add('colab-df-quickchart-complete');\n",
              "    }\n",
              "    (() => {\n",
              "      let quickchartButtonEl =\n",
              "        document.querySelector('#df-93150d2f-5bf4-46a1-b0c4-f1408a20ddf0 button');\n",
              "      quickchartButtonEl.style.display =\n",
              "        google.colab.kernel.accessAllowed ? 'block' : 'none';\n",
              "    })();\n",
              "  </script>\n",
              "</div>\n",
              "\n",
              "    </div>\n",
              "  </div>\n"
            ],
            "application/vnd.google.colaboratory.intrinsic+json": {
              "type": "dataframe",
              "variable_name": "y_train_resampled",
              "summary": "{\n  \"name\": \"y_train_resampled\",\n  \"rows\": 3000,\n  \"fields\": [\n    {\n      \"column\": \"target\",\n      \"properties\": {\n        \"dtype\": \"category\",\n        \"num_unique_values\": 3,\n        \"samples\": [\n          \"full_power_mode\",\n          \"partial_power_mode\",\n          \"stopped_state_mode\"\n        ],\n        \"semantic_type\": \"\",\n        \"description\": \"\"\n      }\n    }\n  ]\n}"
            }
          },
          "metadata": {},
          "execution_count": 123
        }
      ],
      "source": [
        "y_train_resampled.head()"
      ]
    },
    {
      "cell_type": "code",
      "execution_count": 123,
      "id": "c2f03089-2a5f-4c97-bb0f-54f9ff0bfe67",
      "metadata": {
        "id": "c2f03089-2a5f-4c97-bb0f-54f9ff0bfe67"
      },
      "outputs": [],
      "source": []
    },
    {
      "cell_type": "markdown",
      "id": "8ae5e9c9-0c6c-4e1b-a0df-12ffbf0b110c",
      "metadata": {
        "id": "8ae5e9c9-0c6c-4e1b-a0df-12ffbf0b110c"
      },
      "source": [
        "## Полносвязная нейронная сеть (многослойный персептрон)"
      ]
    },
    {
      "cell_type": "markdown",
      "id": "df39a82e-df88-4166-b91f-1c1010cb6daa",
      "metadata": {
        "id": "df39a82e-df88-4166-b91f-1c1010cb6daa"
      },
      "source": [
        "Инициализируем переменные для дальнейшего сравнения моделей"
      ]
    },
    {
      "cell_type": "code",
      "execution_count": 124,
      "id": "dd19a0f3-3b95-43ec-b9a3-0501d56cad26",
      "metadata": {
        "id": "dd19a0f3-3b95-43ec-b9a3-0501d56cad26"
      },
      "outputs": [],
      "source": [
        "accuracy_classifier = {}\n",
        "precision_classifier = {}\n",
        "recall_classifier = {}\n",
        "f1_classifier = {}"
      ]
    },
    {
      "cell_type": "markdown",
      "id": "9e40b554-eb68-462e-8415-be255cc94605",
      "metadata": {
        "id": "9e40b554-eb68-462e-8415-be255cc94605"
      },
      "source": [
        "### Dataset"
      ]
    },
    {
      "cell_type": "code",
      "execution_count": 125,
      "id": "1d8f847b-d84c-4c9e-a86a-a3841636e7c2",
      "metadata": {
        "id": "1d8f847b-d84c-4c9e-a86a-a3841636e7c2"
      },
      "outputs": [],
      "source": [
        "class ModeDataset(Dataset):\n",
        "    def __init__(self):\n",
        "        self.x = torch.tensor(X_train_resampled.values, dtype=torch.float32)\n",
        "        self.y = torch.tensor(y_train_resampled_encoded,dtype=torch.long)\n",
        "\n",
        "    def __getitem__(self, idx):\n",
        "        return self.x[idx], self.y[idx]\n",
        "\n",
        "    def __len__(self):\n",
        "        return self.x.shape[0]"
      ]
    },
    {
      "cell_type": "code",
      "execution_count": 126,
      "id": "1c9d2dcb-beb5-42d3-a4b2-77e5f94c4004",
      "metadata": {
        "colab": {
          "base_uri": "https://localhost:8080/"
        },
        "id": "1c9d2dcb-beb5-42d3-a4b2-77e5f94c4004",
        "outputId": "803c3e22-c8c7-4745-c02e-6d0c9caec871"
      },
      "outputs": [
        {
          "output_type": "stream",
          "name": "stdout",
          "text": [
            "3000\n",
            "Sample number 0 :  (tensor([-4.5133e-02,  1.0029e+02,  1.2939e+02,  3.9102e+01,  2.0000e-01,\n",
            "         5.0533e+01,  4.2704e+02,  4.3021e+02,  4.3847e+01,  8.1500e-01,\n",
            "         3.2700e-01, -4.3000e-03,  1.2900e-01,  0.0000e+00,  0.0000e+00,\n",
            "         5.4200e-01,  1.7960e+00,  1.8940e+00,  9.0917e+01,  6.6933e-01,\n",
            "         2.0160e+03,  2.8210e+02, -2.7118e+00,  4.4460e+02, -3.4362e+00,\n",
            "         5.8500e+03]), tensor(0))\n",
            "tensor([-4.5133e-02,  1.0029e+02,  1.2939e+02,  3.9102e+01,  2.0000e-01,\n",
            "         5.0533e+01,  4.2704e+02,  4.3021e+02,  4.3847e+01,  8.1500e-01,\n",
            "         3.2700e-01, -4.3000e-03,  1.2900e-01,  0.0000e+00,  0.0000e+00,\n",
            "         5.4200e-01,  1.7960e+00,  1.8940e+00,  9.0917e+01,  6.6933e-01,\n",
            "         2.0160e+03,  2.8210e+02, -2.7118e+00,  4.4460e+02, -3.4362e+00,\n",
            "         5.8500e+03]) tensor(0)\n"
          ]
        }
      ],
      "source": [
        "dataset = ModeDataset()\n",
        "\n",
        "print(len(dataset))\n",
        "print(\"Sample number 0 : \", dataset[0])\n",
        "print(dataset[0][0], dataset[0][1])"
      ]
    },
    {
      "cell_type": "code",
      "execution_count": 151,
      "id": "bb827de8-a4af-4eca-9baf-4207e3370a81",
      "metadata": {
        "id": "bb827de8-a4af-4eca-9baf-4207e3370a81"
      },
      "outputs": [],
      "source": [
        "BATCH_SIZE = 1026\n",
        "\n",
        "INPUT_SIZE = len(feature_columns)\n",
        "OUTPUT_SIZE = len(target_columns)\n",
        "\n",
        "train_size = int(0.8 * len(dataset))\n",
        "valid_size = len(dataset) - train_size\n",
        "train_dataset, valid_dataset = torch.utils.data.random_split(dataset, [train_size, valid_size])\n",
        "\n",
        "\n",
        "train_loader = DataLoader(train_dataset, batch_size=BATCH_SIZE, shuffle=True)\n",
        "valid_loader = DataLoader(valid_dataset, batch_size=BATCH_SIZE, shuffle=True)"
      ]
    },
    {
      "cell_type": "markdown",
      "id": "5ce04b7c-5e58-4700-8351-8749dab540f6",
      "metadata": {
        "id": "5ce04b7c-5e58-4700-8351-8749dab540f6"
      },
      "source": [
        "### Функция для обучения модели"
      ]
    },
    {
      "cell_type": "code",
      "execution_count": 152,
      "id": "8c92d415-4235-429e-9f8d-c89565ed72b0",
      "metadata": {
        "id": "8c92d415-4235-429e-9f8d-c89565ed72b0"
      },
      "outputs": [],
      "source": [
        "def train_model(model, criterion, optimizer, scheduler, num_epochs=100):\n",
        "\n",
        "    loaders = {\"train\": train_loader, \"valid\": valid_loader}\n",
        "\n",
        "    epochs = num_epochs\n",
        "\n",
        "    lr = []\n",
        "    losses = {\"train\": [], \"valid\": []}\n",
        "    for epoch in tqdm(range(epochs)):\n",
        "\n",
        "        for k, dataloader in loaders.items():\n",
        "            running_loss = []\n",
        "\n",
        "            for x_batch, y_batch in dataloader:\n",
        "                x_batch = x_batch.to(device)\n",
        "                y_batch = y_batch.to(device)\n",
        "\n",
        "                if k == \"train\":\n",
        "                    model.train()\n",
        "                    optimizer.zero_grad()\n",
        "                    outp = model(x_batch)\n",
        "                else:\n",
        "                    model.eval()\n",
        "                    with torch.no_grad():\n",
        "                        outp = model(x_batch)\n",
        "\n",
        "                loss = criterion(outp, y_batch)\n",
        "                running_loss.append(loss.item())\n",
        "\n",
        "                if k == \"train\":\n",
        "\n",
        "                    loss.backward()\n",
        "                    optimizer.step()\n",
        "\n",
        "            if k == \"train\":\n",
        "                lr.append(scheduler.optimizer.param_groups[0]['lr'])\n",
        "            losses[k].append(np.array(running_loss).mean())\n",
        "\n",
        "        scheduler.step(losses[\"train\"][-1])\n",
        "\n",
        "    return model, losses, lr"
      ]
    },
    {
      "cell_type": "code",
      "execution_count": 152,
      "id": "2a4f5ab9-1e67-4548-b1fa-e1e62e3c8a16",
      "metadata": {
        "id": "2a4f5ab9-1e67-4548-b1fa-e1e62e3c8a16"
      },
      "outputs": [],
      "source": []
    },
    {
      "cell_type": "markdown",
      "id": "bcf9ee66-a423-4ec9-bf18-b90e16f20045",
      "metadata": {
        "id": "bcf9ee66-a423-4ec9-bf18-b90e16f20045"
      },
      "source": [
        "### Архитектура нейронной сети"
      ]
    },
    {
      "cell_type": "code",
      "execution_count": 254,
      "id": "93648946-4cca-42ab-962a-9d8b056da8bd",
      "metadata": {
        "id": "93648946-4cca-42ab-962a-9d8b056da8bd"
      },
      "outputs": [],
      "source": [
        "class FCNN(nn.Module):\n",
        "  def __init__(self, hidden_size=512, hidden_num=1):\n",
        "    super(FCNN, self).__init__()\n",
        "    self.hidden_num = hidden_num\n",
        "    self.linear = nn.ModuleList()\n",
        "    self.batchnorm = nn.ModuleList()\n",
        "    self.dropout = nn.ModuleList()\n",
        "    for i in range(self.hidden_num):\n",
        "      if i == 0:\n",
        "        self.linear.append(nn.Linear(INPUT_SIZE, hidden_size))\n",
        "      else:\n",
        "        self.linear.append(nn.Linear(hidden_size, hidden_size))\n",
        "\n",
        "      self.batchnorm.append(nn.BatchNorm1d(hidden_size))\n",
        "      self.dropout.append(nn.Dropout(0.5))\n",
        "      self.out = nn.Linear(hidden_size, OUTPUT_SIZE)\n",
        "\n",
        "  def forward(self, x):\n",
        "    for i in range(self.hidden_num):\n",
        "        x = self.linear[i](x)\n",
        "        # x = self.batchnorm[i](x)\n",
        "\n",
        "        x = F.relu(x)\n",
        "        # if (i != self.hidden_num - 1) and (i != 0):\n",
        "        #   x = self.dropout[i](x)\n",
        "\n",
        "    result = self.out(x)\n",
        "    return result\n",
        "    # return F.log_softmax(result, dim=1)\n",
        "\n",
        "\n",
        "  def _initialize_weights(self):\n",
        "    for layer in self.linear:\n",
        "      nn.init.xavier_uniform_(layer.weight)  # Xavier для скрытых слоев\n",
        "      if layer.bias is not None:\n",
        "        nn.init.zeros_(layer.bias)  # Обнуляем bias\n",
        "\n",
        "      nn.init.xavier_uniform_(self.out.weight)  # Xavier для выходного слоя\n",
        "      if self.out.bias is not None:\n",
        "        nn.init.zeros_(self.out.bias)  # Обнуляем bias"
      ]
    },
    {
      "cell_type": "markdown",
      "id": "bc79d926-5b5a-4024-b3d5-97c26690a28c",
      "metadata": {
        "id": "bc79d926-5b5a-4024-b3d5-97c26690a28c"
      },
      "source": [
        "### Обучение модели"
      ]
    },
    {
      "cell_type": "code",
      "source": [],
      "metadata": {
        "id": "Ix8zrQFViczn"
      },
      "id": "Ix8zrQFViczn",
      "execution_count": 153,
      "outputs": []
    },
    {
      "cell_type": "code",
      "execution_count": 286,
      "id": "38cd521b-6e77-48e7-be08-5801c3a4a2c9",
      "metadata": {
        "colab": {
          "base_uri": "https://localhost:8080/"
        },
        "id": "38cd521b-6e77-48e7-be08-5801c3a4a2c9",
        "outputId": "71cd25c4-28e3-46d9-84c0-16eac6017d54"
      },
      "outputs": [
        {
          "output_type": "stream",
          "name": "stderr",
          "text": [
            "100%|██████████| 3000/3000 [01:34<00:00, 31.91it/s]\n"
          ]
        }
      ],
      "source": [
        "FCNN_64_2 = FCNN(16, 5).to(device)\n",
        "FCNN_64_2._initialize_weights()\n",
        "\n",
        "# criterion = nn.MSELoss()\n",
        "\n",
        "class_weights = torch.tensor([2.0, 2.0, 1.0]).to(device)\n",
        "\n",
        "criterion = nn.CrossEntropyLoss()\n",
        "# criterion = nn.NLLLoss()\n",
        "optimizer = torch.optim.Adam(FCNN_64_2.parameters(), lr=1e-3)\n",
        "# scheduler = lr_scheduler.StepLR(optimizer, step_size=10, gamma=0.1)\n",
        "scheduler = lr_scheduler.ReduceLROnPlateau(optimizer, mode='min', factor=0.3,\n",
        "                                           patience=60, threshold=0.0001)\n",
        "\n",
        "FCNN_64_2, losses_FCNN_64_2, lr_FCNN_64_2 = train_model(\n",
        "    FCNN_64_2, criterion, optimizer,\n",
        "    scheduler, num_epochs=3000)"
      ]
    },
    {
      "cell_type": "code",
      "execution_count": 287,
      "id": "43f11eee-6236-43b2-b528-486652187fff",
      "metadata": {
        "colab": {
          "base_uri": "https://localhost:8080/",
          "height": 450
        },
        "id": "43f11eee-6236-43b2-b528-486652187fff",
        "outputId": "1a934dc3-0fba-4eb4-96ea-39415df3fc73"
      },
      "outputs": [
        {
          "output_type": "display_data",
          "data": {
            "text/plain": [
              "<Figure size 640x480 with 1 Axes>"
            ],
            "image/png": "[encoded data removed]"
          },
          "metadata": {}
        }
      ],
      "source": [
        "plt.plot(losses_FCNN_64_2['train'], label='train');\n",
        "plt.plot(losses_FCNN_64_2['valid'], label='valid');\n",
        "plt.legend();\n",
        "plt.ylabel(\"Ошибка\");\n",
        "plt.xlabel(\"Эпоха обучения\");"
      ]
    },
    {
      "cell_type": "code",
      "execution_count": 288,
      "id": "686bd9b9-32bc-48c0-8e21-4ec3c8632b9e",
      "metadata": {
        "colab": {
          "base_uri": "https://localhost:8080/",
          "height": 430
        },
        "id": "686bd9b9-32bc-48c0-8e21-4ec3c8632b9e",
        "outputId": "7bdee54d-b1cd-46a9-92d3-6ad741fc48cb"
      },
      "outputs": [
        {
          "output_type": "display_data",
          "data": {
            "text/plain": [
              "<Figure size 640x480 with 1 Axes>"
            ],
            "image/png": "[encoded data removed]"
          },
          "metadata": {}
        }
      ],
      "source": [
        "plt.plot(lr_FCNN_64_2);"
      ]
    },
    {
      "cell_type": "code",
      "execution_count": 289,
      "id": "fc7f044c-5472-496a-b13f-d4cc2800b0b1",
      "metadata": {
        "colab": {
          "base_uri": "https://localhost:8080/"
        },
        "id": "fc7f044c-5472-496a-b13f-d4cc2800b0b1",
        "outputId": "7d1a3cf8-d9c0-4309-ebd7-a7825122586d"
      },
      "outputs": [
        {
          "output_type": "stream",
          "name": "stdout",
          "text": [
            "Loss в конце обучения\n",
            "На обучающей выборке: 0.02540\n",
            "На валидационной выборке: 0.03065\n"
          ]
        }
      ],
      "source": [
        "print('Loss в конце обучения')\n",
        "print(f'На обучающей выборке: {losses_FCNN_64_2[\"train\"][-1]:.5f}')\n",
        "print(f'На валидационной выборке: {losses_FCNN_64_2[\"valid\"][-1]:.5f}')"
      ]
    },
    {
      "cell_type": "code",
      "execution_count": null,
      "id": "80bbc3e7-8b35-4c73-ae26-4b7a4e4a4028",
      "metadata": {
        "id": "80bbc3e7-8b35-4c73-ae26-4b7a4e4a4028"
      },
      "outputs": [],
      "source": []
    },
    {
      "cell_type": "code",
      "execution_count": null,
      "id": "578d2ab4-a1ac-49a1-86c5-28a501732f64",
      "metadata": {
        "id": "578d2ab4-a1ac-49a1-86c5-28a501732f64"
      },
      "outputs": [],
      "source": []
    },
    {
      "cell_type": "code",
      "execution_count": 290,
      "id": "f90d02e8-7b3f-45cf-8dd4-bcb291d566e9",
      "metadata": {
        "colab": {
          "base_uri": "https://localhost:8080/"
        },
        "id": "f90d02e8-7b3f-45cf-8dd4-bcb291d566e9",
        "outputId": "09054fa6-7e1a-4df8-dc5d-a631b1ff58b6"
      },
      "outputs": [
        {
          "output_type": "stream",
          "name": "stdout",
          "text": [
            "Истина - full_power_mode >>> partial_power_mode - предсказание\n",
            "Истина - partial_power_mode >>> full_power_mode - предсказание\n",
            "Истина - stopped_state_mode >>> full_power_mode - предсказание\n"
          ]
        }
      ],
      "source": [
        "some_indexes = y_test_resampled.groupby('target').sample(n=1, random_state=42).index\n",
        "X_some_modes = X_test_resampled_scaled.loc[some_indexes]\n",
        "y_some_modes = y_test_resampled.loc[some_indexes]\n",
        "\n",
        "FCNN_64_2.to(\"cpu\")\n",
        "FCNN_64_2.eval()\n",
        "logits = FCNN_64_2(torch.tensor(X_some_modes.values, dtype=torch.float32))\n",
        "predicted_classes = torch.argmax(logits, dim=1)\n",
        "\n",
        "for target, predict in zip(y_some_modes.values, predicted_classes.detach().numpy()):\n",
        "    print(f\"Истина - {target[0]} >>> {encoder.inverse_transform([predict])[0]} - предсказание\")"
      ]
    },
    {
      "cell_type": "code",
      "execution_count": 281,
      "id": "38a7bcbe-4a08-4b9e-9a68-7b8f22f702cc",
      "metadata": {
        "colab": {
          "base_uri": "https://localhost:8080/"
        },
        "id": "38a7bcbe-4a08-4b9e-9a68-7b8f22f702cc",
        "outputId": "63ffc3f4-ea90-4ab8-8519-b4626bade451"
      },
      "outputs": [
        {
          "output_type": "execute_result",
          "data": {
            "text/plain": [
              "tensor([[-0.0070, -0.0017, -0.0151],\n",
              "        [-0.0344,  0.0003, -0.0297],\n",
              "        [-0.1115, -0.0530, -0.0361]], grad_fn=<AddmmBackward0>)"
            ]
          },
          "metadata": {},
          "execution_count": 281
        }
      ],
      "source": [
        "logits"
      ]
    },
    {
      "cell_type": "code",
      "execution_count": 282,
      "id": "957292ee-3ce2-4a89-80fe-660e6f3c4a75",
      "metadata": {
        "colab": {
          "base_uri": "https://localhost:8080/"
        },
        "id": "957292ee-3ce2-4a89-80fe-660e6f3c4a75",
        "outputId": "b3ccd49b-dfb4-4cc4-8d95-f9888b2d1a92"
      },
      "outputs": [
        {
          "output_type": "execute_result",
          "data": {
            "text/plain": [
              "tensor([[0.3336, 0.3354, 0.3310],\n",
              "        [0.3289, 0.3406, 0.3305],\n",
              "        [0.3186, 0.3378, 0.3436]], grad_fn=<SoftmaxBackward0>)"
            ]
          },
          "metadata": {},
          "execution_count": 282
        }
      ],
      "source": [
        "torch.softmax(logits, dim=1)"
      ]
    },
    {
      "cell_type": "markdown",
      "id": "7782244f-f595-46bc-9551-468ca61ea895",
      "metadata": {
        "id": "7782244f-f595-46bc-9551-468ca61ea895"
      },
      "source": [
        "### Анализ качества модели"
      ]
    },
    {
      "cell_type": "code",
      "execution_count": 291,
      "id": "d51ab8b8-ab4f-43b4-be16-405575be8acb",
      "metadata": {
        "id": "d51ab8b8-ab4f-43b4-be16-405575be8acb"
      },
      "outputs": [],
      "source": [
        "FCNN_64_2.eval()\n",
        "logits =  FCNN_64_2(torch.tensor(X_test_resampled_scaled.values, dtype=torch.float32))\n",
        "\n",
        "probabilities = torch.softmax(logits, dim=1)\n",
        "predicted_classes = torch.argmax(probabilities, dim=1)\n",
        "\n",
        "y_test_pred_FCNN_64_2 = encoder.inverse_transform(predicted_classes)"
      ]
    },
    {
      "cell_type": "markdown",
      "id": "f88ba7d5-2e72-4955-b963-d7446059a0d7",
      "metadata": {
        "id": "f88ba7d5-2e72-4955-b963-d7446059a0d7"
      },
      "source": [
        "#### Матрица неточностей"
      ]
    },
    {
      "cell_type": "code",
      "execution_count": 292,
      "id": "aa4f213c-3e2b-454f-8967-49711ac4bc6e",
      "metadata": {
        "colab": {
          "base_uri": "https://localhost:8080/",
          "height": 580
        },
        "id": "aa4f213c-3e2b-454f-8967-49711ac4bc6e",
        "outputId": "1d0f9ec3-7c7f-42d4-b677-f5a5e3ab028d"
      },
      "outputs": [
        {
          "output_type": "display_data",
          "data": {
            "text/plain": [
              "<Figure size 640x480 with 2 Axes>"
            ],
            "image/png": "[encoded data removed]"
          },
          "metadata": {}
        }
      ],
      "source": [
        "conf_mat = confusion_matrix(y_test_resampled, y_test_pred_FCNN_64_2)\n",
        "ConfusionMatrixDisplay(conf_mat, display_labels=encoder.classes_).plot()\n",
        "plt.xticks(rotation=90)\n",
        "plt.show()"
      ]
    },
    {
      "cell_type": "code",
      "execution_count": 188,
      "id": "22bf4921-08b3-4e12-b44f-4e5367b6e17b",
      "metadata": {
        "id": "22bf4921-08b3-4e12-b44f-4e5367b6e17b"
      },
      "outputs": [],
      "source": []
    },
    {
      "cell_type": "code",
      "execution_count": 293,
      "id": "399afcc0-69d3-458b-b3a5-c15679e33243",
      "metadata": {
        "colab": {
          "base_uri": "https://localhost:8080/",
          "height": 580
        },
        "id": "399afcc0-69d3-458b-b3a5-c15679e33243",
        "outputId": "0e847809-b79e-461a-97d5-0d06bed0d6fa"
      },
      "outputs": [
        {
          "output_type": "display_data",
          "data": {
            "text/plain": [
              "<Figure size 640x480 with 2 Axes>"
            ],
            "image/png": "[encoded data removed]"
          },
          "metadata": {}
        }
      ],
      "source": [
        "FCNN_64_2.to(\"cpu\")\n",
        "FCNN_64_2.eval()\n",
        "logits =  FCNN_64_2(torch.tensor(X_train_resampled_scaled.values, dtype=torch.float32))\n",
        "\n",
        "probabilities = torch.softmax(logits, dim=1)\n",
        "predicted_classes = torch.argmax(probabilities, dim=1)\n",
        "\n",
        "y_train_pred_FCNN_64_2 = encoder.inverse_transform(predicted_classes)\n",
        "\n",
        "conf_mat = confusion_matrix(y_train_resampled, y_train_pred_FCNN_64_2)\n",
        "ConfusionMatrixDisplay(conf_mat, display_labels=encoder.classes_).plot()\n",
        "plt.xticks(rotation=90)\n",
        "plt.show()"
      ]
    },
    {
      "cell_type": "code",
      "execution_count": null,
      "id": "459071ef-331f-4848-b247-e94862729ddb",
      "metadata": {
        "id": "459071ef-331f-4848-b247-e94862729ddb"
      },
      "outputs": [],
      "source": []
    },
    {
      "cell_type": "code",
      "execution_count": null,
      "id": "f8c8776a-5c65-4ccf-979a-a5c5f957a93c",
      "metadata": {
        "id": "f8c8776a-5c65-4ccf-979a-a5c5f957a93c"
      },
      "outputs": [],
      "source": []
    },
    {
      "cell_type": "code",
      "execution_count": null,
      "id": "6242f921-5555-474b-b6f6-9e04044fc474",
      "metadata": {
        "id": "6242f921-5555-474b-b6f6-9e04044fc474",
        "outputId": "2e3adee8-9d31-4fea-d10f-7c498ac075f2"
      },
      "outputs": [
        {
          "name": "stderr",
          "output_type": "stream",
          "text": [
            "100%|██████████| 100/100 [00:12<00:00,  7.72it/s]\n"
          ]
        }
      ],
      "source": [
        "FCNN_64_5 = FCNN(26, 7, 64, 5)\n",
        "\n",
        "criterion = nn.MSELoss()\n",
        "optimizer = torch.optim.Adam(FCNN_64_5.parameters(), lr=1e-3)\n",
        "# scheduler = lr_scheduler.StepLR(optimizer, step_size=10, gamma=0.1)\n",
        "scheduler = lr_scheduler.ReduceLROnPlateau(optimizer, mode='min', factor=0.3,\n",
        "                                           patience=3, threshold=0.0001)\n",
        "\n",
        "FCNN_64_5, losses_FCNN_64_5 = train_model(\n",
        "    FCNN_64_5, criterion, optimizer,\n",
        "    scheduler, num_epochs=100)"
      ]
    },
    {
      "cell_type": "code",
      "execution_count": null,
      "id": "7d27a83c-af3d-4cf0-adfb-7e2d5b212075",
      "metadata": {
        "id": "7d27a83c-af3d-4cf0-adfb-7e2d5b212075",
        "outputId": "1be29e64-c755-4cf2-a97b-c75e03c376a0"
      },
      "outputs": [
        {
          "data": {
            "image/png": "[encoded data removed]",
            "text/plain": [
              "<Figure size 640x480 with 1 Axes>"
            ]
          },
          "metadata": {},
          "output_type": "display_data"
        }
      ],
      "source": [
        "plt.plot(losses_FCNN_64_5['train'], label='train');\n",
        "plt.plot(losses_FCNN_64_5['valid'], label='valid');\n",
        "plt.ylabel(\"Среднеквадратичная\\nошибка\");\n",
        "plt.xlabel(\"Эпоха обучения\");"
      ]
    },
    {
      "cell_type": "code",
      "execution_count": null,
      "id": "1296b4a2-5672-42c0-8474-b5429013d685",
      "metadata": {
        "id": "1296b4a2-5672-42c0-8474-b5429013d685",
        "outputId": "e789cb8b-08b4-4a22-fbbe-181a2c304cc0"
      },
      "outputs": [
        {
          "name": "stderr",
          "output_type": "stream",
          "text": [
            "100%|██████████| 100/100 [00:14<00:00,  6.68it/s]\n"
          ]
        }
      ],
      "source": [
        "FCNN_256_2 = FCNN(26, 7, 256, 2)\n",
        "\n",
        "criterion = nn.MSELoss()\n",
        "optimizer = torch.optim.Adam(FCNN_256_2.parameters(), lr=1e-3)\n",
        "# scheduler = lr_scheduler.StepLR(optimizer, step_size=10, gamma=0.1)\n",
        "scheduler = lr_scheduler.ReduceLROnPlateau(optimizer, mode='min', factor=0.3,\n",
        "                                           patience=3, threshold=0.0001)\n",
        "\n",
        "FCNN_256_2, losses_FCNN_256_2 = train_model(\n",
        "    FCNN_256_2, criterion, optimizer,\n",
        "    scheduler, num_epochs=100)"
      ]
    },
    {
      "cell_type": "code",
      "execution_count": null,
      "id": "5062bd15-cff1-40d5-8ad7-301f159da629",
      "metadata": {
        "id": "5062bd15-cff1-40d5-8ad7-301f159da629",
        "outputId": "444be4e2-157b-49fd-e1e4-75a1eaf92a1f"
      },
      "outputs": [
        {
          "ename": "NameError",
          "evalue": "name 'losses_FCNN_256_2' is not defined",
          "output_type": "error",
          "traceback": [
            "\u001b[1;31m---------------------------------------------------------------------------\u001b[0m",
            "\u001b[1;31mNameError\u001b[0m                                 Traceback (most recent call last)",
            "Cell \u001b[1;32mIn[134], line 1\u001b[0m\n\u001b[1;32m----> 1\u001b[0m plt\u001b[38;5;241m.\u001b[39mplot(\u001b[43mlosses_FCNN_256_2\u001b[49m[\u001b[38;5;124m'\u001b[39m\u001b[38;5;124mtrain\u001b[39m\u001b[38;5;124m'\u001b[39m], label\u001b[38;5;241m=\u001b[39m\u001b[38;5;124m'\u001b[39m\u001b[38;5;124mtrain\u001b[39m\u001b[38;5;124m'\u001b[39m);\n\u001b[0;32m      2\u001b[0m plt\u001b[38;5;241m.\u001b[39mplot(losses_FCNN_256_2[\u001b[38;5;124m'\u001b[39m\u001b[38;5;124mvalid\u001b[39m\u001b[38;5;124m'\u001b[39m], label\u001b[38;5;241m=\u001b[39m\u001b[38;5;124m'\u001b[39m\u001b[38;5;124mvalid\u001b[39m\u001b[38;5;124m'\u001b[39m);\n\u001b[0;32m      3\u001b[0m plt\u001b[38;5;241m.\u001b[39mylabel(\u001b[38;5;124m\"\u001b[39m\u001b[38;5;124mСреднеквадратичная\u001b[39m\u001b[38;5;130;01m\\n\u001b[39;00m\u001b[38;5;124mошибка\u001b[39m\u001b[38;5;124m\"\u001b[39m);\n",
            "\u001b[1;31mNameError\u001b[0m: name 'losses_FCNN_256_2' is not defined"
          ]
        }
      ],
      "source": [
        "plt.plot(losses_FCNN_256_2['train'], label='train');\n",
        "plt.plot(losses_FCNN_256_2['valid'], label='valid');\n",
        "plt.ylabel(\"Среднеквадратичная\\nошибка\");\n",
        "plt.xlabel(\"Эпоха обучения\");\n",
        "plt.legend();"
      ]
    },
    {
      "cell_type": "code",
      "execution_count": null,
      "id": "fa97e6b1-24ab-4679-be0f-9645c9b01f29",
      "metadata": {
        "id": "fa97e6b1-24ab-4679-be0f-9645c9b01f29"
      },
      "outputs": [],
      "source": []
    },
    {
      "cell_type": "code",
      "execution_count": null,
      "id": "da4a2950-8feb-4bfe-bcf1-1d5ed3f351d3",
      "metadata": {
        "id": "da4a2950-8feb-4bfe-bcf1-1d5ed3f351d3"
      },
      "outputs": [],
      "source": []
    },
    {
      "cell_type": "code",
      "execution_count": null,
      "id": "89daeeec-05cf-4a49-905d-a6835eb43cb0",
      "metadata": {
        "id": "89daeeec-05cf-4a49-905d-a6835eb43cb0"
      },
      "outputs": [],
      "source": [
        "# y_test_pred = cross_val_predict(FCNN_256_2, torch.tensor(X_test, dtype=torch.float32), y_test, cv=3)\n",
        "# conf_mx = confusion_matrix(y_test, y_train_pred)\n",
        "# conf_mx"
      ]
    },
    {
      "cell_type": "code",
      "execution_count": null,
      "id": "eab6a8a3-2fa3-4392-b45e-41404cd9f181",
      "metadata": {
        "id": "eab6a8a3-2fa3-4392-b45e-41404cd9f181",
        "outputId": "c5f0fcbd-d398-4511-d792-a83af1980ceb"
      },
      "outputs": [
        {
          "data": {
            "text/plain": [
              "array([[-0.21138504,  0.55662423, -0.35919895, ...,  0.38173824,\n",
              "         0.92805023, -0.39852083],\n",
              "       [-0.21380329, -0.50087478,  0.92281509, ...,  0.75502602,\n",
              "         1.03233705,  0.97874579],\n",
              "       [ 1.91535401,  0.55583456,  0.84823309, ...,  0.50466226,\n",
              "        -1.60257995,  0.97874579],\n",
              "       ...,\n",
              "       [-0.2194112 ,  0.409426  ,  0.11006636, ...,  0.24972722,\n",
              "        -1.21506219,  0.15773938],\n",
              "       [-0.21823864,  1.35595022,  0.61681358, ...,  0.41620173,\n",
              "        -0.71802525,  0.69028408],\n",
              "       [-0.2203578 ,  0.5435486 ,  0.5195617 , ...,  0.46310713,\n",
              "        -0.98825485,  0.97874579]])"
            ]
          },
          "execution_count": 146,
          "metadata": {},
          "output_type": "execute_result"
        }
      ],
      "source": []
    },
    {
      "cell_type": "code",
      "execution_count": null,
      "id": "164ebfb4-db93-474e-b05e-30712a1464b4",
      "metadata": {
        "id": "164ebfb4-db93-474e-b05e-30712a1464b4"
      },
      "outputs": [],
      "source": [
        "y_train_pred = FCNN_256_2(torch.tensor(scaler.transform(X_test), dtype=torch.float32)).detach().numpy()"
      ]
    },
    {
      "cell_type": "code",
      "execution_count": null,
      "id": "c5a25f5f-4e73-4826-bb05-a1cd346b274b",
      "metadata": {
        "id": "c5a25f5f-4e73-4826-bb05-a1cd346b274b"
      },
      "outputs": [],
      "source": [
        "y_test = torch.tensor(y_test, dtype=torch.float32).detach().numpy()"
      ]
    },
    {
      "cell_type": "code",
      "execution_count": null,
      "id": "af6f929a-1770-47de-b359-0821a147c975",
      "metadata": {
        "id": "af6f929a-1770-47de-b359-0821a147c975"
      },
      "outputs": [],
      "source": []
    },
    {
      "cell_type": "code",
      "execution_count": null,
      "id": "516010c9-5a34-4140-a4ca-49b2631851ff",
      "metadata": {
        "id": "516010c9-5a34-4140-a4ca-49b2631851ff",
        "outputId": "25299943-7d9f-4208-c534-c5920dc78d5e"
      },
      "outputs": [
        {
          "data": {
            "image/png": "[encoded data removed]",
            "text/plain": [
              "<Figure size 480x480 with 1 Axes>"
            ]
          },
          "metadata": {},
          "output_type": "display_data"
        }
      ],
      "source": [
        "conf_mx = confusion_matrix(y_test.argmax(axis=1), y_train_pred.argmax(axis=1))\n",
        "conf_mx\n",
        "plt.matshow(conf_mx, cmap=plt.cm.gray)\n",
        "plt.show()"
      ]
    },
    {
      "cell_type": "code",
      "execution_count": null,
      "id": "fb9d34cf-b526-4e42-8d99-91f91901a57d",
      "metadata": {
        "id": "fb9d34cf-b526-4e42-8d99-91f91901a57d"
      },
      "outputs": [],
      "source": []
    },
    {
      "cell_type": "code",
      "execution_count": null,
      "id": "31721bf8-aa32-47aa-b5fc-07c743660a77",
      "metadata": {
        "id": "31721bf8-aa32-47aa-b5fc-07c743660a77"
      },
      "outputs": [],
      "source": []
    },
    {
      "cell_type": "code",
      "execution_count": null,
      "id": "2cb7b7d8-93dd-44b0-adad-6c31b05509ad",
      "metadata": {
        "id": "2cb7b7d8-93dd-44b0-adad-6c31b05509ad"
      },
      "outputs": [],
      "source": []
    },
    {
      "cell_type": "code",
      "execution_count": null,
      "id": "87a61d73-c073-42de-ab2b-8798bb328b36",
      "metadata": {
        "id": "87a61d73-c073-42de-ab2b-8798bb328b36"
      },
      "outputs": [],
      "source": [
        "!pip install shap\n",
        "\n",
        "import shap\n",
        "\n",
        "explainer = shap.Explainer(lambda x: FCNN_64_2(torch.tensor(x.values, dtype=torch.float32)), X_train_resampled_scaled)\n",
        "shap_values = explainer(X_test_resampled_scaled)\n",
        "\n",
        "shap.summary_plot(shap_values, X_test_resampled_scaled, class_names=target_columns)"
      ]
    }
  ],
  "metadata": {
    "kernelspec": {
      "display_name": "Python 3",
      "name": "python3"
    },
    "language_info": {
      "codemirror_mode": {
        "name": "ipython",
        "version": 3
      },
      "file_extension": ".py",
      "mimetype": "text/x-python",
      "name": "python",
      "nbconvert_exporter": "python",
      "pygments_lexer": "ipython3",
      "version": "3.12.4"
    },
    "colab": {
      "provenance": [],
      "gpuType": "T4",
      "include_colab_link": true
    },
    "accelerator": "GPU"
  },
  "nbformat": 4,
  "nbformat_minor": 5
}