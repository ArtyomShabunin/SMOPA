{
  "cells": [
    {
      "cell_type": "markdown",
      "metadata": {
        "id": "view-in-github",
        "colab_type": "text"
      },
      "source": [
        "<a href=\"https://colab.research.google.com/github/ArtyomShabunin/SMOPA/blob/main/lesson_5.ipynb\" target=\"_parent\"><img src=\"https://colab.research.google.com/assets/colab-badge.svg\" alt=\"Open In Colab\"/></a>"
      ]
    },
    {
      "cell_type": "markdown",
      "metadata": {
        "id": "JvMBE87edRkv"
      },
      "source": [
        "<img src=\"https://prana-system.com/files/110/rds_color_full.png\" alt=\"tot image\" width=\"300\"  align=\"center\"/> &nbsp;&nbsp;&nbsp;&nbsp;&nbsp;&nbsp;&nbsp;&nbsp;\n",
        "<img src=\"https://mpei.ru/AboutUniverse/OficialInfo/Attributes/PublishingImages/logo1.jpg\" alt=\"mpei image\" width=\"200\" align=\"center\"/>\n",
        "<img src=\"https://mpei.ru/Structure/Universe/tanpe/structure/tfhe/PublishingImages/tot.png\" alt=\"tot image\" width=\"100\"  align=\"center\"/>\n",
        "\n",
        "---\n",
        "\n",
        "# **Системы машинного обучения и предиктивной аналитики в тепловой и возобновляемой энергетике**  \n",
        "\n",
        "# ***Практические занятия***\n",
        "\n",
        "\n",
        "---"
      ]
    },
    {
      "cell_type": "markdown",
      "metadata": {
        "id": "DdL0cbjLdRk1"
      },
      "source": [
        "# Занятие №5\n",
        "# Разметка данных для решения задачи классификации.\n",
        "**19 марта 2025г.**"
      ]
    },
    {
      "cell_type": "markdown",
      "metadata": {
        "id": "-vzIrMfNdRk2"
      },
      "source": [
        "Методы детекции анномалий оценивают отклонение от нормального многообразия. Но такая оценка не дает информации о том, какие действия следует предпринять. Задача классификации позволяет определить к какому из заранее определенного класса анномалий отнести конкретную анномалии, что в свою очередь позволяет принять адекватное решение."
      ]
    },
    {
      "cell_type": "code",
      "execution_count": null,
      "metadata": {
        "id": "S0_BWxQ8dRk2",
        "outputId": "d2ab436e-3132-4d9e-adc2-0bb21110e631"
      },
      "outputs": [
        {
          "name": "stdout",
          "output_type": "stream",
          "text": [
            "Requirement already satisfied: plotly-resampler in c:\\users\\a.shabunin\\.conda\\envs\\smopa_25\\lib\\site-packages (0.10.0)\n",
            "Requirement already satisfied: dash>=2.9.0 in c:\\users\\a.shabunin\\.conda\\envs\\smopa_25\\lib\\site-packages (from plotly-resampler) (2.18.2)\n",
            "Requirement already satisfied: numpy>=1.24 in c:\\users\\a.shabunin\\.conda\\envs\\smopa_25\\lib\\site-packages (from plotly-resampler) (2.1.3)\n",
            "Requirement already satisfied: orjson<4.0.0,>=3.8.0 in c:\\users\\a.shabunin\\.conda\\envs\\smopa_25\\lib\\site-packages (from plotly-resampler) (3.10.15)\n",
            "Requirement already satisfied: pandas>=1 in c:\\users\\a.shabunin\\.conda\\envs\\smopa_25\\lib\\site-packages (from plotly-resampler) (2.2.3)\n",
            "Requirement already satisfied: plotly<6.0.0,>=5.5.0 in c:\\users\\a.shabunin\\.conda\\envs\\smopa_25\\lib\\site-packages (from plotly-resampler) (5.24.1)\n",
            "Requirement already satisfied: tsdownsample>=0.1.3 in c:\\users\\a.shabunin\\.conda\\envs\\smopa_25\\lib\\site-packages (from plotly-resampler) (0.1.4.1)\n",
            "Requirement already satisfied: flask>=1.0.4 in c:\\users\\a.shabunin\\.conda\\envs\\smopa_25\\lib\\site-packages (from dash>=2.9.0->plotly-resampler) (3.1.0)\n",
            "Requirement already satisfied: werkzeug in c:\\users\\a.shabunin\\.conda\\envs\\smopa_25\\lib\\site-packages (from dash>=2.9.0->plotly-resampler) (3.1.3)\n",
            "Requirement already satisfied: dash_html_components==2.0.0 in c:\\users\\a.shabunin\\.conda\\envs\\smopa_25\\lib\\site-packages (from dash>=2.9.0->plotly-resampler) (2.0.0)\n",
            "Requirement already satisfied: dash_core_components==2.0.0 in c:\\users\\a.shabunin\\.conda\\envs\\smopa_25\\lib\\site-packages (from dash>=2.9.0->plotly-resampler) (2.0.0)\n",
            "Requirement already satisfied: dash_table==5.0.0 in c:\\users\\a.shabunin\\.conda\\envs\\smopa_25\\lib\\site-packages (from dash>=2.9.0->plotly-resampler) (5.0.0)\n",
            "Requirement already satisfied: importlib-metadata in c:\\users\\a.shabunin\\.conda\\envs\\smopa_25\\lib\\site-packages (from dash>=2.9.0->plotly-resampler) (8.6.1)\n",
            "Requirement already satisfied: typing_extensions>=4.1.1 in c:\\users\\a.shabunin\\.conda\\envs\\smopa_25\\lib\\site-packages (from dash>=2.9.0->plotly-resampler) (4.12.2)\n",
            "Requirement already satisfied: requests in c:\\users\\a.shabunin\\.conda\\envs\\smopa_25\\lib\\site-packages (from dash>=2.9.0->plotly-resampler) (2.32.3)\n",
            "Requirement already satisfied: retrying in c:\\users\\a.shabunin\\.conda\\envs\\smopa_25\\lib\\site-packages (from dash>=2.9.0->plotly-resampler) (1.3.3)\n",
            "Requirement already satisfied: nest-asyncio in c:\\users\\a.shabunin\\.conda\\envs\\smopa_25\\lib\\site-packages (from dash>=2.9.0->plotly-resampler) (1.6.0)\n",
            "Requirement already satisfied: setuptools in c:\\users\\a.shabunin\\.conda\\envs\\smopa_25\\lib\\site-packages (from dash>=2.9.0->plotly-resampler) (75.8.0)\n",
            "Requirement already satisfied: python-dateutil>=2.8.2 in c:\\users\\a.shabunin\\.conda\\envs\\smopa_25\\lib\\site-packages (from pandas>=1->plotly-resampler) (2.9.0.post0)\n",
            "Requirement already satisfied: pytz>=2020.1 in c:\\users\\a.shabunin\\.conda\\envs\\smopa_25\\lib\\site-packages (from pandas>=1->plotly-resampler) (2024.1)\n",
            "Requirement already satisfied: tzdata>=2022.7 in c:\\users\\a.shabunin\\.conda\\envs\\smopa_25\\lib\\site-packages (from pandas>=1->plotly-resampler) (2025.1)\n",
            "Requirement already satisfied: tenacity>=6.2.0 in c:\\users\\a.shabunin\\.conda\\envs\\smopa_25\\lib\\site-packages (from plotly<6.0.0,>=5.5.0->plotly-resampler) (9.0.0)\n",
            "Requirement already satisfied: packaging in c:\\users\\a.shabunin\\appdata\\roaming\\python\\python312\\site-packages (from plotly<6.0.0,>=5.5.0->plotly-resampler) (24.1)\n",
            "Requirement already satisfied: Jinja2>=3.1.2 in c:\\users\\a.shabunin\\.conda\\envs\\smopa_25\\lib\\site-packages (from flask>=1.0.4->dash>=2.9.0->plotly-resampler) (3.1.5)\n",
            "Requirement already satisfied: itsdangerous>=2.2 in c:\\users\\a.shabunin\\.conda\\envs\\smopa_25\\lib\\site-packages (from flask>=1.0.4->dash>=2.9.0->plotly-resampler) (2.2.0)\n",
            "Requirement already satisfied: click>=8.1.3 in c:\\users\\a.shabunin\\appdata\\roaming\\python\\python312\\site-packages (from flask>=1.0.4->dash>=2.9.0->plotly-resampler) (8.1.7)\n",
            "Requirement already satisfied: blinker>=1.9 in c:\\users\\a.shabunin\\.conda\\envs\\smopa_25\\lib\\site-packages (from flask>=1.0.4->dash>=2.9.0->plotly-resampler) (1.9.0)\n",
            "Requirement already satisfied: six>=1.5 in c:\\users\\a.shabunin\\.conda\\envs\\smopa_25\\lib\\site-packages (from python-dateutil>=2.8.2->pandas>=1->plotly-resampler) (1.17.0)\n",
            "Requirement already satisfied: MarkupSafe>=2.1.1 in c:\\users\\a.shabunin\\.conda\\envs\\smopa_25\\lib\\site-packages (from werkzeug->dash>=2.9.0->plotly-resampler) (3.0.2)\n",
            "Requirement already satisfied: zipp>=3.20 in c:\\users\\a.shabunin\\.conda\\envs\\smopa_25\\lib\\site-packages (from importlib-metadata->dash>=2.9.0->plotly-resampler) (3.21.0)\n",
            "Requirement already satisfied: charset_normalizer<4,>=2 in c:\\users\\a.shabunin\\.conda\\envs\\smopa_25\\lib\\site-packages (from requests->dash>=2.9.0->plotly-resampler) (3.4.1)\n",
            "Requirement already satisfied: idna<4,>=2.5 in c:\\users\\a.shabunin\\.conda\\envs\\smopa_25\\lib\\site-packages (from requests->dash>=2.9.0->plotly-resampler) (3.10)\n",
            "Requirement already satisfied: urllib3<3,>=1.21.1 in c:\\users\\a.shabunin\\.conda\\envs\\smopa_25\\lib\\site-packages (from requests->dash>=2.9.0->plotly-resampler) (2.3.0)\n",
            "Requirement already satisfied: certifi>=2017.4.17 in c:\\users\\a.shabunin\\.conda\\envs\\smopa_25\\lib\\site-packages (from requests->dash>=2.9.0->plotly-resampler) (2025.1.31)\n",
            "Requirement already satisfied: colorama in c:\\users\\a.shabunin\\appdata\\roaming\\python\\python312\\site-packages (from click>=8.1.3->flask>=1.0.4->dash>=2.9.0->plotly-resampler) (0.4.6)\n",
            "Note: you may need to restart the kernel to use updated packages.\n"
          ]
        }
      ],
      "source": [
        "pip install --upgrade plotly-resampler"
      ]
    },
    {
      "cell_type": "code",
      "execution_count": null,
      "metadata": {
        "id": "QiKkUfMMdRk4"
      },
      "outputs": [],
      "source": [
        "import pandas as pd\n",
        "import numpy as np\n",
        "import matplotlib.pyplot as plt\n",
        "%matplotlib inline\n",
        "import seaborn as sns\n",
        "sns.set_theme(rc={'figure.figsize':(15,5)})\n",
        "from sklearn import preprocessing\n",
        "from sklearn.model_selection import train_test_split\n",
        "from sklearn.svm import OneClassSVM\n",
        "from sklearn.cluster import KMeans\n",
        "import torch\n",
        "import torch.nn as nn\n",
        "import torch.nn.functional as F\n",
        "from tqdm import tqdm\n",
        "import glob\n",
        "import json\n",
        "\n",
        "import ipywidgets as widgets\n",
        "from IPython.display import display, clear_output\n",
        "import plotly.graph_objects as go\n",
        "import plotly.express as px\n",
        "from plotly.subplots import make_subplots\n",
        "from plotly_resampler import FigureResampler, FigureWidgetResampler\n",
        "\n",
        "from plotly_resampler import register_plotly_resampler, unregister_plotly_resampler\n",
        "\n",
        "pd.options.mode.chained_assignment = None\n",
        "\n",
        "import warnings\n",
        "warnings.filterwarnings('ignore')"
      ]
    },
    {
      "cell_type": "code",
      "execution_count": null,
      "metadata": {
        "id": "bJ-fiStPdRk5"
      },
      "outputs": [],
      "source": [
        "register_plotly_resampler(mode=\"auto\", default_n_shown_samples=10000)"
      ]
    },
    {
      "cell_type": "code",
      "execution_count": null,
      "metadata": {
        "id": "Aee_XSs3dRk5"
      },
      "outputs": [],
      "source": [
        "plot_layout = go.Layout(\n",
        "    autosize=False,\n",
        "    width=1000,\n",
        "    height=400,\n",
        "    # xaxis=go.layout.XAxis(linecolor=\"black\", linewidth=1, mirror=True),\n",
        "    # yaxis=go.layout.YAxis(linecolor=\"black\", linewidth=1, mirror=True),\n",
        "    margin=go.layout.Margin(l=50, r=50, b=10, t=40, pad=4),\n",
        "    showlegend = True\n",
        ")"
      ]
    },
    {
      "cell_type": "markdown",
      "metadata": {
        "id": "5ZgSm7bsdRk6"
      },
      "source": [
        "Вспомогательные функции"
      ]
    },
    {
      "cell_type": "code",
      "execution_count": null,
      "metadata": {
        "id": "5X8lmWWldRk6"
      },
      "outputs": [],
      "source": [
        "def plot_graph():\n",
        "\n",
        "    params_dropdown = widgets.Dropdown(\n",
        "        options=description_to_kks.keys(),\n",
        "        description='Сигнал',\n",
        "        disabled=False,\n",
        "        value=None\n",
        "    )\n",
        "\n",
        "    display(params_dropdown)\n",
        "    out = widgets.Output()\n",
        "    display(out)\n",
        "\n",
        "    fig = go.Figure(layout=plot_layout)\n",
        "\n",
        "    @out.capture()\n",
        "    def params_dropdown_eventhandler(change):\n",
        "\n",
        "        kks = description_to_kks[change.new]\n",
        "        fig.add_traces(\n",
        "            [\n",
        "                {\"x\": data[kks].index, \"y\": data[kks].values, \"name\": kks, \"type\": \"scattergl\"},\n",
        "            ],\n",
        "        )\n",
        "\n",
        "        clear_output()\n",
        "        display(fig)\n",
        "\n",
        "    params_dropdown.observe(params_dropdown_eventhandler, names='value')"
      ]
    },
    {
      "cell_type": "code",
      "execution_count": null,
      "metadata": {
        "id": "J02oiZ9DdRk7"
      },
      "outputs": [],
      "source": [
        "def search_widget():\n",
        "    search_input = widgets.Text(placeholder=\"Введите текст для поиска\")\n",
        "    output = widgets.Output()\n",
        "\n",
        "    def on_text_change(change):\n",
        "        with output:\n",
        "            output.clear_output()\n",
        "            query = change[\"new\"].lower()\n",
        "            filtered_items = [f'{item} - {description_to_kks[item]}' for item in description_to_kks.keys() if query in item.lower()]\n",
        "            display(filtered_items if filtered_items else \"Нет совпадений\")\n",
        "\n",
        "    search_input.observe(on_text_change, names='value')\n",
        "    display(search_input, output)\n"
      ]
    },
    {
      "cell_type": "markdown",
      "metadata": {
        "id": "DatQS8p4dRk7"
      },
      "source": [
        "### Загрузка данных"
      ]
    },
    {
      "cell_type": "code",
      "execution_count": null,
      "metadata": {
        "id": "2E6W3mYWdRk8"
      },
      "outputs": [],
      "source": [
        "# import gdown\n",
        "# url = \"https://drive.google.com/drive/folders/1RtrAevJUYSgTbp0YUztxEBB8_VcvjgGH?usp=drive_link\"\n",
        "# gdown.download_folder(url, quiet=True, verify=False)"
      ]
    },
    {
      "cell_type": "code",
      "execution_count": null,
      "metadata": {
        "id": "f971bkDIdRk8"
      },
      "outputs": [],
      "source": [
        "parquetFileList = glob.glob(f'./option_0/*.gzip')"
      ]
    },
    {
      "cell_type": "code",
      "execution_count": null,
      "metadata": {
        "id": "4BQKO0iSdRk8",
        "outputId": "8f36ed17-87ef-4725-c7f4-1cff826dad9f"
      },
      "outputs": [
        {
          "data": {
            "text/plain": [
              "['./option_0\\\\file_0.gzip',\n",
              " './option_0\\\\file_1.gzip',\n",
              " './option_0\\\\file_2.gzip',\n",
              " './option_0\\\\file_3.gzip',\n",
              " './option_0\\\\file_4.gzip',\n",
              " './option_0\\\\file_5.gzip',\n",
              " './option_0\\\\file_6.gzip',\n",
              " './option_0\\\\file_7.gzip']"
            ]
          },
          "execution_count": 9,
          "metadata": {},
          "output_type": "execute_result"
        }
      ],
      "source": [
        "parquetFileList"
      ]
    },
    {
      "cell_type": "markdown",
      "metadata": {
        "id": "KqrCSh2ddRk8"
      },
      "source": [
        "Читаем все файлы и объединяем их в общий DataFrame"
      ]
    },
    {
      "cell_type": "code",
      "execution_count": null,
      "metadata": {
        "id": "ems7AZcidRk9",
        "outputId": "b9bbab66-f585-4dcd-8255-22a12a25ec5d"
      },
      "outputs": [
        {
          "name": "stderr",
          "output_type": "stream",
          "text": [
            "100%|████████████████████████████████████████████████████████████████████████████████████| 8/8 [00:01<00:00,  5.78it/s]\n"
          ]
        }
      ],
      "source": [
        "df_list = []\n",
        "\n",
        "for file in tqdm(parquetFileList):\n",
        "    df = pd.read_parquet(file)\n",
        "    df_list.append(df)\n",
        "\n",
        "data = pd.concat(df_list, axis=0).sort_index().ffill().drop_duplicates()\n",
        "data = data.dropna()"
      ]
    },
    {
      "cell_type": "code",
      "execution_count": null,
      "metadata": {
        "id": "Wpd5TuKUdRk9",
        "outputId": "fe532f03-e938-4a02-a23f-7a5c0dc7002d"
      },
      "outputs": [
        {
          "name": "stdout",
          "output_type": "stream",
          "text": [
            "Размерность датасета: 1082098 строк и 31 столбцов\n"
          ]
        }
      ],
      "source": [
        "print(f\"Размерность датасета: {data.shape[0]} строк и {data.shape[1]} столбцов\")"
      ]
    },
    {
      "cell_type": "code",
      "execution_count": null,
      "metadata": {
        "id": "WXGk-CYfdRk9",
        "outputId": "556849a9-1e36-45b3-b85b-4794d39f6467"
      },
      "outputs": [
        {
          "data": {
            "text/html": [
              "<div>\n",
              "<style scoped>\n",
              "    .dataframe tbody tr th:only-of-type {\n",
              "        vertical-align: middle;\n",
              "    }\n",
              "\n",
              "    .dataframe tbody tr th {\n",
              "        vertical-align: top;\n",
              "    }\n",
              "\n",
              "    .dataframe thead th {\n",
              "        text-align: right;\n",
              "    }\n",
              "</style>\n",
              "<table border=\"1\" class=\"dataframe\">\n",
              "  <thead>\n",
              "    <tr style=\"text-align: right;\">\n",
              "      <th></th>\n",
              "      <th>GTA1.DBinPU.Aldi</th>\n",
              "      <th>GTA1.DBinPU.Alvna</th>\n",
              "      <th>GTA1.DBinPU.Alzzo</th>\n",
              "      <th>GTA1.DBinPU.Bo</th>\n",
              "      <th>GTA1.DBinPU.DlPkf</th>\n",
              "      <th>GTA1.DBinPU.DlPtgft</th>\n",
              "      <th>GTA1.DBinPU.DlPvf</th>\n",
              "      <th>GTA1.DBinPU.fi</th>\n",
              "      <th>GTA1.DBinPU.hmGTD</th>\n",
              "      <th>GTA1.DBinPU.hmTG</th>\n",
              "      <th>...</th>\n",
              "      <th>GTA1.DBinPU.Ptgpd</th>\n",
              "      <th>GTA1.DBinPU.Ptgvh</th>\n",
              "      <th>GTA1.DBinPU.Pvh</th>\n",
              "      <th>GTA1.DBinPU.Pvyhlg</th>\n",
              "      <th>GTA1.DBinPU.Qtg</th>\n",
              "      <th>GTA1.DBinPU.Tk</th>\n",
              "      <th>GTA1.DBinPU.Tn</th>\n",
              "      <th>GTA1.DBinPU.Tt</th>\n",
              "      <th>GTA1.DBinPU.Tvh1</th>\n",
              "      <th>GTA1.DBinPU.Pzad</th>\n",
              "    </tr>\n",
              "  </thead>\n",
              "  <tbody>\n",
              "    <tr>\n",
              "      <th>2023-02-26 06:59:50</th>\n",
              "      <td>225.550000</td>\n",
              "      <td>-4.398000</td>\n",
              "      <td>-0.082000</td>\n",
              "      <td>101.044</td>\n",
              "      <td>113.088000</td>\n",
              "      <td>33.709000</td>\n",
              "      <td>0.200000</td>\n",
              "      <td>56.615000</td>\n",
              "      <td>442.64</td>\n",
              "      <td>444.536</td>\n",
              "      <td>...</td>\n",
              "      <td>1.834</td>\n",
              "      <td>1.921</td>\n",
              "      <td>91.455</td>\n",
              "      <td>0.667000</td>\n",
              "      <td>1794.35</td>\n",
              "      <td>263.600000</td>\n",
              "      <td>-10.524</td>\n",
              "      <td>418.80</td>\n",
              "      <td>-12.567</td>\n",
              "      <td>5850.0</td>\n",
              "    </tr>\n",
              "    <tr>\n",
              "      <th>2023-02-26 07:00:00</th>\n",
              "      <td>225.610769</td>\n",
              "      <td>-4.327115</td>\n",
              "      <td>-0.089769</td>\n",
              "      <td>101.044</td>\n",
              "      <td>113.151231</td>\n",
              "      <td>33.709000</td>\n",
              "      <td>0.200000</td>\n",
              "      <td>56.615000</td>\n",
              "      <td>442.64</td>\n",
              "      <td>444.536</td>\n",
              "      <td>...</td>\n",
              "      <td>1.834</td>\n",
              "      <td>1.921</td>\n",
              "      <td>91.455</td>\n",
              "      <td>0.665038</td>\n",
              "      <td>1794.35</td>\n",
              "      <td>263.600000</td>\n",
              "      <td>-10.524</td>\n",
              "      <td>418.80</td>\n",
              "      <td>-12.567</td>\n",
              "      <td>5850.0</td>\n",
              "    </tr>\n",
              "    <tr>\n",
              "      <th>2023-02-26 07:00:10</th>\n",
              "      <td>225.436897</td>\n",
              "      <td>-4.363724</td>\n",
              "      <td>-0.091000</td>\n",
              "      <td>101.044</td>\n",
              "      <td>113.039759</td>\n",
              "      <td>33.633586</td>\n",
              "      <td>0.200207</td>\n",
              "      <td>56.516103</td>\n",
              "      <td>442.64</td>\n",
              "      <td>444.536</td>\n",
              "      <td>...</td>\n",
              "      <td>1.834</td>\n",
              "      <td>1.921</td>\n",
              "      <td>91.455</td>\n",
              "      <td>0.667276</td>\n",
              "      <td>1794.35</td>\n",
              "      <td>263.600000</td>\n",
              "      <td>-10.524</td>\n",
              "      <td>418.80</td>\n",
              "      <td>-12.567</td>\n",
              "      <td>5850.0</td>\n",
              "    </tr>\n",
              "    <tr>\n",
              "      <th>2023-02-26 07:00:20</th>\n",
              "      <td>225.710833</td>\n",
              "      <td>-4.306625</td>\n",
              "      <td>-0.093000</td>\n",
              "      <td>101.044</td>\n",
              "      <td>113.053458</td>\n",
              "      <td>33.506500</td>\n",
              "      <td>0.200750</td>\n",
              "      <td>56.376000</td>\n",
              "      <td>442.64</td>\n",
              "      <td>444.536</td>\n",
              "      <td>...</td>\n",
              "      <td>1.834</td>\n",
              "      <td>1.921</td>\n",
              "      <td>91.455</td>\n",
              "      <td>0.667250</td>\n",
              "      <td>1794.35</td>\n",
              "      <td>263.600000</td>\n",
              "      <td>-10.524</td>\n",
              "      <td>418.80</td>\n",
              "      <td>-12.567</td>\n",
              "      <td>5850.0</td>\n",
              "    </tr>\n",
              "    <tr>\n",
              "      <th>2023-02-26 07:00:30</th>\n",
              "      <td>226.355000</td>\n",
              "      <td>-4.183118</td>\n",
              "      <td>-0.091500</td>\n",
              "      <td>101.044</td>\n",
              "      <td>113.730941</td>\n",
              "      <td>33.818529</td>\n",
              "      <td>0.200000</td>\n",
              "      <td>56.199353</td>\n",
              "      <td>442.64</td>\n",
              "      <td>444.536</td>\n",
              "      <td>...</td>\n",
              "      <td>1.834</td>\n",
              "      <td>1.921</td>\n",
              "      <td>91.455</td>\n",
              "      <td>0.676706</td>\n",
              "      <td>1800.56</td>\n",
              "      <td>263.723529</td>\n",
              "      <td>-10.524</td>\n",
              "      <td>418.85</td>\n",
              "      <td>-12.567</td>\n",
              "      <td>5850.0</td>\n",
              "    </tr>\n",
              "  </tbody>\n",
              "</table>\n",
              "<p>5 rows × 31 columns</p>\n",
              "</div>"
            ],
            "text/plain": [
              "                     GTA1.DBinPU.Aldi  GTA1.DBinPU.Alvna  GTA1.DBinPU.Alzzo  \\\n",
              "2023-02-26 06:59:50        225.550000          -4.398000          -0.082000   \n",
              "2023-02-26 07:00:00        225.610769          -4.327115          -0.089769   \n",
              "2023-02-26 07:00:10        225.436897          -4.363724          -0.091000   \n",
              "2023-02-26 07:00:20        225.710833          -4.306625          -0.093000   \n",
              "2023-02-26 07:00:30        226.355000          -4.183118          -0.091500   \n",
              "\n",
              "                     GTA1.DBinPU.Bo  GTA1.DBinPU.DlPkf  GTA1.DBinPU.DlPtgft  \\\n",
              "2023-02-26 06:59:50         101.044         113.088000            33.709000   \n",
              "2023-02-26 07:00:00         101.044         113.151231            33.709000   \n",
              "2023-02-26 07:00:10         101.044         113.039759            33.633586   \n",
              "2023-02-26 07:00:20         101.044         113.053458            33.506500   \n",
              "2023-02-26 07:00:30         101.044         113.730941            33.818529   \n",
              "\n",
              "                     GTA1.DBinPU.DlPvf  GTA1.DBinPU.fi  GTA1.DBinPU.hmGTD  \\\n",
              "2023-02-26 06:59:50           0.200000       56.615000             442.64   \n",
              "2023-02-26 07:00:00           0.200000       56.615000             442.64   \n",
              "2023-02-26 07:00:10           0.200207       56.516103             442.64   \n",
              "2023-02-26 07:00:20           0.200750       56.376000             442.64   \n",
              "2023-02-26 07:00:30           0.200000       56.199353             442.64   \n",
              "\n",
              "                     GTA1.DBinPU.hmTG  ...  GTA1.DBinPU.Ptgpd  \\\n",
              "2023-02-26 06:59:50           444.536  ...              1.834   \n",
              "2023-02-26 07:00:00           444.536  ...              1.834   \n",
              "2023-02-26 07:00:10           444.536  ...              1.834   \n",
              "2023-02-26 07:00:20           444.536  ...              1.834   \n",
              "2023-02-26 07:00:30           444.536  ...              1.834   \n",
              "\n",
              "                     GTA1.DBinPU.Ptgvh  GTA1.DBinPU.Pvh  GTA1.DBinPU.Pvyhlg  \\\n",
              "2023-02-26 06:59:50              1.921           91.455            0.667000   \n",
              "2023-02-26 07:00:00              1.921           91.455            0.665038   \n",
              "2023-02-26 07:00:10              1.921           91.455            0.667276   \n",
              "2023-02-26 07:00:20              1.921           91.455            0.667250   \n",
              "2023-02-26 07:00:30              1.921           91.455            0.676706   \n",
              "\n",
              "                     GTA1.DBinPU.Qtg  GTA1.DBinPU.Tk  GTA1.DBinPU.Tn  \\\n",
              "2023-02-26 06:59:50          1794.35      263.600000         -10.524   \n",
              "2023-02-26 07:00:00          1794.35      263.600000         -10.524   \n",
              "2023-02-26 07:00:10          1794.35      263.600000         -10.524   \n",
              "2023-02-26 07:00:20          1794.35      263.600000         -10.524   \n",
              "2023-02-26 07:00:30          1800.56      263.723529         -10.524   \n",
              "\n",
              "                     GTA1.DBinPU.Tt  GTA1.DBinPU.Tvh1  GTA1.DBinPU.Pzad  \n",
              "2023-02-26 06:59:50          418.80           -12.567            5850.0  \n",
              "2023-02-26 07:00:00          418.80           -12.567            5850.0  \n",
              "2023-02-26 07:00:10          418.80           -12.567            5850.0  \n",
              "2023-02-26 07:00:20          418.80           -12.567            5850.0  \n",
              "2023-02-26 07:00:30          418.85           -12.567            5850.0  \n",
              "\n",
              "[5 rows x 31 columns]"
            ]
          },
          "execution_count": 12,
          "metadata": {},
          "output_type": "execute_result"
        }
      ],
      "source": [
        "data.head()"
      ]
    },
    {
      "cell_type": "markdown",
      "metadata": {
        "id": "Sd6H7_yidRk9"
      },
      "source": [
        "Чтение файла с описанием сигналов"
      ]
    },
    {
      "cell_type": "code",
      "execution_count": null,
      "metadata": {
        "id": "zo7A6uzkdRk-"
      },
      "outputs": [],
      "source": [
        "with open(f'./option_0/description.json', 'r', encoding = \"utf-8\") as f:\n",
        "    description = json.load(f)"
      ]
    },
    {
      "cell_type": "markdown",
      "metadata": {
        "id": "Buuj-6tUdRk-"
      },
      "source": [
        "Составим словарь для трактовки наименований сигналов"
      ]
    },
    {
      "cell_type": "code",
      "execution_count": null,
      "metadata": {
        "id": "9aMoRhfTdRk-"
      },
      "outputs": [],
      "source": [
        "kks_to_description = {param['real_kks']: f\"{param['description']}, [{param['unit']}]\"\n",
        "for param in description if param['real_kks'] in data.columns}\n",
        "\n",
        "description_to_kks = { f\"{param['description']}, [{param['unit']}]\": param['real_kks']\n",
        "for param in description if param['real_kks'] in data.columns}"
      ]
    },
    {
      "cell_type": "code",
      "execution_count": null,
      "metadata": {
        "id": "kPIkxjnudRk-"
      },
      "outputs": [],
      "source": [
        "# df[['GTA1.DBinPU.P', 'GTA1.DBinPU.nst']].plot(backend=\"plotly\")"
      ]
    },
    {
      "cell_type": "markdown",
      "metadata": {
        "id": "VhQKR71wdRk-"
      },
      "source": [
        "### Разметка данных\n",
        "\n",
        "На практике размеченные наборы данных очень сложно создавать из-за редкости анномальных наблюдений, ограниченного количества экспертов, которые могут выполнять разметку, и других факторов.\n",
        "\n",
        "Чтобы не упираться в ограничения связанные с отсутствием данных по неисправному состоянию агрегата, заменим задачу класификации дефектов на задачу класификации эксплуатационных режимов.\n",
        "\n",
        "#### **Классы режимов для ГТУ:**\n",
        "* пусковой режим\n",
        "* режим останова\n",
        "* режим 100% (по положению ВНА)\n",
        "* режим пониженной нагрузки\n",
        "* режим изменения нагрузки\n",
        "* система подогрева воздуха включена\n",
        "* система подогрева воздуха отключена"
      ]
    },
    {
      "cell_type": "markdown",
      "metadata": {
        "id": "C-tbg4tTdRk-"
      },
      "source": [
        "### Классификация на основе правил\n",
        "\n",
        "**Разработка математических моделей на основе экспертных знаний** – это методология, при которой модель строится не на основании больших массивов данных и машинного обучения, а на основе знаний экспертов и формализованных правил. Такой подход часто используется, когда:  \n",
        "\n",
        "1. **Недостаточно данных** – например, аварийные или нештатные режимы редки, и обучить нейросеть на таких примерах сложно.  \n",
        "2. **Высокие требования к интерпретируемости** – правила, основанные на экспертных знаниях, прозрачны и объяснимы, в отличие от \"черного ящика\" нейросетей.  \n",
        "3. **Доменная специфика** – эксперты могут использовать накопленный опыт для явного кодирования физических и логических зависимостей.  \n",
        "  \n",
        "\n",
        "Задача классификации эксплуатационных режимов может быть решена как с помощью машинного обучения, так и с помощью экспертных правил.  \n",
        "\n",
        "**Комбинированные подходы**  \n",
        "На практике часто сочетают оба метода. Например:  \n",
        "1. **Гибридная модель** – экспертные правила используются для предобработки данных и фильтрации аномалий, а затем применяется машинное обучение.  \n",
        "2. **Использование правил для объяснения решений модели** – например, после классификации нейросетью можно наложить интерпретируемые правила для проверки корректности."
      ]
    },
    {
      "cell_type": "markdown",
      "metadata": {
        "id": "heAnFMltdRk_"
      },
      "source": [
        "### Анализ данных"
      ]
    },
    {
      "cell_type": "code",
      "execution_count": null,
      "metadata": {
        "id": "-UcNDaZZdRk_",
        "outputId": "8bbb38c1-c261-425b-db88-4b839a5edc8d",
        "colab": {
          "referenced_widgets": [
            "9e5f49c1792444ac992d4fab548ef0ce",
            "c713b42073064f89beff57408a703f78"
          ]
        }
      },
      "outputs": [
        {
          "data": {
            "application/vnd.jupyter.widget-view+json": {
              "model_id": "9e5f49c1792444ac992d4fab548ef0ce",
              "version_major": 2,
              "version_minor": 0
            },
            "text/plain": [
              "Dropdown(description='Сигнал', options=('Положение дозатора топливного газа, [градус]', 'Положение ВНА ГТД, [г…"
            ]
          },
          "metadata": {},
          "output_type": "display_data"
        },
        {
          "data": {
            "application/vnd.jupyter.widget-view+json": {
              "model_id": "c713b42073064f89beff57408a703f78",
              "version_major": 2,
              "version_minor": 0
            },
            "text/plain": [
              "Output()"
            ]
          },
          "metadata": {},
          "output_type": "display_data"
        }
      ],
      "source": [
        "plot_graph()"
      ]
    },
    {
      "cell_type": "code",
      "execution_count": null,
      "metadata": {
        "id": "DbEaQKrVdRk_",
        "outputId": "de453ae6-8908-4b9f-80a3-9b3db698af7d",
        "colab": {
          "referenced_widgets": [
            "5cc8ddb4881049ce8aaaa80fa36c54d8",
            "1746f2aec9ed435f81a1258ae2dbe08c"
          ]
        }
      },
      "outputs": [
        {
          "data": {
            "application/vnd.jupyter.widget-view+json": {
              "model_id": "5cc8ddb4881049ce8aaaa80fa36c54d8",
              "version_major": 2,
              "version_minor": 0
            },
            "text/plain": [
              "Text(value='', placeholder='Введите текст для поиска')"
            ]
          },
          "metadata": {},
          "output_type": "display_data"
        },
        {
          "data": {
            "application/vnd.jupyter.widget-view+json": {
              "model_id": "1746f2aec9ed435f81a1258ae2dbe08c",
              "version_major": 2,
              "version_minor": 0
            },
            "text/plain": [
              "Output()"
            ]
          },
          "metadata": {},
          "output_type": "display_data"
        }
      ],
      "source": [
        "search_widget()"
      ]
    },
    {
      "cell_type": "markdown",
      "metadata": {
        "id": "Q5osE6GsdRlA"
      },
      "source": [
        "#### Выделим дополнительные признаки"
      ]
    },
    {
      "cell_type": "code",
      "execution_count": null,
      "metadata": {
        "id": "RBN59oxIdRlA"
      },
      "outputs": [],
      "source": [
        "# силовая турбина вращается с номинальной скоростью\n",
        "data['full_speed'] = data['GTA1.DBinPU.nst'] > 2990"
      ]
    },
    {
      "cell_type": "code",
      "execution_count": null,
      "metadata": {
        "id": "0-dHNfo9dRlA"
      },
      "outputs": [],
      "source": [
        "# генератор синхронизирован с сетью\n",
        "data['gen_synch'] = data['full_speed'] & (data['GTA1.DBinPU.P'] > 10)"
      ]
    },
    {
      "cell_type": "code",
      "execution_count": null,
      "metadata": {
        "id": "1f4eYu1ydRlA"
      },
      "outputs": [],
      "source": [
        "# номинальная нагрузка\n",
        "data['vna_almost_open'] = data['gen_synch'] & (data['GTA1.DBinPU.Alvna'] > -8)"
      ]
    },
    {
      "cell_type": "code",
      "execution_count": null,
      "metadata": {
        "id": "Jsy2RseZdRlA"
      },
      "outputs": [],
      "source": [
        "# расчет изменения мощности за 1 мин\n",
        "data['diff_P'] = data['GTA1.DBinPU.P'].diff(periods=2).shift(periods=-1).rolling(window='60s', center=True).mean()"
      ]
    },
    {
      "cell_type": "code",
      "execution_count": null,
      "metadata": {
        "id": "OfqxnOZPdRlA"
      },
      "outputs": [],
      "source": [
        "# увеличение мощности\n",
        "data['increase_power'] = data['diff_P'] > 40"
      ]
    },
    {
      "cell_type": "code",
      "execution_count": null,
      "metadata": {
        "id": "poDcNqbzdRlB"
      },
      "outputs": [],
      "source": [
        "# снижение мощности\n",
        "data['decrease_power'] = data['diff_P'] < -40"
      ]
    },
    {
      "cell_type": "code",
      "execution_count": null,
      "metadata": {
        "id": "AnDA0nJcdRlB"
      },
      "outputs": [],
      "source": [
        "# расчет изменения положения ВНА\n",
        "data['diff_Alvna'] = data['GTA1.DBinPU.Alvna'].diff(periods=2).shift(periods=-1).rolling(window='60s', center=True).mean()"
      ]
    },
    {
      "cell_type": "code",
      "execution_count": null,
      "metadata": {
        "id": "ZF5GdI4vdRlB"
      },
      "outputs": [],
      "source": [
        "# открытие вна\n",
        "data['increase_vna'] = data['diff_Alvna'] > 0.3"
      ]
    },
    {
      "cell_type": "code",
      "execution_count": null,
      "metadata": {
        "id": "n2c5UzoIdRlB"
      },
      "outputs": [],
      "source": [
        "# закрытие вна\n",
        "data['decrease_vna'] = data['diff_Alvna'] < -0.3"
      ]
    },
    {
      "cell_type": "code",
      "execution_count": null,
      "metadata": {
        "id": "X0_9wYFKdRlB"
      },
      "outputs": [],
      "source": [
        "# расчет скорости изменения оборотов силовой турбины\n",
        "data['diff_nst'] = data['GTA1.DBinPU.nst'].diff(periods=2).shift(periods=-1).rolling(window='60s', center=True).mean()"
      ]
    },
    {
      "cell_type": "code",
      "execution_count": null,
      "metadata": {
        "id": "3yU5a_csdRlH"
      },
      "outputs": [],
      "source": [
        "# увеличение скорости вращения силовой турбины\n",
        "data['increase_nst'] = data['diff_nst'] > 2"
      ]
    },
    {
      "cell_type": "code",
      "execution_count": null,
      "metadata": {
        "id": "pRowxJxrdRlI"
      },
      "outputs": [],
      "source": [
        "# снижение скорости вращения силовой турбины\n",
        "data['decrease_nst'] = data['diff_nst'] < -2"
      ]
    },
    {
      "cell_type": "code",
      "execution_count": null,
      "metadata": {
        "id": "w1SuKj_idRlI"
      },
      "outputs": [],
      "source": [
        "# изменение скорости вращения турбокомпрессора\n",
        "data['diff_ntk'] = data['GTA1.DBinPU.ntk'].diff(periods=2).shift(periods=-1)"
      ]
    },
    {
      "cell_type": "code",
      "execution_count": null,
      "metadata": {
        "id": "NR1_4e3WdRlI"
      },
      "outputs": [],
      "source": [
        "# увеличение скорости вращения турбокомпрессора\n",
        "data['increase_ntk'] = data['diff_ntk'] > 50"
      ]
    },
    {
      "cell_type": "code",
      "execution_count": null,
      "metadata": {
        "id": "ZS8yDZx2dRlJ"
      },
      "outputs": [],
      "source": [
        "# снижение скорости вращения турбокомпрессора\n",
        "data['decrease_ntk'] = data['diff_ntk'] < -50"
      ]
    },
    {
      "cell_type": "code",
      "execution_count": null,
      "metadata": {
        "id": "CgsuHO_ndRlJ"
      },
      "outputs": [],
      "source": [
        "# подача топлива\n",
        "data['fuel_off'] = data['GTA1.DBinPU.Aldi'] < 0.2"
      ]
    },
    {
      "cell_type": "markdown",
      "metadata": {
        "id": "0qDeKB-fdRlJ"
      },
      "source": [
        "#### Классифицируем режимы"
      ]
    },
    {
      "cell_type": "code",
      "execution_count": null,
      "metadata": {
        "id": "U9_5NLJXdRlJ"
      },
      "outputs": [],
      "source": [
        "data[\"full_power_mode\"] = data['vna_almost_open'] & (~data['increase_vna']) & (~data['decrease_vna'])"
      ]
    },
    {
      "cell_type": "code",
      "execution_count": null,
      "metadata": {
        "id": "DJo-Wf3hdRlJ"
      },
      "outputs": [],
      "source": [
        "data[\"partial_power_mode\"] = (~data['vna_almost_open']) & (~data['increase_vna']) & (~data['decrease_vna'])"
      ]
    },
    {
      "cell_type": "code",
      "execution_count": null,
      "metadata": {
        "id": "yRPdTRiAdRlK"
      },
      "outputs": [],
      "source": [
        "data[\"increas_power_mode\"] = data['increase_vna'] & data['increase_power']"
      ]
    },
    {
      "cell_type": "code",
      "execution_count": null,
      "metadata": {
        "id": "DegdLU-4dRlK"
      },
      "outputs": [],
      "source": [
        "data[\"decreas_power_mode\"] = data['decrease_vna'] & data['decrease_power']"
      ]
    },
    {
      "cell_type": "code",
      "execution_count": null,
      "metadata": {
        "id": "ANz00nwFdRlK"
      },
      "outputs": [],
      "source": [
        "data[\"start_up_mode\"] = ((data['fuel_off'] & data['increase_ntk'])\n",
        "                       | ((~data['fuel_off'] & data['increase_nst']))\n",
        "                       | ((~data['increase_vna']) & data['increase_power']))"
      ]
    },
    {
      "cell_type": "code",
      "execution_count": null,
      "metadata": {
        "id": "QzUXUbYJdRlK"
      },
      "outputs": [],
      "source": [
        "data[\"shutdown_mode\"] = ((data['fuel_off'] & data['decrease_ntk'])\n",
        "                       | ((~data['fuel_off'] & data['decrease_nst']))\n",
        "                       | ((~data['decrease_vna']) & data['decrease_power']))"
      ]
    },
    {
      "cell_type": "code",
      "execution_count": null,
      "metadata": {
        "id": "dZ0qQNZzdRlK"
      },
      "outputs": [],
      "source": [
        "data[\"stopped_state_mode\"] = data['GTA1.DBinPU.ntk'] < 10"
      ]
    },
    {
      "cell_type": "markdown",
      "metadata": {
        "id": "2DLQ-D0rdRlL"
      },
      "source": [
        "#### Посмотрим на результат нашей разметки"
      ]
    },
    {
      "cell_type": "code",
      "execution_count": null,
      "metadata": {
        "id": "JJgCAPXCdRlL",
        "outputId": "64409834-96fe-46ea-f870-c31cff26dabc",
        "colab": {
          "referenced_widgets": [
            "92870db965c242a7b66f0acafa796fbb"
          ]
        }
      },
      "outputs": [
        {
          "data": {
            "application/vnd.jupyter.widget-view+json": {
              "model_id": "92870db965c242a7b66f0acafa796fbb",
              "version_major": 2,
              "version_minor": 0
            },
            "text/plain": [
              "Output()"
            ]
          },
          "metadata": {},
          "output_type": "display_data"
        }
      ],
      "source": [
        "param1_dropdown = widgets.Dropdown(\n",
        "    options=data.columns,\n",
        "    description='Параметр1:',\n",
        "    disabled=False,\n",
        "    value=None\n",
        ")\n",
        "\n",
        "param2_dropdown = widgets.Dropdown(\n",
        "    options=data.columns,\n",
        "    description='Параметр2:',\n",
        "    disabled=False,\n",
        "    value=None\n",
        ")\n",
        "\n",
        "build_button = widgets.Button(description=\"Построить\")\n",
        "\n",
        "out = widgets.Output()\n",
        "display(out)\n",
        "\n",
        "@out.capture()\n",
        "def build_button_eventhandler(btn):\n",
        "    clear_output()\n",
        "\n",
        "    fig = make_subplots(rows=2, cols=1, shared_xaxes=True)\n",
        "\n",
        "    fig.add_traces(\n",
        "        [\n",
        "            {\"x\": data[param1_dropdown.value].index, \"y\": data[param1_dropdown.value].values, \"name\": param1_dropdown.value, \"type\": \"scatter\"},\n",
        "            {\"x\": data[param2_dropdown.value].index, \"y\": data[param2_dropdown.value].values, \"name\": param2_dropdown.value, \"type\": \"scatter\"},\n",
        "        ],\n",
        "        rows=[1,2],\n",
        "        cols=[1,1]\n",
        "    )\n",
        "    fig.update_layout(height=800, width=1400)\n",
        "    display(param1_dropdown)\n",
        "    display(param2_dropdown)\n",
        "    display(build_button)\n",
        "    display(fig)\n",
        "\n",
        "build_button.on_click(build_button_eventhandler)\n",
        "\n",
        "with out:\n",
        "    display(param1_dropdown)\n",
        "    display(param2_dropdown)\n",
        "    display(build_button)"
      ]
    },
    {
      "cell_type": "code",
      "execution_count": null,
      "metadata": {
        "id": "L-JBEZUfdRlL"
      },
      "outputs": [],
      "source": []
    },
    {
      "cell_type": "markdown",
      "metadata": {
        "id": "oXeWLGF8dRlL"
      },
      "source": [
        "### Сохранение подготовленных данных"
      ]
    },
    {
      "cell_type": "code",
      "execution_count": null,
      "metadata": {
        "id": "wsVml6qZdRlM"
      },
      "outputs": [],
      "source": [
        "df.to_parquet(\"data.gzip\", compression='gzip')"
      ]
    },
    {
      "cell_type": "code",
      "execution_count": null,
      "metadata": {
        "id": "92HeujvNdRlM"
      },
      "outputs": [],
      "source": []
    },
    {
      "cell_type": "code",
      "execution_count": null,
      "metadata": {
        "scrolled": true,
        "id": "-JCWnTs1dRlM"
      },
      "outputs": [],
      "source": [
        "# df_start_up_mode = df[df[\"start_up_mode\"]]\n",
        "# df_start_up_mode[\"start_up_mode_#\"] = (df_start_up_mode.index.to_series().diff() > pd.Timedelta('10s')).cumsum()\n",
        "\n",
        "# for i in df_start_up_mode[\"start_up_mode_#\"].unique():\n",
        "#     temp_df = df_start_up_mode[df_start_up_mode['start_up_mode_#'] == i]\n",
        "#     if temp_df.shape[0] > 1:\n",
        "#         print(f'{temp_df.index[0]} --- {temp_df.index[-1]}')"
      ]
    },
    {
      "cell_type": "code",
      "execution_count": null,
      "metadata": {
        "id": "dW0srSBAdRlM"
      },
      "outputs": [],
      "source": [
        "# df_increas_power_mode = df[df[\"increas_power_mode\"]]\n",
        "# df_increas_power_mode[\"increas_power_mode_#\"] = (df_increas_power_mode.index.to_series().diff() > pd.Timedelta('10s')).cumsum()\n",
        "\n",
        "# for i in df_increas_power_mode[\"increas_power_mode_#\"].unique():\n",
        "#     temp_df = df_increas_power_mode[df_increas_power_mode['increas_power_mode_#'] == i]\n",
        "#     if temp_df.shape[0] > 1:\n",
        "#         print(f'{temp_df.index[0]} --- {temp_df.index[-1]}')"
      ]
    },
    {
      "cell_type": "code",
      "execution_count": null,
      "metadata": {
        "id": "pmTVzUikdRlM"
      },
      "outputs": [],
      "source": []
    },
    {
      "cell_type": "code",
      "execution_count": null,
      "metadata": {
        "id": "ks8cTIsldRlN"
      },
      "outputs": [],
      "source": []
    },
    {
      "cell_type": "code",
      "execution_count": null,
      "metadata": {
        "id": "TBxtlyzKdRlN"
      },
      "outputs": [],
      "source": []
    },
    {
      "cell_type": "code",
      "execution_count": null,
      "metadata": {
        "id": "Z_TK8AGfdRlN"
      },
      "outputs": [],
      "source": []
    },
    {
      "cell_type": "code",
      "execution_count": null,
      "metadata": {
        "id": "9Q97OWWvdRlN"
      },
      "outputs": [],
      "source": []
    }
  ],
  "metadata": {
    "kernelspec": {
      "display_name": "Python 3 (ipykernel)",
      "language": "python",
      "name": "python3"
    },
    "language_info": {
      "codemirror_mode": {
        "name": "ipython",
        "version": 3
      },
      "file_extension": ".py",
      "mimetype": "text/x-python",
      "name": "python",
      "nbconvert_exporter": "python",
      "pygments_lexer": "ipython3",
      "version": "3.12.4"
    },
    "colab": {
      "provenance": [],
      "include_colab_link": true
    }
  },
  "nbformat": 4,
  "nbformat_minor": 0
}